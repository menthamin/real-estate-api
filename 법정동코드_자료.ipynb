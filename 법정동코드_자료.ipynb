{
 "cells": [
  {
   "cell_type": "code",
   "execution_count": 1,
   "outputs": [],
   "source": [
    "import os\n",
    "import pymysql\n",
    "pymysql.install_as_MySQLdb()\n",
    "from dotenv import load_dotenv"
   ],
   "metadata": {
    "collapsed": false,
    "pycharm": {
     "name": "#%%\n"
    }
   }
  },
  {
   "cell_type": "markdown",
   "source": [
    "## Connect DB"
   ],
   "metadata": {
    "collapsed": false,
    "pycharm": {
     "name": "#%% md\n"
    }
   }
  },
  {
   "cell_type": "code",
   "execution_count": 2,
   "outputs": [],
   "source": [
    "load_dotenv()\n",
    "ENDPOINT = os.environ.get(\"dev_db_endpoint\")\n",
    "USER = os.environ.get(\"dev_db_user\")\n",
    "PASSWORD = os.environ.get(\"dev_db_password\")"
   ],
   "metadata": {
    "collapsed": false,
    "pycharm": {
     "name": "#%%\n"
    }
   }
  },
  {
   "cell_type": "code",
   "execution_count": 3,
   "outputs": [],
   "source": [
    "conn = pymysql.connect(\n",
    "    host=ENDPOINT,\n",
    "    user=USER,\n",
    "    password=PASSWORD,\n",
    "    database=\"aresa\",\n",
    "    port=3306\n",
    ")"
   ],
   "metadata": {
    "collapsed": false,
    "pycharm": {
     "name": "#%%\n"
    }
   }
  },
  {
   "cell_type": "code",
   "execution_count": 4,
   "outputs": [],
   "source": [
    "cur = conn.cursor()"
   ],
   "metadata": {
    "collapsed": false,
    "pycharm": {
     "name": "#%%\n"
    }
   }
  },
  {
   "cell_type": "markdown",
   "source": [],
   "metadata": {
    "collapsed": false,
    "pycharm": {
     "name": "#%% md\n"
    }
   }
  },
  {
   "cell_type": "code",
   "execution_count": 5,
   "outputs": [],
   "source": [
    "from sqlalchemy import create_engine\n",
    "import sqlalchemy"
   ],
   "metadata": {
    "collapsed": false,
    "pycharm": {
     "name": "#%%\n"
    }
   }
  },
  {
   "cell_type": "code",
   "execution_count": 6,
   "outputs": [],
   "source": [
    "engine = create_engine(f\"mysql+mysqldb://{USER}:{PASSWORD}@{ENDPOINT}:3306/aresa\")\n",
    "# http://i5on9i.blogspot.com/2020/05/no-module-named-mysqldb.html"
   ],
   "metadata": {
    "collapsed": false,
    "pycharm": {
     "name": "#%%\n"
    }
   }
  },
  {
   "cell_type": "markdown",
   "source": [
    "## Insert Data\n",
    "- 데이터 출처: https://www.data.go.kr/data/15063424/fileData.do?recommendDataYn=Y"
   ],
   "metadata": {
    "collapsed": false,
    "pycharm": {
     "name": "#%% md\n"
    }
   }
  },
  {
   "cell_type": "code",
   "execution_count": 75,
   "outputs": [],
   "source": [
    "import pandas as pd"
   ],
   "metadata": {
    "collapsed": false,
    "pycharm": {
     "name": "#%%\n"
    }
   }
  },
  {
   "cell_type": "code",
   "execution_count": 73,
   "outputs": [],
   "source": [
    "mois_bjd_code_info = pd.read_csv(\"data/국토교통부_전국 법정동_20211217.csv\", encoding=\"cp949\")"
   ],
   "metadata": {
    "collapsed": false,
    "pycharm": {
     "name": "#%%\n"
    }
   }
  },
  {
   "cell_type": "code",
   "execution_count": 74,
   "outputs": [
    {
     "data": {
      "text/plain": "            법정동코드  시도명  시군구명 읍면동명    리명    순위        생성일자        삭제일자  과거법정동코드\n0      4223033031  강원도   삼척시  노곡면  상군천리  11.0  1995-01-01         NaN      NaN\n1      4223033032  강원도   삼척시  노곡면   둔달리  12.0  1995-01-01         NaN      NaN\n2      4223033033  강원도   삼척시  노곡면   주지리  13.0  1995-01-01         NaN      NaN\n3      4223033034  강원도   삼척시  노곡면  하마읍리  14.0  1995-01-01         NaN      NaN\n4      4223033035  강원도   삼척시  노곡면  중마읍리  15.0  1995-01-01         NaN      NaN\n...           ...  ...   ...  ...   ...   ...         ...         ...      ...\n46284  4913090400  제주도  서귀포시  천지동   NaN   0.0  1988-04-23  1988-04-23      NaN\n46285  4913090500  제주도  서귀포시  효돈동   NaN   0.0  1988-04-23  1988-04-23      NaN\n46286  4913090600  제주도  서귀포시  영천동   NaN   0.0  1988-04-23  1988-04-23      NaN\n46287  4913090700  제주도  서귀포시  대륜동   NaN   0.0  1988-04-23  1988-04-23      NaN\n46288  4913090800  제주도  서귀포시  대천동   NaN   0.0  1988-04-23  1988-04-23      NaN\n\n[46289 rows x 9 columns]",
      "text/html": "<div>\n<style scoped>\n    .dataframe tbody tr th:only-of-type {\n        vertical-align: middle;\n    }\n\n    .dataframe tbody tr th {\n        vertical-align: top;\n    }\n\n    .dataframe thead th {\n        text-align: right;\n    }\n</style>\n<table border=\"1\" class=\"dataframe\">\n  <thead>\n    <tr style=\"text-align: right;\">\n      <th></th>\n      <th>법정동코드</th>\n      <th>시도명</th>\n      <th>시군구명</th>\n      <th>읍면동명</th>\n      <th>리명</th>\n      <th>순위</th>\n      <th>생성일자</th>\n      <th>삭제일자</th>\n      <th>과거법정동코드</th>\n    </tr>\n  </thead>\n  <tbody>\n    <tr>\n      <th>0</th>\n      <td>4223033031</td>\n      <td>강원도</td>\n      <td>삼척시</td>\n      <td>노곡면</td>\n      <td>상군천리</td>\n      <td>11.0</td>\n      <td>1995-01-01</td>\n      <td>NaN</td>\n      <td>NaN</td>\n    </tr>\n    <tr>\n      <th>1</th>\n      <td>4223033032</td>\n      <td>강원도</td>\n      <td>삼척시</td>\n      <td>노곡면</td>\n      <td>둔달리</td>\n      <td>12.0</td>\n      <td>1995-01-01</td>\n      <td>NaN</td>\n      <td>NaN</td>\n    </tr>\n    <tr>\n      <th>2</th>\n      <td>4223033033</td>\n      <td>강원도</td>\n      <td>삼척시</td>\n      <td>노곡면</td>\n      <td>주지리</td>\n      <td>13.0</td>\n      <td>1995-01-01</td>\n      <td>NaN</td>\n      <td>NaN</td>\n    </tr>\n    <tr>\n      <th>3</th>\n      <td>4223033034</td>\n      <td>강원도</td>\n      <td>삼척시</td>\n      <td>노곡면</td>\n      <td>하마읍리</td>\n      <td>14.0</td>\n      <td>1995-01-01</td>\n      <td>NaN</td>\n      <td>NaN</td>\n    </tr>\n    <tr>\n      <th>4</th>\n      <td>4223033035</td>\n      <td>강원도</td>\n      <td>삼척시</td>\n      <td>노곡면</td>\n      <td>중마읍리</td>\n      <td>15.0</td>\n      <td>1995-01-01</td>\n      <td>NaN</td>\n      <td>NaN</td>\n    </tr>\n    <tr>\n      <th>...</th>\n      <td>...</td>\n      <td>...</td>\n      <td>...</td>\n      <td>...</td>\n      <td>...</td>\n      <td>...</td>\n      <td>...</td>\n      <td>...</td>\n      <td>...</td>\n    </tr>\n    <tr>\n      <th>46284</th>\n      <td>4913090400</td>\n      <td>제주도</td>\n      <td>서귀포시</td>\n      <td>천지동</td>\n      <td>NaN</td>\n      <td>0.0</td>\n      <td>1988-04-23</td>\n      <td>1988-04-23</td>\n      <td>NaN</td>\n    </tr>\n    <tr>\n      <th>46285</th>\n      <td>4913090500</td>\n      <td>제주도</td>\n      <td>서귀포시</td>\n      <td>효돈동</td>\n      <td>NaN</td>\n      <td>0.0</td>\n      <td>1988-04-23</td>\n      <td>1988-04-23</td>\n      <td>NaN</td>\n    </tr>\n    <tr>\n      <th>46286</th>\n      <td>4913090600</td>\n      <td>제주도</td>\n      <td>서귀포시</td>\n      <td>영천동</td>\n      <td>NaN</td>\n      <td>0.0</td>\n      <td>1988-04-23</td>\n      <td>1988-04-23</td>\n      <td>NaN</td>\n    </tr>\n    <tr>\n      <th>46287</th>\n      <td>4913090700</td>\n      <td>제주도</td>\n      <td>서귀포시</td>\n      <td>대륜동</td>\n      <td>NaN</td>\n      <td>0.0</td>\n      <td>1988-04-23</td>\n      <td>1988-04-23</td>\n      <td>NaN</td>\n    </tr>\n    <tr>\n      <th>46288</th>\n      <td>4913090800</td>\n      <td>제주도</td>\n      <td>서귀포시</td>\n      <td>대천동</td>\n      <td>NaN</td>\n      <td>0.0</td>\n      <td>1988-04-23</td>\n      <td>1988-04-23</td>\n      <td>NaN</td>\n    </tr>\n  </tbody>\n</table>\n<p>46289 rows × 9 columns</p>\n</div>"
     },
     "execution_count": 74,
     "metadata": {},
     "output_type": "execute_result"
    }
   ],
   "source": [
    "mois_bjd_code_info"
   ],
   "metadata": {
    "collapsed": false,
    "pycharm": {
     "name": "#%%\n"
    }
   }
  },
  {
   "cell_type": "code",
   "execution_count": 76,
   "outputs": [],
   "source": [
    "code_split_list = []\n",
    "for s in mois_bjd_code_info.법정동코드:\n",
    "    s = str(s)\n",
    "    code_split_list.append([s[:5], s[5:]])"
   ],
   "metadata": {
    "collapsed": false,
    "pycharm": {
     "name": "#%%\n"
    }
   }
  },
  {
   "cell_type": "code",
   "execution_count": 77,
   "outputs": [],
   "source": [
    "mois_bjd_code_info[[\"법정동_시군구코드\", \"법정동_읍면동코드\"]] = code_split_list"
   ],
   "metadata": {
    "collapsed": false,
    "pycharm": {
     "name": "#%%\n"
    }
   }
  },
  {
   "cell_type": "code",
   "execution_count": 78,
   "outputs": [
    {
     "data": {
      "text/plain": "            법정동코드  시도명  시군구명 읍면동명    리명    순위        생성일자        삭제일자  \\\n0      4223033031  강원도   삼척시  노곡면  상군천리  11.0  1995-01-01         NaN   \n1      4223033032  강원도   삼척시  노곡면   둔달리  12.0  1995-01-01         NaN   \n2      4223033033  강원도   삼척시  노곡면   주지리  13.0  1995-01-01         NaN   \n3      4223033034  강원도   삼척시  노곡면  하마읍리  14.0  1995-01-01         NaN   \n4      4223033035  강원도   삼척시  노곡면  중마읍리  15.0  1995-01-01         NaN   \n...           ...  ...   ...  ...   ...   ...         ...         ...   \n46284  4913090400  제주도  서귀포시  천지동   NaN   0.0  1988-04-23  1988-04-23   \n46285  4913090500  제주도  서귀포시  효돈동   NaN   0.0  1988-04-23  1988-04-23   \n46286  4913090600  제주도  서귀포시  영천동   NaN   0.0  1988-04-23  1988-04-23   \n46287  4913090700  제주도  서귀포시  대륜동   NaN   0.0  1988-04-23  1988-04-23   \n46288  4913090800  제주도  서귀포시  대천동   NaN   0.0  1988-04-23  1988-04-23   \n\n       과거법정동코드 법정동_시군구코드 법정동_읍면동코드  \n0          NaN     42230     33031  \n1          NaN     42230     33032  \n2          NaN     42230     33033  \n3          NaN     42230     33034  \n4          NaN     42230     33035  \n...        ...       ...       ...  \n46284      NaN     49130     90400  \n46285      NaN     49130     90500  \n46286      NaN     49130     90600  \n46287      NaN     49130     90700  \n46288      NaN     49130     90800  \n\n[46289 rows x 11 columns]",
      "text/html": "<div>\n<style scoped>\n    .dataframe tbody tr th:only-of-type {\n        vertical-align: middle;\n    }\n\n    .dataframe tbody tr th {\n        vertical-align: top;\n    }\n\n    .dataframe thead th {\n        text-align: right;\n    }\n</style>\n<table border=\"1\" class=\"dataframe\">\n  <thead>\n    <tr style=\"text-align: right;\">\n      <th></th>\n      <th>법정동코드</th>\n      <th>시도명</th>\n      <th>시군구명</th>\n      <th>읍면동명</th>\n      <th>리명</th>\n      <th>순위</th>\n      <th>생성일자</th>\n      <th>삭제일자</th>\n      <th>과거법정동코드</th>\n      <th>법정동_시군구코드</th>\n      <th>법정동_읍면동코드</th>\n    </tr>\n  </thead>\n  <tbody>\n    <tr>\n      <th>0</th>\n      <td>4223033031</td>\n      <td>강원도</td>\n      <td>삼척시</td>\n      <td>노곡면</td>\n      <td>상군천리</td>\n      <td>11.0</td>\n      <td>1995-01-01</td>\n      <td>NaN</td>\n      <td>NaN</td>\n      <td>42230</td>\n      <td>33031</td>\n    </tr>\n    <tr>\n      <th>1</th>\n      <td>4223033032</td>\n      <td>강원도</td>\n      <td>삼척시</td>\n      <td>노곡면</td>\n      <td>둔달리</td>\n      <td>12.0</td>\n      <td>1995-01-01</td>\n      <td>NaN</td>\n      <td>NaN</td>\n      <td>42230</td>\n      <td>33032</td>\n    </tr>\n    <tr>\n      <th>2</th>\n      <td>4223033033</td>\n      <td>강원도</td>\n      <td>삼척시</td>\n      <td>노곡면</td>\n      <td>주지리</td>\n      <td>13.0</td>\n      <td>1995-01-01</td>\n      <td>NaN</td>\n      <td>NaN</td>\n      <td>42230</td>\n      <td>33033</td>\n    </tr>\n    <tr>\n      <th>3</th>\n      <td>4223033034</td>\n      <td>강원도</td>\n      <td>삼척시</td>\n      <td>노곡면</td>\n      <td>하마읍리</td>\n      <td>14.0</td>\n      <td>1995-01-01</td>\n      <td>NaN</td>\n      <td>NaN</td>\n      <td>42230</td>\n      <td>33034</td>\n    </tr>\n    <tr>\n      <th>4</th>\n      <td>4223033035</td>\n      <td>강원도</td>\n      <td>삼척시</td>\n      <td>노곡면</td>\n      <td>중마읍리</td>\n      <td>15.0</td>\n      <td>1995-01-01</td>\n      <td>NaN</td>\n      <td>NaN</td>\n      <td>42230</td>\n      <td>33035</td>\n    </tr>\n    <tr>\n      <th>...</th>\n      <td>...</td>\n      <td>...</td>\n      <td>...</td>\n      <td>...</td>\n      <td>...</td>\n      <td>...</td>\n      <td>...</td>\n      <td>...</td>\n      <td>...</td>\n      <td>...</td>\n      <td>...</td>\n    </tr>\n    <tr>\n      <th>46284</th>\n      <td>4913090400</td>\n      <td>제주도</td>\n      <td>서귀포시</td>\n      <td>천지동</td>\n      <td>NaN</td>\n      <td>0.0</td>\n      <td>1988-04-23</td>\n      <td>1988-04-23</td>\n      <td>NaN</td>\n      <td>49130</td>\n      <td>90400</td>\n    </tr>\n    <tr>\n      <th>46285</th>\n      <td>4913090500</td>\n      <td>제주도</td>\n      <td>서귀포시</td>\n      <td>효돈동</td>\n      <td>NaN</td>\n      <td>0.0</td>\n      <td>1988-04-23</td>\n      <td>1988-04-23</td>\n      <td>NaN</td>\n      <td>49130</td>\n      <td>90500</td>\n    </tr>\n    <tr>\n      <th>46286</th>\n      <td>4913090600</td>\n      <td>제주도</td>\n      <td>서귀포시</td>\n      <td>영천동</td>\n      <td>NaN</td>\n      <td>0.0</td>\n      <td>1988-04-23</td>\n      <td>1988-04-23</td>\n      <td>NaN</td>\n      <td>49130</td>\n      <td>90600</td>\n    </tr>\n    <tr>\n      <th>46287</th>\n      <td>4913090700</td>\n      <td>제주도</td>\n      <td>서귀포시</td>\n      <td>대륜동</td>\n      <td>NaN</td>\n      <td>0.0</td>\n      <td>1988-04-23</td>\n      <td>1988-04-23</td>\n      <td>NaN</td>\n      <td>49130</td>\n      <td>90700</td>\n    </tr>\n    <tr>\n      <th>46288</th>\n      <td>4913090800</td>\n      <td>제주도</td>\n      <td>서귀포시</td>\n      <td>대천동</td>\n      <td>NaN</td>\n      <td>0.0</td>\n      <td>1988-04-23</td>\n      <td>1988-04-23</td>\n      <td>NaN</td>\n      <td>49130</td>\n      <td>90800</td>\n    </tr>\n  </tbody>\n</table>\n<p>46289 rows × 11 columns</p>\n</div>"
     },
     "execution_count": 78,
     "metadata": {},
     "output_type": "execute_result"
    }
   ],
   "source": [
    "mois_bjd_code_info"
   ],
   "metadata": {
    "collapsed": false,
    "pycharm": {
     "name": "#%%\n"
    }
   }
  },
  {
   "cell_type": "code",
   "execution_count": 79,
   "outputs": [
    {
     "data": {
      "text/plain": "46289"
     },
     "execution_count": 79,
     "metadata": {},
     "output_type": "execute_result"
    }
   ],
   "source": [
    "mois_bjd_code_info.to_sql('mois_bjd_code_info', engine, schema=\"aresa\", index=False, if_exists='replace', chunksize=1000)"
   ],
   "metadata": {
    "collapsed": false,
    "pycharm": {
     "name": "#%%\n"
    }
   }
  },
  {
   "cell_type": "code",
   "execution_count": null,
   "outputs": [],
   "source": [],
   "metadata": {
    "collapsed": false,
    "pycharm": {
     "name": "#%%\n"
    }
   }
  },
  {
   "cell_type": "code",
   "execution_count": null,
   "outputs": [],
   "source": [],
   "metadata": {
    "collapsed": false,
    "pycharm": {
     "name": "#%%\n"
    }
   }
  },
  {
   "cell_type": "code",
   "execution_count": 64,
   "outputs": [],
   "source": [
    "import pandas as pd\n",
    "import more_itertools as mit  # https://stackoverflow.com/questions/3438756/some-built-in-to-pad-a-list-in-python\n",
    "# list(mit.padded(mois_bjd_code_info.법정동명[2].split(), None, 4))"
   ],
   "metadata": {
    "collapsed": false,
    "pycharm": {
     "name": "#%%\n"
    }
   }
  },
  {
   "cell_type": "code",
   "execution_count": 65,
   "outputs": [],
   "source": [
    "mois_bjd_code_info = pd.read_csv(\"data/법정동코드_전체자료.txt\", encoding=\"cp949\", sep=\"\\t\")"
   ],
   "metadata": {
    "collapsed": false,
    "pycharm": {
     "name": "#%%\n"
    }
   }
  },
  {
   "cell_type": "code",
   "execution_count": 66,
   "outputs": [
    {
     "name": "stdout",
     "output_type": "stream",
     "text": [
      "<class 'pandas.core.frame.DataFrame'>\n",
      "RangeIndex: 46340 entries, 0 to 46339\n",
      "Data columns (total 3 columns):\n",
      " #   Column  Non-Null Count  Dtype \n",
      "---  ------  --------------  ----- \n",
      " 0   법정동코드   46340 non-null  int64 \n",
      " 1   법정동명    46340 non-null  object\n",
      " 2   폐지여부    46340 non-null  object\n",
      "dtypes: int64(1), object(2)\n",
      "memory usage: 1.1+ MB\n"
     ]
    }
   ],
   "source": [
    "mois_bjd_code_info.info()"
   ],
   "metadata": {
    "collapsed": false,
    "pycharm": {
     "name": "#%%\n"
    }
   }
  },
  {
   "cell_type": "code",
   "execution_count": 67,
   "outputs": [],
   "source": [
    "as1_to_as4_list = []\n",
    "code_list = []"
   ],
   "metadata": {
    "collapsed": false,
    "pycharm": {
     "name": "#%%\n"
    }
   }
  },
  {
   "cell_type": "code",
   "execution_count": 68,
   "outputs": [],
   "source": [
    "for s in mois_bjd_code_info.법정동명:\n",
    "    data = list(mit.padded(s.split(), None, 4))\n",
    "    as1_to_as4_list.append(data)"
   ],
   "metadata": {
    "collapsed": false,
    "pycharm": {
     "name": "#%%\n"
    }
   }
  },
  {
   "cell_type": "code",
   "execution_count": 69,
   "outputs": [],
   "source": [
    "for s in mois_bjd_code_info.법정동코드:\n",
    "    s = str(s)\n",
    "    code_list.append([s[:5], s[5:]])"
   ],
   "metadata": {
    "collapsed": false,
    "pycharm": {
     "name": "#%%\n"
    }
   }
  },
  {
   "cell_type": "code",
   "execution_count": 62,
   "outputs": [
    {
     "ename": "ValueError",
     "evalue": "Columns must be same length as key",
     "output_type": "error",
     "traceback": [
      "\u001B[0;31m---------------------------------------------------------------------------\u001B[0m",
      "\u001B[0;31mValueError\u001B[0m                                Traceback (most recent call last)",
      "Input \u001B[0;32mIn [62]\u001B[0m, in \u001B[0;36m<cell line: 1>\u001B[0;34m()\u001B[0m\n\u001B[0;32m----> 1\u001B[0m mois_bjd_code_info[[\u001B[38;5;124m\"\u001B[39m\u001B[38;5;124m시도명\u001B[39m\u001B[38;5;124m\"\u001B[39m, \u001B[38;5;124m\"\u001B[39m\u001B[38;5;124m시군구명\u001B[39m\u001B[38;5;124m\"\u001B[39m, \u001B[38;5;124m\"\u001B[39m\u001B[38;5;124m읍면동명\u001B[39m\u001B[38;5;124m\"\u001B[39m, \u001B[38;5;124m\"\u001B[39m\u001B[38;5;124m리명\u001B[39m\u001B[38;5;124m\"\u001B[39m]] \u001B[38;5;241m=\u001B[39m pd\u001B[38;5;241m.\u001B[39mDataFrame(as1_to_as4_list)\n",
      "File \u001B[0;32m~/opt/anaconda3/envs/real-estate-api/lib/python3.10/site-packages/pandas/core/frame.py:3643\u001B[0m, in \u001B[0;36mDataFrame.__setitem__\u001B[0;34m(self, key, value)\u001B[0m\n\u001B[1;32m   3641\u001B[0m     \u001B[38;5;28mself\u001B[39m\u001B[38;5;241m.\u001B[39m_setitem_frame(key, value)\n\u001B[1;32m   3642\u001B[0m \u001B[38;5;28;01melif\u001B[39;00m \u001B[38;5;28misinstance\u001B[39m(key, (Series, np\u001B[38;5;241m.\u001B[39mndarray, \u001B[38;5;28mlist\u001B[39m, Index)):\n\u001B[0;32m-> 3643\u001B[0m     \u001B[38;5;28;43mself\u001B[39;49m\u001B[38;5;241;43m.\u001B[39;49m\u001B[43m_setitem_array\u001B[49m\u001B[43m(\u001B[49m\u001B[43mkey\u001B[49m\u001B[43m,\u001B[49m\u001B[43m \u001B[49m\u001B[43mvalue\u001B[49m\u001B[43m)\u001B[49m\n\u001B[1;32m   3644\u001B[0m \u001B[38;5;28;01melif\u001B[39;00m \u001B[38;5;28misinstance\u001B[39m(value, DataFrame):\n\u001B[1;32m   3645\u001B[0m     \u001B[38;5;28mself\u001B[39m\u001B[38;5;241m.\u001B[39m_set_item_frame_value(key, value)\n",
      "File \u001B[0;32m~/opt/anaconda3/envs/real-estate-api/lib/python3.10/site-packages/pandas/core/frame.py:3685\u001B[0m, in \u001B[0;36mDataFrame._setitem_array\u001B[0;34m(self, key, value)\u001B[0m\n\u001B[1;32m   3680\u001B[0m \u001B[38;5;28;01melse\u001B[39;00m:\n\u001B[1;32m   3681\u001B[0m     \u001B[38;5;66;03m# Note: unlike self.iloc[:, indexer] = value, this will\u001B[39;00m\n\u001B[1;32m   3682\u001B[0m     \u001B[38;5;66;03m#  never try to overwrite values inplace\u001B[39;00m\n\u001B[1;32m   3684\u001B[0m     \u001B[38;5;28;01mif\u001B[39;00m \u001B[38;5;28misinstance\u001B[39m(value, DataFrame):\n\u001B[0;32m-> 3685\u001B[0m         \u001B[43mcheck_key_length\u001B[49m\u001B[43m(\u001B[49m\u001B[38;5;28;43mself\u001B[39;49m\u001B[38;5;241;43m.\u001B[39;49m\u001B[43mcolumns\u001B[49m\u001B[43m,\u001B[49m\u001B[43m \u001B[49m\u001B[43mkey\u001B[49m\u001B[43m,\u001B[49m\u001B[43m \u001B[49m\u001B[43mvalue\u001B[49m\u001B[43m)\u001B[49m\n\u001B[1;32m   3686\u001B[0m         \u001B[38;5;28;01mfor\u001B[39;00m k1, k2 \u001B[38;5;129;01min\u001B[39;00m \u001B[38;5;28mzip\u001B[39m(key, value\u001B[38;5;241m.\u001B[39mcolumns):\n\u001B[1;32m   3687\u001B[0m             \u001B[38;5;28mself\u001B[39m[k1] \u001B[38;5;241m=\u001B[39m value[k2]\n",
      "File \u001B[0;32m~/opt/anaconda3/envs/real-estate-api/lib/python3.10/site-packages/pandas/core/indexers/utils.py:428\u001B[0m, in \u001B[0;36mcheck_key_length\u001B[0;34m(columns, key, value)\u001B[0m\n\u001B[1;32m    426\u001B[0m \u001B[38;5;28;01mif\u001B[39;00m columns\u001B[38;5;241m.\u001B[39mis_unique:\n\u001B[1;32m    427\u001B[0m     \u001B[38;5;28;01mif\u001B[39;00m \u001B[38;5;28mlen\u001B[39m(value\u001B[38;5;241m.\u001B[39mcolumns) \u001B[38;5;241m!=\u001B[39m \u001B[38;5;28mlen\u001B[39m(key):\n\u001B[0;32m--> 428\u001B[0m         \u001B[38;5;28;01mraise\u001B[39;00m \u001B[38;5;167;01mValueError\u001B[39;00m(\u001B[38;5;124m\"\u001B[39m\u001B[38;5;124mColumns must be same length as key\u001B[39m\u001B[38;5;124m\"\u001B[39m)\n\u001B[1;32m    429\u001B[0m \u001B[38;5;28;01melse\u001B[39;00m:\n\u001B[1;32m    430\u001B[0m     \u001B[38;5;66;03m# Missing keys in columns are represented as -1\u001B[39;00m\n\u001B[1;32m    431\u001B[0m     \u001B[38;5;28;01mif\u001B[39;00m \u001B[38;5;28mlen\u001B[39m(columns\u001B[38;5;241m.\u001B[39mget_indexer_non_unique(key)[\u001B[38;5;241m0\u001B[39m]) \u001B[38;5;241m!=\u001B[39m \u001B[38;5;28mlen\u001B[39m(value\u001B[38;5;241m.\u001B[39mcolumns):\n",
      "\u001B[0;31mValueError\u001B[0m: Columns must be same length as key"
     ]
    }
   ],
   "source": [
    "mois_bjd_code_info[[\"시도명\", \"시군구명\", \"읍면동명\", \"리명\"]] = pd.DataFrame(as1_to_as4_list)"
   ],
   "metadata": {
    "collapsed": false,
    "pycharm": {
     "name": "#%%\n"
    }
   }
  },
  {
   "cell_type": "code",
   "execution_count": 71,
   "outputs": [
    {
     "data": {
      "text/plain": "             0     1     2     3     4\n0        서울특별시  None  None  None  None\n1        서울특별시   종로구  None  None  None\n2        서울특별시   종로구   청운동  None  None\n3        서울특별시   종로구   신교동  None  None\n4        서울특별시   종로구   궁정동  None  None\n...        ...   ...   ...   ...   ...\n46335  제주특별자치도  서귀포시   표선면   하천리  None\n46336  제주특별자치도  서귀포시   표선면   성읍리  None\n46337  제주특별자치도  서귀포시   표선면   가시리  None\n46338  제주특별자치도  서귀포시   표선면   세화리  None\n46339  제주특별자치도  서귀포시   표선면   토산리  None\n\n[46340 rows x 5 columns]",
      "text/html": "<div>\n<style scoped>\n    .dataframe tbody tr th:only-of-type {\n        vertical-align: middle;\n    }\n\n    .dataframe tbody tr th {\n        vertical-align: top;\n    }\n\n    .dataframe thead th {\n        text-align: right;\n    }\n</style>\n<table border=\"1\" class=\"dataframe\">\n  <thead>\n    <tr style=\"text-align: right;\">\n      <th></th>\n      <th>0</th>\n      <th>1</th>\n      <th>2</th>\n      <th>3</th>\n      <th>4</th>\n    </tr>\n  </thead>\n  <tbody>\n    <tr>\n      <th>0</th>\n      <td>서울특별시</td>\n      <td>None</td>\n      <td>None</td>\n      <td>None</td>\n      <td>None</td>\n    </tr>\n    <tr>\n      <th>1</th>\n      <td>서울특별시</td>\n      <td>종로구</td>\n      <td>None</td>\n      <td>None</td>\n      <td>None</td>\n    </tr>\n    <tr>\n      <th>2</th>\n      <td>서울특별시</td>\n      <td>종로구</td>\n      <td>청운동</td>\n      <td>None</td>\n      <td>None</td>\n    </tr>\n    <tr>\n      <th>3</th>\n      <td>서울특별시</td>\n      <td>종로구</td>\n      <td>신교동</td>\n      <td>None</td>\n      <td>None</td>\n    </tr>\n    <tr>\n      <th>4</th>\n      <td>서울특별시</td>\n      <td>종로구</td>\n      <td>궁정동</td>\n      <td>None</td>\n      <td>None</td>\n    </tr>\n    <tr>\n      <th>...</th>\n      <td>...</td>\n      <td>...</td>\n      <td>...</td>\n      <td>...</td>\n      <td>...</td>\n    </tr>\n    <tr>\n      <th>46335</th>\n      <td>제주특별자치도</td>\n      <td>서귀포시</td>\n      <td>표선면</td>\n      <td>하천리</td>\n      <td>None</td>\n    </tr>\n    <tr>\n      <th>46336</th>\n      <td>제주특별자치도</td>\n      <td>서귀포시</td>\n      <td>표선면</td>\n      <td>성읍리</td>\n      <td>None</td>\n    </tr>\n    <tr>\n      <th>46337</th>\n      <td>제주특별자치도</td>\n      <td>서귀포시</td>\n      <td>표선면</td>\n      <td>가시리</td>\n      <td>None</td>\n    </tr>\n    <tr>\n      <th>46338</th>\n      <td>제주특별자치도</td>\n      <td>서귀포시</td>\n      <td>표선면</td>\n      <td>세화리</td>\n      <td>None</td>\n    </tr>\n    <tr>\n      <th>46339</th>\n      <td>제주특별자치도</td>\n      <td>서귀포시</td>\n      <td>표선면</td>\n      <td>토산리</td>\n      <td>None</td>\n    </tr>\n  </tbody>\n</table>\n<p>46340 rows × 5 columns</p>\n</div>"
     },
     "execution_count": 71,
     "metadata": {},
     "output_type": "execute_result"
    }
   ],
   "source": [
    "pd.DataFrame(as1_to_as4_list)"
   ],
   "metadata": {
    "collapsed": false,
    "pycharm": {
     "name": "#%%\n"
    }
   }
  },
  {
   "cell_type": "code",
   "execution_count": null,
   "outputs": [],
   "source": [],
   "metadata": {
    "collapsed": false,
    "pycharm": {
     "name": "#%%\n"
    }
   }
  },
  {
   "cell_type": "code",
   "execution_count": 54,
   "outputs": [],
   "source": [
    "mois_bjd_code_info[[\"시군구코드\", \"법정동읍면동코드\"]] = code_alist"
   ],
   "metadata": {
    "collapsed": false,
    "pycharm": {
     "name": "#%%\n"
    }
   }
  },
  {
   "cell_type": "code",
   "execution_count": 17,
   "outputs": [
    {
     "data": {
      "text/plain": "46340"
     },
     "execution_count": 17,
     "metadata": {},
     "output_type": "execute_result"
    }
   ],
   "source": [
    "mois_bjd_code_info.to_sql('mois_bjd_code_info', engine, schema=\"aresa\", index=False, if_exists='replace', chunksize=1000)"
   ],
   "metadata": {
    "collapsed": false,
    "pycharm": {
     "name": "#%%\n"
    }
   }
  },
  {
   "cell_type": "code",
   "execution_count": 13,
   "outputs": [],
   "source": [
    "# bjdong_cd\n",
    "# sigungu_cd\n",
    "# bjd_umd_ri_cd\n",
    "# sido_nm\n",
    "# sigungu_nm\n",
    "# umd_nm\n",
    "# ri_nm"
   ],
   "metadata": {
    "collapsed": false,
    "pycharm": {
     "name": "#%%\n"
    }
   }
  },
  {
   "cell_type": "code",
   "execution_count": null,
   "outputs": [],
   "source": [],
   "metadata": {
    "collapsed": false,
    "pycharm": {
     "name": "#%%\n"
    }
   }
  }
 ],
 "metadata": {
  "kernelspec": {
   "display_name": "Python 3",
   "language": "python",
   "name": "python3"
  },
  "language_info": {
   "codemirror_mode": {
    "name": "ipython",
    "version": 2
   },
   "file_extension": ".py",
   "mimetype": "text/x-python",
   "name": "python",
   "nbconvert_exporter": "python",
   "pygments_lexer": "ipython2",
   "version": "2.7.6"
  }
 },
 "nbformat": 4,
 "nbformat_minor": 0
}