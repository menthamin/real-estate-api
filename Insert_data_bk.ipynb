{
 "cells": [
  {
   "cell_type": "code",
   "execution_count": 1,
   "outputs": [],
   "source": [
    "import os\n",
    "import pymysql\n",
    "from tqdm import tqdm\n",
    "from dotenv import load_dotenv\n",
    "\n",
    "pymysql.install_as_MySQLdb()"
   ],
   "metadata": {
    "collapsed": false,
    "pycharm": {
     "name": "#%%\n"
    }
   }
  },
  {
   "cell_type": "markdown",
   "source": [
    "## Connect DB"
   ],
   "metadata": {
    "collapsed": false,
    "pycharm": {
     "name": "#%% md\n"
    }
   }
  },
  {
   "cell_type": "code",
   "execution_count": 2,
   "outputs": [],
   "source": [
    "load_dotenv()\n",
    "ENDPOINT = os.environ.get(\"dev_db_endpoint\")\n",
    "USER = os.environ.get(\"dev_db_user\")\n",
    "PASSWORD = os.environ.get(\"dev_db_password\")"
   ],
   "metadata": {
    "collapsed": false,
    "pycharm": {
     "name": "#%%\n"
    }
   }
  },
  {
   "cell_type": "code",
   "execution_count": 3,
   "outputs": [],
   "source": [
    "conn = pymysql.connect(\n",
    "    host=ENDPOINT,\n",
    "    user=USER,\n",
    "    password=PASSWORD,\n",
    "    database=\"aresa\",\n",
    "    port=3306\n",
    ")"
   ],
   "metadata": {
    "collapsed": false,
    "pycharm": {
     "name": "#%%\n"
    }
   }
  },
  {
   "cell_type": "code",
   "execution_count": 4,
   "outputs": [],
   "source": [
    "cur = conn.cursor()"
   ],
   "metadata": {
    "collapsed": false,
    "pycharm": {
     "name": "#%%\n"
    }
   }
  },
  {
   "cell_type": "markdown",
   "source": [],
   "metadata": {
    "collapsed": false,
    "pycharm": {
     "name": "#%% md\n"
    }
   }
  },
  {
   "cell_type": "code",
   "execution_count": 5,
   "outputs": [],
   "source": [
    "from sqlalchemy import create_engine\n",
    "import sqlalchemy"
   ],
   "metadata": {
    "collapsed": false,
    "pycharm": {
     "name": "#%%\n"
    }
   }
  },
  {
   "cell_type": "code",
   "execution_count": 11,
   "outputs": [],
   "source": [
    "engine = create_engine(f\"mysql+mysqldb://{USER}:{PASSWORD}@{ENDPOINT}:3306/aresa\")\n",
    "# http://i5on9i.blogspot.com/2020/05/no-module-named-mysqldb.html"
   ],
   "metadata": {
    "collapsed": false,
    "pycharm": {
     "name": "#%%\n"
    }
   }
  },
  {
   "cell_type": "markdown",
   "source": [
    "## Insert Data"
   ],
   "metadata": {
    "collapsed": false,
    "pycharm": {
     "name": "#%% md\n"
    }
   }
  },
  {
   "cell_type": "code",
   "execution_count": 12,
   "outputs": [],
   "source": [
    "import pandas as pd"
   ],
   "metadata": {
    "collapsed": false,
    "pycharm": {
     "name": "#%%\n"
    }
   }
  },
  {
   "cell_type": "code",
   "execution_count": 24,
   "outputs": [
    {
     "name": "stderr",
     "output_type": "stream",
     "text": [
      "22it [00:01, 14.71it/s]\n"
     ]
    }
   ],
   "source": [
    "collect_df = pd.read_csv(\"config/한국은행_수집_리스트.csv\")\n",
    "df_all = pd.DataFrame()\n",
    "\n",
    "for row in tqdm(collect_df.itertuples()):\n",
    "    data_nm = row.data_nm\n",
    "    code = row.code.lower()\n",
    "    cycle = row.cycle.lower()\n",
    "    search_start = row.search_start\n",
    "    search_end = row.search_end\n",
    "\n",
    "    df = pd.read_csv(f\"data/한국은행/{data_nm}_{code}_{cycle}_{search_start}_{search_end}.csv\")\n",
    "    df[\"cycle\"] = cycle\n",
    "\n",
    "    df_all = pd.concat([df_all, df])\n",
    "\n",
    "    # df.to_sql(f'bok_{code}_{cycle}', engine, schema=\"aresa\", index=False, if_exists='replace', chunksize=1000)"
   ],
   "metadata": {
    "collapsed": false,
    "pycharm": {
     "name": "#%%\n"
    }
   }
  },
  {
   "cell_type": "code",
   "execution_count": 25,
   "outputs": [],
   "source": [
    "df_all.columns = [column.lower() for column in df_all.columns]"
   ],
   "metadata": {
    "collapsed": false,
    "pycharm": {
     "name": "#%%\n"
    }
   }
  },
  {
   "cell_type": "code",
   "execution_count": 26,
   "outputs": [
    {
     "name": "stdout",
     "output_type": "stream",
     "text": [
      "<class 'pandas.core.frame.DataFrame'>\n",
      "Int64Index: 664630 entries, 0 to 10385\n",
      "Data columns (total 14 columns):\n",
      " #   Column      Non-Null Count   Dtype  \n",
      "---  ------      --------------   -----  \n",
      " 0   stat_code   664630 non-null  object \n",
      " 1   stat_name   664630 non-null  object \n",
      " 2   item_code1  664630 non-null  object \n",
      " 3   item_name1  664630 non-null  object \n",
      " 4   item_code2  18330 non-null   object \n",
      " 5   item_name2  18330 non-null   object \n",
      " 6   item_code3  3456 non-null    float64\n",
      " 7   item_name3  3456 non-null    object \n",
      " 8   item_code4  0 non-null       float64\n",
      " 9   item_name4  0 non-null       float64\n",
      " 10  unit_name   661174 non-null  object \n",
      " 11  time        664630 non-null  object \n",
      " 12  data_value  664519 non-null  float64\n",
      " 13  cycle       664630 non-null  object \n",
      "dtypes: float64(4), object(10)\n",
      "memory usage: 76.1+ MB\n"
     ]
    },
    {
     "data": {
      "text/plain": "  stat_code         stat_name item_code1 item_name1 item_code2 item_name2  \\\n0   802Y001  1.5.1.1. 주식시장(일)       1000    KOSPI지수        NaN        NaN   \n1   802Y001  1.5.1.1. 주식시장(일)       1000    KOSPI지수        NaN        NaN   \n2   802Y001  1.5.1.1. 주식시장(일)       1000    KOSPI지수        NaN        NaN   \n3   802Y001  1.5.1.1. 주식시장(일)       1000    KOSPI지수        NaN        NaN   \n4   802Y001  1.5.1.1. 주식시장(일)       1000    KOSPI지수        NaN        NaN   \n\n   item_code3 item_name3  item_code4  item_name4        unit_name      time  \\\n0         NaN        NaN         NaN         NaN  1980.01.04=100   19950103   \n1         NaN        NaN         NaN         NaN  1980.01.04=100   19950104   \n2         NaN        NaN         NaN         NaN  1980.01.04=100   19950105   \n3         NaN        NaN         NaN         NaN  1980.01.04=100   19950106   \n4         NaN        NaN         NaN         NaN  1980.01.04=100   19950107   \n\n   data_value cycle  \n0     1013.57     d  \n1      997.01     d  \n2      976.06     d  \n3      975.32     d  \n4      988.80     d  ",
      "text/html": "<div>\n<style scoped>\n    .dataframe tbody tr th:only-of-type {\n        vertical-align: middle;\n    }\n\n    .dataframe tbody tr th {\n        vertical-align: top;\n    }\n\n    .dataframe thead th {\n        text-align: right;\n    }\n</style>\n<table border=\"1\" class=\"dataframe\">\n  <thead>\n    <tr style=\"text-align: right;\">\n      <th></th>\n      <th>stat_code</th>\n      <th>stat_name</th>\n      <th>item_code1</th>\n      <th>item_name1</th>\n      <th>item_code2</th>\n      <th>item_name2</th>\n      <th>item_code3</th>\n      <th>item_name3</th>\n      <th>item_code4</th>\n      <th>item_name4</th>\n      <th>unit_name</th>\n      <th>time</th>\n      <th>data_value</th>\n      <th>cycle</th>\n    </tr>\n  </thead>\n  <tbody>\n    <tr>\n      <th>0</th>\n      <td>802Y001</td>\n      <td>1.5.1.1. 주식시장(일)</td>\n      <td>1000</td>\n      <td>KOSPI지수</td>\n      <td>NaN</td>\n      <td>NaN</td>\n      <td>NaN</td>\n      <td>NaN</td>\n      <td>NaN</td>\n      <td>NaN</td>\n      <td>1980.01.04=100</td>\n      <td>19950103</td>\n      <td>1013.57</td>\n      <td>d</td>\n    </tr>\n    <tr>\n      <th>1</th>\n      <td>802Y001</td>\n      <td>1.5.1.1. 주식시장(일)</td>\n      <td>1000</td>\n      <td>KOSPI지수</td>\n      <td>NaN</td>\n      <td>NaN</td>\n      <td>NaN</td>\n      <td>NaN</td>\n      <td>NaN</td>\n      <td>NaN</td>\n      <td>1980.01.04=100</td>\n      <td>19950104</td>\n      <td>997.01</td>\n      <td>d</td>\n    </tr>\n    <tr>\n      <th>2</th>\n      <td>802Y001</td>\n      <td>1.5.1.1. 주식시장(일)</td>\n      <td>1000</td>\n      <td>KOSPI지수</td>\n      <td>NaN</td>\n      <td>NaN</td>\n      <td>NaN</td>\n      <td>NaN</td>\n      <td>NaN</td>\n      <td>NaN</td>\n      <td>1980.01.04=100</td>\n      <td>19950105</td>\n      <td>976.06</td>\n      <td>d</td>\n    </tr>\n    <tr>\n      <th>3</th>\n      <td>802Y001</td>\n      <td>1.5.1.1. 주식시장(일)</td>\n      <td>1000</td>\n      <td>KOSPI지수</td>\n      <td>NaN</td>\n      <td>NaN</td>\n      <td>NaN</td>\n      <td>NaN</td>\n      <td>NaN</td>\n      <td>NaN</td>\n      <td>1980.01.04=100</td>\n      <td>19950106</td>\n      <td>975.32</td>\n      <td>d</td>\n    </tr>\n    <tr>\n      <th>4</th>\n      <td>802Y001</td>\n      <td>1.5.1.1. 주식시장(일)</td>\n      <td>1000</td>\n      <td>KOSPI지수</td>\n      <td>NaN</td>\n      <td>NaN</td>\n      <td>NaN</td>\n      <td>NaN</td>\n      <td>NaN</td>\n      <td>NaN</td>\n      <td>1980.01.04=100</td>\n      <td>19950107</td>\n      <td>988.80</td>\n      <td>d</td>\n    </tr>\n  </tbody>\n</table>\n</div>"
     },
     "execution_count": 26,
     "metadata": {},
     "output_type": "execute_result"
    }
   ],
   "source": [
    "df_all.info()\n",
    "df_all.head()"
   ],
   "metadata": {
    "collapsed": false,
    "pycharm": {
     "name": "#%%\n"
    }
   }
  },
  {
   "cell_type": "code",
   "execution_count": 27,
   "outputs": [
    {
     "data": {
      "text/plain": "664630"
     },
     "execution_count": 27,
     "metadata": {},
     "output_type": "execute_result"
    }
   ],
   "source": [
    "df_all.to_sql('bok_all_rawdata', engine, schema=\"aresa\", index=False, if_exists='replace', chunksize=100000)"
   ],
   "metadata": {
    "collapsed": false,
    "pycharm": {
     "name": "#%%\n"
    }
   }
  },
  {
   "cell_type": "markdown",
   "source": [
    "# KOSIS"
   ],
   "metadata": {
    "collapsed": false,
    "pycharm": {
     "name": "#%% md\n"
    }
   }
  },
  {
   "cell_type": "code",
   "execution_count": 28,
   "outputs": [
    {
     "data": {
      "text/plain": "4831"
     },
     "execution_count": 28,
     "metadata": {},
     "output_type": "execute_result"
    }
   ],
   "source": [
    "df = pd.read_csv(\"data/도시별인구/101_DT_M_199906_202209.csv\")\n",
    "df.to_sql('kosis_101_dt_m', engine, schema=\"aresa\", index=False, if_exists='replace', chunksize=1000)"
   ],
   "metadata": {
    "collapsed": false,
    "pycharm": {
     "name": "#%%\n"
    }
   }
  },
  {
   "cell_type": "code",
   "execution_count": null,
   "outputs": [],
   "source": [],
   "metadata": {
    "collapsed": false,
    "pycharm": {
     "name": "#%%\n"
    }
   }
  },
  {
   "cell_type": "code",
   "execution_count": null,
   "outputs": [],
   "source": [],
   "metadata": {
    "collapsed": false,
    "pycharm": {
     "name": "#%%\n"
    }
   }
  },
  {
   "cell_type": "code",
   "execution_count": null,
   "outputs": [],
   "source": [],
   "metadata": {
    "collapsed": false,
    "pycharm": {
     "name": "#%%\n"
    }
   }
  },
  {
   "cell_type": "code",
   "execution_count": null,
   "outputs": [],
   "source": [],
   "metadata": {
    "collapsed": false,
    "pycharm": {
     "name": "#%%\n"
    }
   }
  },
  {
   "cell_type": "code",
   "execution_count": null,
   "outputs": [],
   "source": [
    "for row in tqdm(collect_df[21:].itertuples()):\n",
    "\n",
    "    data_nm = row.data_nm\n",
    "    code = row.code\n",
    "    cycle = row.cycle\n",
    "    search_start = row.search_start\n",
    "    search_end = row.search_end\n",
    "\n",
    "    url = f\"https://ecos.bok.or.kr/api/StatisticSearch/{api_key}/json/kr/1/100000/{code}/{cycle}/{search_start}/{search_end}/\"\n",
    "    response = requests.get(url)\n",
    "    data = response.json()\n",
    "\n",
    "    df = pd.DataFrame(data[\"StatisticSearch\"][\"row\"])\n",
    "    df.to_csv(f\"data/한국은행/{data_nm}_{code}_{cycle}_{search_start}_{search_end}.csv\", index=False)\n",
    "    print(row.data_nm, row.data_info, len(df))"
   ],
   "metadata": {
    "collapsed": false,
    "pycharm": {
     "name": "#%%\n"
    }
   }
  },
  {
   "cell_type": "code",
   "execution_count": null,
   "outputs": [],
   "source": [],
   "metadata": {
    "collapsed": false,
    "pycharm": {
     "name": "#%%\n"
    }
   }
  },
  {
   "cell_type": "code",
   "execution_count": null,
   "outputs": [],
   "source": [],
   "metadata": {
    "collapsed": false,
    "pycharm": {
     "name": "#%%\n"
    }
   }
  },
  {
   "cell_type": "code",
   "execution_count": null,
   "outputs": [],
   "source": [],
   "metadata": {
    "collapsed": false,
    "pycharm": {
     "name": "#%%\n"
    }
   }
  },
  {
   "cell_type": "code",
   "execution_count": null,
   "outputs": [],
   "source": [],
   "metadata": {
    "collapsed": false,
    "pycharm": {
     "name": "#%%\n"
    }
   }
  },
  {
   "cell_type": "markdown",
   "source": [
    "### 1.국토교통부_아파트단지_목록\n",
    "- morit_apt_list"
   ],
   "metadata": {
    "collapsed": false,
    "pycharm": {
     "name": "#%% md\n"
    }
   }
  },
  {
   "cell_type": "code",
   "execution_count": 41,
   "outputs": [
    {
     "data": {
      "text/plain": "18768"
     },
     "execution_count": 41,
     "metadata": {},
     "output_type": "execute_result"
    }
   ],
   "source": [
    "morit_apt_list = pd.read_csv(\"data/국토교통부_아파트단지목록_20220913.csv\")\n",
    "morit_apt_list.sort_values(by=\"bjdCode\", inplace=True)\n",
    "morit_apt_list.head(3)\n",
    "morit_apt_list.to_sql('morit_apt_list', engine, schema=\"aresa\", index=False, if_exists='replace', chunksize=1000)"
   ],
   "metadata": {
    "collapsed": false,
    "pycharm": {
     "name": "#%%\n"
    }
   }
  },
  {
   "cell_type": "markdown",
   "source": [
    "### 2.국토교통부_아파트_매매\n",
    "- morit_apt_trade"
   ],
   "metadata": {
    "collapsed": false,
    "pycharm": {
     "name": "#%% md\n"
    }
   }
  },
  {
   "cell_type": "code",
   "execution_count": 42,
   "outputs": [],
   "source": [
    "morit_apt_trade = pd.read_csv(\"data/서울특별시_양천구_아파트매매(2019_202208).csv\")"
   ],
   "metadata": {
    "collapsed": false,
    "pycharm": {
     "name": "#%%\n"
    }
   }
  },
  {
   "cell_type": "code",
   "execution_count": 44,
   "outputs": [
    {
     "data": {
      "text/plain": "      거래금액 거래유형  건축년도     년       도로명  도로명건물본번호코드  도로명건물부번호코드  도로명시군구코드  \\\n0   40,500  NaN  2007  2019  은행정로11나길        12.0         0.0   11470.0   \n1  112,000  NaN  1987  2019      목동서로       340.0         0.0   11470.0   \n2   58,000  NaN  2006  2019    목동로29길         7.0         0.0   11470.0   \n\n   도로명일련번호코드  도로명지상지하코드  ...  월  일        일련번호    전용면적  중개사소재지      지번   지역코드  \\\n0          1        0.0  ...  1  3  11470-4180   74.34     NaN  958-12  11470   \n1          1        0.0  ...  1  4   11470-125  106.93     NaN     312  11470   \n2          1        0.0  ...  1  4  11470-3993   82.80     NaN    1308  11470   \n\n    층  해제사유발생일  해제여부  \n0   4      NaN   NaN  \n1  14      NaN   NaN  \n2   5      NaN   NaN  \n\n[3 rows x 28 columns]",
      "text/html": "<div>\n<style scoped>\n    .dataframe tbody tr th:only-of-type {\n        vertical-align: middle;\n    }\n\n    .dataframe tbody tr th {\n        vertical-align: top;\n    }\n\n    .dataframe thead th {\n        text-align: right;\n    }\n</style>\n<table border=\"1\" class=\"dataframe\">\n  <thead>\n    <tr style=\"text-align: right;\">\n      <th></th>\n      <th>거래금액</th>\n      <th>거래유형</th>\n      <th>건축년도</th>\n      <th>년</th>\n      <th>도로명</th>\n      <th>도로명건물본번호코드</th>\n      <th>도로명건물부번호코드</th>\n      <th>도로명시군구코드</th>\n      <th>도로명일련번호코드</th>\n      <th>도로명지상지하코드</th>\n      <th>...</th>\n      <th>월</th>\n      <th>일</th>\n      <th>일련번호</th>\n      <th>전용면적</th>\n      <th>중개사소재지</th>\n      <th>지번</th>\n      <th>지역코드</th>\n      <th>층</th>\n      <th>해제사유발생일</th>\n      <th>해제여부</th>\n    </tr>\n  </thead>\n  <tbody>\n    <tr>\n      <th>0</th>\n      <td>40,500</td>\n      <td>NaN</td>\n      <td>2007</td>\n      <td>2019</td>\n      <td>은행정로11나길</td>\n      <td>12.0</td>\n      <td>0.0</td>\n      <td>11470.0</td>\n      <td>1</td>\n      <td>0.0</td>\n      <td>...</td>\n      <td>1</td>\n      <td>3</td>\n      <td>11470-4180</td>\n      <td>74.34</td>\n      <td>NaN</td>\n      <td>958-12</td>\n      <td>11470</td>\n      <td>4</td>\n      <td>NaN</td>\n      <td>NaN</td>\n    </tr>\n    <tr>\n      <th>1</th>\n      <td>112,000</td>\n      <td>NaN</td>\n      <td>1987</td>\n      <td>2019</td>\n      <td>목동서로</td>\n      <td>340.0</td>\n      <td>0.0</td>\n      <td>11470.0</td>\n      <td>1</td>\n      <td>0.0</td>\n      <td>...</td>\n      <td>1</td>\n      <td>4</td>\n      <td>11470-125</td>\n      <td>106.93</td>\n      <td>NaN</td>\n      <td>312</td>\n      <td>11470</td>\n      <td>14</td>\n      <td>NaN</td>\n      <td>NaN</td>\n    </tr>\n    <tr>\n      <th>2</th>\n      <td>58,000</td>\n      <td>NaN</td>\n      <td>2006</td>\n      <td>2019</td>\n      <td>목동로29길</td>\n      <td>7.0</td>\n      <td>0.0</td>\n      <td>11470.0</td>\n      <td>1</td>\n      <td>0.0</td>\n      <td>...</td>\n      <td>1</td>\n      <td>4</td>\n      <td>11470-3993</td>\n      <td>82.80</td>\n      <td>NaN</td>\n      <td>1308</td>\n      <td>11470</td>\n      <td>5</td>\n      <td>NaN</td>\n      <td>NaN</td>\n    </tr>\n  </tbody>\n</table>\n<p>3 rows × 28 columns</p>\n</div>"
     },
     "execution_count": 44,
     "metadata": {},
     "output_type": "execute_result"
    }
   ],
   "source": [
    "morit_apt_trade.head(3)"
   ],
   "metadata": {
    "collapsed": false,
    "pycharm": {
     "name": "#%%\n"
    }
   }
  },
  {
   "cell_type": "code",
   "execution_count": 45,
   "outputs": [
    {
     "data": {
      "text/plain": "9575"
     },
     "execution_count": 45,
     "metadata": {},
     "output_type": "execute_result"
    }
   ],
   "source": [
    "morit_apt_trade.to_sql('morit_apt_trade', engine, schema=\"aresa\", index=False, if_exists='replace', chunksize=1000)"
   ],
   "metadata": {
    "collapsed": false,
    "pycharm": {
     "name": "#%%\n"
    }
   }
  },
  {
   "cell_type": "markdown",
   "source": [
    "### 3.국토교통부_아파트_전월세\n",
    "- morit_apt_rent"
   ],
   "metadata": {
    "collapsed": false,
    "pycharm": {
     "name": "#%% md\n"
    }
   }
  },
  {
   "cell_type": "code",
   "execution_count": 47,
   "outputs": [
    {
     "name": "stderr",
     "output_type": "stream",
     "text": [
      "/var/folders/0k/7tntyv9n1_df_4tn17vrg3400000gn/T/ipykernel_15792/3906179089.py:1: DtypeWarning: Columns (9,13) have mixed types. Specify dtype option on import or set low_memory=False.\n",
      "  morit_apt_rent = pd.read_csv(\"data/서울특별시_양천구_아파트전월세(2019_202209).csv\")\n"
     ]
    }
   ],
   "source": [
    "morit_apt_rent = pd.read_csv(\"data/서울특별시_양천구_아파트전월세(2019_202209).csv\")"
   ],
   "metadata": {
    "collapsed": false,
    "pycharm": {
     "name": "#%%\n"
    }
   }
  },
  {
   "cell_type": "code",
   "execution_count": 50,
   "outputs": [
    {
     "data": {
      "text/plain": "  갱신요구권사용  건축년도 계약구분 계약기간     년  법정동    보증금액       아파트  월 월세금액  일   전용면적  \\\n0     NaN  2002  NaN  NaN  2019  신정동  30,000      학마을3  1    0  1  84.72   \n1     NaN  2016  NaN  NaN  2019  신정동  58,700   목동힐스테이트  1    0  2  59.95   \n2     NaN  1988  NaN  NaN  2019  신정동  45,000  목동신시가지14  1    0  2  71.40   \n\n  종전계약보증금 종전계약월세    지번   지역코드   층  \n0     NaN    NaN  1291  11470  12  \n1     NaN    NaN  1323  11470   7  \n2     NaN    NaN   329  11470  11  ",
      "text/html": "<div>\n<style scoped>\n    .dataframe tbody tr th:only-of-type {\n        vertical-align: middle;\n    }\n\n    .dataframe tbody tr th {\n        vertical-align: top;\n    }\n\n    .dataframe thead th {\n        text-align: right;\n    }\n</style>\n<table border=\"1\" class=\"dataframe\">\n  <thead>\n    <tr style=\"text-align: right;\">\n      <th></th>\n      <th>갱신요구권사용</th>\n      <th>건축년도</th>\n      <th>계약구분</th>\n      <th>계약기간</th>\n      <th>년</th>\n      <th>법정동</th>\n      <th>보증금액</th>\n      <th>아파트</th>\n      <th>월</th>\n      <th>월세금액</th>\n      <th>일</th>\n      <th>전용면적</th>\n      <th>종전계약보증금</th>\n      <th>종전계약월세</th>\n      <th>지번</th>\n      <th>지역코드</th>\n      <th>층</th>\n    </tr>\n  </thead>\n  <tbody>\n    <tr>\n      <th>0</th>\n      <td>NaN</td>\n      <td>2002</td>\n      <td>NaN</td>\n      <td>NaN</td>\n      <td>2019</td>\n      <td>신정동</td>\n      <td>30,000</td>\n      <td>학마을3</td>\n      <td>1</td>\n      <td>0</td>\n      <td>1</td>\n      <td>84.72</td>\n      <td>NaN</td>\n      <td>NaN</td>\n      <td>1291</td>\n      <td>11470</td>\n      <td>12</td>\n    </tr>\n    <tr>\n      <th>1</th>\n      <td>NaN</td>\n      <td>2016</td>\n      <td>NaN</td>\n      <td>NaN</td>\n      <td>2019</td>\n      <td>신정동</td>\n      <td>58,700</td>\n      <td>목동힐스테이트</td>\n      <td>1</td>\n      <td>0</td>\n      <td>2</td>\n      <td>59.95</td>\n      <td>NaN</td>\n      <td>NaN</td>\n      <td>1323</td>\n      <td>11470</td>\n      <td>7</td>\n    </tr>\n    <tr>\n      <th>2</th>\n      <td>NaN</td>\n      <td>1988</td>\n      <td>NaN</td>\n      <td>NaN</td>\n      <td>2019</td>\n      <td>신정동</td>\n      <td>45,000</td>\n      <td>목동신시가지14</td>\n      <td>1</td>\n      <td>0</td>\n      <td>2</td>\n      <td>71.40</td>\n      <td>NaN</td>\n      <td>NaN</td>\n      <td>329</td>\n      <td>11470</td>\n      <td>11</td>\n    </tr>\n  </tbody>\n</table>\n</div>"
     },
     "execution_count": 50,
     "metadata": {},
     "output_type": "execute_result"
    }
   ],
   "source": [
    "morit_apt_rent.head(3)"
   ],
   "metadata": {
    "collapsed": false,
    "pycharm": {
     "name": "#%%\n"
    }
   }
  },
  {
   "cell_type": "code",
   "execution_count": 52,
   "outputs": [
    {
     "data": {
      "text/plain": "36867"
     },
     "execution_count": 52,
     "metadata": {},
     "output_type": "execute_result"
    }
   ],
   "source": [
    "morit_apt_rent.to_sql('morit_apt_rent', engine, schema=\"aresa\", index=False, if_exists='replace', chunksize=1000)"
   ],
   "metadata": {
    "collapsed": false,
    "pycharm": {
     "name": "#%%\n"
    }
   }
  },
  {
   "cell_type": "markdown",
   "source": [
    "### 4.국토교통부_공동주택(아파트)_기본정보\n",
    "- morit_apt_basis"
   ],
   "metadata": {
    "collapsed": false,
    "pycharm": {
     "name": "#%% md\n"
    }
   }
  },
  {
   "cell_type": "code",
   "execution_count": 53,
   "outputs": [],
   "source": [
    "morit_apt_basis = pd.read_csv(\"data/서울특별시_양천구_공동주택기본정보.csv\")"
   ],
   "metadata": {
    "collapsed": false,
    "pycharm": {
     "name": "#%%\n"
    }
   }
  },
  {
   "cell_type": "code",
   "execution_count": 54,
   "outputs": [
    {
     "data": {
      "text/plain": "      bjdCode codeAptNm codeHallNm codeHeatNm codeMgrNm codeSaleNm  \\\n0  1147010100       아파트        계단식       개별난방      위탁관리         분양   \n1  1147010300       아파트        계단식       개별난방      위탁관리         분양   \n2  1147010100       아파트        복도식       지역난방      위탁관리         분양   \n\n               doroJuso  hoCnt kaptAcompany  \\\n0  서울특별시 양천구 중앙로29길 108  186.0           대성   \n1                   NaN  236.0        신나래토건   \n2     서울특별시 양천구 신정로 293  997.0         SH공사   \n\n                            kaptAddr  ... kaptMparea_136 kaptMparea_60  \\\n0  서울특별시 양천구 신정동 1198-3 신정대성유니드아파트2차  ...              0            92   \n1         서울특별시 양천구 신월동 1041 신월삼정그린뷰  ...              0            30   \n2          서울특별시 양천구 신정동 1259 신트리1단지  ...              0           997   \n\n   kaptMparea_85      kaptName  kaptTarea    kaptTel             kaptUrl  \\\n0             94  신정대성유니드아파트2차   21041.02  226080948  www.youneed2.co.kr   \n1            206       신월삼정그린뷰   23196.44  226071764          khmais.net   \n2              0        신트리1단지   90537.90  226941583        newtree1.com   \n\n   kaptUsedate  kaptdaCnt  privArea  \n0   20040715.0        186  13421.46  \n1   20051228.0        236  18833.56  \n2   19990521.0        997  54010.76  \n\n[3 rows x 26 columns]",
      "text/html": "<div>\n<style scoped>\n    .dataframe tbody tr th:only-of-type {\n        vertical-align: middle;\n    }\n\n    .dataframe tbody tr th {\n        vertical-align: top;\n    }\n\n    .dataframe thead th {\n        text-align: right;\n    }\n</style>\n<table border=\"1\" class=\"dataframe\">\n  <thead>\n    <tr style=\"text-align: right;\">\n      <th></th>\n      <th>bjdCode</th>\n      <th>codeAptNm</th>\n      <th>codeHallNm</th>\n      <th>codeHeatNm</th>\n      <th>codeMgrNm</th>\n      <th>codeSaleNm</th>\n      <th>doroJuso</th>\n      <th>hoCnt</th>\n      <th>kaptAcompany</th>\n      <th>kaptAddr</th>\n      <th>...</th>\n      <th>kaptMparea_136</th>\n      <th>kaptMparea_60</th>\n      <th>kaptMparea_85</th>\n      <th>kaptName</th>\n      <th>kaptTarea</th>\n      <th>kaptTel</th>\n      <th>kaptUrl</th>\n      <th>kaptUsedate</th>\n      <th>kaptdaCnt</th>\n      <th>privArea</th>\n    </tr>\n  </thead>\n  <tbody>\n    <tr>\n      <th>0</th>\n      <td>1147010100</td>\n      <td>아파트</td>\n      <td>계단식</td>\n      <td>개별난방</td>\n      <td>위탁관리</td>\n      <td>분양</td>\n      <td>서울특별시 양천구 중앙로29길 108</td>\n      <td>186.0</td>\n      <td>대성</td>\n      <td>서울특별시 양천구 신정동 1198-3 신정대성유니드아파트2차</td>\n      <td>...</td>\n      <td>0</td>\n      <td>92</td>\n      <td>94</td>\n      <td>신정대성유니드아파트2차</td>\n      <td>21041.02</td>\n      <td>226080948</td>\n      <td>www.youneed2.co.kr</td>\n      <td>20040715.0</td>\n      <td>186</td>\n      <td>13421.46</td>\n    </tr>\n    <tr>\n      <th>1</th>\n      <td>1147010300</td>\n      <td>아파트</td>\n      <td>계단식</td>\n      <td>개별난방</td>\n      <td>위탁관리</td>\n      <td>분양</td>\n      <td>NaN</td>\n      <td>236.0</td>\n      <td>신나래토건</td>\n      <td>서울특별시 양천구 신월동 1041 신월삼정그린뷰</td>\n      <td>...</td>\n      <td>0</td>\n      <td>30</td>\n      <td>206</td>\n      <td>신월삼정그린뷰</td>\n      <td>23196.44</td>\n      <td>226071764</td>\n      <td>khmais.net</td>\n      <td>20051228.0</td>\n      <td>236</td>\n      <td>18833.56</td>\n    </tr>\n    <tr>\n      <th>2</th>\n      <td>1147010100</td>\n      <td>아파트</td>\n      <td>복도식</td>\n      <td>지역난방</td>\n      <td>위탁관리</td>\n      <td>분양</td>\n      <td>서울특별시 양천구 신정로 293</td>\n      <td>997.0</td>\n      <td>SH공사</td>\n      <td>서울특별시 양천구 신정동 1259 신트리1단지</td>\n      <td>...</td>\n      <td>0</td>\n      <td>997</td>\n      <td>0</td>\n      <td>신트리1단지</td>\n      <td>90537.90</td>\n      <td>226941583</td>\n      <td>newtree1.com</td>\n      <td>19990521.0</td>\n      <td>997</td>\n      <td>54010.76</td>\n    </tr>\n  </tbody>\n</table>\n<p>3 rows × 26 columns</p>\n</div>"
     },
     "execution_count": 54,
     "metadata": {},
     "output_type": "execute_result"
    }
   ],
   "source": [
    "morit_apt_basis.head(3)"
   ],
   "metadata": {
    "collapsed": false,
    "pycharm": {
     "name": "#%%\n"
    }
   }
  },
  {
   "cell_type": "code",
   "execution_count": 55,
   "outputs": [
    {
     "data": {
      "text/plain": "131"
     },
     "execution_count": 55,
     "metadata": {},
     "output_type": "execute_result"
    }
   ],
   "source": [
    "morit_apt_basis.to_sql('morit_apt_basis', engine, schema=\"aresa\", index=False, if_exists='replace', chunksize=1000)"
   ],
   "metadata": {
    "collapsed": false,
    "pycharm": {
     "name": "#%%\n"
    }
   }
  },
  {
   "cell_type": "markdown",
   "source": [
    "### 5.국토교통부_공동주택(아파트)_상세정보\n",
    "- morit_apt_detail"
   ],
   "metadata": {
    "collapsed": false,
    "pycharm": {
     "name": "#%% md\n"
    }
   }
  },
  {
   "cell_type": "code",
   "execution_count": 57,
   "outputs": [
    {
     "data": {
      "text/plain": "  codeClean codeDisinf codeEcon codeElev codeEmgr codeFalarm codeGarbage  \\\n0      위탁관리       위탁관리     단일계약     위탁관리     위탁선임         P형   음식물쓰레기종량제   \n1      위탁관리       위탁관리     종합계약     위탁관리     상주선임         기타          기타   \n2      위탁관리       위탁관리     단일계약     위탁관리     상주선임         P형   음식물쓰레기종량제   \n\n  codeMgr codeNet codeSec  ... kaptdEcnt kaptdPcnt kaptdPcntu kaptdScnt  \\\n0    위탁관리       무    위탁관리  ...       7.0      84.0      103.0       2.0   \n1    위탁관리       무    위탁관리  ...       8.0      20.0      290.0       2.0   \n2    위탁관리       무    위탁관리  ...      13.0     159.0      407.0       8.0   \n\n  kaptdSecCom kaptdWtimebus kaptdWtimesub  subwayLine subwayStation  \\\n0       성안씨에스       5~10분이내          5분이내         2호선        신정네거리역   \n1       대한티에스          5분이내      15~20분이내    2호선, 5호선     신정네거리, 신정   \n2       듀델코리아          5분이내      10~15분이내         2호선        신정네거리역   \n\n                    welfareFacility  \n0        관리사무소, 노인정, 어린이놀이터, 자전거보관소  \n1        관리사무소, 어린이놀이터, 유치원, 자전거보관소  \n2  관리사무소, 노인정, 보육시설, 어린이놀이터, 자전거보관소  \n\n[3 rows x 33 columns]",
      "text/html": "<div>\n<style scoped>\n    .dataframe tbody tr th:only-of-type {\n        vertical-align: middle;\n    }\n\n    .dataframe tbody tr th {\n        vertical-align: top;\n    }\n\n    .dataframe thead th {\n        text-align: right;\n    }\n</style>\n<table border=\"1\" class=\"dataframe\">\n  <thead>\n    <tr style=\"text-align: right;\">\n      <th></th>\n      <th>codeClean</th>\n      <th>codeDisinf</th>\n      <th>codeEcon</th>\n      <th>codeElev</th>\n      <th>codeEmgr</th>\n      <th>codeFalarm</th>\n      <th>codeGarbage</th>\n      <th>codeMgr</th>\n      <th>codeNet</th>\n      <th>codeSec</th>\n      <th>...</th>\n      <th>kaptdEcnt</th>\n      <th>kaptdPcnt</th>\n      <th>kaptdPcntu</th>\n      <th>kaptdScnt</th>\n      <th>kaptdSecCom</th>\n      <th>kaptdWtimebus</th>\n      <th>kaptdWtimesub</th>\n      <th>subwayLine</th>\n      <th>subwayStation</th>\n      <th>welfareFacility</th>\n    </tr>\n  </thead>\n  <tbody>\n    <tr>\n      <th>0</th>\n      <td>위탁관리</td>\n      <td>위탁관리</td>\n      <td>단일계약</td>\n      <td>위탁관리</td>\n      <td>위탁선임</td>\n      <td>P형</td>\n      <td>음식물쓰레기종량제</td>\n      <td>위탁관리</td>\n      <td>무</td>\n      <td>위탁관리</td>\n      <td>...</td>\n      <td>7.0</td>\n      <td>84.0</td>\n      <td>103.0</td>\n      <td>2.0</td>\n      <td>성안씨에스</td>\n      <td>5~10분이내</td>\n      <td>5분이내</td>\n      <td>2호선</td>\n      <td>신정네거리역</td>\n      <td>관리사무소, 노인정, 어린이놀이터, 자전거보관소</td>\n    </tr>\n    <tr>\n      <th>1</th>\n      <td>위탁관리</td>\n      <td>위탁관리</td>\n      <td>종합계약</td>\n      <td>위탁관리</td>\n      <td>상주선임</td>\n      <td>기타</td>\n      <td>기타</td>\n      <td>위탁관리</td>\n      <td>무</td>\n      <td>위탁관리</td>\n      <td>...</td>\n      <td>8.0</td>\n      <td>20.0</td>\n      <td>290.0</td>\n      <td>2.0</td>\n      <td>대한티에스</td>\n      <td>5분이내</td>\n      <td>15~20분이내</td>\n      <td>2호선, 5호선</td>\n      <td>신정네거리, 신정</td>\n      <td>관리사무소, 어린이놀이터, 유치원, 자전거보관소</td>\n    </tr>\n    <tr>\n      <th>2</th>\n      <td>위탁관리</td>\n      <td>위탁관리</td>\n      <td>단일계약</td>\n      <td>위탁관리</td>\n      <td>상주선임</td>\n      <td>P형</td>\n      <td>음식물쓰레기종량제</td>\n      <td>위탁관리</td>\n      <td>무</td>\n      <td>위탁관리</td>\n      <td>...</td>\n      <td>13.0</td>\n      <td>159.0</td>\n      <td>407.0</td>\n      <td>8.0</td>\n      <td>듀델코리아</td>\n      <td>5분이내</td>\n      <td>10~15분이내</td>\n      <td>2호선</td>\n      <td>신정네거리역</td>\n      <td>관리사무소, 노인정, 보육시설, 어린이놀이터, 자전거보관소</td>\n    </tr>\n  </tbody>\n</table>\n<p>3 rows × 33 columns</p>\n</div>"
     },
     "execution_count": 57,
     "metadata": {},
     "output_type": "execute_result"
    }
   ],
   "source": [
    "morit_apt_detail = pd.read_csv(\"data/서울특별시_양천구_공동주택상세정보.csv\")\n",
    "morit_apt_detail.head(3)"
   ],
   "metadata": {
    "collapsed": false,
    "pycharm": {
     "name": "#%%\n"
    }
   }
  },
  {
   "cell_type": "code",
   "execution_count": 58,
   "outputs": [
    {
     "data": {
      "text/plain": "131"
     },
     "execution_count": 58,
     "metadata": {},
     "output_type": "execute_result"
    }
   ],
   "source": [
    "morit_apt_detail.to_sql('morit_apt_detail', engine, schema=\"aresa\", index=False, if_exists='replace', chunksize=1000)"
   ],
   "metadata": {
    "collapsed": false,
    "pycharm": {
     "name": "#%%\n"
    }
   }
  },
  {
   "cell_type": "markdown",
   "source": [
    "### 6.국토교통부_건축물대장_표제부\n",
    "- morit_bldrgst_title"
   ],
   "metadata": {
    "collapsed": false,
    "pycharm": {
     "name": "#%% md\n"
    }
   }
  },
  {
   "cell_type": "code",
   "execution_count": 60,
   "outputs": [
    {
     "data": {
      "text/plain": "   archArea  atchBldArea  atchBldCnt  bcRat  bjdongCd bldNm  block  bun  \\\n0     79.67          0.0           0    0.0     10200   NaN    NaN    1   \n1     31.40          0.0           0    0.0     10200   NaN    NaN   27   \n2    254.88          0.0           0    0.0     10200   NaN    NaN   28   \n\n   bylotCnt   crtnDay  ... splotNm  stcnsDay  strctCd  strctCdNm  totArea  \\\n0         0  20200427  ...     NaN       NaN     11.0       벽돌구조   162.65   \n1         0  20170304  ...     NaN       NaN     11.0       벽돌구조    94.20   \n2         0  20170304  ...     NaN       NaN     11.0       벽돌구조   341.82   \n\n  totDongTotArea ugrndFlrCnt   useAprDay  vlRat  vlRatEstmTotArea  \n0         162.65           1  19780204.0    0.0            159.34  \n1          94.20           1  19800416.0    0.0             62.80  \n2         341.82           1  19771231.0    0.0            308.43  \n\n[3 rows x 78 columns]",
      "text/html": "<div>\n<style scoped>\n    .dataframe tbody tr th:only-of-type {\n        vertical-align: middle;\n    }\n\n    .dataframe tbody tr th {\n        vertical-align: top;\n    }\n\n    .dataframe thead th {\n        text-align: right;\n    }\n</style>\n<table border=\"1\" class=\"dataframe\">\n  <thead>\n    <tr style=\"text-align: right;\">\n      <th></th>\n      <th>archArea</th>\n      <th>atchBldArea</th>\n      <th>atchBldCnt</th>\n      <th>bcRat</th>\n      <th>bjdongCd</th>\n      <th>bldNm</th>\n      <th>block</th>\n      <th>bun</th>\n      <th>bylotCnt</th>\n      <th>crtnDay</th>\n      <th>...</th>\n      <th>splotNm</th>\n      <th>stcnsDay</th>\n      <th>strctCd</th>\n      <th>strctCdNm</th>\n      <th>totArea</th>\n      <th>totDongTotArea</th>\n      <th>ugrndFlrCnt</th>\n      <th>useAprDay</th>\n      <th>vlRat</th>\n      <th>vlRatEstmTotArea</th>\n    </tr>\n  </thead>\n  <tbody>\n    <tr>\n      <th>0</th>\n      <td>79.67</td>\n      <td>0.0</td>\n      <td>0</td>\n      <td>0.0</td>\n      <td>10200</td>\n      <td>NaN</td>\n      <td>NaN</td>\n      <td>1</td>\n      <td>0</td>\n      <td>20200427</td>\n      <td>...</td>\n      <td>NaN</td>\n      <td>NaN</td>\n      <td>11.0</td>\n      <td>벽돌구조</td>\n      <td>162.65</td>\n      <td>162.65</td>\n      <td>1</td>\n      <td>19780204.0</td>\n      <td>0.0</td>\n      <td>159.34</td>\n    </tr>\n    <tr>\n      <th>1</th>\n      <td>31.40</td>\n      <td>0.0</td>\n      <td>0</td>\n      <td>0.0</td>\n      <td>10200</td>\n      <td>NaN</td>\n      <td>NaN</td>\n      <td>27</td>\n      <td>0</td>\n      <td>20170304</td>\n      <td>...</td>\n      <td>NaN</td>\n      <td>NaN</td>\n      <td>11.0</td>\n      <td>벽돌구조</td>\n      <td>94.20</td>\n      <td>94.20</td>\n      <td>1</td>\n      <td>19800416.0</td>\n      <td>0.0</td>\n      <td>62.80</td>\n    </tr>\n    <tr>\n      <th>2</th>\n      <td>254.88</td>\n      <td>0.0</td>\n      <td>0</td>\n      <td>0.0</td>\n      <td>10200</td>\n      <td>NaN</td>\n      <td>NaN</td>\n      <td>28</td>\n      <td>0</td>\n      <td>20170304</td>\n      <td>...</td>\n      <td>NaN</td>\n      <td>NaN</td>\n      <td>11.0</td>\n      <td>벽돌구조</td>\n      <td>341.82</td>\n      <td>341.82</td>\n      <td>1</td>\n      <td>19771231.0</td>\n      <td>0.0</td>\n      <td>308.43</td>\n    </tr>\n  </tbody>\n</table>\n<p>3 rows × 78 columns</p>\n</div>"
     },
     "execution_count": 60,
     "metadata": {},
     "output_type": "execute_result"
    }
   ],
   "source": [
    "morit_bldrgst_title = pd.read_csv(\"data/서울특별시_양천구_건출물대장_표제부.csv\")\n",
    "morit_bldrgst_title.head(3)"
   ],
   "metadata": {
    "collapsed": false,
    "pycharm": {
     "name": "#%%\n"
    }
   }
  },
  {
   "cell_type": "code",
   "execution_count": 61,
   "outputs": [
    {
     "data": {
      "text/plain": "5126"
     },
     "execution_count": 61,
     "metadata": {},
     "output_type": "execute_result"
    }
   ],
   "source": [
    "morit_bldrgst_title.to_sql('morit_bldrgst_title', engine, schema=\"aresa\", index=False, if_exists='replace', chunksize=1000)"
   ],
   "metadata": {
    "collapsed": false,
    "pycharm": {
     "name": "#%%\n"
    }
   }
  },
  {
   "cell_type": "markdown",
   "source": [
    "### 7.국토교통부_건축물대장_기본정보\n",
    "- morit_bldrgst_basis"
   ],
   "metadata": {
    "collapsed": false,
    "pycharm": {
     "name": "#%% md\n"
    }
   }
  },
  {
   "cell_type": "code",
   "execution_count": 63,
   "outputs": [
    {
     "name": "stderr",
     "output_type": "stream",
     "text": [
      "/var/folders/0k/7tntyv9n1_df_4tn17vrg3400000gn/T/ipykernel_15792/1639279895.py:1: DtypeWarning: Columns (29) have mixed types. Specify dtype option on import or set low_memory=False.\n",
      "  morit_bldrgst_basis = pd.read_csv(\"data/서울특별시_양천구_건출물대장_기본정보.csv\")\n"
     ]
    },
    {
     "data": {
      "text/plain": "   bjdongCd bldNm  block  bun  bylotCnt   crtnDay guyukCd guyukCdNm  ji  \\\n0     10200   NaN    NaN    1         0  20200427     NaN       NaN   3   \n1     10200   NaN    NaN   27         0  20170304     NaN       NaN   3   \n2     10200   NaN    NaN   28         0  20170304     NaN       NaN  50   \n\n  jiguCd  ... platGbCd               platPlc regstrGbCd  regstrGbCdNm  \\\n0    NaN  ...        0    서울특별시 양천구 목동 1-3번지          1            일반   \n1    NaN  ...        0   서울특별시 양천구 목동 27-3번지          1            일반   \n2    NaN  ...        0  서울특별시 양천구 목동 28-50번지          1            일반   \n\n  regstrKindCd  regstrKindCdNm  rnum  sigunguCd  splotNm  mgmUpBldrgstPk  \n0            2           일반건축물     1      11470      NaN             NaN  \n1            2           일반건축물     2      11470      NaN             NaN  \n2            2           일반건축물     3      11470      NaN             NaN  \n\n[3 rows x 31 columns]",
      "text/html": "<div>\n<style scoped>\n    .dataframe tbody tr th:only-of-type {\n        vertical-align: middle;\n    }\n\n    .dataframe tbody tr th {\n        vertical-align: top;\n    }\n\n    .dataframe thead th {\n        text-align: right;\n    }\n</style>\n<table border=\"1\" class=\"dataframe\">\n  <thead>\n    <tr style=\"text-align: right;\">\n      <th></th>\n      <th>bjdongCd</th>\n      <th>bldNm</th>\n      <th>block</th>\n      <th>bun</th>\n      <th>bylotCnt</th>\n      <th>crtnDay</th>\n      <th>guyukCd</th>\n      <th>guyukCdNm</th>\n      <th>ji</th>\n      <th>jiguCd</th>\n      <th>...</th>\n      <th>platGbCd</th>\n      <th>platPlc</th>\n      <th>regstrGbCd</th>\n      <th>regstrGbCdNm</th>\n      <th>regstrKindCd</th>\n      <th>regstrKindCdNm</th>\n      <th>rnum</th>\n      <th>sigunguCd</th>\n      <th>splotNm</th>\n      <th>mgmUpBldrgstPk</th>\n    </tr>\n  </thead>\n  <tbody>\n    <tr>\n      <th>0</th>\n      <td>10200</td>\n      <td>NaN</td>\n      <td>NaN</td>\n      <td>1</td>\n      <td>0</td>\n      <td>20200427</td>\n      <td>NaN</td>\n      <td>NaN</td>\n      <td>3</td>\n      <td>NaN</td>\n      <td>...</td>\n      <td>0</td>\n      <td>서울특별시 양천구 목동 1-3번지</td>\n      <td>1</td>\n      <td>일반</td>\n      <td>2</td>\n      <td>일반건축물</td>\n      <td>1</td>\n      <td>11470</td>\n      <td>NaN</td>\n      <td>NaN</td>\n    </tr>\n    <tr>\n      <th>1</th>\n      <td>10200</td>\n      <td>NaN</td>\n      <td>NaN</td>\n      <td>27</td>\n      <td>0</td>\n      <td>20170304</td>\n      <td>NaN</td>\n      <td>NaN</td>\n      <td>3</td>\n      <td>NaN</td>\n      <td>...</td>\n      <td>0</td>\n      <td>서울특별시 양천구 목동 27-3번지</td>\n      <td>1</td>\n      <td>일반</td>\n      <td>2</td>\n      <td>일반건축물</td>\n      <td>2</td>\n      <td>11470</td>\n      <td>NaN</td>\n      <td>NaN</td>\n    </tr>\n    <tr>\n      <th>2</th>\n      <td>10200</td>\n      <td>NaN</td>\n      <td>NaN</td>\n      <td>28</td>\n      <td>0</td>\n      <td>20170304</td>\n      <td>NaN</td>\n      <td>NaN</td>\n      <td>50</td>\n      <td>NaN</td>\n      <td>...</td>\n      <td>0</td>\n      <td>서울특별시 양천구 목동 28-50번지</td>\n      <td>1</td>\n      <td>일반</td>\n      <td>2</td>\n      <td>일반건축물</td>\n      <td>3</td>\n      <td>11470</td>\n      <td>NaN</td>\n      <td>NaN</td>\n    </tr>\n  </tbody>\n</table>\n<p>3 rows × 31 columns</p>\n</div>"
     },
     "execution_count": 63,
     "metadata": {},
     "output_type": "execute_result"
    }
   ],
   "source": [
    "morit_bldrgst_basis = pd.read_csv(\"data/서울특별시_양천구_건출물대장_기본정보.csv\")\n",
    "morit_bldrgst_basis.head(3)"
   ],
   "metadata": {
    "collapsed": false,
    "pycharm": {
     "name": "#%%\n"
    }
   }
  },
  {
   "cell_type": "code",
   "execution_count": 64,
   "outputs": [
    {
     "data": {
      "text/plain": "58751"
     },
     "execution_count": 64,
     "metadata": {},
     "output_type": "execute_result"
    }
   ],
   "source": [
    "morit_bldrgst_basis.to_sql('morit_bldrgst_basis', engine, schema=\"aresa\", index=False, if_exists='replace', chunksize=1000)"
   ],
   "metadata": {
    "collapsed": false,
    "pycharm": {
     "name": "#%%\n"
    }
   }
  },
  {
   "cell_type": "markdown",
   "source": [
    "### 8.국토교통부_건축물대장_총괄표제부\n",
    "- morit_bldrgst_total_title"
   ],
   "metadata": {
    "collapsed": false,
    "pycharm": {
     "name": "#%% md\n"
    }
   }
  },
  {
   "cell_type": "code",
   "execution_count": 65,
   "outputs": [
    {
     "data": {
      "text/plain": "   archArea  atchBldArea  atchBldCnt  bcRat  bjdongCd  bldNm  block  bun  \\\n0    132.24          0.0           0   0.00     10200    NaN    NaN   39   \n1    304.14          0.0           0  53.17     10200  동양부로빌    NaN   42   \n2    145.45          0.0           0   0.00     10200    NaN    NaN   92   \n\n   bylotCnt   crtnDay  ...  regstrKindCdNm  rnum  sigunguCd splotNm  \\\n0         0  20210112  ...           총괄표제부     1      11470     NaN   \n1         0  20180914  ...           총괄표제부     2      11470     NaN   \n2         0  20210112  ...           총괄표제부     3      11470     NaN   \n\n     stcnsDay  totArea  totPkngCnt   useAprDay   vlRat  vlRatEstmTotArea  \n0         NaN   132.24           0         NaN    0.00            132.24  \n1  20170112.0  1601.15          15  20171121.0  193.27           1105.53  \n2         NaN   145.45           0         NaN    0.00            145.45  \n\n[3 rows x 65 columns]",
      "text/html": "<div>\n<style scoped>\n    .dataframe tbody tr th:only-of-type {\n        vertical-align: middle;\n    }\n\n    .dataframe tbody tr th {\n        vertical-align: top;\n    }\n\n    .dataframe thead th {\n        text-align: right;\n    }\n</style>\n<table border=\"1\" class=\"dataframe\">\n  <thead>\n    <tr style=\"text-align: right;\">\n      <th></th>\n      <th>archArea</th>\n      <th>atchBldArea</th>\n      <th>atchBldCnt</th>\n      <th>bcRat</th>\n      <th>bjdongCd</th>\n      <th>bldNm</th>\n      <th>block</th>\n      <th>bun</th>\n      <th>bylotCnt</th>\n      <th>crtnDay</th>\n      <th>...</th>\n      <th>regstrKindCdNm</th>\n      <th>rnum</th>\n      <th>sigunguCd</th>\n      <th>splotNm</th>\n      <th>stcnsDay</th>\n      <th>totArea</th>\n      <th>totPkngCnt</th>\n      <th>useAprDay</th>\n      <th>vlRat</th>\n      <th>vlRatEstmTotArea</th>\n    </tr>\n  </thead>\n  <tbody>\n    <tr>\n      <th>0</th>\n      <td>132.24</td>\n      <td>0.0</td>\n      <td>0</td>\n      <td>0.00</td>\n      <td>10200</td>\n      <td>NaN</td>\n      <td>NaN</td>\n      <td>39</td>\n      <td>0</td>\n      <td>20210112</td>\n      <td>...</td>\n      <td>총괄표제부</td>\n      <td>1</td>\n      <td>11470</td>\n      <td>NaN</td>\n      <td>NaN</td>\n      <td>132.24</td>\n      <td>0</td>\n      <td>NaN</td>\n      <td>0.00</td>\n      <td>132.24</td>\n    </tr>\n    <tr>\n      <th>1</th>\n      <td>304.14</td>\n      <td>0.0</td>\n      <td>0</td>\n      <td>53.17</td>\n      <td>10200</td>\n      <td>동양부로빌</td>\n      <td>NaN</td>\n      <td>42</td>\n      <td>0</td>\n      <td>20180914</td>\n      <td>...</td>\n      <td>총괄표제부</td>\n      <td>2</td>\n      <td>11470</td>\n      <td>NaN</td>\n      <td>20170112.0</td>\n      <td>1601.15</td>\n      <td>15</td>\n      <td>20171121.0</td>\n      <td>193.27</td>\n      <td>1105.53</td>\n    </tr>\n    <tr>\n      <th>2</th>\n      <td>145.45</td>\n      <td>0.0</td>\n      <td>0</td>\n      <td>0.00</td>\n      <td>10200</td>\n      <td>NaN</td>\n      <td>NaN</td>\n      <td>92</td>\n      <td>0</td>\n      <td>20210112</td>\n      <td>...</td>\n      <td>총괄표제부</td>\n      <td>3</td>\n      <td>11470</td>\n      <td>NaN</td>\n      <td>NaN</td>\n      <td>145.45</td>\n      <td>0</td>\n      <td>NaN</td>\n      <td>0.00</td>\n      <td>145.45</td>\n    </tr>\n  </tbody>\n</table>\n<p>3 rows × 65 columns</p>\n</div>"
     },
     "execution_count": 65,
     "metadata": {},
     "output_type": "execute_result"
    }
   ],
   "source": [
    "morit_bldrgst_total_title = pd.read_csv(\"data/서울특별시_양천구_건출물대장_총괄표제부.csv\")\n",
    "morit_bldrgst_total_title.head(3)"
   ],
   "metadata": {
    "collapsed": false,
    "pycharm": {
     "name": "#%%\n"
    }
   }
  },
  {
   "cell_type": "code",
   "execution_count": 66,
   "outputs": [
    {
     "data": {
      "text/plain": "190"
     },
     "execution_count": 66,
     "metadata": {},
     "output_type": "execute_result"
    }
   ],
   "source": [
    "morit_bldrgst_total_title.to_sql('morit_bldrgst_total_title', engine, schema=\"aresa\", index=False, if_exists='replace', chunksize=1000)"
   ],
   "metadata": {
    "collapsed": false,
    "pycharm": {
     "name": "#%%\n"
    }
   }
  },
  {
   "cell_type": "markdown",
   "source": [
    "### 9.국토교통부_건축물대장_층별개요\n",
    "- morit_bldrgst_floor"
   ],
   "metadata": {
    "collapsed": false,
    "pycharm": {
     "name": "#%% md\n"
    }
   }
  },
  {
   "cell_type": "code",
   "execution_count": 67,
   "outputs": [
    {
     "name": "stderr",
     "output_type": "stream",
     "text": [
      "/var/folders/0k/7tntyv9n1_df_4tn17vrg3400000gn/T/ipykernel_15792/1232423187.py:1: DtypeWarning: Columns (31) have mixed types. Specify dtype option on import or set low_memory=False.\n",
      "  morit_bldrgst_floor = pd.read_csv(\"data/서울특별시_양천구_건출물대장_층별개요.csv\")\n"
     ]
    },
    {
     "data": {
      "text/plain": "    area  areaExctYn  bjdongCd bldNm  block  bun   crtnDay dongNm etcPurps  \\\n0   3.31         NaN     10200   NaN    NaN    1  20200427    NaN       주택   \n1  79.67         NaN     10200   NaN    NaN    1  20200427    NaN       주택   \n2  79.67         NaN     10200   NaN    NaN    1  20200427    NaN       주택   \n\n  etcStrct  ...  naSubBun naUgrndCd  newPlatPlc platGbCd             platPlc  \\\n0      연와조  ...       0.0         0         NaN        0  서울특별시 양천구 목동 1-3번지   \n1      연와조  ...       0.0         0         NaN        0  서울특별시 양천구 목동 1-3번지   \n2      연와조  ...       0.0         0         NaN        0  서울특별시 양천구 목동 1-3번지   \n\n   rnum  sigunguCd splotNm strctCd strctCdNm  \n0     1      11470     NaN    11.0      벽돌구조  \n1     2      11470     NaN    11.0      벽돌구조  \n2     3      11470     NaN    11.0      벽돌구조  \n\n[3 rows x 34 columns]",
      "text/html": "<div>\n<style scoped>\n    .dataframe tbody tr th:only-of-type {\n        vertical-align: middle;\n    }\n\n    .dataframe tbody tr th {\n        vertical-align: top;\n    }\n\n    .dataframe thead th {\n        text-align: right;\n    }\n</style>\n<table border=\"1\" class=\"dataframe\">\n  <thead>\n    <tr style=\"text-align: right;\">\n      <th></th>\n      <th>area</th>\n      <th>areaExctYn</th>\n      <th>bjdongCd</th>\n      <th>bldNm</th>\n      <th>block</th>\n      <th>bun</th>\n      <th>crtnDay</th>\n      <th>dongNm</th>\n      <th>etcPurps</th>\n      <th>etcStrct</th>\n      <th>...</th>\n      <th>naSubBun</th>\n      <th>naUgrndCd</th>\n      <th>newPlatPlc</th>\n      <th>platGbCd</th>\n      <th>platPlc</th>\n      <th>rnum</th>\n      <th>sigunguCd</th>\n      <th>splotNm</th>\n      <th>strctCd</th>\n      <th>strctCdNm</th>\n    </tr>\n  </thead>\n  <tbody>\n    <tr>\n      <th>0</th>\n      <td>3.31</td>\n      <td>NaN</td>\n      <td>10200</td>\n      <td>NaN</td>\n      <td>NaN</td>\n      <td>1</td>\n      <td>20200427</td>\n      <td>NaN</td>\n      <td>주택</td>\n      <td>연와조</td>\n      <td>...</td>\n      <td>0.0</td>\n      <td>0</td>\n      <td>NaN</td>\n      <td>0</td>\n      <td>서울특별시 양천구 목동 1-3번지</td>\n      <td>1</td>\n      <td>11470</td>\n      <td>NaN</td>\n      <td>11.0</td>\n      <td>벽돌구조</td>\n    </tr>\n    <tr>\n      <th>1</th>\n      <td>79.67</td>\n      <td>NaN</td>\n      <td>10200</td>\n      <td>NaN</td>\n      <td>NaN</td>\n      <td>1</td>\n      <td>20200427</td>\n      <td>NaN</td>\n      <td>주택</td>\n      <td>연와조</td>\n      <td>...</td>\n      <td>0.0</td>\n      <td>0</td>\n      <td>NaN</td>\n      <td>0</td>\n      <td>서울특별시 양천구 목동 1-3번지</td>\n      <td>2</td>\n      <td>11470</td>\n      <td>NaN</td>\n      <td>11.0</td>\n      <td>벽돌구조</td>\n    </tr>\n    <tr>\n      <th>2</th>\n      <td>79.67</td>\n      <td>NaN</td>\n      <td>10200</td>\n      <td>NaN</td>\n      <td>NaN</td>\n      <td>1</td>\n      <td>20200427</td>\n      <td>NaN</td>\n      <td>주택</td>\n      <td>연와조</td>\n      <td>...</td>\n      <td>0.0</td>\n      <td>0</td>\n      <td>NaN</td>\n      <td>0</td>\n      <td>서울특별시 양천구 목동 1-3번지</td>\n      <td>3</td>\n      <td>11470</td>\n      <td>NaN</td>\n      <td>11.0</td>\n      <td>벽돌구조</td>\n    </tr>\n  </tbody>\n</table>\n<p>3 rows × 34 columns</p>\n</div>"
     },
     "execution_count": 67,
     "metadata": {},
     "output_type": "execute_result"
    }
   ],
   "source": [
    "morit_bldrgst_floor = pd.read_csv(\"data/서울특별시_양천구_건출물대장_층별개요.csv\")\n",
    "morit_bldrgst_floor.head(3)"
   ],
   "metadata": {
    "collapsed": false,
    "pycharm": {
     "name": "#%%\n"
    }
   }
  },
  {
   "cell_type": "code",
   "execution_count": 68,
   "outputs": [
    {
     "data": {
      "text/plain": "31316"
     },
     "execution_count": 68,
     "metadata": {},
     "output_type": "execute_result"
    }
   ],
   "source": [
    "morit_bldrgst_floor.to_sql('morit_bldrgst_floor', engine, schema=\"aresa\", index=False, if_exists='replace', chunksize=1000)"
   ],
   "metadata": {
    "collapsed": false,
    "pycharm": {
     "name": "#%%\n"
    }
   }
  },
  {
   "cell_type": "markdown",
   "source": [
    "### 10.국토교통부_건축물대장_전유부\n",
    "- morit_bldrgst_expos"
   ],
   "metadata": {
    "collapsed": false,
    "pycharm": {
     "name": "#%% md\n"
    }
   }
  },
  {
   "cell_type": "code",
   "execution_count": 69,
   "outputs": [
    {
     "name": "stderr",
     "output_type": "stream",
     "text": [
      "/var/folders/0k/7tntyv9n1_df_4tn17vrg3400000gn/T/ipykernel_15792/3760462401.py:1: DtypeWarning: Columns (27) have mixed types. Specify dtype option on import or set low_memory=False.\n",
      "  morit_bldrgst_expos = pd.read_csv(\"data/서울특별시_양천구_건출물대장_전유부.csv\")\n"
     ]
    },
    {
     "data": {
      "text/plain": "   bjdongCd bldNm  block  bun   crtnDay dongNm  flrGbCd flrGbCdNm  flrNo  \\\n0     10200   NaN    NaN   29  20180313    NaN       20        지상    1.0   \n1     10200   NaN    NaN   29  20180313    NaN       20        지상    2.0   \n2     10200   NaN    NaN   29  20180313    NaN       10        지하    1.0   \n\n     hoNm  ...                 newPlatPlc  platGbCd               platPlc  \\\n0  1층102호  ...  서울특별시 양천구 목동중앙북로8길 120-14         0  서울특별시 양천구 목동 29-10번지   \n1  2층202호  ...  서울특별시 양천구 목동중앙북로8길 120-14         0  서울특별시 양천구 목동 29-10번지   \n2  지층101호  ...  서울특별시 양천구 목동중앙북로8길 120-14         0  서울특별시 양천구 목동 29-10번지   \n\n   regstrGbCd  regstrGbCdNm  regstrKindCd  regstrKindCdNm  rnum sigunguCd  \\\n0           2            집합             4             전유부     1     11470   \n1           2            집합             4             전유부     2     11470   \n2           2            집합             4             전유부     3     11470   \n\n   splotNm  \n0      NaN  \n1      NaN  \n2      NaN  \n\n[3 rows x 28 columns]",
      "text/html": "<div>\n<style scoped>\n    .dataframe tbody tr th:only-of-type {\n        vertical-align: middle;\n    }\n\n    .dataframe tbody tr th {\n        vertical-align: top;\n    }\n\n    .dataframe thead th {\n        text-align: right;\n    }\n</style>\n<table border=\"1\" class=\"dataframe\">\n  <thead>\n    <tr style=\"text-align: right;\">\n      <th></th>\n      <th>bjdongCd</th>\n      <th>bldNm</th>\n      <th>block</th>\n      <th>bun</th>\n      <th>crtnDay</th>\n      <th>dongNm</th>\n      <th>flrGbCd</th>\n      <th>flrGbCdNm</th>\n      <th>flrNo</th>\n      <th>hoNm</th>\n      <th>...</th>\n      <th>newPlatPlc</th>\n      <th>platGbCd</th>\n      <th>platPlc</th>\n      <th>regstrGbCd</th>\n      <th>regstrGbCdNm</th>\n      <th>regstrKindCd</th>\n      <th>regstrKindCdNm</th>\n      <th>rnum</th>\n      <th>sigunguCd</th>\n      <th>splotNm</th>\n    </tr>\n  </thead>\n  <tbody>\n    <tr>\n      <th>0</th>\n      <td>10200</td>\n      <td>NaN</td>\n      <td>NaN</td>\n      <td>29</td>\n      <td>20180313</td>\n      <td>NaN</td>\n      <td>20</td>\n      <td>지상</td>\n      <td>1.0</td>\n      <td>1층102호</td>\n      <td>...</td>\n      <td>서울특별시 양천구 목동중앙북로8길 120-14</td>\n      <td>0</td>\n      <td>서울특별시 양천구 목동 29-10번지</td>\n      <td>2</td>\n      <td>집합</td>\n      <td>4</td>\n      <td>전유부</td>\n      <td>1</td>\n      <td>11470</td>\n      <td>NaN</td>\n    </tr>\n    <tr>\n      <th>1</th>\n      <td>10200</td>\n      <td>NaN</td>\n      <td>NaN</td>\n      <td>29</td>\n      <td>20180313</td>\n      <td>NaN</td>\n      <td>20</td>\n      <td>지상</td>\n      <td>2.0</td>\n      <td>2층202호</td>\n      <td>...</td>\n      <td>서울특별시 양천구 목동중앙북로8길 120-14</td>\n      <td>0</td>\n      <td>서울특별시 양천구 목동 29-10번지</td>\n      <td>2</td>\n      <td>집합</td>\n      <td>4</td>\n      <td>전유부</td>\n      <td>2</td>\n      <td>11470</td>\n      <td>NaN</td>\n    </tr>\n    <tr>\n      <th>2</th>\n      <td>10200</td>\n      <td>NaN</td>\n      <td>NaN</td>\n      <td>29</td>\n      <td>20180313</td>\n      <td>NaN</td>\n      <td>10</td>\n      <td>지하</td>\n      <td>1.0</td>\n      <td>지층101호</td>\n      <td>...</td>\n      <td>서울특별시 양천구 목동중앙북로8길 120-14</td>\n      <td>0</td>\n      <td>서울특별시 양천구 목동 29-10번지</td>\n      <td>2</td>\n      <td>집합</td>\n      <td>4</td>\n      <td>전유부</td>\n      <td>3</td>\n      <td>11470</td>\n      <td>NaN</td>\n    </tr>\n  </tbody>\n</table>\n<p>3 rows × 28 columns</p>\n</div>"
     },
     "execution_count": 69,
     "metadata": {},
     "output_type": "execute_result"
    }
   ],
   "source": [
    "morit_bldrgst_expos = pd.read_csv(\"data/서울특별시_양천구_건출물대장_전유부.csv\")\n",
    "morit_bldrgst_expos.head(3)"
   ],
   "metadata": {
    "collapsed": false,
    "pycharm": {
     "name": "#%%\n"
    }
   }
  },
  {
   "cell_type": "code",
   "execution_count": 70,
   "outputs": [
    {
     "data": {
      "text/plain": "53436"
     },
     "execution_count": 70,
     "metadata": {},
     "output_type": "execute_result"
    }
   ],
   "source": [
    "morit_bldrgst_expos.to_sql('morit_bldrgst_expos', engine, schema=\"aresa\", index=False, if_exists='replace', chunksize=1000)"
   ],
   "metadata": {
    "collapsed": false,
    "pycharm": {
     "name": "#%%\n"
    }
   }
  },
  {
   "cell_type": "markdown",
   "source": [
    "### 11.국토교통부_건축물대장_전유공용면적\n",
    "- morit_bldrgst_expos_area"
   ],
   "metadata": {
    "collapsed": false,
    "pycharm": {
     "name": "#%% md\n"
    }
   }
  },
  {
   "cell_type": "code",
   "execution_count": 71,
   "outputs": [
    {
     "name": "stderr",
     "output_type": "stream",
     "text": [
      "/var/folders/0k/7tntyv9n1_df_4tn17vrg3400000gn/T/ipykernel_15792/1708697308.py:1: DtypeWarning: Columns (20,37) have mixed types. Specify dtype option on import or set low_memory=False.\n",
      "  morit_bldrgst_expos_area = pd.read_csv(\"data/서울특별시_양천구_건출물대장_전유공용면적.csv\")\n"
     ]
    },
    {
     "data": {
      "text/plain": "    area  bjdongCd bldNm  block  bun   crtnDay dongNm etcPurps etcStrct  \\\n0  46.14     10200   NaN    NaN   29  20181001    NaN    다세대주택  철근콘크리트조   \n1   4.57     10200   NaN    NaN   29  20181001    NaN      계단실  철근콘크리트조   \n2   6.53     10200   NaN    NaN   29  20181001    NaN      주차장  철근콘크리트조   \n\n   exposPubuseGbCd  ...               platPlc  regstrGbCd regstrGbCdNm  \\\n0                1  ...  서울특별시 양천구 목동 29-10번지           2           집합   \n1                2  ...  서울특별시 양천구 목동 29-10번지           2           집합   \n2                2  ...  서울특별시 양천구 목동 29-10번지           2           집합   \n\n   regstrKindCd regstrKindCdNm rnum  sigunguCd  splotNm  strctCd strctCdNm  \n0             4            전유부    1      11470      NaN       21  철근콘크리트구조  \n1             4            전유부    2      11470      NaN       21  철근콘크리트구조  \n2             4            전유부    3      11470      NaN       21  철근콘크리트구조  \n\n[3 rows x 40 columns]",
      "text/html": "<div>\n<style scoped>\n    .dataframe tbody tr th:only-of-type {\n        vertical-align: middle;\n    }\n\n    .dataframe tbody tr th {\n        vertical-align: top;\n    }\n\n    .dataframe thead th {\n        text-align: right;\n    }\n</style>\n<table border=\"1\" class=\"dataframe\">\n  <thead>\n    <tr style=\"text-align: right;\">\n      <th></th>\n      <th>area</th>\n      <th>bjdongCd</th>\n      <th>bldNm</th>\n      <th>block</th>\n      <th>bun</th>\n      <th>crtnDay</th>\n      <th>dongNm</th>\n      <th>etcPurps</th>\n      <th>etcStrct</th>\n      <th>exposPubuseGbCd</th>\n      <th>...</th>\n      <th>platPlc</th>\n      <th>regstrGbCd</th>\n      <th>regstrGbCdNm</th>\n      <th>regstrKindCd</th>\n      <th>regstrKindCdNm</th>\n      <th>rnum</th>\n      <th>sigunguCd</th>\n      <th>splotNm</th>\n      <th>strctCd</th>\n      <th>strctCdNm</th>\n    </tr>\n  </thead>\n  <tbody>\n    <tr>\n      <th>0</th>\n      <td>46.14</td>\n      <td>10200</td>\n      <td>NaN</td>\n      <td>NaN</td>\n      <td>29</td>\n      <td>20181001</td>\n      <td>NaN</td>\n      <td>다세대주택</td>\n      <td>철근콘크리트조</td>\n      <td>1</td>\n      <td>...</td>\n      <td>서울특별시 양천구 목동 29-10번지</td>\n      <td>2</td>\n      <td>집합</td>\n      <td>4</td>\n      <td>전유부</td>\n      <td>1</td>\n      <td>11470</td>\n      <td>NaN</td>\n      <td>21</td>\n      <td>철근콘크리트구조</td>\n    </tr>\n    <tr>\n      <th>1</th>\n      <td>4.57</td>\n      <td>10200</td>\n      <td>NaN</td>\n      <td>NaN</td>\n      <td>29</td>\n      <td>20181001</td>\n      <td>NaN</td>\n      <td>계단실</td>\n      <td>철근콘크리트조</td>\n      <td>2</td>\n      <td>...</td>\n      <td>서울특별시 양천구 목동 29-10번지</td>\n      <td>2</td>\n      <td>집합</td>\n      <td>4</td>\n      <td>전유부</td>\n      <td>2</td>\n      <td>11470</td>\n      <td>NaN</td>\n      <td>21</td>\n      <td>철근콘크리트구조</td>\n    </tr>\n    <tr>\n      <th>2</th>\n      <td>6.53</td>\n      <td>10200</td>\n      <td>NaN</td>\n      <td>NaN</td>\n      <td>29</td>\n      <td>20181001</td>\n      <td>NaN</td>\n      <td>주차장</td>\n      <td>철근콘크리트조</td>\n      <td>2</td>\n      <td>...</td>\n      <td>서울특별시 양천구 목동 29-10번지</td>\n      <td>2</td>\n      <td>집합</td>\n      <td>4</td>\n      <td>전유부</td>\n      <td>3</td>\n      <td>11470</td>\n      <td>NaN</td>\n      <td>21</td>\n      <td>철근콘크리트구조</td>\n    </tr>\n  </tbody>\n</table>\n<p>3 rows × 40 columns</p>\n</div>"
     },
     "execution_count": 71,
     "metadata": {},
     "output_type": "execute_result"
    }
   ],
   "source": [
    "morit_bldrgst_expos_area = pd.read_csv(\"data/서울특별시_양천구_건출물대장_전유공용면적.csv\")\n",
    "morit_bldrgst_expos_area.head(3)"
   ],
   "metadata": {
    "collapsed": false,
    "pycharm": {
     "name": "#%%\n"
    }
   }
  },
  {
   "cell_type": "code",
   "execution_count": 72,
   "outputs": [
    {
     "data": {
      "text/plain": "298570"
     },
     "execution_count": 72,
     "metadata": {},
     "output_type": "execute_result"
    }
   ],
   "source": [
    "morit_bldrgst_expos_area.to_sql('morit_bldrgst_expos_area', engine, schema=\"aresa\", index=False, if_exists='replace', chunksize=1000)"
   ],
   "metadata": {
    "collapsed": false,
    "pycharm": {
     "name": "#%%\n"
    }
   }
  },
  {
   "cell_type": "markdown",
   "source": [
    "### 12.국토교통부_토지이용계획_속성\n",
    "- morit_landuse_attr"
   ],
   "metadata": {
    "collapsed": false,
    "pycharm": {
     "name": "#%% md\n"
    }
   }
  },
  {
   "cell_type": "code",
   "execution_count": 22,
   "outputs": [
    {
     "data": {
      "text/plain": "                       pnu      ldCode      ldCodeNm  regstrSeCode  \\\n0      1147010200100290009  1147010200  서울특별시 양천구 목동             1   \n1      1147010200100290009  1147010200  서울특별시 양천구 목동             1   \n2      1147010200100290009  1147010200  서울특별시 양천구 목동             1   \n3      1147010200100290009  1147010200  서울특별시 양천구 목동             1   \n4      1147010200100290009  1147010200  서울특별시 양천구 목동             1   \n...                    ...         ...           ...           ...   \n54159  1147010200109660000  1147010200  서울특별시 양천구 목동             1   \n54160  1147010200109660000  1147010200  서울특별시 양천구 목동             1   \n54161  1147010200109660000  1147010200  서울특별시 양천구 목동             1   \n54162  1147010200109660000  1147010200  서울특별시 양천구 목동             1   \n54163  1147010200109660000  1147010200  서울특별시 양천구 목동             1   \n\n      regstrSeCodeNm mnnmSlno                           manageNo  cnflcAt  \\\n0               토지대장     29-9  15000001147000000000UBA1000001001        1   \n1               토지대장     29-9  15000001147000000000UNE2000001001        1   \n2               토지대장     29-9  15000001147000000001UQA01X0001001        1   \n3               토지대장     29-9  15000001147020040004UQA1210001001        1   \n4               토지대장     29-9  31400001147020110001UMZ1000003001        1   \n...              ...      ...                                ...      ...   \n54159           토지대장      966  15000001147000000001UQA01X0001001        1   \n54160           토지대장      966  15000001147019890513UQS1190007000        3   \n54161           토지대장      966  15000001147020040004UQA1220001001        1   \n54162           토지대장      966  31400001147020110001UMZ1000003001        1   \n54163           토지대장      966  61100001147020140086UBP1000001001        1   \n\n      cnflcAtNm prposAreaDstrcCode prposAreaDstrcCodeNm    registDt  \\\n0            포함             UBA100               과밀억제권역  2019-04-02   \n1            포함             UNE200             대공방어협조구역  2019-04-02   \n2            포함             UQA01X                 도시지역  2019-04-02   \n3            포함             UQA121            제1종일반주거지역  2019-04-02   \n4            포함             UMZ100             가축사육제한구역  2019-04-02   \n...         ...                ...                  ...         ...   \n54159        포함             UQA01X                 도시지역  2019-12-17   \n54160        접함             UQS119      중로3류(폭 12m~15m)  2019-12-17   \n54161        포함             UQA122            제2종일반주거지역  2019-12-17   \n54162        포함             UMZ100             가축사육제한구역  2019-12-17   \n54163        포함             UBP100               시장정비구역  2019-12-17   \n\n       lastUpdtDt  \n0      2022-09-19  \n1      2022-09-19  \n2      2022-09-19  \n3      2022-09-19  \n4      2022-09-19  \n...           ...  \n54159  2022-09-19  \n54160  2022-09-19  \n54161  2022-09-19  \n54162  2022-09-19  \n54163  2022-09-19  \n\n[54164 rows x 13 columns]",
      "text/html": "<div>\n<style scoped>\n    .dataframe tbody tr th:only-of-type {\n        vertical-align: middle;\n    }\n\n    .dataframe tbody tr th {\n        vertical-align: top;\n    }\n\n    .dataframe thead th {\n        text-align: right;\n    }\n</style>\n<table border=\"1\" class=\"dataframe\">\n  <thead>\n    <tr style=\"text-align: right;\">\n      <th></th>\n      <th>pnu</th>\n      <th>ldCode</th>\n      <th>ldCodeNm</th>\n      <th>regstrSeCode</th>\n      <th>regstrSeCodeNm</th>\n      <th>mnnmSlno</th>\n      <th>manageNo</th>\n      <th>cnflcAt</th>\n      <th>cnflcAtNm</th>\n      <th>prposAreaDstrcCode</th>\n      <th>prposAreaDstrcCodeNm</th>\n      <th>registDt</th>\n      <th>lastUpdtDt</th>\n    </tr>\n  </thead>\n  <tbody>\n    <tr>\n      <th>0</th>\n      <td>1147010200100290009</td>\n      <td>1147010200</td>\n      <td>서울특별시 양천구 목동</td>\n      <td>1</td>\n      <td>토지대장</td>\n      <td>29-9</td>\n      <td>15000001147000000000UBA1000001001</td>\n      <td>1</td>\n      <td>포함</td>\n      <td>UBA100</td>\n      <td>과밀억제권역</td>\n      <td>2019-04-02</td>\n      <td>2022-09-19</td>\n    </tr>\n    <tr>\n      <th>1</th>\n      <td>1147010200100290009</td>\n      <td>1147010200</td>\n      <td>서울특별시 양천구 목동</td>\n      <td>1</td>\n      <td>토지대장</td>\n      <td>29-9</td>\n      <td>15000001147000000000UNE2000001001</td>\n      <td>1</td>\n      <td>포함</td>\n      <td>UNE200</td>\n      <td>대공방어협조구역</td>\n      <td>2019-04-02</td>\n      <td>2022-09-19</td>\n    </tr>\n    <tr>\n      <th>2</th>\n      <td>1147010200100290009</td>\n      <td>1147010200</td>\n      <td>서울특별시 양천구 목동</td>\n      <td>1</td>\n      <td>토지대장</td>\n      <td>29-9</td>\n      <td>15000001147000000001UQA01X0001001</td>\n      <td>1</td>\n      <td>포함</td>\n      <td>UQA01X</td>\n      <td>도시지역</td>\n      <td>2019-04-02</td>\n      <td>2022-09-19</td>\n    </tr>\n    <tr>\n      <th>3</th>\n      <td>1147010200100290009</td>\n      <td>1147010200</td>\n      <td>서울특별시 양천구 목동</td>\n      <td>1</td>\n      <td>토지대장</td>\n      <td>29-9</td>\n      <td>15000001147020040004UQA1210001001</td>\n      <td>1</td>\n      <td>포함</td>\n      <td>UQA121</td>\n      <td>제1종일반주거지역</td>\n      <td>2019-04-02</td>\n      <td>2022-09-19</td>\n    </tr>\n    <tr>\n      <th>4</th>\n      <td>1147010200100290009</td>\n      <td>1147010200</td>\n      <td>서울특별시 양천구 목동</td>\n      <td>1</td>\n      <td>토지대장</td>\n      <td>29-9</td>\n      <td>31400001147020110001UMZ1000003001</td>\n      <td>1</td>\n      <td>포함</td>\n      <td>UMZ100</td>\n      <td>가축사육제한구역</td>\n      <td>2019-04-02</td>\n      <td>2022-09-19</td>\n    </tr>\n    <tr>\n      <th>...</th>\n      <td>...</td>\n      <td>...</td>\n      <td>...</td>\n      <td>...</td>\n      <td>...</td>\n      <td>...</td>\n      <td>...</td>\n      <td>...</td>\n      <td>...</td>\n      <td>...</td>\n      <td>...</td>\n      <td>...</td>\n      <td>...</td>\n    </tr>\n    <tr>\n      <th>54159</th>\n      <td>1147010200109660000</td>\n      <td>1147010200</td>\n      <td>서울특별시 양천구 목동</td>\n      <td>1</td>\n      <td>토지대장</td>\n      <td>966</td>\n      <td>15000001147000000001UQA01X0001001</td>\n      <td>1</td>\n      <td>포함</td>\n      <td>UQA01X</td>\n      <td>도시지역</td>\n      <td>2019-12-17</td>\n      <td>2022-09-19</td>\n    </tr>\n    <tr>\n      <th>54160</th>\n      <td>1147010200109660000</td>\n      <td>1147010200</td>\n      <td>서울특별시 양천구 목동</td>\n      <td>1</td>\n      <td>토지대장</td>\n      <td>966</td>\n      <td>15000001147019890513UQS1190007000</td>\n      <td>3</td>\n      <td>접함</td>\n      <td>UQS119</td>\n      <td>중로3류(폭 12m~15m)</td>\n      <td>2019-12-17</td>\n      <td>2022-09-19</td>\n    </tr>\n    <tr>\n      <th>54161</th>\n      <td>1147010200109660000</td>\n      <td>1147010200</td>\n      <td>서울특별시 양천구 목동</td>\n      <td>1</td>\n      <td>토지대장</td>\n      <td>966</td>\n      <td>15000001147020040004UQA1220001001</td>\n      <td>1</td>\n      <td>포함</td>\n      <td>UQA122</td>\n      <td>제2종일반주거지역</td>\n      <td>2019-12-17</td>\n      <td>2022-09-19</td>\n    </tr>\n    <tr>\n      <th>54162</th>\n      <td>1147010200109660000</td>\n      <td>1147010200</td>\n      <td>서울특별시 양천구 목동</td>\n      <td>1</td>\n      <td>토지대장</td>\n      <td>966</td>\n      <td>31400001147020110001UMZ1000003001</td>\n      <td>1</td>\n      <td>포함</td>\n      <td>UMZ100</td>\n      <td>가축사육제한구역</td>\n      <td>2019-12-17</td>\n      <td>2022-09-19</td>\n    </tr>\n    <tr>\n      <th>54163</th>\n      <td>1147010200109660000</td>\n      <td>1147010200</td>\n      <td>서울특별시 양천구 목동</td>\n      <td>1</td>\n      <td>토지대장</td>\n      <td>966</td>\n      <td>61100001147020140086UBP1000001001</td>\n      <td>1</td>\n      <td>포함</td>\n      <td>UBP100</td>\n      <td>시장정비구역</td>\n      <td>2019-12-17</td>\n      <td>2022-09-19</td>\n    </tr>\n  </tbody>\n</table>\n<p>54164 rows × 13 columns</p>\n</div>"
     },
     "execution_count": 22,
     "metadata": {},
     "output_type": "execute_result"
    }
   ],
   "source": [
    "molit_landuse_attr = pd.read_csv(\"data/서울특별시_양천구_토지이용계획_속성.csv\")\n",
    "molit_landuse_attr.head(3)\n",
    "molit_landuse_attr"
   ],
   "metadata": {
    "collapsed": false,
    "pycharm": {
     "name": "#%%\n"
    }
   }
  },
  {
   "cell_type": "code",
   "execution_count": 23,
   "outputs": [
    {
     "data": {
      "text/plain": "54164"
     },
     "execution_count": 23,
     "metadata": {},
     "output_type": "execute_result"
    }
   ],
   "source": [
    "molit_landuse_attr.to_sql('molit_landuse_attr', engine, schema=\"aresa\", index=False, if_exists='replace', chunksize=1000)"
   ],
   "metadata": {
    "collapsed": false,
    "pycharm": {
     "name": "#%%\n"
    }
   }
  },
  {
   "cell_type": "markdown",
   "source": [
    "### 13.국토교통부_공시지가_속성\n",
    "- molit_landprice_attr"
   ],
   "metadata": {
    "collapsed": false,
    "pycharm": {
     "name": "#%% md\n"
    }
   }
  },
  {
   "cell_type": "code",
   "execution_count": 39,
   "outputs": [
    {
     "data": {
      "text/plain": "                   pnu      ldCode      ldCodeNm  regstrSeCode regstrSeCodeNm  \\\n0  1147010200100290009  1147010200  서울특별시 양천구 목동             1             일반   \n1  1147010200100290010  1147010200  서울특별시 양천구 목동             1             일반   \n2  1147010200100290030  1147010200  서울특별시 양천구 목동             1             일반   \n\n  mnnmSlno  stdrYear  stdrMt  pblntfPclnd    pblntfDe stdLandAt  lastUpdtDt  \n0     29-9      2010       1      1290000  2010-05-31         N  2019-07-29  \n1    29-10      2010       1      1850000  2010-05-31         N  2019-07-29  \n2    29-30      2010       1      1780000  2010-05-31         N  2019-07-29  ",
      "text/html": "<div>\n<style scoped>\n    .dataframe tbody tr th:only-of-type {\n        vertical-align: middle;\n    }\n\n    .dataframe tbody tr th {\n        vertical-align: top;\n    }\n\n    .dataframe thead th {\n        text-align: right;\n    }\n</style>\n<table border=\"1\" class=\"dataframe\">\n  <thead>\n    <tr style=\"text-align: right;\">\n      <th></th>\n      <th>pnu</th>\n      <th>ldCode</th>\n      <th>ldCodeNm</th>\n      <th>regstrSeCode</th>\n      <th>regstrSeCodeNm</th>\n      <th>mnnmSlno</th>\n      <th>stdrYear</th>\n      <th>stdrMt</th>\n      <th>pblntfPclnd</th>\n      <th>pblntfDe</th>\n      <th>stdLandAt</th>\n      <th>lastUpdtDt</th>\n    </tr>\n  </thead>\n  <tbody>\n    <tr>\n      <th>0</th>\n      <td>1147010200100290009</td>\n      <td>1147010200</td>\n      <td>서울특별시 양천구 목동</td>\n      <td>1</td>\n      <td>일반</td>\n      <td>29-9</td>\n      <td>2010</td>\n      <td>1</td>\n      <td>1290000</td>\n      <td>2010-05-31</td>\n      <td>N</td>\n      <td>2019-07-29</td>\n    </tr>\n    <tr>\n      <th>1</th>\n      <td>1147010200100290010</td>\n      <td>1147010200</td>\n      <td>서울특별시 양천구 목동</td>\n      <td>1</td>\n      <td>일반</td>\n      <td>29-10</td>\n      <td>2010</td>\n      <td>1</td>\n      <td>1850000</td>\n      <td>2010-05-31</td>\n      <td>N</td>\n      <td>2019-07-29</td>\n    </tr>\n    <tr>\n      <th>2</th>\n      <td>1147010200100290030</td>\n      <td>1147010200</td>\n      <td>서울특별시 양천구 목동</td>\n      <td>1</td>\n      <td>일반</td>\n      <td>29-30</td>\n      <td>2010</td>\n      <td>1</td>\n      <td>1780000</td>\n      <td>2010-05-31</td>\n      <td>N</td>\n      <td>2019-07-29</td>\n    </tr>\n  </tbody>\n</table>\n</div>"
     },
     "execution_count": 39,
     "metadata": {},
     "output_type": "execute_result"
    }
   ],
   "source": [
    "molit_landprice_attr = pd.read_csv(\"data/서울특별시_양천구_공시지가_속성.csv\")\n",
    "molit_landprice_attr.head(3)"
   ],
   "metadata": {
    "collapsed": false,
    "pycharm": {
     "name": "#%%\n"
    }
   }
  },
  {
   "cell_type": "code",
   "execution_count": 40,
   "outputs": [
    {
     "data": {
      "text/plain": "84660"
     },
     "execution_count": 40,
     "metadata": {},
     "output_type": "execute_result"
    }
   ],
   "source": [
    "molit_landprice_attr.to_sql('molit_landprice_attr', engine, schema=\"aresa\", index=False, if_exists='replace', chunksize=1000)"
   ],
   "metadata": {
    "collapsed": false,
    "pycharm": {
     "name": "#%%\n"
    }
   }
  },
  {
   "cell_type": "code",
   "execution_count": null,
   "outputs": [],
   "source": [],
   "metadata": {
    "collapsed": false,
    "pycharm": {
     "name": "#%%\n"
    }
   }
  }
 ],
 "metadata": {
  "kernelspec": {
   "display_name": "Python 3",
   "language": "python",
   "name": "python3"
  },
  "language_info": {
   "codemirror_mode": {
    "name": "ipython",
    "version": 2
   },
   "file_extension": ".py",
   "mimetype": "text/x-python",
   "name": "python",
   "nbconvert_exporter": "python",
   "pygments_lexer": "ipython2",
   "version": "2.7.6"
  }
 },
 "nbformat": 4,
 "nbformat_minor": 0
}