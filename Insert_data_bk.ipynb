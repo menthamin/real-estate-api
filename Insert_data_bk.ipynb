{
 "cells": [
  {
   "cell_type": "code",
   "execution_count": 1,
   "outputs": [],
   "source": [
    "import os\n",
    "import pymysql\n",
    "from tqdm import tqdm\n",
    "from dotenv import load_dotenv\n",
    "\n",
    "pymysql.install_as_MySQLdb()"
   ],
   "metadata": {
    "collapsed": false,
    "pycharm": {
     "name": "#%%\n"
    }
   }
  },
  {
   "cell_type": "markdown",
   "source": [
    "## Connect DB"
   ],
   "metadata": {
    "collapsed": false,
    "pycharm": {
     "name": "#%% md\n"
    }
   }
  },
  {
   "cell_type": "code",
   "execution_count": 2,
   "outputs": [],
   "source": [
    "load_dotenv()\n",
    "ENDPOINT = os.environ.get(\"dev_db_endpoint\")\n",
    "USER = os.environ.get(\"dev_db_user\")\n",
    "PASSWORD = os.environ.get(\"dev_db_password\")"
   ],
   "metadata": {
    "collapsed": false,
    "pycharm": {
     "name": "#%%\n"
    }
   }
  },
  {
   "cell_type": "code",
   "execution_count": 3,
   "outputs": [],
   "source": [
    "conn = pymysql.connect(\n",
    "    host=ENDPOINT,\n",
    "    user=USER,\n",
    "    password=PASSWORD,\n",
    "    database=\"aresa\",\n",
    "    port=3306\n",
    ")"
   ],
   "metadata": {
    "collapsed": false,
    "pycharm": {
     "name": "#%%\n"
    }
   }
  },
  {
   "cell_type": "code",
   "execution_count": 4,
   "outputs": [],
   "source": [
    "cur = conn.cursor()"
   ],
   "metadata": {
    "collapsed": false,
    "pycharm": {
     "name": "#%%\n"
    }
   }
  },
  {
   "cell_type": "markdown",
   "source": [],
   "metadata": {
    "collapsed": false,
    "pycharm": {
     "name": "#%% md\n"
    }
   }
  },
  {
   "cell_type": "code",
   "execution_count": 5,
   "outputs": [],
   "source": [
    "from sqlalchemy import create_engine\n",
    "import sqlalchemy"
   ],
   "metadata": {
    "collapsed": false,
    "pycharm": {
     "name": "#%%\n"
    }
   }
  },
  {
   "cell_type": "code",
   "execution_count": 11,
   "outputs": [],
   "source": [
    "engine = create_engine(f\"mysql+mysqldb://{USER}:{PASSWORD}@{ENDPOINT}:3306/aresa\")\n",
    "# http://i5on9i.blogspot.com/2020/05/no-module-named-mysqldb.html"
   ],
   "metadata": {
    "collapsed": false,
    "pycharm": {
     "name": "#%%\n"
    }
   }
  },
  {
   "cell_type": "markdown",
   "source": [
    "## Insert Data"
   ],
   "metadata": {
    "collapsed": false,
    "pycharm": {
     "name": "#%% md\n"
    }
   }
  },
  {
   "cell_type": "code",
   "execution_count": 12,
   "outputs": [],
   "source": [
    "import pandas as pd"
   ],
   "metadata": {
    "collapsed": false,
    "pycharm": {
     "name": "#%%\n"
    }
   }
  },
  {
   "cell_type": "code",
   "execution_count": 24,
   "outputs": [
    {
     "name": "stderr",
     "output_type": "stream",
     "text": [
      "22it [00:01, 14.71it/s]\n"
     ]
    }
   ],
   "source": [
    "collect_df = pd.read_csv(\"config/한국은행_수집_리스트.csv\")\n",
    "df_all = pd.DataFrame()\n",
    "\n",
    "for row in tqdm(collect_df.itertuples()):\n",
    "    data_nm = row.data_nm\n",
    "    code = row.code.lower()\n",
    "    cycle = row.cycle.lower()\n",
    "    search_start = row.search_start\n",
    "    search_end = row.search_end\n",
    "\n",
    "    df = pd.read_csv(f\"data/한국은행/{data_nm}_{code}_{cycle}_{search_start}_{search_end}.csv\")\n",
    "    df[\"cycle\"] = cycle\n",
    "\n",
    "    df_all = pd.concat([df_all, df])\n",
    "\n",
    "    # df.to_sql(f'bok_{code}_{cycle}', engine, schema=\"aresa\", index=False, if_exists='replace', chunksize=1000)"
   ],
   "metadata": {
    "collapsed": false,
    "pycharm": {
     "name": "#%%\n"
    }
   }
  },
  {
   "cell_type": "code",
   "execution_count": 25,
   "outputs": [],
   "source": [
    "df_all.columns = [column.lower() for column in df_all.columns]"
   ],
   "metadata": {
    "collapsed": false,
    "pycharm": {
     "name": "#%%\n"
    }
   }
  },
  {
   "cell_type": "code",
   "execution_count": 26,
   "outputs": [
    {
     "name": "stdout",
     "output_type": "stream",
     "text": [
      "<class 'pandas.core.frame.DataFrame'>\n",
      "Int64Index: 664630 entries, 0 to 10385\n",
      "Data columns (total 14 columns):\n",
      " #   Column      Non-Null Count   Dtype  \n",
      "---  ------      --------------   -----  \n",
      " 0   stat_code   664630 non-null  object \n",
      " 1   stat_name   664630 non-null  object \n",
      " 2   item_code1  664630 non-null  object \n",
      " 3   item_name1  664630 non-null  object \n",
      " 4   item_code2  18330 non-null   object \n",
      " 5   item_name2  18330 non-null   object \n",
      " 6   item_code3  3456 non-null    float64\n",
      " 7   item_name3  3456 non-null    object \n",
      " 8   item_code4  0 non-null       float64\n",
      " 9   item_name4  0 non-null       float64\n",
      " 10  unit_name   661174 non-null  object \n",
      " 11  time        664630 non-null  object \n",
      " 12  data_value  664519 non-null  float64\n",
      " 13  cycle       664630 non-null  object \n",
      "dtypes: float64(4), object(10)\n",
      "memory usage: 76.1+ MB\n"
     ]
    },
    {
     "data": {
      "text/plain": "  stat_code         stat_name item_code1 item_name1 item_code2 item_name2  \\\n0   802Y001  1.5.1.1. 주식시장(일)       1000    KOSPI지수        NaN        NaN   \n1   802Y001  1.5.1.1. 주식시장(일)       1000    KOSPI지수        NaN        NaN   \n2   802Y001  1.5.1.1. 주식시장(일)       1000    KOSPI지수        NaN        NaN   \n3   802Y001  1.5.1.1. 주식시장(일)       1000    KOSPI지수        NaN        NaN   \n4   802Y001  1.5.1.1. 주식시장(일)       1000    KOSPI지수        NaN        NaN   \n\n   item_code3 item_name3  item_code4  item_name4        unit_name      time  \\\n0         NaN        NaN         NaN         NaN  1980.01.04=100   19950103   \n1         NaN        NaN         NaN         NaN  1980.01.04=100   19950104   \n2         NaN        NaN         NaN         NaN  1980.01.04=100   19950105   \n3         NaN        NaN         NaN         NaN  1980.01.04=100   19950106   \n4         NaN        NaN         NaN         NaN  1980.01.04=100   19950107   \n\n   data_value cycle  \n0     1013.57     d  \n1      997.01     d  \n2      976.06     d  \n3      975.32     d  \n4      988.80     d  ",
      "text/html": "<div>\n<style scoped>\n    .dataframe tbody tr th:only-of-type {\n        vertical-align: middle;\n    }\n\n    .dataframe tbody tr th {\n        vertical-align: top;\n    }\n\n    .dataframe thead th {\n        text-align: right;\n    }\n</style>\n<table border=\"1\" class=\"dataframe\">\n  <thead>\n    <tr style=\"text-align: right;\">\n      <th></th>\n      <th>stat_code</th>\n      <th>stat_name</th>\n      <th>item_code1</th>\n      <th>item_name1</th>\n      <th>item_code2</th>\n      <th>item_name2</th>\n      <th>item_code3</th>\n      <th>item_name3</th>\n      <th>item_code4</th>\n      <th>item_name4</th>\n      <th>unit_name</th>\n      <th>time</th>\n      <th>data_value</th>\n      <th>cycle</th>\n    </tr>\n  </thead>\n  <tbody>\n    <tr>\n      <th>0</th>\n      <td>802Y001</td>\n      <td>1.5.1.1. 주식시장(일)</td>\n      <td>1000</td>\n      <td>KOSPI지수</td>\n      <td>NaN</td>\n      <td>NaN</td>\n      <td>NaN</td>\n      <td>NaN</td>\n      <td>NaN</td>\n      <td>NaN</td>\n      <td>1980.01.04=100</td>\n      <td>19950103</td>\n      <td>1013.57</td>\n      <td>d</td>\n    </tr>\n    <tr>\n      <th>1</th>\n      <td>802Y001</td>\n      <td>1.5.1.1. 주식시장(일)</td>\n      <td>1000</td>\n      <td>KOSPI지수</td>\n      <td>NaN</td>\n      <td>NaN</td>\n      <td>NaN</td>\n      <td>NaN</td>\n      <td>NaN</td>\n      <td>NaN</td>\n      <td>1980.01.04=100</td>\n      <td>19950104</td>\n      <td>997.01</td>\n      <td>d</td>\n    </tr>\n    <tr>\n      <th>2</th>\n      <td>802Y001</td>\n      <td>1.5.1.1. 주식시장(일)</td>\n      <td>1000</td>\n      <td>KOSPI지수</td>\n      <td>NaN</td>\n      <td>NaN</td>\n      <td>NaN</td>\n      <td>NaN</td>\n      <td>NaN</td>\n      <td>NaN</td>\n      <td>1980.01.04=100</td>\n      <td>19950105</td>\n      <td>976.06</td>\n      <td>d</td>\n    </tr>\n    <tr>\n      <th>3</th>\n      <td>802Y001</td>\n      <td>1.5.1.1. 주식시장(일)</td>\n      <td>1000</td>\n      <td>KOSPI지수</td>\n      <td>NaN</td>\n      <td>NaN</td>\n      <td>NaN</td>\n      <td>NaN</td>\n      <td>NaN</td>\n      <td>NaN</td>\n      <td>1980.01.04=100</td>\n      <td>19950106</td>\n      <td>975.32</td>\n      <td>d</td>\n    </tr>\n    <tr>\n      <th>4</th>\n      <td>802Y001</td>\n      <td>1.5.1.1. 주식시장(일)</td>\n      <td>1000</td>\n      <td>KOSPI지수</td>\n      <td>NaN</td>\n      <td>NaN</td>\n      <td>NaN</td>\n      <td>NaN</td>\n      <td>NaN</td>\n      <td>NaN</td>\n      <td>1980.01.04=100</td>\n      <td>19950107</td>\n      <td>988.80</td>\n      <td>d</td>\n    </tr>\n  </tbody>\n</table>\n</div>"
     },
     "execution_count": 26,
     "metadata": {},
     "output_type": "execute_result"
    }
   ],
   "source": [
    "df_all.info()\n",
    "df_all.head()"
   ],
   "metadata": {
    "collapsed": false,
    "pycharm": {
     "name": "#%%\n"
    }
   }
  },
  {
   "cell_type": "code",
   "execution_count": 27,
   "outputs": [
    {
     "data": {
      "text/plain": "664630"
     },
     "execution_count": 27,
     "metadata": {},
     "output_type": "execute_result"
    }
   ],
   "source": [
    "df_all.to_sql('bok_all_rawdata', engine, schema=\"aresa\", index=False, if_exists='replace', chunksize=100000)"
   ],
   "metadata": {
    "collapsed": false,
    "pycharm": {
     "name": "#%%\n"
    }
   }
  }
 ],
 "metadata": {
  "kernelspec": {
   "display_name": "Python 3",
   "language": "python",
   "name": "python3"
  },
  "language_info": {
   "codemirror_mode": {
    "name": "ipython",
    "version": 2
   },
   "file_extension": ".py",
   "mimetype": "text/x-python",
   "name": "python",
   "nbconvert_exporter": "python",
   "pygments_lexer": "ipython2",
   "version": "2.7.6"
  }
 },
 "nbformat": 4,
 "nbformat_minor": 0
}