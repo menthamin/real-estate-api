{
 "cells": [
  {
   "cell_type": "code",
   "execution_count": 1,
   "outputs": [],
   "source": [
    "\"\"\"국토교통부 건축물대장 기본정보\n",
    "- 링크: https://www.data.go.kr/data/15044713/openapi.do\n",
    "\"\"\"\n",
    "from dotenv import load_dotenv\n",
    "import os\n",
    "import requests\n",
    "import pandas as pd\n",
    "import io\n",
    "import xmltodict\n",
    "import json\n",
    "from tqdm import tqdm_notebook\n",
    "\n",
    "# import xml.etree.ElementTree as et\n",
    "\n",
    "\n",
    "# load .env\n",
    "load_dotenv()\n",
    "getRTMSDataSvcAptTradeDev_en = os.environ.get(\"getRTMSDataSvcAptTradeDev_en\")\n",
    "getRTMSDataSvcAptTradeDev_de = os.environ.get(\"pubkey_de\")"
   ],
   "metadata": {
    "collapsed": false,
    "pycharm": {
     "name": "#%%\n"
    }
   }
  },
  {
   "cell_type": "markdown",
   "source": [],
   "metadata": {
    "collapsed": false,
    "pycharm": {
     "name": "#%% md\n"
    }
   }
  },
  {
   "cell_type": "code",
   "execution_count": 9,
   "outputs": [],
   "source": [
    "SIGUNGU_CODE = 11470\n",
    "B_CODE = 10200"
   ],
   "metadata": {
    "collapsed": false,
    "pycharm": {
     "name": "#%%\n"
    }
   }
  },
  {
   "cell_type": "code",
   "execution_count": 10,
   "outputs": [],
   "source": [
    "url = \"http://apis.data.go.kr/1613000/BldRgstService_v2/getBrBasisOulnInfo\""
   ],
   "metadata": {
    "collapsed": false,
    "pycharm": {
     "name": "#%%\n"
    }
   }
  },
  {
   "cell_type": "code",
   "execution_count": 15,
   "outputs": [],
   "source": [
    "# params = {\n",
    "#     \"serviceKey\": getRTMSDataSvcAptTradeDev_de,\n",
    "#     \"sigunguCd\": SIGUNGU_CODE,\n",
    "#     \"bjdongCd\": B_CODE,\n",
    "#     \"platGbCd\": 0,\n",
    "#     \"numOfRows\": 100000,\n",
    "#     \"pageNo\": 1\n",
    "# }\n",
    "#\n",
    "# response = requests.get(url, params=params)\n",
    "# # try:\n",
    "# #     dict_content = xmltodict.parse(response.content)[\"response\"][\"body\"][\"items\"][\"item\"]\n",
    "# #     dict_list.append(dict_content)"
   ],
   "metadata": {
    "collapsed": false,
    "pycharm": {
     "name": "#%%\n"
    }
   }
  },
  {
   "cell_type": "code",
   "execution_count": 16,
   "outputs": [
    {
     "name": "stdout",
     "output_type": "stream",
     "text": [
      "0\n",
      "1\n",
      "2\n",
      "'response'\n",
      "2\n"
     ]
    }
   ],
   "source": [
    "dict_list = []\n",
    "\n",
    "for i in range(3):\n",
    "    print(i)\n",
    "    params = {\n",
    "        \"serviceKey\": getRTMSDataSvcAptTradeDev_de,\n",
    "        \"sigunguCd\": SIGUNGU_CODE,\n",
    "        \"bjdongCd\": B_CODE,\n",
    "        \"platGbCd\": i,\n",
    "        \"numOfRows\": 100000,\n",
    "    }\n",
    "\n",
    "    response = requests.get(url, params=params)\n",
    "    try:\n",
    "        dict_content = xmltodict.parse(response.content)[\"response\"][\"body\"][\"items\"][\"item\"]\n",
    "        dict_list.append(dict_content)\n",
    "    except Exception as e:\n",
    "        print(e)\n",
    "        print(i)\n",
    "# df = pd.DataFrame(dict_content)\n",
    "\n",
    "# df.to_csv(f\"data/서울특별시_양천구_아파트매매/서울특별시_양천구_아파트매매_{month}.csv\",\n",
    "#           encoding=\"utf8\",\n",
    "#           index=False\n",
    "# )"
   ],
   "metadata": {
    "collapsed": false,
    "pycharm": {
     "name": "#%%\n"
    }
   }
  },
  {
   "cell_type": "code",
   "execution_count": 18,
   "outputs": [
    {
     "ename": "IndexError",
     "evalue": "list index out of range",
     "output_type": "error",
     "traceback": [
      "\u001B[0;31m---------------------------------------------------------------------------\u001B[0m",
      "\u001B[0;31mIndexError\u001B[0m                                Traceback (most recent call last)",
      "Input \u001B[0;32mIn [18]\u001B[0m, in \u001B[0;36m<cell line: 3>\u001B[0;34m()\u001B[0m\n\u001B[1;32m      1\u001B[0m dict_list[\u001B[38;5;241m0\u001B[39m]\n\u001B[1;32m      2\u001B[0m dict_list[\u001B[38;5;241m1\u001B[39m]\n\u001B[0;32m----> 3\u001B[0m \u001B[43mdict_list\u001B[49m\u001B[43m[\u001B[49m\u001B[38;5;241;43m2\u001B[39;49m\u001B[43m]\u001B[49m\n",
      "\u001B[0;31mIndexError\u001B[0m: list index out of range"
     ]
    }
   ],
   "source": [
    "dict_list[0]\n",
    "dict_list[1]\n",
    "dict_list[2]"
   ],
   "metadata": {
    "collapsed": false,
    "pycharm": {
     "name": "#%%\n"
    }
   }
  },
  {
   "cell_type": "code",
   "execution_count": 19,
   "outputs": [],
   "source": [
    "new_dict = dict_list[0] + dict_list[1]"
   ],
   "metadata": {
    "collapsed": false,
    "pycharm": {
     "name": "#%%\n"
    }
   }
  },
  {
   "cell_type": "code",
   "execution_count": 20,
   "outputs": [
    {
     "data": {
      "text/plain": "58751"
     },
     "execution_count": 20,
     "metadata": {},
     "output_type": "execute_result"
    }
   ],
   "source": [
    "len(new_dict)"
   ],
   "metadata": {
    "collapsed": false,
    "pycharm": {
     "name": "#%%\n"
    }
   }
  },
  {
   "cell_type": "code",
   "execution_count": 21,
   "outputs": [],
   "source": [
    "df = pd.DataFrame(new_dict)\n",
    "df.to_csv(\"data/서울특별시_양천구_건출물대장_기본개요.csv\",\n",
    "          encoding=\"utf8\",\n",
    "          index=False\n",
    ")"
   ],
   "metadata": {
    "collapsed": false,
    "pycharm": {
     "name": "#%%\n"
    }
   }
  },
  {
   "cell_type": "code",
   "execution_count": null,
   "outputs": [],
   "source": [],
   "metadata": {
    "collapsed": false,
    "pycharm": {
     "name": "#%%\n"
    }
   }
  }
 ],
 "metadata": {
  "kernelspec": {
   "display_name": "Python 3",
   "language": "python",
   "name": "python3"
  },
  "language_info": {
   "codemirror_mode": {
    "name": "ipython",
    "version": 2
   },
   "file_extension": ".py",
   "mimetype": "text/x-python",
   "name": "python",
   "nbconvert_exporter": "python",
   "pygments_lexer": "ipython2",
   "version": "2.7.6"
  }
 },
 "nbformat": 4,
 "nbformat_minor": 0
}