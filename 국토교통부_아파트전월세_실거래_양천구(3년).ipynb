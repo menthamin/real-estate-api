{
 "cells": [
  {
   "cell_type": "code",
   "execution_count": 3,
   "outputs": [],
   "source": [
    "\"\"\"국토교통부 아파트전월세 실거래 데이터 추출 예시\n",
    "- 링크: https://www.data.go.kr/tcs/dss/selectApiDataDetailView.do?publicDataPk=15058017\n",
    "\"\"\"\n",
    "from dotenv import load_dotenv\n",
    "import os\n",
    "import requests\n",
    "import pandas as pd\n",
    "import io\n",
    "import xmltodict\n",
    "import json\n",
    "\n",
    "# import xml.etree.ElementTree as et\n",
    "\n",
    "\n",
    "# load .env\n",
    "load_dotenv()\n",
    "getRTMSDataSvcAptTradeDev_en = os.environ.get(\"getRTMSDataSvcAptTradeDev_en\")\n",
    "getRTMSDataSvcAptTradeDev_de = os.environ.get(\"getRTMSDataSvcAptTradeDev_de\")"
   ],
   "metadata": {
    "collapsed": false,
    "pycharm": {
     "name": "#%%\n"
    }
   }
  },
  {
   "cell_type": "code",
   "execution_count": 4,
   "outputs": [],
   "source": [
    "start_date = pd.to_datetime('2019-01-01')\n",
    "end_date = pd.to_datetime('2022-09-30')\n",
    "dates = pd.date_range(start_date, end_date, freq=\"M\")"
   ],
   "metadata": {
    "collapsed": false,
    "pycharm": {
     "name": "#%%\n"
    }
   }
  },
  {
   "cell_type": "code",
   "execution_count": 5,
   "outputs": [],
   "source": [
    "MONTH_LIST = [date.strftime(\"%Y%m\") for date in dates]\n",
    "SIGUNGU_CODE = 11470"
   ],
   "metadata": {
    "collapsed": false,
    "pycharm": {
     "name": "#%%\n"
    }
   }
  },
  {
   "cell_type": "code",
   "execution_count": 6,
   "outputs": [],
   "source": [
    "url = \"http://openapi.molit.go.kr:8081/OpenAPI_ToolInstallPackage/service/rest/RTMSOBJSvc/getRTMSDataSvcAptRent\""
   ],
   "metadata": {
    "collapsed": false,
    "pycharm": {
     "name": "#%%\n"
    }
   }
  },
  {
   "cell_type": "code",
   "execution_count": 7,
   "outputs": [],
   "source": [
    "for month in MONTH_LIST:\n",
    "    params = {\n",
    "        \"serviceKey\": getRTMSDataSvcAptTradeDev_de,\n",
    "        \"LAWD_CD\": SIGUNGU_CODE,  # Input 1: 시군구코드 5자리, ex) 11680 = 서울특별시 강남구\n",
    "        \"DEAL_YMD\": month,  # Input 2: 년월(YYYYMM), ex) 202208 = 2022년 8월\n",
    "    }\n",
    "\n",
    "    response = requests.get(url, params=params)\n",
    "    dict_content = xmltodict.parse(response.content)[\"response\"][\"body\"][\"items\"][\"item\"]\n",
    "    df = pd.DataFrame(dict_content)\n",
    "\n",
    "    df.to_csv(f\"data/서울특별시_양천구_아파트전월세/서울특별시_양천구_아파트전월세_{month}.csv\",\n",
    "              encoding=\"utf8\",\n",
    "              index=False\n",
    "    )"
   ],
   "metadata": {
    "collapsed": false,
    "pycharm": {
     "name": "#%%\n"
    }
   }
  },
  {
   "cell_type": "code",
   "execution_count": 8,
   "outputs": [],
   "source": [
    "file_list = os.listdir(\"data/서울특별시_양천구_아파트전월세\")\n",
    "file_list.sort()"
   ],
   "metadata": {
    "collapsed": false,
    "pycharm": {
     "name": "#%%\n"
    }
   }
  },
  {
   "cell_type": "code",
   "execution_count": 9,
   "outputs": [
    {
     "data": {
      "text/plain": "['서울특별시_양천구_아파트전월세_201901.csv',\n '서울특별시_양천구_아파트전월세_201902.csv',\n '서울특별시_양천구_아파트전월세_201903.csv',\n '서울특별시_양천구_아파트전월세_201904.csv',\n '서울특별시_양천구_아파트전월세_201905.csv',\n '서울특별시_양천구_아파트전월세_201906.csv',\n '서울특별시_양천구_아파트전월세_201907.csv',\n '서울특별시_양천구_아파트전월세_201908.csv',\n '서울특별시_양천구_아파트전월세_201909.csv',\n '서울특별시_양천구_아파트전월세_201910.csv',\n '서울특별시_양천구_아파트전월세_201911.csv',\n '서울특별시_양천구_아파트전월세_201912.csv',\n '서울특별시_양천구_아파트전월세_202001.csv',\n '서울특별시_양천구_아파트전월세_202002.csv',\n '서울특별시_양천구_아파트전월세_202003.csv',\n '서울특별시_양천구_아파트전월세_202004.csv',\n '서울특별시_양천구_아파트전월세_202005.csv',\n '서울특별시_양천구_아파트전월세_202006.csv',\n '서울특별시_양천구_아파트전월세_202007.csv',\n '서울특별시_양천구_아파트전월세_202008.csv',\n '서울특별시_양천구_아파트전월세_202009.csv',\n '서울특별시_양천구_아파트전월세_202010.csv',\n '서울특별시_양천구_아파트전월세_202011.csv',\n '서울특별시_양천구_아파트전월세_202012.csv',\n '서울특별시_양천구_아파트전월세_202101.csv',\n '서울특별시_양천구_아파트전월세_202102.csv',\n '서울특별시_양천구_아파트전월세_202103.csv',\n '서울특별시_양천구_아파트전월세_202104.csv',\n '서울특별시_양천구_아파트전월세_202105.csv',\n '서울특별시_양천구_아파트전월세_202106.csv',\n '서울특별시_양천구_아파트전월세_202107.csv',\n '서울특별시_양천구_아파트전월세_202108.csv',\n '서울특별시_양천구_아파트전월세_202109.csv',\n '서울특별시_양천구_아파트전월세_202110.csv',\n '서울특별시_양천구_아파트전월세_202111.csv',\n '서울특별시_양천구_아파트전월세_202112.csv',\n '서울특별시_양천구_아파트전월세_202201.csv',\n '서울특별시_양천구_아파트전월세_202202.csv',\n '서울특별시_양천구_아파트전월세_202203.csv',\n '서울특별시_양천구_아파트전월세_202204.csv',\n '서울특별시_양천구_아파트전월세_202205.csv',\n '서울특별시_양천구_아파트전월세_202206.csv',\n '서울특별시_양천구_아파트전월세_202207.csv',\n '서울특별시_양천구_아파트전월세_202208.csv',\n '서울특별시_양천구_아파트전월세_202209.csv']"
     },
     "execution_count": 9,
     "metadata": {},
     "output_type": "execute_result"
    }
   ],
   "source": [
    "file_list"
   ],
   "metadata": {
    "collapsed": false,
    "pycharm": {
     "name": "#%%\n"
    }
   }
  },
  {
   "cell_type": "code",
   "execution_count": 10,
   "outputs": [],
   "source": [
    "df_all = pd.DataFrame()\n",
    "for file in file_list:\n",
    "    df= pd.read_csv(\"data/서울특별시_양천구_아파트전월세/\" + file, encoding='utf-8')\n",
    "    df_all = pd.concat([df_all, df])"
   ],
   "metadata": {
    "collapsed": false,
    "pycharm": {
     "name": "#%%\n"
    }
   }
  },
  {
   "cell_type": "code",
   "execution_count": 11,
   "outputs": [],
   "source": [
    "df_all.to_csv(\"data/서울특별시_양천구_아파트전월세(2019_202209).csv\", index=False)"
   ],
   "metadata": {
    "collapsed": false,
    "pycharm": {
     "name": "#%%\n"
    }
   }
  },
  {
   "cell_type": "code",
   "execution_count": 12,
   "outputs": [
    {
     "name": "stdout",
     "output_type": "stream",
     "text": [
      "<class 'pandas.core.frame.DataFrame'>\n",
      "Int64Index: 36867 entries, 0 to 96\n",
      "Data columns (total 17 columns):\n",
      " #   Column   Non-Null Count  Dtype  \n",
      "---  ------   --------------  -----  \n",
      " 0   갱신요구권사용  3180 non-null   object \n",
      " 1   건축년도     36867 non-null  int64  \n",
      " 2   계약구분     10087 non-null  object \n",
      " 3   계약기간     10788 non-null  object \n",
      " 4   년        36867 non-null  int64  \n",
      " 5   법정동      36867 non-null  object \n",
      " 6   보증금액     36867 non-null  object \n",
      " 7   아파트      36867 non-null  object \n",
      " 8   월        36867 non-null  int64  \n",
      " 9   월세금액     36867 non-null  object \n",
      " 10  일        36867 non-null  int64  \n",
      " 11  전용면적     36867 non-null  float64\n",
      " 12  종전계약보증금  8002 non-null   object \n",
      " 13  종전계약월세   8002 non-null   object \n",
      " 14  지번       36867 non-null  object \n",
      " 15  지역코드     36867 non-null  int64  \n",
      " 16  층        36867 non-null  int64  \n",
      "dtypes: float64(1), int64(6), object(10)\n",
      "memory usage: 5.1+ MB\n"
     ]
    }
   ],
   "source": [
    "df_all.info()"
   ],
   "metadata": {
    "collapsed": false,
    "pycharm": {
     "name": "#%%\n"
    }
   }
  },
  {
   "cell_type": "code",
   "execution_count": null,
   "outputs": [],
   "source": [],
   "metadata": {
    "collapsed": false,
    "pycharm": {
     "name": "#%%\n"
    }
   }
  }
 ],
 "metadata": {
  "kernelspec": {
   "display_name": "Python 3",
   "language": "python",
   "name": "python3"
  },
  "language_info": {
   "codemirror_mode": {
    "name": "ipython",
    "version": 2
   },
   "file_extension": ".py",
   "mimetype": "text/x-python",
   "name": "python",
   "nbconvert_exporter": "python",
   "pygments_lexer": "ipython2",
   "version": "2.7.6"
  }
 },
 "nbformat": 4,
 "nbformat_minor": 0
}