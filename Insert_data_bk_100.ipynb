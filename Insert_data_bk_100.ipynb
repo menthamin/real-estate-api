{
 "cells": [
  {
   "cell_type": "code",
   "execution_count": 53,
   "outputs": [],
   "source": [
    "import os\n",
    "import pymysql\n",
    "import pandas as pd\n",
    "from tqdm import tqdm\n",
    "from dotenv import load_dotenv\n",
    "\n",
    "pymysql.install_as_MySQLdb()"
   ],
   "metadata": {
    "collapsed": false,
    "pycharm": {
     "name": "#%%\n"
    }
   }
  },
  {
   "cell_type": "markdown",
   "source": [
    "## Connect DB"
   ],
   "metadata": {
    "collapsed": false,
    "pycharm": {
     "name": "#%% md\n"
    }
   }
  },
  {
   "cell_type": "code",
   "execution_count": 54,
   "outputs": [],
   "source": [
    "load_dotenv()\n",
    "ENDPOINT = os.environ.get(\"dev_db_endpoint\")\n",
    "USER = os.environ.get(\"dev_db_user\")\n",
    "PASSWORD = os.environ.get(\"dev_db_password\")"
   ],
   "metadata": {
    "collapsed": false,
    "pycharm": {
     "name": "#%%\n"
    }
   }
  },
  {
   "cell_type": "code",
   "execution_count": 55,
   "outputs": [],
   "source": [
    "conn = pymysql.connect(\n",
    "    host=ENDPOINT,\n",
    "    user=USER,\n",
    "    password=PASSWORD,\n",
    "    database=\"aresa\",\n",
    "    port=3306\n",
    ")"
   ],
   "metadata": {
    "collapsed": false,
    "pycharm": {
     "name": "#%%\n"
    }
   }
  },
  {
   "cell_type": "code",
   "execution_count": 56,
   "outputs": [],
   "source": [
    "cur = conn.cursor()"
   ],
   "metadata": {
    "collapsed": false,
    "pycharm": {
     "name": "#%%\n"
    }
   }
  },
  {
   "cell_type": "markdown",
   "source": [],
   "metadata": {
    "collapsed": false,
    "pycharm": {
     "name": "#%% md\n"
    }
   }
  },
  {
   "cell_type": "code",
   "execution_count": 57,
   "outputs": [],
   "source": [
    "from sqlalchemy import create_engine\n",
    "import sqlalchemy"
   ],
   "metadata": {
    "collapsed": false,
    "pycharm": {
     "name": "#%%\n"
    }
   }
  },
  {
   "cell_type": "code",
   "execution_count": 58,
   "outputs": [],
   "source": [
    "engine = create_engine(f\"mysql+mysqldb://{USER}:{PASSWORD}@{ENDPOINT}:3306/aresa\")\n",
    "# http://i5on9i.blogspot.com/2020/05/no-module-named-mysqldb.html"
   ],
   "metadata": {
    "collapsed": false,
    "pycharm": {
     "name": "#%%\n"
    }
   }
  },
  {
   "cell_type": "markdown",
   "source": [
    "## Insert Data"
   ],
   "metadata": {
    "collapsed": false,
    "pycharm": {
     "name": "#%% md\n"
    }
   }
  },
  {
   "cell_type": "code",
   "execution_count": 59,
   "outputs": [
    {
     "name": "stderr",
     "output_type": "stream",
     "text": [
      "/var/folders/3_/s6t6k_zn7vz2v98kkkm6d7yr0000gn/T/ipykernel_10637/3833214275.py:1: DtypeWarning: Columns (4,6,7,8,9,13) have mixed types. Specify dtype option on import or set low_memory=False.\n",
      "  df = pd.read_csv(\"data/한국은행/한국은행_100대_통계지표_19800101_20221031.csv\")\n"
     ]
    }
   ],
   "source": [
    "df = pd.read_csv(\"data/한국은행/한국은행_100대_통계지표_19800101_20221031.csv\")\n",
    "df.columns = [column.lower() for column in df.columns]"
   ],
   "metadata": {
    "collapsed": false,
    "pycharm": {
     "name": "#%%\n"
    }
   }
  },
  {
   "cell_type": "code",
   "execution_count": 60,
   "outputs": [
    {
     "data": {
      "text/plain": "   stat_100_num stat_100_nm stat_code                 stat_name item_code1  \\\n0             1   한국은행 기준금리   722Y001  1.3.1. 한국은행 기준금리 및 여수신금리     101000   \n1             1   한국은행 기준금리   722Y001  1.3.1. 한국은행 기준금리 및 여수신금리     101000   \n2             1   한국은행 기준금리   722Y001  1.3.1. 한국은행 기준금리 및 여수신금리     101000   \n3             1   한국은행 기준금리   722Y001  1.3.1. 한국은행 기준금리 및 여수신금리     101000   \n4             1   한국은행 기준금리   722Y001  1.3.1. 한국은행 기준금리 및 여수신금리     101000   \n\n  item_name1 item_code2 item_name2 item_code3 item_name3  item_code4  \\\n0  한국은행 기준금리        NaN        NaN        NaN        NaN         NaN   \n1  한국은행 기준금리        NaN        NaN        NaN        NaN         NaN   \n2  한국은행 기준금리        NaN        NaN        NaN        NaN         NaN   \n3  한국은행 기준금리        NaN        NaN        NaN        NaN         NaN   \n4  한국은행 기준금리        NaN        NaN        NaN        NaN         NaN   \n\n   item_name4 unit_name      time  data_value cycle  \n0         NaN        연%  19990506        4.75     D  \n1         NaN        연%  19990507        4.75     D  \n2         NaN        연%  19990508        4.75     D  \n3         NaN        연%  19990509        4.75     D  \n4         NaN        연%  19990510        4.75     D  ",
      "text/html": "<div>\n<style scoped>\n    .dataframe tbody tr th:only-of-type {\n        vertical-align: middle;\n    }\n\n    .dataframe tbody tr th {\n        vertical-align: top;\n    }\n\n    .dataframe thead th {\n        text-align: right;\n    }\n</style>\n<table border=\"1\" class=\"dataframe\">\n  <thead>\n    <tr style=\"text-align: right;\">\n      <th></th>\n      <th>stat_100_num</th>\n      <th>stat_100_nm</th>\n      <th>stat_code</th>\n      <th>stat_name</th>\n      <th>item_code1</th>\n      <th>item_name1</th>\n      <th>item_code2</th>\n      <th>item_name2</th>\n      <th>item_code3</th>\n      <th>item_name3</th>\n      <th>item_code4</th>\n      <th>item_name4</th>\n      <th>unit_name</th>\n      <th>time</th>\n      <th>data_value</th>\n      <th>cycle</th>\n    </tr>\n  </thead>\n  <tbody>\n    <tr>\n      <th>0</th>\n      <td>1</td>\n      <td>한국은행 기준금리</td>\n      <td>722Y001</td>\n      <td>1.3.1. 한국은행 기준금리 및 여수신금리</td>\n      <td>101000</td>\n      <td>한국은행 기준금리</td>\n      <td>NaN</td>\n      <td>NaN</td>\n      <td>NaN</td>\n      <td>NaN</td>\n      <td>NaN</td>\n      <td>NaN</td>\n      <td>연%</td>\n      <td>19990506</td>\n      <td>4.75</td>\n      <td>D</td>\n    </tr>\n    <tr>\n      <th>1</th>\n      <td>1</td>\n      <td>한국은행 기준금리</td>\n      <td>722Y001</td>\n      <td>1.3.1. 한국은행 기준금리 및 여수신금리</td>\n      <td>101000</td>\n      <td>한국은행 기준금리</td>\n      <td>NaN</td>\n      <td>NaN</td>\n      <td>NaN</td>\n      <td>NaN</td>\n      <td>NaN</td>\n      <td>NaN</td>\n      <td>연%</td>\n      <td>19990507</td>\n      <td>4.75</td>\n      <td>D</td>\n    </tr>\n    <tr>\n      <th>2</th>\n      <td>1</td>\n      <td>한국은행 기준금리</td>\n      <td>722Y001</td>\n      <td>1.3.1. 한국은행 기준금리 및 여수신금리</td>\n      <td>101000</td>\n      <td>한국은행 기준금리</td>\n      <td>NaN</td>\n      <td>NaN</td>\n      <td>NaN</td>\n      <td>NaN</td>\n      <td>NaN</td>\n      <td>NaN</td>\n      <td>연%</td>\n      <td>19990508</td>\n      <td>4.75</td>\n      <td>D</td>\n    </tr>\n    <tr>\n      <th>3</th>\n      <td>1</td>\n      <td>한국은행 기준금리</td>\n      <td>722Y001</td>\n      <td>1.3.1. 한국은행 기준금리 및 여수신금리</td>\n      <td>101000</td>\n      <td>한국은행 기준금리</td>\n      <td>NaN</td>\n      <td>NaN</td>\n      <td>NaN</td>\n      <td>NaN</td>\n      <td>NaN</td>\n      <td>NaN</td>\n      <td>연%</td>\n      <td>19990509</td>\n      <td>4.75</td>\n      <td>D</td>\n    </tr>\n    <tr>\n      <th>4</th>\n      <td>1</td>\n      <td>한국은행 기준금리</td>\n      <td>722Y001</td>\n      <td>1.3.1. 한국은행 기준금리 및 여수신금리</td>\n      <td>101000</td>\n      <td>한국은행 기준금리</td>\n      <td>NaN</td>\n      <td>NaN</td>\n      <td>NaN</td>\n      <td>NaN</td>\n      <td>NaN</td>\n      <td>NaN</td>\n      <td>연%</td>\n      <td>19990510</td>\n      <td>4.75</td>\n      <td>D</td>\n    </tr>\n  </tbody>\n</table>\n</div>"
     },
     "execution_count": 60,
     "metadata": {},
     "output_type": "execute_result"
    }
   ],
   "source": [
    "df.head()"
   ],
   "metadata": {
    "collapsed": false,
    "pycharm": {
     "name": "#%%\n"
    }
   }
  },
  {
   "cell_type": "code",
   "execution_count": 61,
   "outputs": [
    {
     "data": {
      "text/plain": "121240"
     },
     "execution_count": 61,
     "metadata": {},
     "output_type": "execute_result"
    }
   ],
   "source": [
    "df.to_sql('bok_stat100', engine, schema=\"aresa\", index=False, if_exists='append', chunksize=10000)"
   ],
   "metadata": {
    "collapsed": false,
    "pycharm": {
     "name": "#%%\n"
    }
   }
  },
  {
   "cell_type": "code",
   "execution_count": null,
   "outputs": [],
   "source": [],
   "metadata": {
    "collapsed": false,
    "pycharm": {
     "name": "#%%\n"
    }
   }
  }
 ],
 "metadata": {
  "kernelspec": {
   "display_name": "Python 3",
   "language": "python",
   "name": "python3"
  },
  "language_info": {
   "codemirror_mode": {
    "name": "ipython",
    "version": 2
   },
   "file_extension": ".py",
   "mimetype": "text/x-python",
   "name": "python",
   "nbconvert_exporter": "python",
   "pygments_lexer": "ipython2",
   "version": "2.7.6"
  }
 },
 "nbformat": 4,
 "nbformat_minor": 0
}