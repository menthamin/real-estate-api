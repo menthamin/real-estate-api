{
 "cells": [
  {
   "cell_type": "code",
   "execution_count": 129,
   "outputs": [],
   "source": [
    "\"\"\"한국은행 데이터\n",
    "\"\"\"\n",
    "from dotenv import load_dotenv\n",
    "import os\n",
    "import requests\n",
    "import pandas as pd\n",
    "import json\n",
    "from tqdm import tqdm\n",
    "\n",
    "# load .env\n",
    "load_dotenv()\n",
    "api_key = os.environ.get(\"korea_bank_api_key\")"
   ],
   "metadata": {
    "collapsed": false,
    "pycharm": {
     "name": "#%%\n"
    }
   }
  },
  {
   "cell_type": "markdown",
   "source": [
    "# 통계 정보 조회\n",
    "- https://ecos.bok.or.kr/api/#/DevGuide/DevSpeciflcation\n",
    "- 주기: 년:A, 반년:S, 분기:Q, 월:M, 반월:SM, 일: D"
   ],
   "metadata": {
    "collapsed": false,
    "pycharm": {
     "name": "#%% md\n"
    }
   }
  },
  {
   "cell_type": "code",
   "execution_count": 130,
   "outputs": [],
   "source": [
    "collect_df = pd.read_csv(\"config/한국은행_수집_리스트.csv\")"
   ],
   "metadata": {
    "collapsed": false,
    "pycharm": {
     "name": "#%%\n"
    }
   }
  },
  {
   "cell_type": "code",
   "execution_count": 131,
   "outputs": [
    {
     "data": {
      "text/plain": "   number         data_nm      data_info     code cycle search_start  \\\n5       6  4.1.3.총산출물가 지수  총지수, 분류별 지수 등  405Y007     Q       1980Q1   \n6       7   4.2.1.소비자물가지수  총지수, 분류별 지수 등  901Y009     Q       1980Q1   \n\n  search_end  \n5     2022Q3  \n6     2022Q3  ",
      "text/html": "<div>\n<style scoped>\n    .dataframe tbody tr th:only-of-type {\n        vertical-align: middle;\n    }\n\n    .dataframe tbody tr th {\n        vertical-align: top;\n    }\n\n    .dataframe thead th {\n        text-align: right;\n    }\n</style>\n<table border=\"1\" class=\"dataframe\">\n  <thead>\n    <tr style=\"text-align: right;\">\n      <th></th>\n      <th>number</th>\n      <th>data_nm</th>\n      <th>data_info</th>\n      <th>code</th>\n      <th>cycle</th>\n      <th>search_start</th>\n      <th>search_end</th>\n    </tr>\n  </thead>\n  <tbody>\n    <tr>\n      <th>5</th>\n      <td>6</td>\n      <td>4.1.3.총산출물가 지수</td>\n      <td>총지수, 분류별 지수 등</td>\n      <td>405Y007</td>\n      <td>Q</td>\n      <td>1980Q1</td>\n      <td>2022Q3</td>\n    </tr>\n    <tr>\n      <th>6</th>\n      <td>7</td>\n      <td>4.2.1.소비자물가지수</td>\n      <td>총지수, 분류별 지수 등</td>\n      <td>901Y009</td>\n      <td>Q</td>\n      <td>1980Q1</td>\n      <td>2022Q3</td>\n    </tr>\n  </tbody>\n</table>\n</div>"
     },
     "execution_count": 131,
     "metadata": {},
     "output_type": "execute_result"
    }
   ],
   "source": [
    "collect_df[5:]"
   ],
   "metadata": {
    "collapsed": false,
    "pycharm": {
     "name": "#%%\n"
    }
   }
  },
  {
   "cell_type": "code",
   "execution_count": 132,
   "outputs": [
    {
     "name": "stderr",
     "output_type": "stream",
     "text": [
      "0it [00:00, ?it/s]"
     ]
    },
    {
     "name": "stdout",
     "output_type": "stream",
     "text": [
      "1.3.1.기준금리 한국은행 기준금리 등\n"
     ]
    },
    {
     "name": "stderr",
     "output_type": "stream",
     "text": [
      "1it [00:08,  8.28s/it]"
     ]
    },
    {
     "name": "stdout",
     "output_type": "stream",
     "text": [
      "1.5.1.1.주식시장(일) KOSPI, KOSDAQ 등\n"
     ]
    },
    {
     "name": "stderr",
     "output_type": "stream",
     "text": [
      "2it [00:17,  8.95s/it]"
     ]
    },
    {
     "name": "stdout",
     "output_type": "stream",
     "text": [
      "1.5.1.2.주식시장(월,년) KOSPI, KOSDAQ, 상장회사수 등\n"
     ]
    },
    {
     "name": "stderr",
     "output_type": "stream",
     "text": [
      "3it [00:19,  5.49s/it]"
     ]
    },
    {
     "name": "stdout",
     "output_type": "stream",
     "text": [
      "4.1.1.1.생산자물가 지수 총지수, 분류별 지수 등\n"
     ]
    },
    {
     "name": "stderr",
     "output_type": "stream",
     "text": [
      "4it [00:30,  7.73s/it]"
     ]
    },
    {
     "name": "stdout",
     "output_type": "stream",
     "text": [
      "4.1.2.국내공급물가 지수 총지수, 분류별 지수 등\n"
     ]
    },
    {
     "name": "stderr",
     "output_type": "stream",
     "text": [
      "5it [00:32,  5.59s/it]"
     ]
    },
    {
     "name": "stdout",
     "output_type": "stream",
     "text": [
      "4.1.3.총산출물가 지수 총지수, 분류별 지수 등\n"
     ]
    },
    {
     "name": "stderr",
     "output_type": "stream",
     "text": [
      "6it [00:33,  4.03s/it]"
     ]
    },
    {
     "name": "stdout",
     "output_type": "stream",
     "text": [
      "4.2.1.소비자물가지수 총지수, 분류별 지수 등\n"
     ]
    },
    {
     "name": "stderr",
     "output_type": "stream",
     "text": [
      "7it [00:43,  6.26s/it]\n"
     ]
    }
   ],
   "source": [
    "for row in tqdm(collect_df.itertuples()):\n",
    "    print(row.data_nm, row.data_info)\n",
    "    data_nm = row.data_nm\n",
    "    code = row.code\n",
    "    cycle = row.cycle\n",
    "    search_start = row.search_start\n",
    "    search_end = row.search_end\n",
    "\n",
    "    url = f\"https://ecos.bok.or.kr/api/StatisticSearch/{api_key}/json/kr/1/100000/{code}/{cycle}/{search_start}/{search_end}/\"\n",
    "    response = requests.get(url)\n",
    "    data = response.json()\n",
    "\n",
    "    df = pd.DataFrame(data[\"StatisticSearch\"][\"row\"])\n",
    "    df.to_csv(f\"data/한국은행/{data_nm}_{code}_{cycle}_{search_start}_{search_end}.csv\", index=False)"
   ],
   "metadata": {
    "collapsed": false,
    "pycharm": {
     "name": "#%%\n"
    }
   }
  },
  {
   "cell_type": "code",
   "execution_count": null,
   "outputs": [],
   "source": [],
   "metadata": {
    "collapsed": false,
    "pycharm": {
     "name": "#%%\n"
    }
   }
  },
  {
   "cell_type": "code",
   "execution_count": null,
   "outputs": [],
   "source": [],
   "metadata": {
    "collapsed": false,
    "pycharm": {
     "name": "#%%\n"
    }
   }
  },
  {
   "cell_type": "markdown",
   "source": [
    "## KOSPI, KOSDAQ 지수"
   ],
   "metadata": {
    "collapsed": false,
    "pycharm": {
     "name": "#%% md\n"
    }
   }
  },
  {
   "cell_type": "markdown",
   "source": [
    "### 802Y001: 1.5.1.1.주식시장(일)"
   ],
   "metadata": {
    "collapsed": false,
    "pycharm": {
     "name": "#%% md\n"
    }
   }
  },
  {
   "cell_type": "code",
   "execution_count": null,
   "outputs": [],
   "source": [],
   "metadata": {
    "collapsed": false,
    "pycharm": {
     "name": "#%%\n"
    }
   }
  },
  {
   "cell_type": "code",
   "execution_count": 106,
   "outputs": [],
   "source": [
    "code = \"802Y001\"\n",
    "cycle = \"D\"\n",
    "search_start  = \"19800101\"\n",
    "search_end =  \"20221018\"\n",
    "\n",
    "url = f\"https://ecos.bok.or.kr/api/StatisticSearch/{api_key}/json/kr/1/100000/{code}/{cycle}/{search_start}/{search_end}/\"\n",
    "response = requests.get(url)\n",
    "data = response.json()\n",
    "df = pd.DataFrame(data[\"StatisticSearch\"][\"row\"])\n",
    "df.to_csv(f\"data/한국은행/{code}_{cycle}_{search_start}_{search_end}.csv\", index=False)"
   ],
   "metadata": {
    "collapsed": false,
    "pycharm": {
     "name": "#%%\n"
    }
   }
  },
  {
   "cell_type": "markdown",
   "source": [
    "### 802Y001: 1.5.1.1.주식시장(년,월)"
   ],
   "metadata": {
    "collapsed": false,
    "pycharm": {
     "name": "#%% md\n"
    }
   }
  },
  {
   "cell_type": "code",
   "execution_count": 105,
   "outputs": [],
   "source": [
    "code = \"901Y014\"\n",
    "cycle = \"M\"\n",
    "search_start  = \"198001\"\n",
    "search_end =  \"202210\"\n",
    "\n",
    "url = f\"https://ecos.bok.or.kr/api/StatisticSearch/{api_key}/json/kr/1/100000/{code}/{cycle}/{search_start}/{search_end}/\"\n",
    "response = requests.get(url)\n",
    "data = response.json()\n",
    "df = pd.DataFrame(data[\"StatisticSearch\"][\"row\"])\n",
    "df.to_csv(f\"data/한국은행/{code}_{cycle}_{search_start}_{search_end}.csv\", index=False)"
   ],
   "metadata": {
    "collapsed": false,
    "pycharm": {
     "name": "#%%\n"
    }
   }
  },
  {
   "cell_type": "markdown",
   "source": [
    "### 901Y009: 4.2.1.소비자물가지수"
   ],
   "metadata": {
    "collapsed": false,
    "pycharm": {
     "name": "#%% md\n"
    }
   },
   "outputs": []
  },
  {
   "cell_type": "code",
   "execution_count": 108,
   "outputs": [],
   "source": [
    "code = \"901Y009\"\n",
    "cycle = \"Q\"\n",
    "search_start  = \"1980Q1\"\n",
    "search_end = \"2022Q3\"\n",
    "\n",
    "url = f\"https://ecos.bok.or.kr/api/StatisticSearch/{api_key}/json/kr/1/100000/{code}/{cycle}/{search_start}/{search_end}/\"\n",
    "response = requests.get(url)\n",
    "data = response.json()\n",
    "df = pd.DataFrame(data[\"StatisticSearch\"][\"row\"])\n",
    "df.to_csv(f\"data/한국은행/{code}_{cycle}_{search_start}_{search_end}.csv\", index=False)"
   ],
   "metadata": {
    "collapsed": false,
    "pycharm": {
     "name": "#%%\n"
    }
   }
  },
  {
   "cell_type": "code",
   "execution_count": 109,
   "outputs": [
    {
     "data": {
      "text/plain": "      STAT_CODE       STAT_NAME ITEM_CODE1 ITEM_NAME1 ITEM_CODE2 ITEM_NAME2  \\\n0       901Y009  4.2.1. 소비자물가지수     A01908        고추장       None       None   \n1       901Y009  4.2.1. 소비자물가지수     A01909         카레       None       None   \n2       901Y009  4.2.1. 소비자물가지수     A01911        드레싱       None       None   \n3       901Y009  4.2.1. 소비자물가지수     A01914        이유식       None       None   \n4       901Y009  4.2.1. 소비자물가지수     A02101         커피       None       None   \n...         ...             ...        ...        ...        ...        ...   \n75414   901Y009  4.2.1. 소비자물가지수     A01618       파인애플       None       None   \n75415   901Y009  4.2.1. 소비자물가지수     A01619        아몬드       None       None   \n75416   901Y009  4.2.1. 소비자물가지수     A01620      과일가공품       None       None   \n75417   901Y009  4.2.1. 소비자물가지수       A017    채소 및 해조       None       None   \n75418   901Y009  4.2.1. 소비자물가지수     A01701         배추       None       None   \n\n      ITEM_CODE3 ITEM_NAME3 ITEM_CODE4 ITEM_NAME4 UNIT_NAME    TIME DATA_VALUE  \n0           None       None       None       None  2020=100  1980Q1     13.729  \n1           None       None       None       None  2020=100  1980Q1     16.792  \n2           None       None       None       None  2020=100  1980Q1     28.715  \n3           None       None       None       None  2020=100  1980Q1     16.344  \n4           None       None       None       None  2020=100  1980Q1     70.017  \n...          ...        ...        ...        ...       ...     ...        ...  \n75414       None       None       None       None  2020=100  2022Q3     123.69  \n75415       None       None       None       None  2020=100  2022Q3      98.79  \n75416       None       None       None       None  2020=100  2022Q3     121.22  \n75417       None       None       None       None  2020=100  2022Q3     125.24  \n75418       None       None       None       None  2020=100  2022Q3     164.04  \n\n[75419 rows x 13 columns]",
      "text/html": "<div>\n<style scoped>\n    .dataframe tbody tr th:only-of-type {\n        vertical-align: middle;\n    }\n\n    .dataframe tbody tr th {\n        vertical-align: top;\n    }\n\n    .dataframe thead th {\n        text-align: right;\n    }\n</style>\n<table border=\"1\" class=\"dataframe\">\n  <thead>\n    <tr style=\"text-align: right;\">\n      <th></th>\n      <th>STAT_CODE</th>\n      <th>STAT_NAME</th>\n      <th>ITEM_CODE1</th>\n      <th>ITEM_NAME1</th>\n      <th>ITEM_CODE2</th>\n      <th>ITEM_NAME2</th>\n      <th>ITEM_CODE3</th>\n      <th>ITEM_NAME3</th>\n      <th>ITEM_CODE4</th>\n      <th>ITEM_NAME4</th>\n      <th>UNIT_NAME</th>\n      <th>TIME</th>\n      <th>DATA_VALUE</th>\n    </tr>\n  </thead>\n  <tbody>\n    <tr>\n      <th>0</th>\n      <td>901Y009</td>\n      <td>4.2.1. 소비자물가지수</td>\n      <td>A01908</td>\n      <td>고추장</td>\n      <td>None</td>\n      <td>None</td>\n      <td>None</td>\n      <td>None</td>\n      <td>None</td>\n      <td>None</td>\n      <td>2020=100</td>\n      <td>1980Q1</td>\n      <td>13.729</td>\n    </tr>\n    <tr>\n      <th>1</th>\n      <td>901Y009</td>\n      <td>4.2.1. 소비자물가지수</td>\n      <td>A01909</td>\n      <td>카레</td>\n      <td>None</td>\n      <td>None</td>\n      <td>None</td>\n      <td>None</td>\n      <td>None</td>\n      <td>None</td>\n      <td>2020=100</td>\n      <td>1980Q1</td>\n      <td>16.792</td>\n    </tr>\n    <tr>\n      <th>2</th>\n      <td>901Y009</td>\n      <td>4.2.1. 소비자물가지수</td>\n      <td>A01911</td>\n      <td>드레싱</td>\n      <td>None</td>\n      <td>None</td>\n      <td>None</td>\n      <td>None</td>\n      <td>None</td>\n      <td>None</td>\n      <td>2020=100</td>\n      <td>1980Q1</td>\n      <td>28.715</td>\n    </tr>\n    <tr>\n      <th>3</th>\n      <td>901Y009</td>\n      <td>4.2.1. 소비자물가지수</td>\n      <td>A01914</td>\n      <td>이유식</td>\n      <td>None</td>\n      <td>None</td>\n      <td>None</td>\n      <td>None</td>\n      <td>None</td>\n      <td>None</td>\n      <td>2020=100</td>\n      <td>1980Q1</td>\n      <td>16.344</td>\n    </tr>\n    <tr>\n      <th>4</th>\n      <td>901Y009</td>\n      <td>4.2.1. 소비자물가지수</td>\n      <td>A02101</td>\n      <td>커피</td>\n      <td>None</td>\n      <td>None</td>\n      <td>None</td>\n      <td>None</td>\n      <td>None</td>\n      <td>None</td>\n      <td>2020=100</td>\n      <td>1980Q1</td>\n      <td>70.017</td>\n    </tr>\n    <tr>\n      <th>...</th>\n      <td>...</td>\n      <td>...</td>\n      <td>...</td>\n      <td>...</td>\n      <td>...</td>\n      <td>...</td>\n      <td>...</td>\n      <td>...</td>\n      <td>...</td>\n      <td>...</td>\n      <td>...</td>\n      <td>...</td>\n      <td>...</td>\n    </tr>\n    <tr>\n      <th>75414</th>\n      <td>901Y009</td>\n      <td>4.2.1. 소비자물가지수</td>\n      <td>A01618</td>\n      <td>파인애플</td>\n      <td>None</td>\n      <td>None</td>\n      <td>None</td>\n      <td>None</td>\n      <td>None</td>\n      <td>None</td>\n      <td>2020=100</td>\n      <td>2022Q3</td>\n      <td>123.69</td>\n    </tr>\n    <tr>\n      <th>75415</th>\n      <td>901Y009</td>\n      <td>4.2.1. 소비자물가지수</td>\n      <td>A01619</td>\n      <td>아몬드</td>\n      <td>None</td>\n      <td>None</td>\n      <td>None</td>\n      <td>None</td>\n      <td>None</td>\n      <td>None</td>\n      <td>2020=100</td>\n      <td>2022Q3</td>\n      <td>98.79</td>\n    </tr>\n    <tr>\n      <th>75416</th>\n      <td>901Y009</td>\n      <td>4.2.1. 소비자물가지수</td>\n      <td>A01620</td>\n      <td>과일가공품</td>\n      <td>None</td>\n      <td>None</td>\n      <td>None</td>\n      <td>None</td>\n      <td>None</td>\n      <td>None</td>\n      <td>2020=100</td>\n      <td>2022Q3</td>\n      <td>121.22</td>\n    </tr>\n    <tr>\n      <th>75417</th>\n      <td>901Y009</td>\n      <td>4.2.1. 소비자물가지수</td>\n      <td>A017</td>\n      <td>채소 및 해조</td>\n      <td>None</td>\n      <td>None</td>\n      <td>None</td>\n      <td>None</td>\n      <td>None</td>\n      <td>None</td>\n      <td>2020=100</td>\n      <td>2022Q3</td>\n      <td>125.24</td>\n    </tr>\n    <tr>\n      <th>75418</th>\n      <td>901Y009</td>\n      <td>4.2.1. 소비자물가지수</td>\n      <td>A01701</td>\n      <td>배추</td>\n      <td>None</td>\n      <td>None</td>\n      <td>None</td>\n      <td>None</td>\n      <td>None</td>\n      <td>None</td>\n      <td>2020=100</td>\n      <td>2022Q3</td>\n      <td>164.04</td>\n    </tr>\n  </tbody>\n</table>\n<p>75419 rows × 13 columns</p>\n</div>"
     },
     "execution_count": 109,
     "metadata": {},
     "output_type": "execute_result"
    }
   ],
   "source": [
    "df"
   ],
   "metadata": {
    "collapsed": false,
    "pycharm": {
     "name": "#%%\n"
    }
   }
  },
  {
   "cell_type": "markdown",
   "source": [
    "## 1.3.1.기준금리"
   ],
   "metadata": {
    "collapsed": false,
    "pycharm": {
     "name": "#%% md\n"
    }
   }
  },
  {
   "cell_type": "code",
   "execution_count": 110,
   "outputs": [],
   "source": [
    "code = \"722Y001\"\n",
    "cycle = \"D\"\n",
    "search_start  = \"19800101\"\n",
    "search_end = \"20221018\"\n",
    "\n",
    "url = f\"https://ecos.bok.or.kr/api/StatisticSearch/{api_key}/json/kr/1/100000/{code}/{cycle}/{search_start}/{search_end}/\"\n",
    "response = requests.get(url)\n",
    "data = response.json()\n",
    "df = pd.DataFrame(data[\"StatisticSearch\"][\"row\"])\n",
    "df.to_csv(f\"data/한국은행/{code}_{cycle}_{search_start}_{search_end}.csv\", index=False)"
   ],
   "metadata": {
    "collapsed": false,
    "pycharm": {
     "name": "#%%\n"
    }
   }
  },
  {
   "cell_type": "code",
   "execution_count": null,
   "outputs": [],
   "source": [
    "##"
   ],
   "metadata": {
    "collapsed": false,
    "pycharm": {
     "name": "#%%\n"
    }
   }
  },
  {
   "cell_type": "code",
   "execution_count": null,
   "outputs": [],
   "source": [],
   "metadata": {
    "collapsed": false,
    "pycharm": {
     "name": "#%%\n"
    }
   }
  },
  {
   "cell_type": "markdown",
   "source": [
    "# Test"
   ],
   "metadata": {
    "collapsed": false,
    "pycharm": {
     "name": "#%% md\n"
    }
   }
  },
  {
   "cell_type": "code",
   "execution_count": 70,
   "outputs": [
    {
     "data": {
      "text/plain": "{'StatisticSearch': {'list_total_count': 93,\n  'row': [{'STAT_CODE': '902Y002',\n    'STAT_NAME': '9.1.6.2. 국제 주요국 주가지수',\n    'ITEM_CODE1': '3010101',\n    'ITEM_NAME1': '한국(KOSPI)',\n    'ITEM_CODE2': None,\n    'ITEM_NAME2': None,\n    'ITEM_CODE3': None,\n    'ITEM_NAME3': None,\n    'ITEM_CODE4': None,\n    'ITEM_NAME4': None,\n    'UNIT_NAME': '1980.1.4=100',\n    'TIME': '201501',\n    'DATA_VALUE': '1949.26'},\n   {'STAT_CODE': '902Y002',\n    'STAT_NAME': '9.1.6.2. 국제 주요국 주가지수',\n    'ITEM_CODE1': '3010101',\n    'ITEM_NAME1': '한국(KOSPI)',\n    'ITEM_CODE2': None,\n    'ITEM_NAME2': None,\n    'ITEM_CODE3': None,\n    'ITEM_NAME3': None,\n    'ITEM_CODE4': None,\n    'ITEM_NAME4': None,\n    'UNIT_NAME': '1980.1.4=100',\n    'TIME': '201502',\n    'DATA_VALUE': '1985.8'},\n   {'STAT_CODE': '902Y002',\n    'STAT_NAME': '9.1.6.2. 국제 주요국 주가지수',\n    'ITEM_CODE1': '3010101',\n    'ITEM_NAME1': '한국(KOSPI)',\n    'ITEM_CODE2': None,\n    'ITEM_NAME2': None,\n    'ITEM_CODE3': None,\n    'ITEM_NAME3': None,\n    'ITEM_CODE4': None,\n    'ITEM_NAME4': None,\n    'UNIT_NAME': '1980.1.4=100',\n    'TIME': '201503',\n    'DATA_VALUE': '2041.03'},\n   {'STAT_CODE': '902Y002',\n    'STAT_NAME': '9.1.6.2. 국제 주요국 주가지수',\n    'ITEM_CODE1': '3010101',\n    'ITEM_NAME1': '한국(KOSPI)',\n    'ITEM_CODE2': None,\n    'ITEM_NAME2': None,\n    'ITEM_CODE3': None,\n    'ITEM_NAME3': None,\n    'ITEM_CODE4': None,\n    'ITEM_NAME4': None,\n    'UNIT_NAME': '1980.1.4=100',\n    'TIME': '201504',\n    'DATA_VALUE': '2127.17'},\n   {'STAT_CODE': '902Y002',\n    'STAT_NAME': '9.1.6.2. 국제 주요국 주가지수',\n    'ITEM_CODE1': '3010101',\n    'ITEM_NAME1': '한국(KOSPI)',\n    'ITEM_CODE2': None,\n    'ITEM_NAME2': None,\n    'ITEM_CODE3': None,\n    'ITEM_NAME3': None,\n    'ITEM_CODE4': None,\n    'ITEM_NAME4': None,\n    'UNIT_NAME': '1980.1.4=100',\n    'TIME': '201505',\n    'DATA_VALUE': '2114.8'},\n   {'STAT_CODE': '902Y002',\n    'STAT_NAME': '9.1.6.2. 국제 주요국 주가지수',\n    'ITEM_CODE1': '3010101',\n    'ITEM_NAME1': '한국(KOSPI)',\n    'ITEM_CODE2': None,\n    'ITEM_NAME2': None,\n    'ITEM_CODE3': None,\n    'ITEM_NAME3': None,\n    'ITEM_CODE4': None,\n    'ITEM_NAME4': None,\n    'UNIT_NAME': '1980.1.4=100',\n    'TIME': '201506',\n    'DATA_VALUE': '2074.2'},\n   {'STAT_CODE': '902Y002',\n    'STAT_NAME': '9.1.6.2. 국제 주요국 주가지수',\n    'ITEM_CODE1': '3010101',\n    'ITEM_NAME1': '한국(KOSPI)',\n    'ITEM_CODE2': None,\n    'ITEM_NAME2': None,\n    'ITEM_CODE3': None,\n    'ITEM_NAME3': None,\n    'ITEM_CODE4': None,\n    'ITEM_NAME4': None,\n    'UNIT_NAME': '1980.1.4=100',\n    'TIME': '201507',\n    'DATA_VALUE': '2030.16'},\n   {'STAT_CODE': '902Y002',\n    'STAT_NAME': '9.1.6.2. 국제 주요국 주가지수',\n    'ITEM_CODE1': '3010101',\n    'ITEM_NAME1': '한국(KOSPI)',\n    'ITEM_CODE2': None,\n    'ITEM_NAME2': None,\n    'ITEM_CODE3': None,\n    'ITEM_NAME3': None,\n    'ITEM_CODE4': None,\n    'ITEM_NAME4': None,\n    'UNIT_NAME': '1980.1.4=100',\n    'TIME': '201508',\n    'DATA_VALUE': '1941.49'},\n   {'STAT_CODE': '902Y002',\n    'STAT_NAME': '9.1.6.2. 국제 주요국 주가지수',\n    'ITEM_CODE1': '3010101',\n    'ITEM_NAME1': '한국(KOSPI)',\n    'ITEM_CODE2': None,\n    'ITEM_NAME2': None,\n    'ITEM_CODE3': None,\n    'ITEM_NAME3': None,\n    'ITEM_CODE4': None,\n    'ITEM_NAME4': None,\n    'UNIT_NAME': '1980.1.4=100',\n    'TIME': '201509',\n    'DATA_VALUE': '1962.81'},\n   {'STAT_CODE': '902Y002',\n    'STAT_NAME': '9.1.6.2. 국제 주요국 주가지수',\n    'ITEM_CODE1': '3010101',\n    'ITEM_NAME1': '한국(KOSPI)',\n    'ITEM_CODE2': None,\n    'ITEM_NAME2': None,\n    'ITEM_CODE3': None,\n    'ITEM_NAME3': None,\n    'ITEM_CODE4': None,\n    'ITEM_NAME4': None,\n    'UNIT_NAME': '1980.1.4=100',\n    'TIME': '201510',\n    'DATA_VALUE': '2029.47'},\n   {'STAT_CODE': '902Y002',\n    'STAT_NAME': '9.1.6.2. 국제 주요국 주가지수',\n    'ITEM_CODE1': '3010101',\n    'ITEM_NAME1': '한국(KOSPI)',\n    'ITEM_CODE2': None,\n    'ITEM_NAME2': None,\n    'ITEM_CODE3': None,\n    'ITEM_NAME3': None,\n    'ITEM_CODE4': None,\n    'ITEM_NAME4': None,\n    'UNIT_NAME': '1980.1.4=100',\n    'TIME': '201511',\n    'DATA_VALUE': '1991.97'},\n   {'STAT_CODE': '902Y002',\n    'STAT_NAME': '9.1.6.2. 국제 주요국 주가지수',\n    'ITEM_CODE1': '3010101',\n    'ITEM_NAME1': '한국(KOSPI)',\n    'ITEM_CODE2': None,\n    'ITEM_NAME2': None,\n    'ITEM_CODE3': None,\n    'ITEM_NAME3': None,\n    'ITEM_CODE4': None,\n    'ITEM_NAME4': None,\n    'UNIT_NAME': '1980.1.4=100',\n    'TIME': '201512',\n    'DATA_VALUE': '1961.31'},\n   {'STAT_CODE': '902Y002',\n    'STAT_NAME': '9.1.6.2. 국제 주요국 주가지수',\n    'ITEM_CODE1': '3010101',\n    'ITEM_NAME1': '한국(KOSPI)',\n    'ITEM_CODE2': None,\n    'ITEM_NAME2': None,\n    'ITEM_CODE3': None,\n    'ITEM_NAME3': None,\n    'ITEM_CODE4': None,\n    'ITEM_NAME4': None,\n    'UNIT_NAME': '1980.1.4=100',\n    'TIME': '201601',\n    'DATA_VALUE': '1912.06'},\n   {'STAT_CODE': '902Y002',\n    'STAT_NAME': '9.1.6.2. 국제 주요국 주가지수',\n    'ITEM_CODE1': '3010101',\n    'ITEM_NAME1': '한국(KOSPI)',\n    'ITEM_CODE2': None,\n    'ITEM_NAME2': None,\n    'ITEM_CODE3': None,\n    'ITEM_NAME3': None,\n    'ITEM_CODE4': None,\n    'ITEM_NAME4': None,\n    'UNIT_NAME': '1980.1.4=100',\n    'TIME': '201602',\n    'DATA_VALUE': '1916.66'},\n   {'STAT_CODE': '902Y002',\n    'STAT_NAME': '9.1.6.2. 국제 주요국 주가지수',\n    'ITEM_CODE1': '3010101',\n    'ITEM_NAME1': '한국(KOSPI)',\n    'ITEM_CODE2': None,\n    'ITEM_NAME2': None,\n    'ITEM_CODE3': None,\n    'ITEM_NAME3': None,\n    'ITEM_CODE4': None,\n    'ITEM_NAME4': None,\n    'UNIT_NAME': '1980.1.4=100',\n    'TIME': '201603',\n    'DATA_VALUE': '1995.85'},\n   {'STAT_CODE': '902Y002',\n    'STAT_NAME': '9.1.6.2. 국제 주요국 주가지수',\n    'ITEM_CODE1': '3010101',\n    'ITEM_NAME1': '한국(KOSPI)',\n    'ITEM_CODE2': None,\n    'ITEM_NAME2': None,\n    'ITEM_CODE3': None,\n    'ITEM_NAME3': None,\n    'ITEM_CODE4': None,\n    'ITEM_NAME4': None,\n    'UNIT_NAME': '1980.1.4=100',\n    'TIME': '201604',\n    'DATA_VALUE': '1994.15'},\n   {'STAT_CODE': '902Y002',\n    'STAT_NAME': '9.1.6.2. 국제 주요국 주가지수',\n    'ITEM_CODE1': '3010101',\n    'ITEM_NAME1': '한국(KOSPI)',\n    'ITEM_CODE2': None,\n    'ITEM_NAME2': None,\n    'ITEM_CODE3': None,\n    'ITEM_NAME3': None,\n    'ITEM_CODE4': None,\n    'ITEM_NAME4': None,\n    'UNIT_NAME': '1980.1.4=100',\n    'TIME': '201605',\n    'DATA_VALUE': '1983.4'},\n   {'STAT_CODE': '902Y002',\n    'STAT_NAME': '9.1.6.2. 국제 주요국 주가지수',\n    'ITEM_CODE1': '3010101',\n    'ITEM_NAME1': '한국(KOSPI)',\n    'ITEM_CODE2': None,\n    'ITEM_NAME2': None,\n    'ITEM_CODE3': None,\n    'ITEM_NAME3': None,\n    'ITEM_CODE4': None,\n    'ITEM_NAME4': None,\n    'UNIT_NAME': '1980.1.4=100',\n    'TIME': '201606',\n    'DATA_VALUE': '1970.35'},\n   {'STAT_CODE': '902Y002',\n    'STAT_NAME': '9.1.6.2. 국제 주요국 주가지수',\n    'ITEM_CODE1': '3010101',\n    'ITEM_NAME1': '한국(KOSPI)',\n    'ITEM_CODE2': None,\n    'ITEM_NAME2': None,\n    'ITEM_CODE3': None,\n    'ITEM_NAME3': None,\n    'ITEM_CODE4': None,\n    'ITEM_NAME4': None,\n    'UNIT_NAME': '1980.1.4=100',\n    'TIME': '201607',\n    'DATA_VALUE': '2016.19'},\n   {'STAT_CODE': '902Y002',\n    'STAT_NAME': '9.1.6.2. 국제 주요국 주가지수',\n    'ITEM_CODE1': '3010101',\n    'ITEM_NAME1': '한국(KOSPI)',\n    'ITEM_CODE2': None,\n    'ITEM_NAME2': None,\n    'ITEM_CODE3': None,\n    'ITEM_NAME3': None,\n    'ITEM_CODE4': None,\n    'ITEM_NAME4': None,\n    'UNIT_NAME': '1980.1.4=100',\n    'TIME': '201608',\n    'DATA_VALUE': '2034.65'},\n   {'STAT_CODE': '902Y002',\n    'STAT_NAME': '9.1.6.2. 국제 주요국 주가지수',\n    'ITEM_CODE1': '3010101',\n    'ITEM_NAME1': '한국(KOSPI)',\n    'ITEM_CODE2': None,\n    'ITEM_NAME2': None,\n    'ITEM_CODE3': None,\n    'ITEM_NAME3': None,\n    'ITEM_CODE4': None,\n    'ITEM_NAME4': None,\n    'UNIT_NAME': '1980.1.4=100',\n    'TIME': '201609',\n    'DATA_VALUE': '2043.63'},\n   {'STAT_CODE': '902Y002',\n    'STAT_NAME': '9.1.6.2. 국제 주요국 주가지수',\n    'ITEM_CODE1': '3010101',\n    'ITEM_NAME1': '한국(KOSPI)',\n    'ITEM_CODE2': None,\n    'ITEM_NAME2': None,\n    'ITEM_CODE3': None,\n    'ITEM_NAME3': None,\n    'ITEM_CODE4': None,\n    'ITEM_NAME4': None,\n    'UNIT_NAME': '1980.1.4=100',\n    'TIME': '201610',\n    'DATA_VALUE': '2008.19'},\n   {'STAT_CODE': '902Y002',\n    'STAT_NAME': '9.1.6.2. 국제 주요국 주가지수',\n    'ITEM_CODE1': '3010101',\n    'ITEM_NAME1': '한국(KOSPI)',\n    'ITEM_CODE2': None,\n    'ITEM_NAME2': None,\n    'ITEM_CODE3': None,\n    'ITEM_NAME3': None,\n    'ITEM_CODE4': None,\n    'ITEM_NAME4': None,\n    'UNIT_NAME': '1980.1.4=100',\n    'TIME': '201611',\n    'DATA_VALUE': '1983.48'},\n   {'STAT_CODE': '902Y002',\n    'STAT_NAME': '9.1.6.2. 국제 주요국 주가지수',\n    'ITEM_CODE1': '3010101',\n    'ITEM_NAME1': '한국(KOSPI)',\n    'ITEM_CODE2': None,\n    'ITEM_NAME2': None,\n    'ITEM_CODE3': None,\n    'ITEM_NAME3': None,\n    'ITEM_CODE4': None,\n    'ITEM_NAME4': None,\n    'UNIT_NAME': '1980.1.4=100',\n    'TIME': '201612',\n    'DATA_VALUE': '2026.46'},\n   {'STAT_CODE': '902Y002',\n    'STAT_NAME': '9.1.6.2. 국제 주요국 주가지수',\n    'ITEM_CODE1': '3010101',\n    'ITEM_NAME1': '한국(KOSPI)',\n    'ITEM_CODE2': None,\n    'ITEM_NAME2': None,\n    'ITEM_CODE3': None,\n    'ITEM_NAME3': None,\n    'ITEM_CODE4': None,\n    'ITEM_NAME4': None,\n    'UNIT_NAME': '1980.1.4=100',\n    'TIME': '201701',\n    'DATA_VALUE': '2067.57'},\n   {'STAT_CODE': '902Y002',\n    'STAT_NAME': '9.1.6.2. 국제 주요국 주가지수',\n    'ITEM_CODE1': '3010101',\n    'ITEM_NAME1': '한국(KOSPI)',\n    'ITEM_CODE2': None,\n    'ITEM_NAME2': None,\n    'ITEM_CODE3': None,\n    'ITEM_NAME3': None,\n    'ITEM_CODE4': None,\n    'ITEM_NAME4': None,\n    'UNIT_NAME': '1980.1.4=100',\n    'TIME': '201702',\n    'DATA_VALUE': '2091.64'},\n   {'STAT_CODE': '902Y002',\n    'STAT_NAME': '9.1.6.2. 국제 주요국 주가지수',\n    'ITEM_CODE1': '3010101',\n    'ITEM_NAME1': '한국(KOSPI)',\n    'ITEM_CODE2': None,\n    'ITEM_NAME2': None,\n    'ITEM_CODE3': None,\n    'ITEM_NAME3': None,\n    'ITEM_CODE4': None,\n    'ITEM_NAME4': None,\n    'UNIT_NAME': '1980.1.4=100',\n    'TIME': '201703',\n    'DATA_VALUE': '2160.23'},\n   {'STAT_CODE': '902Y002',\n    'STAT_NAME': '9.1.6.2. 국제 주요국 주가지수',\n    'ITEM_CODE1': '3010101',\n    'ITEM_NAME1': '한국(KOSPI)',\n    'ITEM_CODE2': None,\n    'ITEM_NAME2': None,\n    'ITEM_CODE3': None,\n    'ITEM_NAME3': None,\n    'ITEM_CODE4': None,\n    'ITEM_NAME4': None,\n    'UNIT_NAME': '1980.1.4=100',\n    'TIME': '201704',\n    'DATA_VALUE': '2205.44'},\n   {'STAT_CODE': '902Y002',\n    'STAT_NAME': '9.1.6.2. 국제 주요국 주가지수',\n    'ITEM_CODE1': '3010101',\n    'ITEM_NAME1': '한국(KOSPI)',\n    'ITEM_CODE2': None,\n    'ITEM_NAME2': None,\n    'ITEM_CODE3': None,\n    'ITEM_NAME3': None,\n    'ITEM_CODE4': None,\n    'ITEM_NAME4': None,\n    'UNIT_NAME': '1980.1.4=100',\n    'TIME': '201705',\n    'DATA_VALUE': '2347.38'},\n   {'STAT_CODE': '902Y002',\n    'STAT_NAME': '9.1.6.2. 국제 주요국 주가지수',\n    'ITEM_CODE1': '3010101',\n    'ITEM_NAME1': '한국(KOSPI)',\n    'ITEM_CODE2': None,\n    'ITEM_NAME2': None,\n    'ITEM_CODE3': None,\n    'ITEM_NAME3': None,\n    'ITEM_CODE4': None,\n    'ITEM_NAME4': None,\n    'UNIT_NAME': '1980.1.4=100',\n    'TIME': '201706',\n    'DATA_VALUE': '2391.79'},\n   {'STAT_CODE': '902Y002',\n    'STAT_NAME': '9.1.6.2. 국제 주요국 주가지수',\n    'ITEM_CODE1': '3010101',\n    'ITEM_NAME1': '한국(KOSPI)',\n    'ITEM_CODE2': None,\n    'ITEM_NAME2': None,\n    'ITEM_CODE3': None,\n    'ITEM_NAME3': None,\n    'ITEM_CODE4': None,\n    'ITEM_NAME4': None,\n    'UNIT_NAME': '1980.1.4=100',\n    'TIME': '201707',\n    'DATA_VALUE': '2402.71'},\n   {'STAT_CODE': '902Y002',\n    'STAT_NAME': '9.1.6.2. 국제 주요국 주가지수',\n    'ITEM_CODE1': '3010101',\n    'ITEM_NAME1': '한국(KOSPI)',\n    'ITEM_CODE2': None,\n    'ITEM_NAME2': None,\n    'ITEM_CODE3': None,\n    'ITEM_NAME3': None,\n    'ITEM_CODE4': None,\n    'ITEM_NAME4': None,\n    'UNIT_NAME': '1980.1.4=100',\n    'TIME': '201708',\n    'DATA_VALUE': '2363.19'},\n   {'STAT_CODE': '902Y002',\n    'STAT_NAME': '9.1.6.2. 국제 주요국 주가지수',\n    'ITEM_CODE1': '3010101',\n    'ITEM_NAME1': '한국(KOSPI)',\n    'ITEM_CODE2': None,\n    'ITEM_NAME2': None,\n    'ITEM_CODE3': None,\n    'ITEM_NAME3': None,\n    'ITEM_CODE4': None,\n    'ITEM_NAME4': None,\n    'UNIT_NAME': '1980.1.4=100',\n    'TIME': '201709',\n    'DATA_VALUE': '2394.47'},\n   {'STAT_CODE': '902Y002',\n    'STAT_NAME': '9.1.6.2. 국제 주요국 주가지수',\n    'ITEM_CODE1': '3010101',\n    'ITEM_NAME1': '한국(KOSPI)',\n    'ITEM_CODE2': None,\n    'ITEM_NAME2': None,\n    'ITEM_CODE3': None,\n    'ITEM_NAME3': None,\n    'ITEM_CODE4': None,\n    'ITEM_NAME4': None,\n    'UNIT_NAME': '1980.1.4=100',\n    'TIME': '201710',\n    'DATA_VALUE': '2523.43'},\n   {'STAT_CODE': '902Y002',\n    'STAT_NAME': '9.1.6.2. 국제 주요국 주가지수',\n    'ITEM_CODE1': '3010101',\n    'ITEM_NAME1': '한국(KOSPI)',\n    'ITEM_CODE2': None,\n    'ITEM_NAME2': None,\n    'ITEM_CODE3': None,\n    'ITEM_NAME3': None,\n    'ITEM_CODE4': None,\n    'ITEM_NAME4': None,\n    'UNIT_NAME': '1980.1.4=100',\n    'TIME': '201711',\n    'DATA_VALUE': '2476.37'},\n   {'STAT_CODE': '902Y002',\n    'STAT_NAME': '9.1.6.2. 국제 주요국 주가지수',\n    'ITEM_CODE1': '3010101',\n    'ITEM_NAME1': '한국(KOSPI)',\n    'ITEM_CODE2': None,\n    'ITEM_NAME2': None,\n    'ITEM_CODE3': None,\n    'ITEM_NAME3': None,\n    'ITEM_CODE4': None,\n    'ITEM_NAME4': None,\n    'UNIT_NAME': '1980.1.4=100',\n    'TIME': '201712',\n    'DATA_VALUE': '2467.49'},\n   {'STAT_CODE': '902Y002',\n    'STAT_NAME': '9.1.6.2. 국제 주요국 주가지수',\n    'ITEM_CODE1': '3010101',\n    'ITEM_NAME1': '한국(KOSPI)',\n    'ITEM_CODE2': None,\n    'ITEM_NAME2': None,\n    'ITEM_CODE3': None,\n    'ITEM_NAME3': None,\n    'ITEM_CODE4': None,\n    'ITEM_NAME4': None,\n    'UNIT_NAME': '1980.1.4=100',\n    'TIME': '201801',\n    'DATA_VALUE': '2566.46'},\n   {'STAT_CODE': '902Y002',\n    'STAT_NAME': '9.1.6.2. 국제 주요국 주가지수',\n    'ITEM_CODE1': '3010101',\n    'ITEM_NAME1': '한국(KOSPI)',\n    'ITEM_CODE2': None,\n    'ITEM_NAME2': None,\n    'ITEM_CODE3': None,\n    'ITEM_NAME3': None,\n    'ITEM_CODE4': None,\n    'ITEM_NAME4': None,\n    'UNIT_NAME': '1980.1.4=100',\n    'TIME': '201802',\n    'DATA_VALUE': '2427.36'},\n   {'STAT_CODE': '902Y002',\n    'STAT_NAME': '9.1.6.2. 국제 주요국 주가지수',\n    'ITEM_CODE1': '3010101',\n    'ITEM_NAME1': '한국(KOSPI)',\n    'ITEM_CODE2': None,\n    'ITEM_NAME2': None,\n    'ITEM_CODE3': None,\n    'ITEM_NAME3': None,\n    'ITEM_CODE4': None,\n    'ITEM_NAME4': None,\n    'UNIT_NAME': '1980.1.4=100',\n    'TIME': '201803',\n    'DATA_VALUE': '2445.85'},\n   {'STAT_CODE': '902Y002',\n    'STAT_NAME': '9.1.6.2. 국제 주요국 주가지수',\n    'ITEM_CODE1': '3010101',\n    'ITEM_NAME1': '한국(KOSPI)',\n    'ITEM_CODE2': None,\n    'ITEM_NAME2': None,\n    'ITEM_CODE3': None,\n    'ITEM_NAME3': None,\n    'ITEM_CODE4': None,\n    'ITEM_NAME4': None,\n    'UNIT_NAME': '1980.1.4=100',\n    'TIME': '201804',\n    'DATA_VALUE': '2515.38'},\n   {'STAT_CODE': '902Y002',\n    'STAT_NAME': '9.1.6.2. 국제 주요국 주가지수',\n    'ITEM_CODE1': '3010101',\n    'ITEM_NAME1': '한국(KOSPI)',\n    'ITEM_CODE2': None,\n    'ITEM_NAME2': None,\n    'ITEM_CODE3': None,\n    'ITEM_NAME3': None,\n    'ITEM_CODE4': None,\n    'ITEM_NAME4': None,\n    'UNIT_NAME': '1980.1.4=100',\n    'TIME': '201805',\n    'DATA_VALUE': '2423.01'},\n   {'STAT_CODE': '902Y002',\n    'STAT_NAME': '9.1.6.2. 국제 주요국 주가지수',\n    'ITEM_CODE1': '3010101',\n    'ITEM_NAME1': '한국(KOSPI)',\n    'ITEM_CODE2': None,\n    'ITEM_NAME2': None,\n    'ITEM_CODE3': None,\n    'ITEM_NAME3': None,\n    'ITEM_CODE4': None,\n    'ITEM_NAME4': None,\n    'UNIT_NAME': '1980.1.4=100',\n    'TIME': '201806',\n    'DATA_VALUE': '2326.13'},\n   {'STAT_CODE': '902Y002',\n    'STAT_NAME': '9.1.6.2. 국제 주요국 주가지수',\n    'ITEM_CODE1': '3010101',\n    'ITEM_NAME1': '한국(KOSPI)',\n    'ITEM_CODE2': None,\n    'ITEM_NAME2': None,\n    'ITEM_CODE3': None,\n    'ITEM_NAME3': None,\n    'ITEM_CODE4': None,\n    'ITEM_NAME4': None,\n    'UNIT_NAME': '1980.1.4=100',\n    'TIME': '201807',\n    'DATA_VALUE': '2295.26'},\n   {'STAT_CODE': '902Y002',\n    'STAT_NAME': '9.1.6.2. 국제 주요국 주가지수',\n    'ITEM_CODE1': '3010101',\n    'ITEM_NAME1': '한국(KOSPI)',\n    'ITEM_CODE2': None,\n    'ITEM_NAME2': None,\n    'ITEM_CODE3': None,\n    'ITEM_NAME3': None,\n    'ITEM_CODE4': None,\n    'ITEM_NAME4': None,\n    'UNIT_NAME': '1980.1.4=100',\n    'TIME': '201808',\n    'DATA_VALUE': '2322.88'},\n   {'STAT_CODE': '902Y002',\n    'STAT_NAME': '9.1.6.2. 국제 주요국 주가지수',\n    'ITEM_CODE1': '3010101',\n    'ITEM_NAME1': '한국(KOSPI)',\n    'ITEM_CODE2': None,\n    'ITEM_NAME2': None,\n    'ITEM_CODE3': None,\n    'ITEM_NAME3': None,\n    'ITEM_CODE4': None,\n    'ITEM_NAME4': None,\n    'UNIT_NAME': '1980.1.4=100',\n    'TIME': '201809',\n    'DATA_VALUE': '2343.07'},\n   {'STAT_CODE': '902Y002',\n    'STAT_NAME': '9.1.6.2. 국제 주요국 주가지수',\n    'ITEM_CODE1': '3010101',\n    'ITEM_NAME1': '한국(KOSPI)',\n    'ITEM_CODE2': None,\n    'ITEM_NAME2': None,\n    'ITEM_CODE3': None,\n    'ITEM_NAME3': None,\n    'ITEM_CODE4': None,\n    'ITEM_NAME4': None,\n    'UNIT_NAME': '1980.1.4=100',\n    'TIME': '201810',\n    'DATA_VALUE': '2029.69'},\n   {'STAT_CODE': '902Y002',\n    'STAT_NAME': '9.1.6.2. 국제 주요국 주가지수',\n    'ITEM_CODE1': '3010101',\n    'ITEM_NAME1': '한국(KOSPI)',\n    'ITEM_CODE2': None,\n    'ITEM_NAME2': None,\n    'ITEM_CODE3': None,\n    'ITEM_NAME3': None,\n    'ITEM_CODE4': None,\n    'ITEM_NAME4': None,\n    'UNIT_NAME': '1980.1.4=100',\n    'TIME': '201811',\n    'DATA_VALUE': '2096.86'},\n   {'STAT_CODE': '902Y002',\n    'STAT_NAME': '9.1.6.2. 국제 주요국 주가지수',\n    'ITEM_CODE1': '3010101',\n    'ITEM_NAME1': '한국(KOSPI)',\n    'ITEM_CODE2': None,\n    'ITEM_NAME2': None,\n    'ITEM_CODE3': None,\n    'ITEM_NAME3': None,\n    'ITEM_CODE4': None,\n    'ITEM_NAME4': None,\n    'UNIT_NAME': '1980.1.4=100',\n    'TIME': '201812',\n    'DATA_VALUE': '2041.04'},\n   {'STAT_CODE': '902Y002',\n    'STAT_NAME': '9.1.6.2. 국제 주요국 주가지수',\n    'ITEM_CODE1': '3010101',\n    'ITEM_NAME1': '한국(KOSPI)',\n    'ITEM_CODE2': None,\n    'ITEM_NAME2': None,\n    'ITEM_CODE3': None,\n    'ITEM_NAME3': None,\n    'ITEM_CODE4': None,\n    'ITEM_NAME4': None,\n    'UNIT_NAME': '1980.1.4=100',\n    'TIME': '201901',\n    'DATA_VALUE': '2204.85'},\n   {'STAT_CODE': '902Y002',\n    'STAT_NAME': '9.1.6.2. 국제 주요국 주가지수',\n    'ITEM_CODE1': '3010101',\n    'ITEM_NAME1': '한국(KOSPI)',\n    'ITEM_CODE2': None,\n    'ITEM_NAME2': None,\n    'ITEM_CODE3': None,\n    'ITEM_NAME3': None,\n    'ITEM_CODE4': None,\n    'ITEM_NAME4': None,\n    'UNIT_NAME': '1980.1.4=100',\n    'TIME': '201902',\n    'DATA_VALUE': '2195.44'},\n   {'STAT_CODE': '902Y002',\n    'STAT_NAME': '9.1.6.2. 국제 주요국 주가지수',\n    'ITEM_CODE1': '3010101',\n    'ITEM_NAME1': '한국(KOSPI)',\n    'ITEM_CODE2': None,\n    'ITEM_NAME2': None,\n    'ITEM_CODE3': None,\n    'ITEM_NAME3': None,\n    'ITEM_CODE4': None,\n    'ITEM_NAME4': None,\n    'UNIT_NAME': '1980.1.4=100',\n    'TIME': '201903',\n    'DATA_VALUE': '2140.67'},\n   {'STAT_CODE': '902Y002',\n    'STAT_NAME': '9.1.6.2. 국제 주요국 주가지수',\n    'ITEM_CODE1': '3010101',\n    'ITEM_NAME1': '한국(KOSPI)',\n    'ITEM_CODE2': None,\n    'ITEM_NAME2': None,\n    'ITEM_CODE3': None,\n    'ITEM_NAME3': None,\n    'ITEM_CODE4': None,\n    'ITEM_NAME4': None,\n    'UNIT_NAME': '1980.1.4=100',\n    'TIME': '201904',\n    'DATA_VALUE': '2203.59'},\n   {'STAT_CODE': '902Y002',\n    'STAT_NAME': '9.1.6.2. 국제 주요국 주가지수',\n    'ITEM_CODE1': '3010101',\n    'ITEM_NAME1': '한국(KOSPI)',\n    'ITEM_CODE2': None,\n    'ITEM_NAME2': None,\n    'ITEM_CODE3': None,\n    'ITEM_NAME3': None,\n    'ITEM_CODE4': None,\n    'ITEM_NAME4': None,\n    'UNIT_NAME': '1980.1.4=100',\n    'TIME': '201905',\n    'DATA_VALUE': '2041.74'},\n   {'STAT_CODE': '902Y002',\n    'STAT_NAME': '9.1.6.2. 국제 주요국 주가지수',\n    'ITEM_CODE1': '3010101',\n    'ITEM_NAME1': '한국(KOSPI)',\n    'ITEM_CODE2': None,\n    'ITEM_NAME2': None,\n    'ITEM_CODE3': None,\n    'ITEM_NAME3': None,\n    'ITEM_CODE4': None,\n    'ITEM_NAME4': None,\n    'UNIT_NAME': '1980.1.4=100',\n    'TIME': '201906',\n    'DATA_VALUE': '2130.62'},\n   {'STAT_CODE': '902Y002',\n    'STAT_NAME': '9.1.6.2. 국제 주요국 주가지수',\n    'ITEM_CODE1': '3010101',\n    'ITEM_NAME1': '한국(KOSPI)',\n    'ITEM_CODE2': None,\n    'ITEM_NAME2': None,\n    'ITEM_CODE3': None,\n    'ITEM_NAME3': None,\n    'ITEM_CODE4': None,\n    'ITEM_NAME4': None,\n    'UNIT_NAME': '1980.1.4=100',\n    'TIME': '201907',\n    'DATA_VALUE': '2024.55'},\n   {'STAT_CODE': '902Y002',\n    'STAT_NAME': '9.1.6.2. 국제 주요국 주가지수',\n    'ITEM_CODE1': '3010101',\n    'ITEM_NAME1': '한국(KOSPI)',\n    'ITEM_CODE2': None,\n    'ITEM_NAME2': None,\n    'ITEM_CODE3': None,\n    'ITEM_NAME3': None,\n    'ITEM_CODE4': None,\n    'ITEM_NAME4': None,\n    'UNIT_NAME': '1980.1.4=100',\n    'TIME': '201908',\n    'DATA_VALUE': '1967.79'},\n   {'STAT_CODE': '902Y002',\n    'STAT_NAME': '9.1.6.2. 국제 주요국 주가지수',\n    'ITEM_CODE1': '3010101',\n    'ITEM_NAME1': '한국(KOSPI)',\n    'ITEM_CODE2': None,\n    'ITEM_NAME2': None,\n    'ITEM_CODE3': None,\n    'ITEM_NAME3': None,\n    'ITEM_CODE4': None,\n    'ITEM_NAME4': None,\n    'UNIT_NAME': '1980.1.4=100',\n    'TIME': '201909',\n    'DATA_VALUE': '2063.05'},\n   {'STAT_CODE': '902Y002',\n    'STAT_NAME': '9.1.6.2. 국제 주요국 주가지수',\n    'ITEM_CODE1': '3010101',\n    'ITEM_NAME1': '한국(KOSPI)',\n    'ITEM_CODE2': None,\n    'ITEM_NAME2': None,\n    'ITEM_CODE3': None,\n    'ITEM_NAME3': None,\n    'ITEM_CODE4': None,\n    'ITEM_NAME4': None,\n    'UNIT_NAME': '1980.1.4=100',\n    'TIME': '201910',\n    'DATA_VALUE': '2083.48'},\n   {'STAT_CODE': '902Y002',\n    'STAT_NAME': '9.1.6.2. 국제 주요국 주가지수',\n    'ITEM_CODE1': '3010101',\n    'ITEM_NAME1': '한국(KOSPI)',\n    'ITEM_CODE2': None,\n    'ITEM_NAME2': None,\n    'ITEM_CODE3': None,\n    'ITEM_NAME3': None,\n    'ITEM_CODE4': None,\n    'ITEM_NAME4': None,\n    'UNIT_NAME': '1980.1.4=100',\n    'TIME': '201911',\n    'DATA_VALUE': '2087.96'},\n   {'STAT_CODE': '902Y002',\n    'STAT_NAME': '9.1.6.2. 국제 주요국 주가지수',\n    'ITEM_CODE1': '3010101',\n    'ITEM_NAME1': '한국(KOSPI)',\n    'ITEM_CODE2': None,\n    'ITEM_NAME2': None,\n    'ITEM_CODE3': None,\n    'ITEM_NAME3': None,\n    'ITEM_CODE4': None,\n    'ITEM_NAME4': None,\n    'UNIT_NAME': '1980.1.4=100',\n    'TIME': '201912',\n    'DATA_VALUE': '2197.67'},\n   {'STAT_CODE': '902Y002',\n    'STAT_NAME': '9.1.6.2. 국제 주요국 주가지수',\n    'ITEM_CODE1': '3010101',\n    'ITEM_NAME1': '한국(KOSPI)',\n    'ITEM_CODE2': None,\n    'ITEM_NAME2': None,\n    'ITEM_CODE3': None,\n    'ITEM_NAME3': None,\n    'ITEM_CODE4': None,\n    'ITEM_NAME4': None,\n    'UNIT_NAME': '1980.1.4=100',\n    'TIME': '202001',\n    'DATA_VALUE': '2119.01'},\n   {'STAT_CODE': '902Y002',\n    'STAT_NAME': '9.1.6.2. 국제 주요국 주가지수',\n    'ITEM_CODE1': '3010101',\n    'ITEM_NAME1': '한국(KOSPI)',\n    'ITEM_CODE2': None,\n    'ITEM_NAME2': None,\n    'ITEM_CODE3': None,\n    'ITEM_NAME3': None,\n    'ITEM_CODE4': None,\n    'ITEM_NAME4': None,\n    'UNIT_NAME': '1980.1.4=100',\n    'TIME': '202002',\n    'DATA_VALUE': '1987.01'},\n   {'STAT_CODE': '902Y002',\n    'STAT_NAME': '9.1.6.2. 국제 주요국 주가지수',\n    'ITEM_CODE1': '3010101',\n    'ITEM_NAME1': '한국(KOSPI)',\n    'ITEM_CODE2': None,\n    'ITEM_NAME2': None,\n    'ITEM_CODE3': None,\n    'ITEM_NAME3': None,\n    'ITEM_CODE4': None,\n    'ITEM_NAME4': None,\n    'UNIT_NAME': '1980.1.4=100',\n    'TIME': '202003',\n    'DATA_VALUE': '1754.64'},\n   {'STAT_CODE': '902Y002',\n    'STAT_NAME': '9.1.6.2. 국제 주요국 주가지수',\n    'ITEM_CODE1': '3010101',\n    'ITEM_NAME1': '한국(KOSPI)',\n    'ITEM_CODE2': None,\n    'ITEM_NAME2': None,\n    'ITEM_CODE3': None,\n    'ITEM_NAME3': None,\n    'ITEM_CODE4': None,\n    'ITEM_NAME4': None,\n    'UNIT_NAME': '1980.1.4=100',\n    'TIME': '202004',\n    'DATA_VALUE': '1947.56'},\n   {'STAT_CODE': '902Y002',\n    'STAT_NAME': '9.1.6.2. 국제 주요국 주가지수',\n    'ITEM_CODE1': '3010101',\n    'ITEM_NAME1': '한국(KOSPI)',\n    'ITEM_CODE2': None,\n    'ITEM_NAME2': None,\n    'ITEM_CODE3': None,\n    'ITEM_NAME3': None,\n    'ITEM_CODE4': None,\n    'ITEM_NAME4': None,\n    'UNIT_NAME': '1980.1.4=100',\n    'TIME': '202005',\n    'DATA_VALUE': '2029.6'},\n   {'STAT_CODE': '902Y002',\n    'STAT_NAME': '9.1.6.2. 국제 주요국 주가지수',\n    'ITEM_CODE1': '3010101',\n    'ITEM_NAME1': '한국(KOSPI)',\n    'ITEM_CODE2': None,\n    'ITEM_NAME2': None,\n    'ITEM_CODE3': None,\n    'ITEM_NAME3': None,\n    'ITEM_CODE4': None,\n    'ITEM_NAME4': None,\n    'UNIT_NAME': '1980.1.4=100',\n    'TIME': '202006',\n    'DATA_VALUE': '2108.33'},\n   {'STAT_CODE': '902Y002',\n    'STAT_NAME': '9.1.6.2. 국제 주요국 주가지수',\n    'ITEM_CODE1': '3010101',\n    'ITEM_NAME1': '한국(KOSPI)',\n    'ITEM_CODE2': None,\n    'ITEM_NAME2': None,\n    'ITEM_CODE3': None,\n    'ITEM_NAME3': None,\n    'ITEM_CODE4': None,\n    'ITEM_NAME4': None,\n    'UNIT_NAME': '1980.1.4=100',\n    'TIME': '202007',\n    'DATA_VALUE': '2249.37'},\n   {'STAT_CODE': '902Y002',\n    'STAT_NAME': '9.1.6.2. 국제 주요국 주가지수',\n    'ITEM_CODE1': '3010101',\n    'ITEM_NAME1': '한국(KOSPI)',\n    'ITEM_CODE2': None,\n    'ITEM_NAME2': None,\n    'ITEM_CODE3': None,\n    'ITEM_NAME3': None,\n    'ITEM_CODE4': None,\n    'ITEM_NAME4': None,\n    'UNIT_NAME': '1980.1.4=100',\n    'TIME': '202008',\n    'DATA_VALUE': '2326.17'},\n   {'STAT_CODE': '902Y002',\n    'STAT_NAME': '9.1.6.2. 국제 주요국 주가지수',\n    'ITEM_CODE1': '3010101',\n    'ITEM_NAME1': '한국(KOSPI)',\n    'ITEM_CODE2': None,\n    'ITEM_NAME2': None,\n    'ITEM_CODE3': None,\n    'ITEM_NAME3': None,\n    'ITEM_CODE4': None,\n    'ITEM_NAME4': None,\n    'UNIT_NAME': '1980.1.4=100',\n    'TIME': '202009',\n    'DATA_VALUE': '2327.89'},\n   {'STAT_CODE': '902Y002',\n    'STAT_NAME': '9.1.6.2. 국제 주요국 주가지수',\n    'ITEM_CODE1': '3010101',\n    'ITEM_NAME1': '한국(KOSPI)',\n    'ITEM_CODE2': None,\n    'ITEM_NAME2': None,\n    'ITEM_CODE3': None,\n    'ITEM_NAME3': None,\n    'ITEM_CODE4': None,\n    'ITEM_NAME4': None,\n    'UNIT_NAME': '1980.1.4=100',\n    'TIME': '202010',\n    'DATA_VALUE': '2267.15'},\n   {'STAT_CODE': '902Y002',\n    'STAT_NAME': '9.1.6.2. 국제 주요국 주가지수',\n    'ITEM_CODE1': '3010101',\n    'ITEM_NAME1': '한국(KOSPI)',\n    'ITEM_CODE2': None,\n    'ITEM_NAME2': None,\n    'ITEM_CODE3': None,\n    'ITEM_NAME3': None,\n    'ITEM_CODE4': None,\n    'ITEM_NAME4': None,\n    'UNIT_NAME': '1980.1.4=100',\n    'TIME': '202011',\n    'DATA_VALUE': '2591.34'},\n   {'STAT_CODE': '902Y002',\n    'STAT_NAME': '9.1.6.2. 국제 주요국 주가지수',\n    'ITEM_CODE1': '3010101',\n    'ITEM_NAME1': '한국(KOSPI)',\n    'ITEM_CODE2': None,\n    'ITEM_NAME2': None,\n    'ITEM_CODE3': None,\n    'ITEM_NAME3': None,\n    'ITEM_CODE4': None,\n    'ITEM_NAME4': None,\n    'UNIT_NAME': '1980.1.4=100',\n    'TIME': '202012',\n    'DATA_VALUE': '2873.47'},\n   {'STAT_CODE': '902Y002',\n    'STAT_NAME': '9.1.6.2. 국제 주요국 주가지수',\n    'ITEM_CODE1': '3010101',\n    'ITEM_NAME1': '한국(KOSPI)',\n    'ITEM_CODE2': None,\n    'ITEM_NAME2': None,\n    'ITEM_CODE3': None,\n    'ITEM_NAME3': None,\n    'ITEM_CODE4': None,\n    'ITEM_NAME4': None,\n    'UNIT_NAME': '1980.1.4=100',\n    'TIME': '202101',\n    'DATA_VALUE': '2976.21'},\n   {'STAT_CODE': '902Y002',\n    'STAT_NAME': '9.1.6.2. 국제 주요국 주가지수',\n    'ITEM_CODE1': '3010101',\n    'ITEM_NAME1': '한국(KOSPI)',\n    'ITEM_CODE2': None,\n    'ITEM_NAME2': None,\n    'ITEM_CODE3': None,\n    'ITEM_NAME3': None,\n    'ITEM_CODE4': None,\n    'ITEM_NAME4': None,\n    'UNIT_NAME': '1980.1.4=100',\n    'TIME': '202102',\n    'DATA_VALUE': '3012.95'},\n   {'STAT_CODE': '902Y002',\n    'STAT_NAME': '9.1.6.2. 국제 주요국 주가지수',\n    'ITEM_CODE1': '3010101',\n    'ITEM_NAME1': '한국(KOSPI)',\n    'ITEM_CODE2': None,\n    'ITEM_NAME2': None,\n    'ITEM_CODE3': None,\n    'ITEM_NAME3': None,\n    'ITEM_CODE4': None,\n    'ITEM_NAME4': None,\n    'UNIT_NAME': '1980.1.4=100',\n    'TIME': '202103',\n    'DATA_VALUE': '3061.42'},\n   {'STAT_CODE': '902Y002',\n    'STAT_NAME': '9.1.6.2. 국제 주요국 주가지수',\n    'ITEM_CODE1': '3010101',\n    'ITEM_NAME1': '한국(KOSPI)',\n    'ITEM_CODE2': None,\n    'ITEM_NAME2': None,\n    'ITEM_CODE3': None,\n    'ITEM_NAME3': None,\n    'ITEM_CODE4': None,\n    'ITEM_NAME4': None,\n    'UNIT_NAME': '1980.1.4=100',\n    'TIME': '202104',\n    'DATA_VALUE': '3147.86'},\n   {'STAT_CODE': '902Y002',\n    'STAT_NAME': '9.1.6.2. 국제 주요국 주가지수',\n    'ITEM_CODE1': '3010101',\n    'ITEM_NAME1': '한국(KOSPI)',\n    'ITEM_CODE2': None,\n    'ITEM_NAME2': None,\n    'ITEM_CODE3': None,\n    'ITEM_NAME3': None,\n    'ITEM_CODE4': None,\n    'ITEM_NAME4': None,\n    'UNIT_NAME': '1980.1.4=100',\n    'TIME': '202105',\n    'DATA_VALUE': '3203.92'},\n   {'STAT_CODE': '902Y002',\n    'STAT_NAME': '9.1.6.2. 국제 주요국 주가지수',\n    'ITEM_CODE1': '3010101',\n    'ITEM_NAME1': '한국(KOSPI)',\n    'ITEM_CODE2': None,\n    'ITEM_NAME2': None,\n    'ITEM_CODE3': None,\n    'ITEM_NAME3': None,\n    'ITEM_CODE4': None,\n    'ITEM_NAME4': None,\n    'UNIT_NAME': '1980.1.4=100',\n    'TIME': '202106',\n    'DATA_VALUE': '3296.68'},\n   {'STAT_CODE': '902Y002',\n    'STAT_NAME': '9.1.6.2. 국제 주요국 주가지수',\n    'ITEM_CODE1': '3010101',\n    'ITEM_NAME1': '한국(KOSPI)',\n    'ITEM_CODE2': None,\n    'ITEM_NAME2': None,\n    'ITEM_CODE3': None,\n    'ITEM_NAME3': None,\n    'ITEM_CODE4': None,\n    'ITEM_NAME4': None,\n    'UNIT_NAME': '1980.1.4=100',\n    'TIME': '202107',\n    'DATA_VALUE': '3202.32'},\n   {'STAT_CODE': '902Y002',\n    'STAT_NAME': '9.1.6.2. 국제 주요국 주가지수',\n    'ITEM_CODE1': '3010101',\n    'ITEM_NAME1': '한국(KOSPI)',\n    'ITEM_CODE2': None,\n    'ITEM_NAME2': None,\n    'ITEM_CODE3': None,\n    'ITEM_NAME3': None,\n    'ITEM_CODE4': None,\n    'ITEM_NAME4': None,\n    'UNIT_NAME': '1980.1.4=100',\n    'TIME': '202108',\n    'DATA_VALUE': '3199.27'},\n   {'STAT_CODE': '902Y002',\n    'STAT_NAME': '9.1.6.2. 국제 주요국 주가지수',\n    'ITEM_CODE1': '3010101',\n    'ITEM_NAME1': '한국(KOSPI)',\n    'ITEM_CODE2': None,\n    'ITEM_NAME2': None,\n    'ITEM_CODE3': None,\n    'ITEM_NAME3': None,\n    'ITEM_CODE4': None,\n    'ITEM_NAME4': None,\n    'UNIT_NAME': '1980.1.4=100',\n    'TIME': '202109',\n    'DATA_VALUE': '3068.82'},\n   {'STAT_CODE': '902Y002',\n    'STAT_NAME': '9.1.6.2. 국제 주요국 주가지수',\n    'ITEM_CODE1': '3010101',\n    'ITEM_NAME1': '한국(KOSPI)',\n    'ITEM_CODE2': None,\n    'ITEM_NAME2': None,\n    'ITEM_CODE3': None,\n    'ITEM_NAME3': None,\n    'ITEM_CODE4': None,\n    'ITEM_NAME4': None,\n    'UNIT_NAME': '1980.1.4=100',\n    'TIME': '202110',\n    'DATA_VALUE': '2970.68'},\n   {'STAT_CODE': '902Y002',\n    'STAT_NAME': '9.1.6.2. 국제 주요국 주가지수',\n    'ITEM_CODE1': '3010101',\n    'ITEM_NAME1': '한국(KOSPI)',\n    'ITEM_CODE2': None,\n    'ITEM_NAME2': None,\n    'ITEM_CODE3': None,\n    'ITEM_NAME3': None,\n    'ITEM_CODE4': None,\n    'ITEM_NAME4': None,\n    'UNIT_NAME': '1980.1.4=100',\n    'TIME': '202111',\n    'DATA_VALUE': '2839.01'},\n   {'STAT_CODE': '902Y002',\n    'STAT_NAME': '9.1.6.2. 국제 주요국 주가지수',\n    'ITEM_CODE1': '3010101',\n    'ITEM_NAME1': '한국(KOSPI)',\n    'ITEM_CODE2': None,\n    'ITEM_NAME2': None,\n    'ITEM_CODE3': None,\n    'ITEM_NAME3': None,\n    'ITEM_CODE4': None,\n    'ITEM_NAME4': None,\n    'UNIT_NAME': '1980.1.4=100',\n    'TIME': '202112',\n    'DATA_VALUE': '2977.65'},\n   {'STAT_CODE': '902Y002',\n    'STAT_NAME': '9.1.6.2. 국제 주요국 주가지수',\n    'ITEM_CODE1': '3010101',\n    'ITEM_NAME1': '한국(KOSPI)',\n    'ITEM_CODE2': None,\n    'ITEM_NAME2': None,\n    'ITEM_CODE3': None,\n    'ITEM_NAME3': None,\n    'ITEM_CODE4': None,\n    'ITEM_NAME4': None,\n    'UNIT_NAME': '1980.1.4=100',\n    'TIME': '202201',\n    'DATA_VALUE': '2663.34'},\n   {'STAT_CODE': '902Y002',\n    'STAT_NAME': '9.1.6.2. 국제 주요국 주가지수',\n    'ITEM_CODE1': '3010101',\n    'ITEM_NAME1': '한국(KOSPI)',\n    'ITEM_CODE2': None,\n    'ITEM_NAME2': None,\n    'ITEM_CODE3': None,\n    'ITEM_NAME3': None,\n    'ITEM_CODE4': None,\n    'ITEM_NAME4': None,\n    'UNIT_NAME': '1980.1.4=100',\n    'TIME': '202202',\n    'DATA_VALUE': '2699.18'},\n   {'STAT_CODE': '902Y002',\n    'STAT_NAME': '9.1.6.2. 국제 주요국 주가지수',\n    'ITEM_CODE1': '3010101',\n    'ITEM_NAME1': '한국(KOSPI)',\n    'ITEM_CODE2': None,\n    'ITEM_NAME2': None,\n    'ITEM_CODE3': None,\n    'ITEM_NAME3': None,\n    'ITEM_CODE4': None,\n    'ITEM_NAME4': None,\n    'UNIT_NAME': '1980.1.4=100',\n    'TIME': '202203',\n    'DATA_VALUE': '2757.65'},\n   {'STAT_CODE': '902Y002',\n    'STAT_NAME': '9.1.6.2. 국제 주요국 주가지수',\n    'ITEM_CODE1': '3010101',\n    'ITEM_NAME1': '한국(KOSPI)',\n    'ITEM_CODE2': None,\n    'ITEM_NAME2': None,\n    'ITEM_CODE3': None,\n    'ITEM_NAME3': None,\n    'ITEM_CODE4': None,\n    'ITEM_NAME4': None,\n    'UNIT_NAME': '1980.1.4=100',\n    'TIME': '202204',\n    'DATA_VALUE': '2695.05'},\n   {'STAT_CODE': '902Y002',\n    'STAT_NAME': '9.1.6.2. 국제 주요국 주가지수',\n    'ITEM_CODE1': '3010101',\n    'ITEM_NAME1': '한국(KOSPI)',\n    'ITEM_CODE2': None,\n    'ITEM_NAME2': None,\n    'ITEM_CODE3': None,\n    'ITEM_NAME3': None,\n    'ITEM_CODE4': None,\n    'ITEM_NAME4': None,\n    'UNIT_NAME': '1980.1.4=100',\n    'TIME': '202205',\n    'DATA_VALUE': '2685.9'},\n   {'STAT_CODE': '902Y002',\n    'STAT_NAME': '9.1.6.2. 국제 주요국 주가지수',\n    'ITEM_CODE1': '3010101',\n    'ITEM_NAME1': '한국(KOSPI)',\n    'ITEM_CODE2': None,\n    'ITEM_NAME2': None,\n    'ITEM_CODE3': None,\n    'ITEM_NAME3': None,\n    'ITEM_CODE4': None,\n    'ITEM_NAME4': None,\n    'UNIT_NAME': '1980.1.4=100',\n    'TIME': '202206',\n    'DATA_VALUE': '2332.64'},\n   {'STAT_CODE': '902Y002',\n    'STAT_NAME': '9.1.6.2. 국제 주요국 주가지수',\n    'ITEM_CODE1': '3010101',\n    'ITEM_NAME1': '한국(KOSPI)',\n    'ITEM_CODE2': None,\n    'ITEM_NAME2': None,\n    'ITEM_CODE3': None,\n    'ITEM_NAME3': None,\n    'ITEM_CODE4': None,\n    'ITEM_NAME4': None,\n    'UNIT_NAME': '1980.1.4=100',\n    'TIME': '202207',\n    'DATA_VALUE': '2451.5'},\n   {'STAT_CODE': '902Y002',\n    'STAT_NAME': '9.1.6.2. 국제 주요국 주가지수',\n    'ITEM_CODE1': '3010101',\n    'ITEM_NAME1': '한국(KOSPI)',\n    'ITEM_CODE2': None,\n    'ITEM_NAME2': None,\n    'ITEM_CODE3': None,\n    'ITEM_NAME3': None,\n    'ITEM_CODE4': None,\n    'ITEM_NAME4': None,\n    'UNIT_NAME': '1980.1.4=100',\n    'TIME': '202208',\n    'DATA_VALUE': '2472.05'},\n   {'STAT_CODE': '902Y002',\n    'STAT_NAME': '9.1.6.2. 국제 주요국 주가지수',\n    'ITEM_CODE1': '3010101',\n    'ITEM_NAME1': '한국(KOSPI)',\n    'ITEM_CODE2': None,\n    'ITEM_NAME2': None,\n    'ITEM_CODE3': None,\n    'ITEM_NAME3': None,\n    'ITEM_CODE4': None,\n    'ITEM_NAME4': None,\n    'UNIT_NAME': '1980.1.4=100',\n    'TIME': '202209',\n    'DATA_VALUE': '2155.49'}]}}"
     },
     "execution_count": 70,
     "metadata": {},
     "output_type": "execute_result"
    }
   ],
   "source": [
    "# # 국제 주요국 지수\n",
    "# url = f\"https://ecos.bok.or.kr/api/StatisticSearch/{api_key}/json/kr/1/1000/902Y002/M/201501/202209/3010101\"\n",
    "# response = requests.get(url)\n",
    "# data = response.json()\n",
    "# data\n",
    "# df = pd.DataFrame(data[\"StatisticSearch\"][\"row\"])"
   ],
   "metadata": {
    "collapsed": false,
    "pycharm": {
     "name": "#%%\n"
    }
   }
  },
  {
   "cell_type": "code",
   "execution_count": 62,
   "outputs": [
    {
     "data": {
      "text/plain": "{'StatisticSearch': {'list_total_count': 93,\n  'row': [{'STAT_CODE': '902Y002',\n    'STAT_NAME': '9.1.6.2. 국제 주요국 주가지수',\n    'ITEM_CODE1': '3010101',\n    'ITEM_NAME1': '한국(KOSPI)',\n    'ITEM_CODE2': None,\n    'ITEM_NAME2': None,\n    'ITEM_CODE3': None,\n    'ITEM_NAME3': None,\n    'ITEM_CODE4': None,\n    'ITEM_NAME4': None,\n    'UNIT_NAME': '1980.1.4=100',\n    'TIME': '201501',\n    'DATA_VALUE': '1949.26'},\n   {'STAT_CODE': '902Y002',\n    'STAT_NAME': '9.1.6.2. 국제 주요국 주가지수',\n    'ITEM_CODE1': '3010101',\n    'ITEM_NAME1': '한국(KOSPI)',\n    'ITEM_CODE2': None,\n    'ITEM_NAME2': None,\n    'ITEM_CODE3': None,\n    'ITEM_NAME3': None,\n    'ITEM_CODE4': None,\n    'ITEM_NAME4': None,\n    'UNIT_NAME': '1980.1.4=100',\n    'TIME': '201502',\n    'DATA_VALUE': '1985.8'},\n   {'STAT_CODE': '902Y002',\n    'STAT_NAME': '9.1.6.2. 국제 주요국 주가지수',\n    'ITEM_CODE1': '3010101',\n    'ITEM_NAME1': '한국(KOSPI)',\n    'ITEM_CODE2': None,\n    'ITEM_NAME2': None,\n    'ITEM_CODE3': None,\n    'ITEM_NAME3': None,\n    'ITEM_CODE4': None,\n    'ITEM_NAME4': None,\n    'UNIT_NAME': '1980.1.4=100',\n    'TIME': '201503',\n    'DATA_VALUE': '2041.03'},\n   {'STAT_CODE': '902Y002',\n    'STAT_NAME': '9.1.6.2. 국제 주요국 주가지수',\n    'ITEM_CODE1': '3010101',\n    'ITEM_NAME1': '한국(KOSPI)',\n    'ITEM_CODE2': None,\n    'ITEM_NAME2': None,\n    'ITEM_CODE3': None,\n    'ITEM_NAME3': None,\n    'ITEM_CODE4': None,\n    'ITEM_NAME4': None,\n    'UNIT_NAME': '1980.1.4=100',\n    'TIME': '201504',\n    'DATA_VALUE': '2127.17'},\n   {'STAT_CODE': '902Y002',\n    'STAT_NAME': '9.1.6.2. 국제 주요국 주가지수',\n    'ITEM_CODE1': '3010101',\n    'ITEM_NAME1': '한국(KOSPI)',\n    'ITEM_CODE2': None,\n    'ITEM_NAME2': None,\n    'ITEM_CODE3': None,\n    'ITEM_NAME3': None,\n    'ITEM_CODE4': None,\n    'ITEM_NAME4': None,\n    'UNIT_NAME': '1980.1.4=100',\n    'TIME': '201505',\n    'DATA_VALUE': '2114.8'},\n   {'STAT_CODE': '902Y002',\n    'STAT_NAME': '9.1.6.2. 국제 주요국 주가지수',\n    'ITEM_CODE1': '3010101',\n    'ITEM_NAME1': '한국(KOSPI)',\n    'ITEM_CODE2': None,\n    'ITEM_NAME2': None,\n    'ITEM_CODE3': None,\n    'ITEM_NAME3': None,\n    'ITEM_CODE4': None,\n    'ITEM_NAME4': None,\n    'UNIT_NAME': '1980.1.4=100',\n    'TIME': '201506',\n    'DATA_VALUE': '2074.2'},\n   {'STAT_CODE': '902Y002',\n    'STAT_NAME': '9.1.6.2. 국제 주요국 주가지수',\n    'ITEM_CODE1': '3010101',\n    'ITEM_NAME1': '한국(KOSPI)',\n    'ITEM_CODE2': None,\n    'ITEM_NAME2': None,\n    'ITEM_CODE3': None,\n    'ITEM_NAME3': None,\n    'ITEM_CODE4': None,\n    'ITEM_NAME4': None,\n    'UNIT_NAME': '1980.1.4=100',\n    'TIME': '201507',\n    'DATA_VALUE': '2030.16'},\n   {'STAT_CODE': '902Y002',\n    'STAT_NAME': '9.1.6.2. 국제 주요국 주가지수',\n    'ITEM_CODE1': '3010101',\n    'ITEM_NAME1': '한국(KOSPI)',\n    'ITEM_CODE2': None,\n    'ITEM_NAME2': None,\n    'ITEM_CODE3': None,\n    'ITEM_NAME3': None,\n    'ITEM_CODE4': None,\n    'ITEM_NAME4': None,\n    'UNIT_NAME': '1980.1.4=100',\n    'TIME': '201508',\n    'DATA_VALUE': '1941.49'},\n   {'STAT_CODE': '902Y002',\n    'STAT_NAME': '9.1.6.2. 국제 주요국 주가지수',\n    'ITEM_CODE1': '3010101',\n    'ITEM_NAME1': '한국(KOSPI)',\n    'ITEM_CODE2': None,\n    'ITEM_NAME2': None,\n    'ITEM_CODE3': None,\n    'ITEM_NAME3': None,\n    'ITEM_CODE4': None,\n    'ITEM_NAME4': None,\n    'UNIT_NAME': '1980.1.4=100',\n    'TIME': '201509',\n    'DATA_VALUE': '1962.81'},\n   {'STAT_CODE': '902Y002',\n    'STAT_NAME': '9.1.6.2. 국제 주요국 주가지수',\n    'ITEM_CODE1': '3010101',\n    'ITEM_NAME1': '한국(KOSPI)',\n    'ITEM_CODE2': None,\n    'ITEM_NAME2': None,\n    'ITEM_CODE3': None,\n    'ITEM_NAME3': None,\n    'ITEM_CODE4': None,\n    'ITEM_NAME4': None,\n    'UNIT_NAME': '1980.1.4=100',\n    'TIME': '201510',\n    'DATA_VALUE': '2029.47'},\n   {'STAT_CODE': '902Y002',\n    'STAT_NAME': '9.1.6.2. 국제 주요국 주가지수',\n    'ITEM_CODE1': '3010101',\n    'ITEM_NAME1': '한국(KOSPI)',\n    'ITEM_CODE2': None,\n    'ITEM_NAME2': None,\n    'ITEM_CODE3': None,\n    'ITEM_NAME3': None,\n    'ITEM_CODE4': None,\n    'ITEM_NAME4': None,\n    'UNIT_NAME': '1980.1.4=100',\n    'TIME': '201511',\n    'DATA_VALUE': '1991.97'},\n   {'STAT_CODE': '902Y002',\n    'STAT_NAME': '9.1.6.2. 국제 주요국 주가지수',\n    'ITEM_CODE1': '3010101',\n    'ITEM_NAME1': '한국(KOSPI)',\n    'ITEM_CODE2': None,\n    'ITEM_NAME2': None,\n    'ITEM_CODE3': None,\n    'ITEM_NAME3': None,\n    'ITEM_CODE4': None,\n    'ITEM_NAME4': None,\n    'UNIT_NAME': '1980.1.4=100',\n    'TIME': '201512',\n    'DATA_VALUE': '1961.31'},\n   {'STAT_CODE': '902Y002',\n    'STAT_NAME': '9.1.6.2. 국제 주요국 주가지수',\n    'ITEM_CODE1': '3010101',\n    'ITEM_NAME1': '한국(KOSPI)',\n    'ITEM_CODE2': None,\n    'ITEM_NAME2': None,\n    'ITEM_CODE3': None,\n    'ITEM_NAME3': None,\n    'ITEM_CODE4': None,\n    'ITEM_NAME4': None,\n    'UNIT_NAME': '1980.1.4=100',\n    'TIME': '201601',\n    'DATA_VALUE': '1912.06'},\n   {'STAT_CODE': '902Y002',\n    'STAT_NAME': '9.1.6.2. 국제 주요국 주가지수',\n    'ITEM_CODE1': '3010101',\n    'ITEM_NAME1': '한국(KOSPI)',\n    'ITEM_CODE2': None,\n    'ITEM_NAME2': None,\n    'ITEM_CODE3': None,\n    'ITEM_NAME3': None,\n    'ITEM_CODE4': None,\n    'ITEM_NAME4': None,\n    'UNIT_NAME': '1980.1.4=100',\n    'TIME': '201602',\n    'DATA_VALUE': '1916.66'},\n   {'STAT_CODE': '902Y002',\n    'STAT_NAME': '9.1.6.2. 국제 주요국 주가지수',\n    'ITEM_CODE1': '3010101',\n    'ITEM_NAME1': '한국(KOSPI)',\n    'ITEM_CODE2': None,\n    'ITEM_NAME2': None,\n    'ITEM_CODE3': None,\n    'ITEM_NAME3': None,\n    'ITEM_CODE4': None,\n    'ITEM_NAME4': None,\n    'UNIT_NAME': '1980.1.4=100',\n    'TIME': '201603',\n    'DATA_VALUE': '1995.85'},\n   {'STAT_CODE': '902Y002',\n    'STAT_NAME': '9.1.6.2. 국제 주요국 주가지수',\n    'ITEM_CODE1': '3010101',\n    'ITEM_NAME1': '한국(KOSPI)',\n    'ITEM_CODE2': None,\n    'ITEM_NAME2': None,\n    'ITEM_CODE3': None,\n    'ITEM_NAME3': None,\n    'ITEM_CODE4': None,\n    'ITEM_NAME4': None,\n    'UNIT_NAME': '1980.1.4=100',\n    'TIME': '201604',\n    'DATA_VALUE': '1994.15'},\n   {'STAT_CODE': '902Y002',\n    'STAT_NAME': '9.1.6.2. 국제 주요국 주가지수',\n    'ITEM_CODE1': '3010101',\n    'ITEM_NAME1': '한국(KOSPI)',\n    'ITEM_CODE2': None,\n    'ITEM_NAME2': None,\n    'ITEM_CODE3': None,\n    'ITEM_NAME3': None,\n    'ITEM_CODE4': None,\n    'ITEM_NAME4': None,\n    'UNIT_NAME': '1980.1.4=100',\n    'TIME': '201605',\n    'DATA_VALUE': '1983.4'},\n   {'STAT_CODE': '902Y002',\n    'STAT_NAME': '9.1.6.2. 국제 주요국 주가지수',\n    'ITEM_CODE1': '3010101',\n    'ITEM_NAME1': '한국(KOSPI)',\n    'ITEM_CODE2': None,\n    'ITEM_NAME2': None,\n    'ITEM_CODE3': None,\n    'ITEM_NAME3': None,\n    'ITEM_CODE4': None,\n    'ITEM_NAME4': None,\n    'UNIT_NAME': '1980.1.4=100',\n    'TIME': '201606',\n    'DATA_VALUE': '1970.35'},\n   {'STAT_CODE': '902Y002',\n    'STAT_NAME': '9.1.6.2. 국제 주요국 주가지수',\n    'ITEM_CODE1': '3010101',\n    'ITEM_NAME1': '한국(KOSPI)',\n    'ITEM_CODE2': None,\n    'ITEM_NAME2': None,\n    'ITEM_CODE3': None,\n    'ITEM_NAME3': None,\n    'ITEM_CODE4': None,\n    'ITEM_NAME4': None,\n    'UNIT_NAME': '1980.1.4=100',\n    'TIME': '201607',\n    'DATA_VALUE': '2016.19'},\n   {'STAT_CODE': '902Y002',\n    'STAT_NAME': '9.1.6.2. 국제 주요국 주가지수',\n    'ITEM_CODE1': '3010101',\n    'ITEM_NAME1': '한국(KOSPI)',\n    'ITEM_CODE2': None,\n    'ITEM_NAME2': None,\n    'ITEM_CODE3': None,\n    'ITEM_NAME3': None,\n    'ITEM_CODE4': None,\n    'ITEM_NAME4': None,\n    'UNIT_NAME': '1980.1.4=100',\n    'TIME': '201608',\n    'DATA_VALUE': '2034.65'},\n   {'STAT_CODE': '902Y002',\n    'STAT_NAME': '9.1.6.2. 국제 주요국 주가지수',\n    'ITEM_CODE1': '3010101',\n    'ITEM_NAME1': '한국(KOSPI)',\n    'ITEM_CODE2': None,\n    'ITEM_NAME2': None,\n    'ITEM_CODE3': None,\n    'ITEM_NAME3': None,\n    'ITEM_CODE4': None,\n    'ITEM_NAME4': None,\n    'UNIT_NAME': '1980.1.4=100',\n    'TIME': '201609',\n    'DATA_VALUE': '2043.63'},\n   {'STAT_CODE': '902Y002',\n    'STAT_NAME': '9.1.6.2. 국제 주요국 주가지수',\n    'ITEM_CODE1': '3010101',\n    'ITEM_NAME1': '한국(KOSPI)',\n    'ITEM_CODE2': None,\n    'ITEM_NAME2': None,\n    'ITEM_CODE3': None,\n    'ITEM_NAME3': None,\n    'ITEM_CODE4': None,\n    'ITEM_NAME4': None,\n    'UNIT_NAME': '1980.1.4=100',\n    'TIME': '201610',\n    'DATA_VALUE': '2008.19'},\n   {'STAT_CODE': '902Y002',\n    'STAT_NAME': '9.1.6.2. 국제 주요국 주가지수',\n    'ITEM_CODE1': '3010101',\n    'ITEM_NAME1': '한국(KOSPI)',\n    'ITEM_CODE2': None,\n    'ITEM_NAME2': None,\n    'ITEM_CODE3': None,\n    'ITEM_NAME3': None,\n    'ITEM_CODE4': None,\n    'ITEM_NAME4': None,\n    'UNIT_NAME': '1980.1.4=100',\n    'TIME': '201611',\n    'DATA_VALUE': '1983.48'},\n   {'STAT_CODE': '902Y002',\n    'STAT_NAME': '9.1.6.2. 국제 주요국 주가지수',\n    'ITEM_CODE1': '3010101',\n    'ITEM_NAME1': '한국(KOSPI)',\n    'ITEM_CODE2': None,\n    'ITEM_NAME2': None,\n    'ITEM_CODE3': None,\n    'ITEM_NAME3': None,\n    'ITEM_CODE4': None,\n    'ITEM_NAME4': None,\n    'UNIT_NAME': '1980.1.4=100',\n    'TIME': '201612',\n    'DATA_VALUE': '2026.46'},\n   {'STAT_CODE': '902Y002',\n    'STAT_NAME': '9.1.6.2. 국제 주요국 주가지수',\n    'ITEM_CODE1': '3010101',\n    'ITEM_NAME1': '한국(KOSPI)',\n    'ITEM_CODE2': None,\n    'ITEM_NAME2': None,\n    'ITEM_CODE3': None,\n    'ITEM_NAME3': None,\n    'ITEM_CODE4': None,\n    'ITEM_NAME4': None,\n    'UNIT_NAME': '1980.1.4=100',\n    'TIME': '201701',\n    'DATA_VALUE': '2067.57'},\n   {'STAT_CODE': '902Y002',\n    'STAT_NAME': '9.1.6.2. 국제 주요국 주가지수',\n    'ITEM_CODE1': '3010101',\n    'ITEM_NAME1': '한국(KOSPI)',\n    'ITEM_CODE2': None,\n    'ITEM_NAME2': None,\n    'ITEM_CODE3': None,\n    'ITEM_NAME3': None,\n    'ITEM_CODE4': None,\n    'ITEM_NAME4': None,\n    'UNIT_NAME': '1980.1.4=100',\n    'TIME': '201702',\n    'DATA_VALUE': '2091.64'},\n   {'STAT_CODE': '902Y002',\n    'STAT_NAME': '9.1.6.2. 국제 주요국 주가지수',\n    'ITEM_CODE1': '3010101',\n    'ITEM_NAME1': '한국(KOSPI)',\n    'ITEM_CODE2': None,\n    'ITEM_NAME2': None,\n    'ITEM_CODE3': None,\n    'ITEM_NAME3': None,\n    'ITEM_CODE4': None,\n    'ITEM_NAME4': None,\n    'UNIT_NAME': '1980.1.4=100',\n    'TIME': '201703',\n    'DATA_VALUE': '2160.23'},\n   {'STAT_CODE': '902Y002',\n    'STAT_NAME': '9.1.6.2. 국제 주요국 주가지수',\n    'ITEM_CODE1': '3010101',\n    'ITEM_NAME1': '한국(KOSPI)',\n    'ITEM_CODE2': None,\n    'ITEM_NAME2': None,\n    'ITEM_CODE3': None,\n    'ITEM_NAME3': None,\n    'ITEM_CODE4': None,\n    'ITEM_NAME4': None,\n    'UNIT_NAME': '1980.1.4=100',\n    'TIME': '201704',\n    'DATA_VALUE': '2205.44'},\n   {'STAT_CODE': '902Y002',\n    'STAT_NAME': '9.1.6.2. 국제 주요국 주가지수',\n    'ITEM_CODE1': '3010101',\n    'ITEM_NAME1': '한국(KOSPI)',\n    'ITEM_CODE2': None,\n    'ITEM_NAME2': None,\n    'ITEM_CODE3': None,\n    'ITEM_NAME3': None,\n    'ITEM_CODE4': None,\n    'ITEM_NAME4': None,\n    'UNIT_NAME': '1980.1.4=100',\n    'TIME': '201705',\n    'DATA_VALUE': '2347.38'},\n   {'STAT_CODE': '902Y002',\n    'STAT_NAME': '9.1.6.2. 국제 주요국 주가지수',\n    'ITEM_CODE1': '3010101',\n    'ITEM_NAME1': '한국(KOSPI)',\n    'ITEM_CODE2': None,\n    'ITEM_NAME2': None,\n    'ITEM_CODE3': None,\n    'ITEM_NAME3': None,\n    'ITEM_CODE4': None,\n    'ITEM_NAME4': None,\n    'UNIT_NAME': '1980.1.4=100',\n    'TIME': '201706',\n    'DATA_VALUE': '2391.79'},\n   {'STAT_CODE': '902Y002',\n    'STAT_NAME': '9.1.6.2. 국제 주요국 주가지수',\n    'ITEM_CODE1': '3010101',\n    'ITEM_NAME1': '한국(KOSPI)',\n    'ITEM_CODE2': None,\n    'ITEM_NAME2': None,\n    'ITEM_CODE3': None,\n    'ITEM_NAME3': None,\n    'ITEM_CODE4': None,\n    'ITEM_NAME4': None,\n    'UNIT_NAME': '1980.1.4=100',\n    'TIME': '201707',\n    'DATA_VALUE': '2402.71'},\n   {'STAT_CODE': '902Y002',\n    'STAT_NAME': '9.1.6.2. 국제 주요국 주가지수',\n    'ITEM_CODE1': '3010101',\n    'ITEM_NAME1': '한국(KOSPI)',\n    'ITEM_CODE2': None,\n    'ITEM_NAME2': None,\n    'ITEM_CODE3': None,\n    'ITEM_NAME3': None,\n    'ITEM_CODE4': None,\n    'ITEM_NAME4': None,\n    'UNIT_NAME': '1980.1.4=100',\n    'TIME': '201708',\n    'DATA_VALUE': '2363.19'},\n   {'STAT_CODE': '902Y002',\n    'STAT_NAME': '9.1.6.2. 국제 주요국 주가지수',\n    'ITEM_CODE1': '3010101',\n    'ITEM_NAME1': '한국(KOSPI)',\n    'ITEM_CODE2': None,\n    'ITEM_NAME2': None,\n    'ITEM_CODE3': None,\n    'ITEM_NAME3': None,\n    'ITEM_CODE4': None,\n    'ITEM_NAME4': None,\n    'UNIT_NAME': '1980.1.4=100',\n    'TIME': '201709',\n    'DATA_VALUE': '2394.47'},\n   {'STAT_CODE': '902Y002',\n    'STAT_NAME': '9.1.6.2. 국제 주요국 주가지수',\n    'ITEM_CODE1': '3010101',\n    'ITEM_NAME1': '한국(KOSPI)',\n    'ITEM_CODE2': None,\n    'ITEM_NAME2': None,\n    'ITEM_CODE3': None,\n    'ITEM_NAME3': None,\n    'ITEM_CODE4': None,\n    'ITEM_NAME4': None,\n    'UNIT_NAME': '1980.1.4=100',\n    'TIME': '201710',\n    'DATA_VALUE': '2523.43'},\n   {'STAT_CODE': '902Y002',\n    'STAT_NAME': '9.1.6.2. 국제 주요국 주가지수',\n    'ITEM_CODE1': '3010101',\n    'ITEM_NAME1': '한국(KOSPI)',\n    'ITEM_CODE2': None,\n    'ITEM_NAME2': None,\n    'ITEM_CODE3': None,\n    'ITEM_NAME3': None,\n    'ITEM_CODE4': None,\n    'ITEM_NAME4': None,\n    'UNIT_NAME': '1980.1.4=100',\n    'TIME': '201711',\n    'DATA_VALUE': '2476.37'},\n   {'STAT_CODE': '902Y002',\n    'STAT_NAME': '9.1.6.2. 국제 주요국 주가지수',\n    'ITEM_CODE1': '3010101',\n    'ITEM_NAME1': '한국(KOSPI)',\n    'ITEM_CODE2': None,\n    'ITEM_NAME2': None,\n    'ITEM_CODE3': None,\n    'ITEM_NAME3': None,\n    'ITEM_CODE4': None,\n    'ITEM_NAME4': None,\n    'UNIT_NAME': '1980.1.4=100',\n    'TIME': '201712',\n    'DATA_VALUE': '2467.49'},\n   {'STAT_CODE': '902Y002',\n    'STAT_NAME': '9.1.6.2. 국제 주요국 주가지수',\n    'ITEM_CODE1': '3010101',\n    'ITEM_NAME1': '한국(KOSPI)',\n    'ITEM_CODE2': None,\n    'ITEM_NAME2': None,\n    'ITEM_CODE3': None,\n    'ITEM_NAME3': None,\n    'ITEM_CODE4': None,\n    'ITEM_NAME4': None,\n    'UNIT_NAME': '1980.1.4=100',\n    'TIME': '201801',\n    'DATA_VALUE': '2566.46'},\n   {'STAT_CODE': '902Y002',\n    'STAT_NAME': '9.1.6.2. 국제 주요국 주가지수',\n    'ITEM_CODE1': '3010101',\n    'ITEM_NAME1': '한국(KOSPI)',\n    'ITEM_CODE2': None,\n    'ITEM_NAME2': None,\n    'ITEM_CODE3': None,\n    'ITEM_NAME3': None,\n    'ITEM_CODE4': None,\n    'ITEM_NAME4': None,\n    'UNIT_NAME': '1980.1.4=100',\n    'TIME': '201802',\n    'DATA_VALUE': '2427.36'},\n   {'STAT_CODE': '902Y002',\n    'STAT_NAME': '9.1.6.2. 국제 주요국 주가지수',\n    'ITEM_CODE1': '3010101',\n    'ITEM_NAME1': '한국(KOSPI)',\n    'ITEM_CODE2': None,\n    'ITEM_NAME2': None,\n    'ITEM_CODE3': None,\n    'ITEM_NAME3': None,\n    'ITEM_CODE4': None,\n    'ITEM_NAME4': None,\n    'UNIT_NAME': '1980.1.4=100',\n    'TIME': '201803',\n    'DATA_VALUE': '2445.85'},\n   {'STAT_CODE': '902Y002',\n    'STAT_NAME': '9.1.6.2. 국제 주요국 주가지수',\n    'ITEM_CODE1': '3010101',\n    'ITEM_NAME1': '한국(KOSPI)',\n    'ITEM_CODE2': None,\n    'ITEM_NAME2': None,\n    'ITEM_CODE3': None,\n    'ITEM_NAME3': None,\n    'ITEM_CODE4': None,\n    'ITEM_NAME4': None,\n    'UNIT_NAME': '1980.1.4=100',\n    'TIME': '201804',\n    'DATA_VALUE': '2515.38'},\n   {'STAT_CODE': '902Y002',\n    'STAT_NAME': '9.1.6.2. 국제 주요국 주가지수',\n    'ITEM_CODE1': '3010101',\n    'ITEM_NAME1': '한국(KOSPI)',\n    'ITEM_CODE2': None,\n    'ITEM_NAME2': None,\n    'ITEM_CODE3': None,\n    'ITEM_NAME3': None,\n    'ITEM_CODE4': None,\n    'ITEM_NAME4': None,\n    'UNIT_NAME': '1980.1.4=100',\n    'TIME': '201805',\n    'DATA_VALUE': '2423.01'},\n   {'STAT_CODE': '902Y002',\n    'STAT_NAME': '9.1.6.2. 국제 주요국 주가지수',\n    'ITEM_CODE1': '3010101',\n    'ITEM_NAME1': '한국(KOSPI)',\n    'ITEM_CODE2': None,\n    'ITEM_NAME2': None,\n    'ITEM_CODE3': None,\n    'ITEM_NAME3': None,\n    'ITEM_CODE4': None,\n    'ITEM_NAME4': None,\n    'UNIT_NAME': '1980.1.4=100',\n    'TIME': '201806',\n    'DATA_VALUE': '2326.13'},\n   {'STAT_CODE': '902Y002',\n    'STAT_NAME': '9.1.6.2. 국제 주요국 주가지수',\n    'ITEM_CODE1': '3010101',\n    'ITEM_NAME1': '한국(KOSPI)',\n    'ITEM_CODE2': None,\n    'ITEM_NAME2': None,\n    'ITEM_CODE3': None,\n    'ITEM_NAME3': None,\n    'ITEM_CODE4': None,\n    'ITEM_NAME4': None,\n    'UNIT_NAME': '1980.1.4=100',\n    'TIME': '201807',\n    'DATA_VALUE': '2295.26'},\n   {'STAT_CODE': '902Y002',\n    'STAT_NAME': '9.1.6.2. 국제 주요국 주가지수',\n    'ITEM_CODE1': '3010101',\n    'ITEM_NAME1': '한국(KOSPI)',\n    'ITEM_CODE2': None,\n    'ITEM_NAME2': None,\n    'ITEM_CODE3': None,\n    'ITEM_NAME3': None,\n    'ITEM_CODE4': None,\n    'ITEM_NAME4': None,\n    'UNIT_NAME': '1980.1.4=100',\n    'TIME': '201808',\n    'DATA_VALUE': '2322.88'},\n   {'STAT_CODE': '902Y002',\n    'STAT_NAME': '9.1.6.2. 국제 주요국 주가지수',\n    'ITEM_CODE1': '3010101',\n    'ITEM_NAME1': '한국(KOSPI)',\n    'ITEM_CODE2': None,\n    'ITEM_NAME2': None,\n    'ITEM_CODE3': None,\n    'ITEM_NAME3': None,\n    'ITEM_CODE4': None,\n    'ITEM_NAME4': None,\n    'UNIT_NAME': '1980.1.4=100',\n    'TIME': '201809',\n    'DATA_VALUE': '2343.07'},\n   {'STAT_CODE': '902Y002',\n    'STAT_NAME': '9.1.6.2. 국제 주요국 주가지수',\n    'ITEM_CODE1': '3010101',\n    'ITEM_NAME1': '한국(KOSPI)',\n    'ITEM_CODE2': None,\n    'ITEM_NAME2': None,\n    'ITEM_CODE3': None,\n    'ITEM_NAME3': None,\n    'ITEM_CODE4': None,\n    'ITEM_NAME4': None,\n    'UNIT_NAME': '1980.1.4=100',\n    'TIME': '201810',\n    'DATA_VALUE': '2029.69'},\n   {'STAT_CODE': '902Y002',\n    'STAT_NAME': '9.1.6.2. 국제 주요국 주가지수',\n    'ITEM_CODE1': '3010101',\n    'ITEM_NAME1': '한국(KOSPI)',\n    'ITEM_CODE2': None,\n    'ITEM_NAME2': None,\n    'ITEM_CODE3': None,\n    'ITEM_NAME3': None,\n    'ITEM_CODE4': None,\n    'ITEM_NAME4': None,\n    'UNIT_NAME': '1980.1.4=100',\n    'TIME': '201811',\n    'DATA_VALUE': '2096.86'},\n   {'STAT_CODE': '902Y002',\n    'STAT_NAME': '9.1.6.2. 국제 주요국 주가지수',\n    'ITEM_CODE1': '3010101',\n    'ITEM_NAME1': '한국(KOSPI)',\n    'ITEM_CODE2': None,\n    'ITEM_NAME2': None,\n    'ITEM_CODE3': None,\n    'ITEM_NAME3': None,\n    'ITEM_CODE4': None,\n    'ITEM_NAME4': None,\n    'UNIT_NAME': '1980.1.4=100',\n    'TIME': '201812',\n    'DATA_VALUE': '2041.04'},\n   {'STAT_CODE': '902Y002',\n    'STAT_NAME': '9.1.6.2. 국제 주요국 주가지수',\n    'ITEM_CODE1': '3010101',\n    'ITEM_NAME1': '한국(KOSPI)',\n    'ITEM_CODE2': None,\n    'ITEM_NAME2': None,\n    'ITEM_CODE3': None,\n    'ITEM_NAME3': None,\n    'ITEM_CODE4': None,\n    'ITEM_NAME4': None,\n    'UNIT_NAME': '1980.1.4=100',\n    'TIME': '201901',\n    'DATA_VALUE': '2204.85'},\n   {'STAT_CODE': '902Y002',\n    'STAT_NAME': '9.1.6.2. 국제 주요국 주가지수',\n    'ITEM_CODE1': '3010101',\n    'ITEM_NAME1': '한국(KOSPI)',\n    'ITEM_CODE2': None,\n    'ITEM_NAME2': None,\n    'ITEM_CODE3': None,\n    'ITEM_NAME3': None,\n    'ITEM_CODE4': None,\n    'ITEM_NAME4': None,\n    'UNIT_NAME': '1980.1.4=100',\n    'TIME': '201902',\n    'DATA_VALUE': '2195.44'},\n   {'STAT_CODE': '902Y002',\n    'STAT_NAME': '9.1.6.2. 국제 주요국 주가지수',\n    'ITEM_CODE1': '3010101',\n    'ITEM_NAME1': '한국(KOSPI)',\n    'ITEM_CODE2': None,\n    'ITEM_NAME2': None,\n    'ITEM_CODE3': None,\n    'ITEM_NAME3': None,\n    'ITEM_CODE4': None,\n    'ITEM_NAME4': None,\n    'UNIT_NAME': '1980.1.4=100',\n    'TIME': '201903',\n    'DATA_VALUE': '2140.67'},\n   {'STAT_CODE': '902Y002',\n    'STAT_NAME': '9.1.6.2. 국제 주요국 주가지수',\n    'ITEM_CODE1': '3010101',\n    'ITEM_NAME1': '한국(KOSPI)',\n    'ITEM_CODE2': None,\n    'ITEM_NAME2': None,\n    'ITEM_CODE3': None,\n    'ITEM_NAME3': None,\n    'ITEM_CODE4': None,\n    'ITEM_NAME4': None,\n    'UNIT_NAME': '1980.1.4=100',\n    'TIME': '201904',\n    'DATA_VALUE': '2203.59'},\n   {'STAT_CODE': '902Y002',\n    'STAT_NAME': '9.1.6.2. 국제 주요국 주가지수',\n    'ITEM_CODE1': '3010101',\n    'ITEM_NAME1': '한국(KOSPI)',\n    'ITEM_CODE2': None,\n    'ITEM_NAME2': None,\n    'ITEM_CODE3': None,\n    'ITEM_NAME3': None,\n    'ITEM_CODE4': None,\n    'ITEM_NAME4': None,\n    'UNIT_NAME': '1980.1.4=100',\n    'TIME': '201905',\n    'DATA_VALUE': '2041.74'},\n   {'STAT_CODE': '902Y002',\n    'STAT_NAME': '9.1.6.2. 국제 주요국 주가지수',\n    'ITEM_CODE1': '3010101',\n    'ITEM_NAME1': '한국(KOSPI)',\n    'ITEM_CODE2': None,\n    'ITEM_NAME2': None,\n    'ITEM_CODE3': None,\n    'ITEM_NAME3': None,\n    'ITEM_CODE4': None,\n    'ITEM_NAME4': None,\n    'UNIT_NAME': '1980.1.4=100',\n    'TIME': '201906',\n    'DATA_VALUE': '2130.62'},\n   {'STAT_CODE': '902Y002',\n    'STAT_NAME': '9.1.6.2. 국제 주요국 주가지수',\n    'ITEM_CODE1': '3010101',\n    'ITEM_NAME1': '한국(KOSPI)',\n    'ITEM_CODE2': None,\n    'ITEM_NAME2': None,\n    'ITEM_CODE3': None,\n    'ITEM_NAME3': None,\n    'ITEM_CODE4': None,\n    'ITEM_NAME4': None,\n    'UNIT_NAME': '1980.1.4=100',\n    'TIME': '201907',\n    'DATA_VALUE': '2024.55'},\n   {'STAT_CODE': '902Y002',\n    'STAT_NAME': '9.1.6.2. 국제 주요국 주가지수',\n    'ITEM_CODE1': '3010101',\n    'ITEM_NAME1': '한국(KOSPI)',\n    'ITEM_CODE2': None,\n    'ITEM_NAME2': None,\n    'ITEM_CODE3': None,\n    'ITEM_NAME3': None,\n    'ITEM_CODE4': None,\n    'ITEM_NAME4': None,\n    'UNIT_NAME': '1980.1.4=100',\n    'TIME': '201908',\n    'DATA_VALUE': '1967.79'},\n   {'STAT_CODE': '902Y002',\n    'STAT_NAME': '9.1.6.2. 국제 주요국 주가지수',\n    'ITEM_CODE1': '3010101',\n    'ITEM_NAME1': '한국(KOSPI)',\n    'ITEM_CODE2': None,\n    'ITEM_NAME2': None,\n    'ITEM_CODE3': None,\n    'ITEM_NAME3': None,\n    'ITEM_CODE4': None,\n    'ITEM_NAME4': None,\n    'UNIT_NAME': '1980.1.4=100',\n    'TIME': '201909',\n    'DATA_VALUE': '2063.05'},\n   {'STAT_CODE': '902Y002',\n    'STAT_NAME': '9.1.6.2. 국제 주요국 주가지수',\n    'ITEM_CODE1': '3010101',\n    'ITEM_NAME1': '한국(KOSPI)',\n    'ITEM_CODE2': None,\n    'ITEM_NAME2': None,\n    'ITEM_CODE3': None,\n    'ITEM_NAME3': None,\n    'ITEM_CODE4': None,\n    'ITEM_NAME4': None,\n    'UNIT_NAME': '1980.1.4=100',\n    'TIME': '201910',\n    'DATA_VALUE': '2083.48'},\n   {'STAT_CODE': '902Y002',\n    'STAT_NAME': '9.1.6.2. 국제 주요국 주가지수',\n    'ITEM_CODE1': '3010101',\n    'ITEM_NAME1': '한국(KOSPI)',\n    'ITEM_CODE2': None,\n    'ITEM_NAME2': None,\n    'ITEM_CODE3': None,\n    'ITEM_NAME3': None,\n    'ITEM_CODE4': None,\n    'ITEM_NAME4': None,\n    'UNIT_NAME': '1980.1.4=100',\n    'TIME': '201911',\n    'DATA_VALUE': '2087.96'},\n   {'STAT_CODE': '902Y002',\n    'STAT_NAME': '9.1.6.2. 국제 주요국 주가지수',\n    'ITEM_CODE1': '3010101',\n    'ITEM_NAME1': '한국(KOSPI)',\n    'ITEM_CODE2': None,\n    'ITEM_NAME2': None,\n    'ITEM_CODE3': None,\n    'ITEM_NAME3': None,\n    'ITEM_CODE4': None,\n    'ITEM_NAME4': None,\n    'UNIT_NAME': '1980.1.4=100',\n    'TIME': '201912',\n    'DATA_VALUE': '2197.67'},\n   {'STAT_CODE': '902Y002',\n    'STAT_NAME': '9.1.6.2. 국제 주요국 주가지수',\n    'ITEM_CODE1': '3010101',\n    'ITEM_NAME1': '한국(KOSPI)',\n    'ITEM_CODE2': None,\n    'ITEM_NAME2': None,\n    'ITEM_CODE3': None,\n    'ITEM_NAME3': None,\n    'ITEM_CODE4': None,\n    'ITEM_NAME4': None,\n    'UNIT_NAME': '1980.1.4=100',\n    'TIME': '202001',\n    'DATA_VALUE': '2119.01'},\n   {'STAT_CODE': '902Y002',\n    'STAT_NAME': '9.1.6.2. 국제 주요국 주가지수',\n    'ITEM_CODE1': '3010101',\n    'ITEM_NAME1': '한국(KOSPI)',\n    'ITEM_CODE2': None,\n    'ITEM_NAME2': None,\n    'ITEM_CODE3': None,\n    'ITEM_NAME3': None,\n    'ITEM_CODE4': None,\n    'ITEM_NAME4': None,\n    'UNIT_NAME': '1980.1.4=100',\n    'TIME': '202002',\n    'DATA_VALUE': '1987.01'},\n   {'STAT_CODE': '902Y002',\n    'STAT_NAME': '9.1.6.2. 국제 주요국 주가지수',\n    'ITEM_CODE1': '3010101',\n    'ITEM_NAME1': '한국(KOSPI)',\n    'ITEM_CODE2': None,\n    'ITEM_NAME2': None,\n    'ITEM_CODE3': None,\n    'ITEM_NAME3': None,\n    'ITEM_CODE4': None,\n    'ITEM_NAME4': None,\n    'UNIT_NAME': '1980.1.4=100',\n    'TIME': '202003',\n    'DATA_VALUE': '1754.64'},\n   {'STAT_CODE': '902Y002',\n    'STAT_NAME': '9.1.6.2. 국제 주요국 주가지수',\n    'ITEM_CODE1': '3010101',\n    'ITEM_NAME1': '한국(KOSPI)',\n    'ITEM_CODE2': None,\n    'ITEM_NAME2': None,\n    'ITEM_CODE3': None,\n    'ITEM_NAME3': None,\n    'ITEM_CODE4': None,\n    'ITEM_NAME4': None,\n    'UNIT_NAME': '1980.1.4=100',\n    'TIME': '202004',\n    'DATA_VALUE': '1947.56'},\n   {'STAT_CODE': '902Y002',\n    'STAT_NAME': '9.1.6.2. 국제 주요국 주가지수',\n    'ITEM_CODE1': '3010101',\n    'ITEM_NAME1': '한국(KOSPI)',\n    'ITEM_CODE2': None,\n    'ITEM_NAME2': None,\n    'ITEM_CODE3': None,\n    'ITEM_NAME3': None,\n    'ITEM_CODE4': None,\n    'ITEM_NAME4': None,\n    'UNIT_NAME': '1980.1.4=100',\n    'TIME': '202005',\n    'DATA_VALUE': '2029.6'},\n   {'STAT_CODE': '902Y002',\n    'STAT_NAME': '9.1.6.2. 국제 주요국 주가지수',\n    'ITEM_CODE1': '3010101',\n    'ITEM_NAME1': '한국(KOSPI)',\n    'ITEM_CODE2': None,\n    'ITEM_NAME2': None,\n    'ITEM_CODE3': None,\n    'ITEM_NAME3': None,\n    'ITEM_CODE4': None,\n    'ITEM_NAME4': None,\n    'UNIT_NAME': '1980.1.4=100',\n    'TIME': '202006',\n    'DATA_VALUE': '2108.33'},\n   {'STAT_CODE': '902Y002',\n    'STAT_NAME': '9.1.6.2. 국제 주요국 주가지수',\n    'ITEM_CODE1': '3010101',\n    'ITEM_NAME1': '한국(KOSPI)',\n    'ITEM_CODE2': None,\n    'ITEM_NAME2': None,\n    'ITEM_CODE3': None,\n    'ITEM_NAME3': None,\n    'ITEM_CODE4': None,\n    'ITEM_NAME4': None,\n    'UNIT_NAME': '1980.1.4=100',\n    'TIME': '202007',\n    'DATA_VALUE': '2249.37'},\n   {'STAT_CODE': '902Y002',\n    'STAT_NAME': '9.1.6.2. 국제 주요국 주가지수',\n    'ITEM_CODE1': '3010101',\n    'ITEM_NAME1': '한국(KOSPI)',\n    'ITEM_CODE2': None,\n    'ITEM_NAME2': None,\n    'ITEM_CODE3': None,\n    'ITEM_NAME3': None,\n    'ITEM_CODE4': None,\n    'ITEM_NAME4': None,\n    'UNIT_NAME': '1980.1.4=100',\n    'TIME': '202008',\n    'DATA_VALUE': '2326.17'},\n   {'STAT_CODE': '902Y002',\n    'STAT_NAME': '9.1.6.2. 국제 주요국 주가지수',\n    'ITEM_CODE1': '3010101',\n    'ITEM_NAME1': '한국(KOSPI)',\n    'ITEM_CODE2': None,\n    'ITEM_NAME2': None,\n    'ITEM_CODE3': None,\n    'ITEM_NAME3': None,\n    'ITEM_CODE4': None,\n    'ITEM_NAME4': None,\n    'UNIT_NAME': '1980.1.4=100',\n    'TIME': '202009',\n    'DATA_VALUE': '2327.89'},\n   {'STAT_CODE': '902Y002',\n    'STAT_NAME': '9.1.6.2. 국제 주요국 주가지수',\n    'ITEM_CODE1': '3010101',\n    'ITEM_NAME1': '한국(KOSPI)',\n    'ITEM_CODE2': None,\n    'ITEM_NAME2': None,\n    'ITEM_CODE3': None,\n    'ITEM_NAME3': None,\n    'ITEM_CODE4': None,\n    'ITEM_NAME4': None,\n    'UNIT_NAME': '1980.1.4=100',\n    'TIME': '202010',\n    'DATA_VALUE': '2267.15'},\n   {'STAT_CODE': '902Y002',\n    'STAT_NAME': '9.1.6.2. 국제 주요국 주가지수',\n    'ITEM_CODE1': '3010101',\n    'ITEM_NAME1': '한국(KOSPI)',\n    'ITEM_CODE2': None,\n    'ITEM_NAME2': None,\n    'ITEM_CODE3': None,\n    'ITEM_NAME3': None,\n    'ITEM_CODE4': None,\n    'ITEM_NAME4': None,\n    'UNIT_NAME': '1980.1.4=100',\n    'TIME': '202011',\n    'DATA_VALUE': '2591.34'},\n   {'STAT_CODE': '902Y002',\n    'STAT_NAME': '9.1.6.2. 국제 주요국 주가지수',\n    'ITEM_CODE1': '3010101',\n    'ITEM_NAME1': '한국(KOSPI)',\n    'ITEM_CODE2': None,\n    'ITEM_NAME2': None,\n    'ITEM_CODE3': None,\n    'ITEM_NAME3': None,\n    'ITEM_CODE4': None,\n    'ITEM_NAME4': None,\n    'UNIT_NAME': '1980.1.4=100',\n    'TIME': '202012',\n    'DATA_VALUE': '2873.47'},\n   {'STAT_CODE': '902Y002',\n    'STAT_NAME': '9.1.6.2. 국제 주요국 주가지수',\n    'ITEM_CODE1': '3010101',\n    'ITEM_NAME1': '한국(KOSPI)',\n    'ITEM_CODE2': None,\n    'ITEM_NAME2': None,\n    'ITEM_CODE3': None,\n    'ITEM_NAME3': None,\n    'ITEM_CODE4': None,\n    'ITEM_NAME4': None,\n    'UNIT_NAME': '1980.1.4=100',\n    'TIME': '202101',\n    'DATA_VALUE': '2976.21'},\n   {'STAT_CODE': '902Y002',\n    'STAT_NAME': '9.1.6.2. 국제 주요국 주가지수',\n    'ITEM_CODE1': '3010101',\n    'ITEM_NAME1': '한국(KOSPI)',\n    'ITEM_CODE2': None,\n    'ITEM_NAME2': None,\n    'ITEM_CODE3': None,\n    'ITEM_NAME3': None,\n    'ITEM_CODE4': None,\n    'ITEM_NAME4': None,\n    'UNIT_NAME': '1980.1.4=100',\n    'TIME': '202102',\n    'DATA_VALUE': '3012.95'},\n   {'STAT_CODE': '902Y002',\n    'STAT_NAME': '9.1.6.2. 국제 주요국 주가지수',\n    'ITEM_CODE1': '3010101',\n    'ITEM_NAME1': '한국(KOSPI)',\n    'ITEM_CODE2': None,\n    'ITEM_NAME2': None,\n    'ITEM_CODE3': None,\n    'ITEM_NAME3': None,\n    'ITEM_CODE4': None,\n    'ITEM_NAME4': None,\n    'UNIT_NAME': '1980.1.4=100',\n    'TIME': '202103',\n    'DATA_VALUE': '3061.42'},\n   {'STAT_CODE': '902Y002',\n    'STAT_NAME': '9.1.6.2. 국제 주요국 주가지수',\n    'ITEM_CODE1': '3010101',\n    'ITEM_NAME1': '한국(KOSPI)',\n    'ITEM_CODE2': None,\n    'ITEM_NAME2': None,\n    'ITEM_CODE3': None,\n    'ITEM_NAME3': None,\n    'ITEM_CODE4': None,\n    'ITEM_NAME4': None,\n    'UNIT_NAME': '1980.1.4=100',\n    'TIME': '202104',\n    'DATA_VALUE': '3147.86'},\n   {'STAT_CODE': '902Y002',\n    'STAT_NAME': '9.1.6.2. 국제 주요국 주가지수',\n    'ITEM_CODE1': '3010101',\n    'ITEM_NAME1': '한국(KOSPI)',\n    'ITEM_CODE2': None,\n    'ITEM_NAME2': None,\n    'ITEM_CODE3': None,\n    'ITEM_NAME3': None,\n    'ITEM_CODE4': None,\n    'ITEM_NAME4': None,\n    'UNIT_NAME': '1980.1.4=100',\n    'TIME': '202105',\n    'DATA_VALUE': '3203.92'},\n   {'STAT_CODE': '902Y002',\n    'STAT_NAME': '9.1.6.2. 국제 주요국 주가지수',\n    'ITEM_CODE1': '3010101',\n    'ITEM_NAME1': '한국(KOSPI)',\n    'ITEM_CODE2': None,\n    'ITEM_NAME2': None,\n    'ITEM_CODE3': None,\n    'ITEM_NAME3': None,\n    'ITEM_CODE4': None,\n    'ITEM_NAME4': None,\n    'UNIT_NAME': '1980.1.4=100',\n    'TIME': '202106',\n    'DATA_VALUE': '3296.68'},\n   {'STAT_CODE': '902Y002',\n    'STAT_NAME': '9.1.6.2. 국제 주요국 주가지수',\n    'ITEM_CODE1': '3010101',\n    'ITEM_NAME1': '한국(KOSPI)',\n    'ITEM_CODE2': None,\n    'ITEM_NAME2': None,\n    'ITEM_CODE3': None,\n    'ITEM_NAME3': None,\n    'ITEM_CODE4': None,\n    'ITEM_NAME4': None,\n    'UNIT_NAME': '1980.1.4=100',\n    'TIME': '202107',\n    'DATA_VALUE': '3202.32'},\n   {'STAT_CODE': '902Y002',\n    'STAT_NAME': '9.1.6.2. 국제 주요국 주가지수',\n    'ITEM_CODE1': '3010101',\n    'ITEM_NAME1': '한국(KOSPI)',\n    'ITEM_CODE2': None,\n    'ITEM_NAME2': None,\n    'ITEM_CODE3': None,\n    'ITEM_NAME3': None,\n    'ITEM_CODE4': None,\n    'ITEM_NAME4': None,\n    'UNIT_NAME': '1980.1.4=100',\n    'TIME': '202108',\n    'DATA_VALUE': '3199.27'},\n   {'STAT_CODE': '902Y002',\n    'STAT_NAME': '9.1.6.2. 국제 주요국 주가지수',\n    'ITEM_CODE1': '3010101',\n    'ITEM_NAME1': '한국(KOSPI)',\n    'ITEM_CODE2': None,\n    'ITEM_NAME2': None,\n    'ITEM_CODE3': None,\n    'ITEM_NAME3': None,\n    'ITEM_CODE4': None,\n    'ITEM_NAME4': None,\n    'UNIT_NAME': '1980.1.4=100',\n    'TIME': '202109',\n    'DATA_VALUE': '3068.82'},\n   {'STAT_CODE': '902Y002',\n    'STAT_NAME': '9.1.6.2. 국제 주요국 주가지수',\n    'ITEM_CODE1': '3010101',\n    'ITEM_NAME1': '한국(KOSPI)',\n    'ITEM_CODE2': None,\n    'ITEM_NAME2': None,\n    'ITEM_CODE3': None,\n    'ITEM_NAME3': None,\n    'ITEM_CODE4': None,\n    'ITEM_NAME4': None,\n    'UNIT_NAME': '1980.1.4=100',\n    'TIME': '202110',\n    'DATA_VALUE': '2970.68'},\n   {'STAT_CODE': '902Y002',\n    'STAT_NAME': '9.1.6.2. 국제 주요국 주가지수',\n    'ITEM_CODE1': '3010101',\n    'ITEM_NAME1': '한국(KOSPI)',\n    'ITEM_CODE2': None,\n    'ITEM_NAME2': None,\n    'ITEM_CODE3': None,\n    'ITEM_NAME3': None,\n    'ITEM_CODE4': None,\n    'ITEM_NAME4': None,\n    'UNIT_NAME': '1980.1.4=100',\n    'TIME': '202111',\n    'DATA_VALUE': '2839.01'},\n   {'STAT_CODE': '902Y002',\n    'STAT_NAME': '9.1.6.2. 국제 주요국 주가지수',\n    'ITEM_CODE1': '3010101',\n    'ITEM_NAME1': '한국(KOSPI)',\n    'ITEM_CODE2': None,\n    'ITEM_NAME2': None,\n    'ITEM_CODE3': None,\n    'ITEM_NAME3': None,\n    'ITEM_CODE4': None,\n    'ITEM_NAME4': None,\n    'UNIT_NAME': '1980.1.4=100',\n    'TIME': '202112',\n    'DATA_VALUE': '2977.65'},\n   {'STAT_CODE': '902Y002',\n    'STAT_NAME': '9.1.6.2. 국제 주요국 주가지수',\n    'ITEM_CODE1': '3010101',\n    'ITEM_NAME1': '한국(KOSPI)',\n    'ITEM_CODE2': None,\n    'ITEM_NAME2': None,\n    'ITEM_CODE3': None,\n    'ITEM_NAME3': None,\n    'ITEM_CODE4': None,\n    'ITEM_NAME4': None,\n    'UNIT_NAME': '1980.1.4=100',\n    'TIME': '202201',\n    'DATA_VALUE': '2663.34'},\n   {'STAT_CODE': '902Y002',\n    'STAT_NAME': '9.1.6.2. 국제 주요국 주가지수',\n    'ITEM_CODE1': '3010101',\n    'ITEM_NAME1': '한국(KOSPI)',\n    'ITEM_CODE2': None,\n    'ITEM_NAME2': None,\n    'ITEM_CODE3': None,\n    'ITEM_NAME3': None,\n    'ITEM_CODE4': None,\n    'ITEM_NAME4': None,\n    'UNIT_NAME': '1980.1.4=100',\n    'TIME': '202202',\n    'DATA_VALUE': '2699.18'},\n   {'STAT_CODE': '902Y002',\n    'STAT_NAME': '9.1.6.2. 국제 주요국 주가지수',\n    'ITEM_CODE1': '3010101',\n    'ITEM_NAME1': '한국(KOSPI)',\n    'ITEM_CODE2': None,\n    'ITEM_NAME2': None,\n    'ITEM_CODE3': None,\n    'ITEM_NAME3': None,\n    'ITEM_CODE4': None,\n    'ITEM_NAME4': None,\n    'UNIT_NAME': '1980.1.4=100',\n    'TIME': '202203',\n    'DATA_VALUE': '2757.65'},\n   {'STAT_CODE': '902Y002',\n    'STAT_NAME': '9.1.6.2. 국제 주요국 주가지수',\n    'ITEM_CODE1': '3010101',\n    'ITEM_NAME1': '한국(KOSPI)',\n    'ITEM_CODE2': None,\n    'ITEM_NAME2': None,\n    'ITEM_CODE3': None,\n    'ITEM_NAME3': None,\n    'ITEM_CODE4': None,\n    'ITEM_NAME4': None,\n    'UNIT_NAME': '1980.1.4=100',\n    'TIME': '202204',\n    'DATA_VALUE': '2695.05'},\n   {'STAT_CODE': '902Y002',\n    'STAT_NAME': '9.1.6.2. 국제 주요국 주가지수',\n    'ITEM_CODE1': '3010101',\n    'ITEM_NAME1': '한국(KOSPI)',\n    'ITEM_CODE2': None,\n    'ITEM_NAME2': None,\n    'ITEM_CODE3': None,\n    'ITEM_NAME3': None,\n    'ITEM_CODE4': None,\n    'ITEM_NAME4': None,\n    'UNIT_NAME': '1980.1.4=100',\n    'TIME': '202205',\n    'DATA_VALUE': '2685.9'},\n   {'STAT_CODE': '902Y002',\n    'STAT_NAME': '9.1.6.2. 국제 주요국 주가지수',\n    'ITEM_CODE1': '3010101',\n    'ITEM_NAME1': '한국(KOSPI)',\n    'ITEM_CODE2': None,\n    'ITEM_NAME2': None,\n    'ITEM_CODE3': None,\n    'ITEM_NAME3': None,\n    'ITEM_CODE4': None,\n    'ITEM_NAME4': None,\n    'UNIT_NAME': '1980.1.4=100',\n    'TIME': '202206',\n    'DATA_VALUE': '2332.64'},\n   {'STAT_CODE': '902Y002',\n    'STAT_NAME': '9.1.6.2. 국제 주요국 주가지수',\n    'ITEM_CODE1': '3010101',\n    'ITEM_NAME1': '한국(KOSPI)',\n    'ITEM_CODE2': None,\n    'ITEM_NAME2': None,\n    'ITEM_CODE3': None,\n    'ITEM_NAME3': None,\n    'ITEM_CODE4': None,\n    'ITEM_NAME4': None,\n    'UNIT_NAME': '1980.1.4=100',\n    'TIME': '202207',\n    'DATA_VALUE': '2451.5'},\n   {'STAT_CODE': '902Y002',\n    'STAT_NAME': '9.1.6.2. 국제 주요국 주가지수',\n    'ITEM_CODE1': '3010101',\n    'ITEM_NAME1': '한국(KOSPI)',\n    'ITEM_CODE2': None,\n    'ITEM_NAME2': None,\n    'ITEM_CODE3': None,\n    'ITEM_NAME3': None,\n    'ITEM_CODE4': None,\n    'ITEM_NAME4': None,\n    'UNIT_NAME': '1980.1.4=100',\n    'TIME': '202208',\n    'DATA_VALUE': '2472.05'},\n   {'STAT_CODE': '902Y002',\n    'STAT_NAME': '9.1.6.2. 국제 주요국 주가지수',\n    'ITEM_CODE1': '3010101',\n    'ITEM_NAME1': '한국(KOSPI)',\n    'ITEM_CODE2': None,\n    'ITEM_NAME2': None,\n    'ITEM_CODE3': None,\n    'ITEM_NAME3': None,\n    'ITEM_CODE4': None,\n    'ITEM_NAME4': None,\n    'UNIT_NAME': '1980.1.4=100',\n    'TIME': '202209',\n    'DATA_VALUE': '2155.49'}]}}"
     },
     "execution_count": 62,
     "metadata": {},
     "output_type": "execute_result"
    }
   ],
   "source": [
    "data"
   ],
   "metadata": {
    "collapsed": false,
    "pycharm": {
     "name": "#%%\n"
    }
   }
  },
  {
   "cell_type": "code",
   "execution_count": 63,
   "outputs": [],
   "source": [
    "df = pd.DataFrame(data[\"StatisticSearch\"][\"row\"])"
   ],
   "metadata": {
    "collapsed": false,
    "pycharm": {
     "name": "#%%\n"
    }
   }
  },
  {
   "cell_type": "code",
   "execution_count": 64,
   "outputs": [
    {
     "data": {
      "text/plain": "   STAT_CODE             STAT_NAME ITEM_CODE1 ITEM_NAME1 ITEM_CODE2  \\\n0    902Y002  9.1.6.2. 국제 주요국 주가지수    3010101  한국(KOSPI)       None   \n1    902Y002  9.1.6.2. 국제 주요국 주가지수    3010101  한국(KOSPI)       None   \n2    902Y002  9.1.6.2. 국제 주요국 주가지수    3010101  한국(KOSPI)       None   \n3    902Y002  9.1.6.2. 국제 주요국 주가지수    3010101  한국(KOSPI)       None   \n4    902Y002  9.1.6.2. 국제 주요국 주가지수    3010101  한국(KOSPI)       None   \n..       ...                   ...        ...        ...        ...   \n88   902Y002  9.1.6.2. 국제 주요국 주가지수    3010101  한국(KOSPI)       None   \n89   902Y002  9.1.6.2. 국제 주요국 주가지수    3010101  한국(KOSPI)       None   \n90   902Y002  9.1.6.2. 국제 주요국 주가지수    3010101  한국(KOSPI)       None   \n91   902Y002  9.1.6.2. 국제 주요국 주가지수    3010101  한국(KOSPI)       None   \n92   902Y002  9.1.6.2. 국제 주요국 주가지수    3010101  한국(KOSPI)       None   \n\n   ITEM_NAME2 ITEM_CODE3 ITEM_NAME3 ITEM_CODE4 ITEM_NAME4     UNIT_NAME  \\\n0        None       None       None       None       None  1980.1.4=100   \n1        None       None       None       None       None  1980.1.4=100   \n2        None       None       None       None       None  1980.1.4=100   \n3        None       None       None       None       None  1980.1.4=100   \n4        None       None       None       None       None  1980.1.4=100   \n..        ...        ...        ...        ...        ...           ...   \n88       None       None       None       None       None  1980.1.4=100   \n89       None       None       None       None       None  1980.1.4=100   \n90       None       None       None       None       None  1980.1.4=100   \n91       None       None       None       None       None  1980.1.4=100   \n92       None       None       None       None       None  1980.1.4=100   \n\n      TIME DATA_VALUE  \n0   201501    1949.26  \n1   201502     1985.8  \n2   201503    2041.03  \n3   201504    2127.17  \n4   201505     2114.8  \n..     ...        ...  \n88  202205     2685.9  \n89  202206    2332.64  \n90  202207     2451.5  \n91  202208    2472.05  \n92  202209    2155.49  \n\n[93 rows x 13 columns]",
      "text/html": "<div>\n<style scoped>\n    .dataframe tbody tr th:only-of-type {\n        vertical-align: middle;\n    }\n\n    .dataframe tbody tr th {\n        vertical-align: top;\n    }\n\n    .dataframe thead th {\n        text-align: right;\n    }\n</style>\n<table border=\"1\" class=\"dataframe\">\n  <thead>\n    <tr style=\"text-align: right;\">\n      <th></th>\n      <th>STAT_CODE</th>\n      <th>STAT_NAME</th>\n      <th>ITEM_CODE1</th>\n      <th>ITEM_NAME1</th>\n      <th>ITEM_CODE2</th>\n      <th>ITEM_NAME2</th>\n      <th>ITEM_CODE3</th>\n      <th>ITEM_NAME3</th>\n      <th>ITEM_CODE4</th>\n      <th>ITEM_NAME4</th>\n      <th>UNIT_NAME</th>\n      <th>TIME</th>\n      <th>DATA_VALUE</th>\n    </tr>\n  </thead>\n  <tbody>\n    <tr>\n      <th>0</th>\n      <td>902Y002</td>\n      <td>9.1.6.2. 국제 주요국 주가지수</td>\n      <td>3010101</td>\n      <td>한국(KOSPI)</td>\n      <td>None</td>\n      <td>None</td>\n      <td>None</td>\n      <td>None</td>\n      <td>None</td>\n      <td>None</td>\n      <td>1980.1.4=100</td>\n      <td>201501</td>\n      <td>1949.26</td>\n    </tr>\n    <tr>\n      <th>1</th>\n      <td>902Y002</td>\n      <td>9.1.6.2. 국제 주요국 주가지수</td>\n      <td>3010101</td>\n      <td>한국(KOSPI)</td>\n      <td>None</td>\n      <td>None</td>\n      <td>None</td>\n      <td>None</td>\n      <td>None</td>\n      <td>None</td>\n      <td>1980.1.4=100</td>\n      <td>201502</td>\n      <td>1985.8</td>\n    </tr>\n    <tr>\n      <th>2</th>\n      <td>902Y002</td>\n      <td>9.1.6.2. 국제 주요국 주가지수</td>\n      <td>3010101</td>\n      <td>한국(KOSPI)</td>\n      <td>None</td>\n      <td>None</td>\n      <td>None</td>\n      <td>None</td>\n      <td>None</td>\n      <td>None</td>\n      <td>1980.1.4=100</td>\n      <td>201503</td>\n      <td>2041.03</td>\n    </tr>\n    <tr>\n      <th>3</th>\n      <td>902Y002</td>\n      <td>9.1.6.2. 국제 주요국 주가지수</td>\n      <td>3010101</td>\n      <td>한국(KOSPI)</td>\n      <td>None</td>\n      <td>None</td>\n      <td>None</td>\n      <td>None</td>\n      <td>None</td>\n      <td>None</td>\n      <td>1980.1.4=100</td>\n      <td>201504</td>\n      <td>2127.17</td>\n    </tr>\n    <tr>\n      <th>4</th>\n      <td>902Y002</td>\n      <td>9.1.6.2. 국제 주요국 주가지수</td>\n      <td>3010101</td>\n      <td>한국(KOSPI)</td>\n      <td>None</td>\n      <td>None</td>\n      <td>None</td>\n      <td>None</td>\n      <td>None</td>\n      <td>None</td>\n      <td>1980.1.4=100</td>\n      <td>201505</td>\n      <td>2114.8</td>\n    </tr>\n    <tr>\n      <th>...</th>\n      <td>...</td>\n      <td>...</td>\n      <td>...</td>\n      <td>...</td>\n      <td>...</td>\n      <td>...</td>\n      <td>...</td>\n      <td>...</td>\n      <td>...</td>\n      <td>...</td>\n      <td>...</td>\n      <td>...</td>\n      <td>...</td>\n    </tr>\n    <tr>\n      <th>88</th>\n      <td>902Y002</td>\n      <td>9.1.6.2. 국제 주요국 주가지수</td>\n      <td>3010101</td>\n      <td>한국(KOSPI)</td>\n      <td>None</td>\n      <td>None</td>\n      <td>None</td>\n      <td>None</td>\n      <td>None</td>\n      <td>None</td>\n      <td>1980.1.4=100</td>\n      <td>202205</td>\n      <td>2685.9</td>\n    </tr>\n    <tr>\n      <th>89</th>\n      <td>902Y002</td>\n      <td>9.1.6.2. 국제 주요국 주가지수</td>\n      <td>3010101</td>\n      <td>한국(KOSPI)</td>\n      <td>None</td>\n      <td>None</td>\n      <td>None</td>\n      <td>None</td>\n      <td>None</td>\n      <td>None</td>\n      <td>1980.1.4=100</td>\n      <td>202206</td>\n      <td>2332.64</td>\n    </tr>\n    <tr>\n      <th>90</th>\n      <td>902Y002</td>\n      <td>9.1.6.2. 국제 주요국 주가지수</td>\n      <td>3010101</td>\n      <td>한국(KOSPI)</td>\n      <td>None</td>\n      <td>None</td>\n      <td>None</td>\n      <td>None</td>\n      <td>None</td>\n      <td>None</td>\n      <td>1980.1.4=100</td>\n      <td>202207</td>\n      <td>2451.5</td>\n    </tr>\n    <tr>\n      <th>91</th>\n      <td>902Y002</td>\n      <td>9.1.6.2. 국제 주요국 주가지수</td>\n      <td>3010101</td>\n      <td>한국(KOSPI)</td>\n      <td>None</td>\n      <td>None</td>\n      <td>None</td>\n      <td>None</td>\n      <td>None</td>\n      <td>None</td>\n      <td>1980.1.4=100</td>\n      <td>202208</td>\n      <td>2472.05</td>\n    </tr>\n    <tr>\n      <th>92</th>\n      <td>902Y002</td>\n      <td>9.1.6.2. 국제 주요국 주가지수</td>\n      <td>3010101</td>\n      <td>한국(KOSPI)</td>\n      <td>None</td>\n      <td>None</td>\n      <td>None</td>\n      <td>None</td>\n      <td>None</td>\n      <td>None</td>\n      <td>1980.1.4=100</td>\n      <td>202209</td>\n      <td>2155.49</td>\n    </tr>\n  </tbody>\n</table>\n<p>93 rows × 13 columns</p>\n</div>"
     },
     "execution_count": 64,
     "metadata": {},
     "output_type": "execute_result"
    }
   ],
   "source": [
    "df"
   ],
   "metadata": {
    "collapsed": false,
    "pycharm": {
     "name": "#%%\n"
    }
   }
  },
  {
   "cell_type": "code",
   "execution_count": 66,
   "outputs": [],
   "source": [
    "url = f\"https://ecos.bok.or.kr/api/StatisticSearch/{api_key}/json/kr/1/1000/802Y001/D/20220701/20221014\"\n",
    "response = requests.get(url)\n",
    "data = response.json()\n",
    "df2 = pd.DataFrame(data[\"StatisticSearch\"][\"row\"])"
   ],
   "metadata": {
    "collapsed": false,
    "pycharm": {
     "name": "#%%\n"
    }
   }
  },
  {
   "cell_type": "code",
   "execution_count": 69,
   "outputs": [
    {
     "data": {
      "text/plain": "    STAT_CODE         STAT_NAME ITEM_CODE1       ITEM_NAME1 ITEM_CODE2  \\\n0     802Y001  1.5.1.1. 주식시장(일)    0001000          KOSPI지수       None   \n1     802Y001  1.5.1.1. 주식시장(일)    0001000          KOSPI지수       None   \n2     802Y001  1.5.1.1. 주식시장(일)    0001000          KOSPI지수       None   \n3     802Y001  1.5.1.1. 주식시장(일)    0001000          KOSPI지수       None   \n4     802Y001  1.5.1.1. 주식시장(일)    0001000          KOSPI지수       None   \n..        ...               ...        ...              ...        ...   \n776   802Y001  1.5.1.1. 주식시장(일)    0183000  시가총액(주식시장, 잠정치)       None   \n777   802Y001  1.5.1.1. 주식시장(일)    0183000  시가총액(주식시장, 잠정치)       None   \n778   802Y001  1.5.1.1. 주식시장(일)    0183000  시가총액(주식시장, 잠정치)       None   \n779   802Y001  1.5.1.1. 주식시장(일)    0183000  시가총액(주식시장, 잠정치)       None   \n780   802Y001  1.5.1.1. 주식시장(일)    0183000  시가총액(주식시장, 잠정치)       None   \n\n    ITEM_NAME2 ITEM_CODE3 ITEM_NAME3 ITEM_CODE4 ITEM_NAME4        UNIT_NAME  \\\n0         None       None       None       None       None  1980.01.04=100    \n1         None       None       None       None       None  1980.01.04=100    \n2         None       None       None       None       None  1980.01.04=100    \n3         None       None       None       None       None  1980.01.04=100    \n4         None       None       None       None       None  1980.01.04=100    \n..         ...        ...        ...        ...        ...              ...   \n776       None       None       None       None       None              억원    \n777       None       None       None       None       None              억원    \n778       None       None       None       None       None              억원    \n779       None       None       None       None       None              억원    \n780       None       None       None       None       None              억원    \n\n         TIME DATA_VALUE  \n0    20220701    2305.42  \n1    20220704    2300.34  \n2    20220705    2341.78  \n3    20220706    2292.01  \n4    20220707    2334.27  \n..        ...        ...  \n776  20221007   17619870  \n777  20221011   17294230  \n778  20221012   17375720  \n779  20221013   17070610  \n780  20221014   17459720  \n\n[781 rows x 13 columns]",
      "text/html": "<div>\n<style scoped>\n    .dataframe tbody tr th:only-of-type {\n        vertical-align: middle;\n    }\n\n    .dataframe tbody tr th {\n        vertical-align: top;\n    }\n\n    .dataframe thead th {\n        text-align: right;\n    }\n</style>\n<table border=\"1\" class=\"dataframe\">\n  <thead>\n    <tr style=\"text-align: right;\">\n      <th></th>\n      <th>STAT_CODE</th>\n      <th>STAT_NAME</th>\n      <th>ITEM_CODE1</th>\n      <th>ITEM_NAME1</th>\n      <th>ITEM_CODE2</th>\n      <th>ITEM_NAME2</th>\n      <th>ITEM_CODE3</th>\n      <th>ITEM_NAME3</th>\n      <th>ITEM_CODE4</th>\n      <th>ITEM_NAME4</th>\n      <th>UNIT_NAME</th>\n      <th>TIME</th>\n      <th>DATA_VALUE</th>\n    </tr>\n  </thead>\n  <tbody>\n    <tr>\n      <th>0</th>\n      <td>802Y001</td>\n      <td>1.5.1.1. 주식시장(일)</td>\n      <td>0001000</td>\n      <td>KOSPI지수</td>\n      <td>None</td>\n      <td>None</td>\n      <td>None</td>\n      <td>None</td>\n      <td>None</td>\n      <td>None</td>\n      <td>1980.01.04=100</td>\n      <td>20220701</td>\n      <td>2305.42</td>\n    </tr>\n    <tr>\n      <th>1</th>\n      <td>802Y001</td>\n      <td>1.5.1.1. 주식시장(일)</td>\n      <td>0001000</td>\n      <td>KOSPI지수</td>\n      <td>None</td>\n      <td>None</td>\n      <td>None</td>\n      <td>None</td>\n      <td>None</td>\n      <td>None</td>\n      <td>1980.01.04=100</td>\n      <td>20220704</td>\n      <td>2300.34</td>\n    </tr>\n    <tr>\n      <th>2</th>\n      <td>802Y001</td>\n      <td>1.5.1.1. 주식시장(일)</td>\n      <td>0001000</td>\n      <td>KOSPI지수</td>\n      <td>None</td>\n      <td>None</td>\n      <td>None</td>\n      <td>None</td>\n      <td>None</td>\n      <td>None</td>\n      <td>1980.01.04=100</td>\n      <td>20220705</td>\n      <td>2341.78</td>\n    </tr>\n    <tr>\n      <th>3</th>\n      <td>802Y001</td>\n      <td>1.5.1.1. 주식시장(일)</td>\n      <td>0001000</td>\n      <td>KOSPI지수</td>\n      <td>None</td>\n      <td>None</td>\n      <td>None</td>\n      <td>None</td>\n      <td>None</td>\n      <td>None</td>\n      <td>1980.01.04=100</td>\n      <td>20220706</td>\n      <td>2292.01</td>\n    </tr>\n    <tr>\n      <th>4</th>\n      <td>802Y001</td>\n      <td>1.5.1.1. 주식시장(일)</td>\n      <td>0001000</td>\n      <td>KOSPI지수</td>\n      <td>None</td>\n      <td>None</td>\n      <td>None</td>\n      <td>None</td>\n      <td>None</td>\n      <td>None</td>\n      <td>1980.01.04=100</td>\n      <td>20220707</td>\n      <td>2334.27</td>\n    </tr>\n    <tr>\n      <th>...</th>\n      <td>...</td>\n      <td>...</td>\n      <td>...</td>\n      <td>...</td>\n      <td>...</td>\n      <td>...</td>\n      <td>...</td>\n      <td>...</td>\n      <td>...</td>\n      <td>...</td>\n      <td>...</td>\n      <td>...</td>\n      <td>...</td>\n    </tr>\n    <tr>\n      <th>776</th>\n      <td>802Y001</td>\n      <td>1.5.1.1. 주식시장(일)</td>\n      <td>0183000</td>\n      <td>시가총액(주식시장, 잠정치)</td>\n      <td>None</td>\n      <td>None</td>\n      <td>None</td>\n      <td>None</td>\n      <td>None</td>\n      <td>None</td>\n      <td>억원</td>\n      <td>20221007</td>\n      <td>17619870</td>\n    </tr>\n    <tr>\n      <th>777</th>\n      <td>802Y001</td>\n      <td>1.5.1.1. 주식시장(일)</td>\n      <td>0183000</td>\n      <td>시가총액(주식시장, 잠정치)</td>\n      <td>None</td>\n      <td>None</td>\n      <td>None</td>\n      <td>None</td>\n      <td>None</td>\n      <td>None</td>\n      <td>억원</td>\n      <td>20221011</td>\n      <td>17294230</td>\n    </tr>\n    <tr>\n      <th>778</th>\n      <td>802Y001</td>\n      <td>1.5.1.1. 주식시장(일)</td>\n      <td>0183000</td>\n      <td>시가총액(주식시장, 잠정치)</td>\n      <td>None</td>\n      <td>None</td>\n      <td>None</td>\n      <td>None</td>\n      <td>None</td>\n      <td>None</td>\n      <td>억원</td>\n      <td>20221012</td>\n      <td>17375720</td>\n    </tr>\n    <tr>\n      <th>779</th>\n      <td>802Y001</td>\n      <td>1.5.1.1. 주식시장(일)</td>\n      <td>0183000</td>\n      <td>시가총액(주식시장, 잠정치)</td>\n      <td>None</td>\n      <td>None</td>\n      <td>None</td>\n      <td>None</td>\n      <td>None</td>\n      <td>None</td>\n      <td>억원</td>\n      <td>20221013</td>\n      <td>17070610</td>\n    </tr>\n    <tr>\n      <th>780</th>\n      <td>802Y001</td>\n      <td>1.5.1.1. 주식시장(일)</td>\n      <td>0183000</td>\n      <td>시가총액(주식시장, 잠정치)</td>\n      <td>None</td>\n      <td>None</td>\n      <td>None</td>\n      <td>None</td>\n      <td>None</td>\n      <td>None</td>\n      <td>억원</td>\n      <td>20221014</td>\n      <td>17459720</td>\n    </tr>\n  </tbody>\n</table>\n<p>781 rows × 13 columns</p>\n</div>"
     },
     "execution_count": 69,
     "metadata": {},
     "output_type": "execute_result"
    }
   ],
   "source": [
    "df2"
   ],
   "metadata": {
    "collapsed": false,
    "pycharm": {
     "name": "#%%\n"
    }
   }
  },
  {
   "cell_type": "markdown",
   "source": [
    "# 100대 통계지표\n",
    "- https://ecos.bok.or.kr/api/#/DevGuide/DevSpeciflcation\n",
    "- 한국은행에서 1일 단위로 알아서 update 한다"
   ],
   "metadata": {
    "collapsed": false,
    "pycharm": {
     "name": "#%% md\n"
    }
   }
  },
  {
   "cell_type": "code",
   "execution_count": 31,
   "outputs": [],
   "source": [
    "sample_url = f\"https://ecos.bok.or.kr/api/KeyStatisticList/{api_key}/json/kr/1/100\"\n",
    "response = requests.get(sample_url)\n",
    "data = response.json()\n",
    "df = pd.DataFrame(data[\"KeyStatisticList\"][\"row\"])"
   ],
   "metadata": {
    "collapsed": false,
    "pycharm": {
     "name": "#%%\n"
    }
   }
  },
  {
   "cell_type": "code",
   "execution_count": 30,
   "outputs": [
    {
     "data": {
      "text/plain": "   CLASS_NAME     KEYSTAT_NAME  DATA_VALUE     CYCLE   UNIT_NAME\n0        시장금리        한국은행 기준금리           3  20221016          % \n1        시장금리         콜금리(익일물)        3.05  20221017          % \n2        시장금리     KORIBOR(3개월)        3.55  20221018          % \n3        시장금리       CD수익률(91일)        3.76  20221018          % \n4        시장금리    통안증권수익률(364일)        3.55  20221018          % \n..        ...              ...         ...       ...         ...\n95     부동산 가격         주택매매가격지수   104.45905    202208  2021.6=100\n96     부동산 가격         주택전세가격지수  102.837952    202208  2021.6=100\n97     부동산 가격      지가변동률(전기대비)       0.276    202208          % \n98        원자재  국제유가(Dubai, 현물)        90.1    202209         달러 \n99        원자재                금     1660.62    202209         달러 \n\n[100 rows x 5 columns]",
      "text/html": "<div>\n<style scoped>\n    .dataframe tbody tr th:only-of-type {\n        vertical-align: middle;\n    }\n\n    .dataframe tbody tr th {\n        vertical-align: top;\n    }\n\n    .dataframe thead th {\n        text-align: right;\n    }\n</style>\n<table border=\"1\" class=\"dataframe\">\n  <thead>\n    <tr style=\"text-align: right;\">\n      <th></th>\n      <th>CLASS_NAME</th>\n      <th>KEYSTAT_NAME</th>\n      <th>DATA_VALUE</th>\n      <th>CYCLE</th>\n      <th>UNIT_NAME</th>\n    </tr>\n  </thead>\n  <tbody>\n    <tr>\n      <th>0</th>\n      <td>시장금리</td>\n      <td>한국은행 기준금리</td>\n      <td>3</td>\n      <td>20221016</td>\n      <td>%</td>\n    </tr>\n    <tr>\n      <th>1</th>\n      <td>시장금리</td>\n      <td>콜금리(익일물)</td>\n      <td>3.05</td>\n      <td>20221017</td>\n      <td>%</td>\n    </tr>\n    <tr>\n      <th>2</th>\n      <td>시장금리</td>\n      <td>KORIBOR(3개월)</td>\n      <td>3.55</td>\n      <td>20221018</td>\n      <td>%</td>\n    </tr>\n    <tr>\n      <th>3</th>\n      <td>시장금리</td>\n      <td>CD수익률(91일)</td>\n      <td>3.76</td>\n      <td>20221018</td>\n      <td>%</td>\n    </tr>\n    <tr>\n      <th>4</th>\n      <td>시장금리</td>\n      <td>통안증권수익률(364일)</td>\n      <td>3.55</td>\n      <td>20221018</td>\n      <td>%</td>\n    </tr>\n    <tr>\n      <th>...</th>\n      <td>...</td>\n      <td>...</td>\n      <td>...</td>\n      <td>...</td>\n      <td>...</td>\n    </tr>\n    <tr>\n      <th>95</th>\n      <td>부동산 가격</td>\n      <td>주택매매가격지수</td>\n      <td>104.45905</td>\n      <td>202208</td>\n      <td>2021.6=100</td>\n    </tr>\n    <tr>\n      <th>96</th>\n      <td>부동산 가격</td>\n      <td>주택전세가격지수</td>\n      <td>102.837952</td>\n      <td>202208</td>\n      <td>2021.6=100</td>\n    </tr>\n    <tr>\n      <th>97</th>\n      <td>부동산 가격</td>\n      <td>지가변동률(전기대비)</td>\n      <td>0.276</td>\n      <td>202208</td>\n      <td>%</td>\n    </tr>\n    <tr>\n      <th>98</th>\n      <td>원자재</td>\n      <td>국제유가(Dubai, 현물)</td>\n      <td>90.1</td>\n      <td>202209</td>\n      <td>달러</td>\n    </tr>\n    <tr>\n      <th>99</th>\n      <td>원자재</td>\n      <td>금</td>\n      <td>1660.62</td>\n      <td>202209</td>\n      <td>달러</td>\n    </tr>\n  </tbody>\n</table>\n<p>100 rows × 5 columns</p>\n</div>"
     },
     "execution_count": 30,
     "metadata": {},
     "output_type": "execute_result"
    }
   ],
   "source": [
    "df"
   ],
   "metadata": {
    "collapsed": false,
    "pycharm": {
     "name": "#%%\n"
    }
   }
  },
  {
   "cell_type": "code",
   "execution_count": null,
   "outputs": [],
   "source": [],
   "metadata": {
    "collapsed": false,
    "pycharm": {
     "name": "#%%\n"
    }
   }
  }
 ],
 "metadata": {
  "kernelspec": {
   "display_name": "Python 3",
   "language": "python",
   "name": "python3"
  },
  "language_info": {
   "codemirror_mode": {
    "name": "ipython",
    "version": 2
   },
   "file_extension": ".py",
   "mimetype": "text/x-python",
   "name": "python",
   "nbconvert_exporter": "python",
   "pygments_lexer": "ipython2",
   "version": "2.7.6"
  }
 },
 "nbformat": 4,
 "nbformat_minor": 0
}