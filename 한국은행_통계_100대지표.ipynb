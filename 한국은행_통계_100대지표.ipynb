{
 "cells": [
  {
   "cell_type": "code",
   "execution_count": 327,
   "outputs": [],
   "source": [
    "\"\"\"한국은행 데이터\n",
    "\"\"\"\n",
    "from dotenv import load_dotenv\n",
    "import os\n",
    "import requests\n",
    "import pandas as pd\n",
    "from tqdm import tqdm\n",
    "import pymysql\n",
    "\n",
    "# load .env\n",
    "load_dotenv()\n",
    "api_key = os.environ.get(\"korea_bank_api_key\")\n",
    "ENDPOINT = os.environ.get(\"dev_db_endpoint\")\n",
    "USER = os.environ.get(\"dev_db_user\")\n",
    "PASSWORD = os.environ.get(\"dev_db_password\")"
   ],
   "metadata": {
    "collapsed": false,
    "pycharm": {
     "name": "#%%\n"
    }
   }
  },
  {
   "cell_type": "markdown",
   "source": [
    "# 통계 정보 조회\n",
    "- https://ecos.bok.or.kr/api/#/DevGuide/DevSpeciflcation\n",
    "- 주기: 년:A, 반년:S, 분기:Q, 월:M, 반월:SM, 일: D"
   ],
   "metadata": {
    "collapsed": false,
    "pycharm": {
     "name": "#%% md\n"
    }
   }
  },
  {
   "cell_type": "code",
   "execution_count": 328,
   "outputs": [],
   "source": [
    "conn = pymysql.connect(\n",
    "    host=ENDPOINT,\n",
    "    user=USER,\n",
    "    password=PASSWORD,\n",
    "    database=\"aresa\",\n",
    "    port=3306\n",
    ")\n",
    "\n",
    "cur = conn.cursor(pymysql.cursors.DictCursor)"
   ],
   "metadata": {
    "collapsed": false,
    "pycharm": {
     "name": "#%%\n"
    }
   }
  },
  {
   "cell_type": "code",
   "execution_count": 332,
   "outputs": [
    {
     "data": {
      "text/plain": "    통계_순번      분류              통계명        시점       예시값          단위 stat_code  \\\n0       1    시장금리        한국은행 기준금리  20221029     3.000           %   722Y001   \n1       2    시장금리         콜금리(익일물)  20221028     3.047           %   817Y002   \n2       3    시장금리     KORIBOR(3개월)  20221031     3.890           %   817Y002   \n3       4    시장금리       CD수익률(91일)  20221031     3.960           %   817Y002   \n4       5    시장금리    통안증권수익률(364일)  20221031     3.743           %   817Y002   \n..    ...     ...              ...       ...       ...         ...       ...   \n95     96  부동산 가격         주택매매가격지수    202209   103.950  2021.6=100   901Y093   \n96     97  부동산 가격         주택전세가격지수    202209   102.328  2021.6=100   901Y094   \n97     98  부동산 가격      지가변동률(전기대비)    202208     0.276           %   901Y064   \n98     99     원자재  국제유가(Dubai, 현물)    202209    90.100          달러   902Y003   \n99    100     원자재                금    202209  1660.620          달러   902Y003   \n\n   cycle item_code1 item_code2 item_code3 item_code4 search_start search_end  \n0      D    0101000          ?          ?          ?     19800101   20221031  \n1      D  010101000          ?          ?          ?     19800101   20221031  \n2      D  010150000          ?          ?          ?     19800101   20221031  \n3      D  010502000          ?          ?          ?     19800101   20221031  \n4      D  010400001          ?          ?          ?     19800101   20221031  \n..   ...        ...        ...        ...        ...          ...        ...  \n95     M       H69A       R70A          ?          ?       198001     202210  \n96     M       H69A       R70A          ?          ?       198001     202210  \n97     M       P65A          ?          ?          ?       198001     202210  \n98     M    4010102          ?          ?          ?       198001     202210  \n99     M    4020401          ?          ?          ?       198001     202210  \n\n[100 rows x 14 columns]",
      "text/html": "<div>\n<style scoped>\n    .dataframe tbody tr th:only-of-type {\n        vertical-align: middle;\n    }\n\n    .dataframe tbody tr th {\n        vertical-align: top;\n    }\n\n    .dataframe thead th {\n        text-align: right;\n    }\n</style>\n<table border=\"1\" class=\"dataframe\">\n  <thead>\n    <tr style=\"text-align: right;\">\n      <th></th>\n      <th>통계_순번</th>\n      <th>분류</th>\n      <th>통계명</th>\n      <th>시점</th>\n      <th>예시값</th>\n      <th>단위</th>\n      <th>stat_code</th>\n      <th>cycle</th>\n      <th>item_code1</th>\n      <th>item_code2</th>\n      <th>item_code3</th>\n      <th>item_code4</th>\n      <th>search_start</th>\n      <th>search_end</th>\n    </tr>\n  </thead>\n  <tbody>\n    <tr>\n      <th>0</th>\n      <td>1</td>\n      <td>시장금리</td>\n      <td>한국은행 기준금리</td>\n      <td>20221029</td>\n      <td>3.000</td>\n      <td>%</td>\n      <td>722Y001</td>\n      <td>D</td>\n      <td>0101000</td>\n      <td>?</td>\n      <td>?</td>\n      <td>?</td>\n      <td>19800101</td>\n      <td>20221031</td>\n    </tr>\n    <tr>\n      <th>1</th>\n      <td>2</td>\n      <td>시장금리</td>\n      <td>콜금리(익일물)</td>\n      <td>20221028</td>\n      <td>3.047</td>\n      <td>%</td>\n      <td>817Y002</td>\n      <td>D</td>\n      <td>010101000</td>\n      <td>?</td>\n      <td>?</td>\n      <td>?</td>\n      <td>19800101</td>\n      <td>20221031</td>\n    </tr>\n    <tr>\n      <th>2</th>\n      <td>3</td>\n      <td>시장금리</td>\n      <td>KORIBOR(3개월)</td>\n      <td>20221031</td>\n      <td>3.890</td>\n      <td>%</td>\n      <td>817Y002</td>\n      <td>D</td>\n      <td>010150000</td>\n      <td>?</td>\n      <td>?</td>\n      <td>?</td>\n      <td>19800101</td>\n      <td>20221031</td>\n    </tr>\n    <tr>\n      <th>3</th>\n      <td>4</td>\n      <td>시장금리</td>\n      <td>CD수익률(91일)</td>\n      <td>20221031</td>\n      <td>3.960</td>\n      <td>%</td>\n      <td>817Y002</td>\n      <td>D</td>\n      <td>010502000</td>\n      <td>?</td>\n      <td>?</td>\n      <td>?</td>\n      <td>19800101</td>\n      <td>20221031</td>\n    </tr>\n    <tr>\n      <th>4</th>\n      <td>5</td>\n      <td>시장금리</td>\n      <td>통안증권수익률(364일)</td>\n      <td>20221031</td>\n      <td>3.743</td>\n      <td>%</td>\n      <td>817Y002</td>\n      <td>D</td>\n      <td>010400001</td>\n      <td>?</td>\n      <td>?</td>\n      <td>?</td>\n      <td>19800101</td>\n      <td>20221031</td>\n    </tr>\n    <tr>\n      <th>...</th>\n      <td>...</td>\n      <td>...</td>\n      <td>...</td>\n      <td>...</td>\n      <td>...</td>\n      <td>...</td>\n      <td>...</td>\n      <td>...</td>\n      <td>...</td>\n      <td>...</td>\n      <td>...</td>\n      <td>...</td>\n      <td>...</td>\n      <td>...</td>\n    </tr>\n    <tr>\n      <th>95</th>\n      <td>96</td>\n      <td>부동산 가격</td>\n      <td>주택매매가격지수</td>\n      <td>202209</td>\n      <td>103.950</td>\n      <td>2021.6=100</td>\n      <td>901Y093</td>\n      <td>M</td>\n      <td>H69A</td>\n      <td>R70A</td>\n      <td>?</td>\n      <td>?</td>\n      <td>198001</td>\n      <td>202210</td>\n    </tr>\n    <tr>\n      <th>96</th>\n      <td>97</td>\n      <td>부동산 가격</td>\n      <td>주택전세가격지수</td>\n      <td>202209</td>\n      <td>102.328</td>\n      <td>2021.6=100</td>\n      <td>901Y094</td>\n      <td>M</td>\n      <td>H69A</td>\n      <td>R70A</td>\n      <td>?</td>\n      <td>?</td>\n      <td>198001</td>\n      <td>202210</td>\n    </tr>\n    <tr>\n      <th>97</th>\n      <td>98</td>\n      <td>부동산 가격</td>\n      <td>지가변동률(전기대비)</td>\n      <td>202208</td>\n      <td>0.276</td>\n      <td>%</td>\n      <td>901Y064</td>\n      <td>M</td>\n      <td>P65A</td>\n      <td>?</td>\n      <td>?</td>\n      <td>?</td>\n      <td>198001</td>\n      <td>202210</td>\n    </tr>\n    <tr>\n      <th>98</th>\n      <td>99</td>\n      <td>원자재</td>\n      <td>국제유가(Dubai, 현물)</td>\n      <td>202209</td>\n      <td>90.100</td>\n      <td>달러</td>\n      <td>902Y003</td>\n      <td>M</td>\n      <td>4010102</td>\n      <td>?</td>\n      <td>?</td>\n      <td>?</td>\n      <td>198001</td>\n      <td>202210</td>\n    </tr>\n    <tr>\n      <th>99</th>\n      <td>100</td>\n      <td>원자재</td>\n      <td>금</td>\n      <td>202209</td>\n      <td>1660.620</td>\n      <td>달러</td>\n      <td>902Y003</td>\n      <td>M</td>\n      <td>4020401</td>\n      <td>?</td>\n      <td>?</td>\n      <td>?</td>\n      <td>198001</td>\n      <td>202210</td>\n    </tr>\n  </tbody>\n</table>\n<p>100 rows × 14 columns</p>\n</div>"
     },
     "execution_count": 332,
     "metadata": {},
     "output_type": "execute_result"
    }
   ],
   "source": [
    "collect_idx100_df = pd.read_csv(\"config/한국은행_100대_지표.csv\")\n",
    "# collect_idx100_dfM\n",
    "SEARCH_START = \"1980-01-01\"\n",
    "SEARCH_END = \"2022-10-31\"\n",
    "search_start_query = f\"select * from date_d where date = '{SEARCH_START}'\"\n",
    "search_end_query = f\"select * from date_d where date = '{SEARCH_END}'\"\n",
    "\n",
    "cur.execute(search_start_query)\n",
    "search_start_dict = dict(cur.fetchall()[0])\n",
    "cur.execute(search_end_query)\n",
    "search_end_dict = dict(cur.fetchall()[0])\n",
    "search_start_list = []\n",
    "search_end_list = []\n",
    "\n",
    "for cycle in collect_idx100_df[\"cycle\"]:\n",
    "    if cycle == \"A\":\n",
    "        search_start_list.append(search_start_dict[\"year\"])\n",
    "        search_end_list.append(search_end_dict[\"year\"])\n",
    "    elif cycle == \"Q\":\n",
    "        search_start_list.append(search_start_dict[\"quarter\"])\n",
    "        search_end_list.append(search_end_dict[\"quarter\"])\n",
    "    elif cycle == \"M\":\n",
    "        search_start_list.append(search_start_dict[\"month\"])\n",
    "        search_end_list.append(search_end_dict[\"month\"])\n",
    "    elif cycle == \"D\":\n",
    "        search_start_list.append(search_start_dict[\"ymd\"])\n",
    "        search_end_list.append(search_end_dict[\"ymd\"])\n",
    "\n",
    "collect_idx100_df[\"search_start\"] = search_start_list\n",
    "collect_idx100_df[\"search_end\"] = search_end_list\n",
    "collect_idx100_df.fillna(value=\"?\", inplace=True)\n",
    "collect_idx100_df"
   ],
   "metadata": {
    "collapsed": false,
    "pycharm": {
     "name": "#%%\n"
    }
   }
  },
  {
   "cell_type": "code",
   "execution_count": 333,
   "outputs": [
    {
     "name": "stderr",
     "output_type": "stream",
     "text": [
      "100it [00:49,  2.02it/s]\n"
     ]
    }
   ],
   "source": [
    "df_all = pd.DataFrame()\n",
    "\n",
    "for row in tqdm(collect_idx100_df.itertuples()):\n",
    "\n",
    "    stat_num = row.통계_순번\n",
    "    stat_nm = row.통계명\n",
    "    stat_code = row.stat_code\n",
    "    cycle = row.cycle\n",
    "    item_code1 = row.item_code1\n",
    "    item_code2 = row.item_code2\n",
    "    item_code3 = row.item_code3\n",
    "    item_code4 = row.item_code4\n",
    "    search_start = row.search_start\n",
    "    search_end = row.search_end\n",
    "\n",
    "    url = f\"https://ecos.bok.or.kr/api/StatisticSearch/{api_key}/json/kr/1/100000/{stat_code}/{cycle}/{search_start}/{search_end}/{item_code1}/{item_code2}/{item_code3}/{item_code4}\"\n",
    "    response = requests.get(url)\n",
    "    data = response.json()\n",
    "\n",
    "    df = pd.DataFrame(data[\"StatisticSearch\"][\"row\"])\n",
    "    df.insert(0, \"STAT_100_NUM\", stat_num)\n",
    "    df.insert(1, \"STAT_100_NM\", stat_nm)\n",
    "    df[\"CYCLE\"] = cycle\n",
    "    df_all = pd.concat([df_all, df])\n",
    "\n",
    "    # 1개 지표만 뽑는지 검증\n",
    "    s = set()\n",
    "    for row in df.itertuples():\n",
    "        v = row.STAT_NAME + str(row.ITEM_CODE1) + str(row.ITEM_CODE2) + str(row.ITEM_CODE3) \\\n",
    "            + str(row.ITEM_CODE4)\n",
    "        s.add(v)\n",
    "    if len(s) > 1:\n",
    "        print(stat_num, \":\", s)"
   ],
   "metadata": {
    "collapsed": false,
    "pycharm": {
     "name": "#%%\n"
    }
   }
  },
  {
   "cell_type": "code",
   "execution_count": 334,
   "outputs": [
    {
     "data": {
      "text/plain": "     STAT_100_NUM STAT_100_NM STAT_CODE                 STAT_NAME ITEM_CODE1  \\\n0               1   한국은행 기준금리   722Y001  1.3.1. 한국은행 기준금리 및 여수신금리    0101000   \n1               1   한국은행 기준금리   722Y001  1.3.1. 한국은행 기준금리 및 여수신금리    0101000   \n2               1   한국은행 기준금리   722Y001  1.3.1. 한국은행 기준금리 및 여수신금리    0101000   \n3               1   한국은행 기준금리   722Y001  1.3.1. 한국은행 기준금리 및 여수신금리    0101000   \n4               1   한국은행 기준금리   722Y001  1.3.1. 한국은행 기준금리 및 여수신금리    0101000   \n..            ...         ...       ...                       ...        ...   \n437           100           금   902Y003           9.1.6.3. 국제상품가격    4020401   \n438           100           금   902Y003           9.1.6.3. 국제상품가격    4020401   \n439           100           금   902Y003           9.1.6.3. 국제상품가격    4020401   \n440           100           금   902Y003           9.1.6.3. 국제상품가격    4020401   \n441           100           금   902Y003           9.1.6.3. 국제상품가격    4020401   \n\n    ITEM_NAME1 ITEM_CODE2 ITEM_NAME2 ITEM_CODE3 ITEM_NAME3 ITEM_CODE4  \\\n0    한국은행 기준금리       None       None       None       None       None   \n1    한국은행 기준금리       None       None       None       None       None   \n2    한국은행 기준금리       None       None       None       None       None   \n3    한국은행 기준금리       None       None       None       None       None   \n4    한국은행 기준금리       None       None       None       None       None   \n..         ...        ...        ...        ...        ...        ...   \n437      금(현물)       None       None       None       None       None   \n438      금(현물)       None       None       None       None       None   \n439      금(현물)       None       None       None       None       None   \n440      금(현물)       None       None       None       None       None   \n441      금(현물)       None       None       None       None       None   \n\n    ITEM_NAME4 UNIT_NAME      TIME DATA_VALUE CYCLE  \n0         None        연%  19990506       4.75     D  \n1         None        연%  19990507       4.75     D  \n2         None        연%  19990508       4.75     D  \n3         None        연%  19990509       4.75     D  \n4         None        연%  19990510       4.75     D  \n..         ...       ...       ...        ...   ...  \n437       None      $/OZ    202206    1807.27     M  \n438       None      $/OZ    202207    1765.94     M  \n439       None      $/OZ    202208    1711.04     M  \n440       None      $/OZ    202209    1660.62     M  \n441       None      $/OZ    202210    1633.56     M  \n\n[121240 rows x 16 columns]",
      "text/html": "<div>\n<style scoped>\n    .dataframe tbody tr th:only-of-type {\n        vertical-align: middle;\n    }\n\n    .dataframe tbody tr th {\n        vertical-align: top;\n    }\n\n    .dataframe thead th {\n        text-align: right;\n    }\n</style>\n<table border=\"1\" class=\"dataframe\">\n  <thead>\n    <tr style=\"text-align: right;\">\n      <th></th>\n      <th>STAT_100_NUM</th>\n      <th>STAT_100_NM</th>\n      <th>STAT_CODE</th>\n      <th>STAT_NAME</th>\n      <th>ITEM_CODE1</th>\n      <th>ITEM_NAME1</th>\n      <th>ITEM_CODE2</th>\n      <th>ITEM_NAME2</th>\n      <th>ITEM_CODE3</th>\n      <th>ITEM_NAME3</th>\n      <th>ITEM_CODE4</th>\n      <th>ITEM_NAME4</th>\n      <th>UNIT_NAME</th>\n      <th>TIME</th>\n      <th>DATA_VALUE</th>\n      <th>CYCLE</th>\n    </tr>\n  </thead>\n  <tbody>\n    <tr>\n      <th>0</th>\n      <td>1</td>\n      <td>한국은행 기준금리</td>\n      <td>722Y001</td>\n      <td>1.3.1. 한국은행 기준금리 및 여수신금리</td>\n      <td>0101000</td>\n      <td>한국은행 기준금리</td>\n      <td>None</td>\n      <td>None</td>\n      <td>None</td>\n      <td>None</td>\n      <td>None</td>\n      <td>None</td>\n      <td>연%</td>\n      <td>19990506</td>\n      <td>4.75</td>\n      <td>D</td>\n    </tr>\n    <tr>\n      <th>1</th>\n      <td>1</td>\n      <td>한국은행 기준금리</td>\n      <td>722Y001</td>\n      <td>1.3.1. 한국은행 기준금리 및 여수신금리</td>\n      <td>0101000</td>\n      <td>한국은행 기준금리</td>\n      <td>None</td>\n      <td>None</td>\n      <td>None</td>\n      <td>None</td>\n      <td>None</td>\n      <td>None</td>\n      <td>연%</td>\n      <td>19990507</td>\n      <td>4.75</td>\n      <td>D</td>\n    </tr>\n    <tr>\n      <th>2</th>\n      <td>1</td>\n      <td>한국은행 기준금리</td>\n      <td>722Y001</td>\n      <td>1.3.1. 한국은행 기준금리 및 여수신금리</td>\n      <td>0101000</td>\n      <td>한국은행 기준금리</td>\n      <td>None</td>\n      <td>None</td>\n      <td>None</td>\n      <td>None</td>\n      <td>None</td>\n      <td>None</td>\n      <td>연%</td>\n      <td>19990508</td>\n      <td>4.75</td>\n      <td>D</td>\n    </tr>\n    <tr>\n      <th>3</th>\n      <td>1</td>\n      <td>한국은행 기준금리</td>\n      <td>722Y001</td>\n      <td>1.3.1. 한국은행 기준금리 및 여수신금리</td>\n      <td>0101000</td>\n      <td>한국은행 기준금리</td>\n      <td>None</td>\n      <td>None</td>\n      <td>None</td>\n      <td>None</td>\n      <td>None</td>\n      <td>None</td>\n      <td>연%</td>\n      <td>19990509</td>\n      <td>4.75</td>\n      <td>D</td>\n    </tr>\n    <tr>\n      <th>4</th>\n      <td>1</td>\n      <td>한국은행 기준금리</td>\n      <td>722Y001</td>\n      <td>1.3.1. 한국은행 기준금리 및 여수신금리</td>\n      <td>0101000</td>\n      <td>한국은행 기준금리</td>\n      <td>None</td>\n      <td>None</td>\n      <td>None</td>\n      <td>None</td>\n      <td>None</td>\n      <td>None</td>\n      <td>연%</td>\n      <td>19990510</td>\n      <td>4.75</td>\n      <td>D</td>\n    </tr>\n    <tr>\n      <th>...</th>\n      <td>...</td>\n      <td>...</td>\n      <td>...</td>\n      <td>...</td>\n      <td>...</td>\n      <td>...</td>\n      <td>...</td>\n      <td>...</td>\n      <td>...</td>\n      <td>...</td>\n      <td>...</td>\n      <td>...</td>\n      <td>...</td>\n      <td>...</td>\n      <td>...</td>\n      <td>...</td>\n    </tr>\n    <tr>\n      <th>437</th>\n      <td>100</td>\n      <td>금</td>\n      <td>902Y003</td>\n      <td>9.1.6.3. 국제상품가격</td>\n      <td>4020401</td>\n      <td>금(현물)</td>\n      <td>None</td>\n      <td>None</td>\n      <td>None</td>\n      <td>None</td>\n      <td>None</td>\n      <td>None</td>\n      <td>$/OZ</td>\n      <td>202206</td>\n      <td>1807.27</td>\n      <td>M</td>\n    </tr>\n    <tr>\n      <th>438</th>\n      <td>100</td>\n      <td>금</td>\n      <td>902Y003</td>\n      <td>9.1.6.3. 국제상품가격</td>\n      <td>4020401</td>\n      <td>금(현물)</td>\n      <td>None</td>\n      <td>None</td>\n      <td>None</td>\n      <td>None</td>\n      <td>None</td>\n      <td>None</td>\n      <td>$/OZ</td>\n      <td>202207</td>\n      <td>1765.94</td>\n      <td>M</td>\n    </tr>\n    <tr>\n      <th>439</th>\n      <td>100</td>\n      <td>금</td>\n      <td>902Y003</td>\n      <td>9.1.6.3. 국제상품가격</td>\n      <td>4020401</td>\n      <td>금(현물)</td>\n      <td>None</td>\n      <td>None</td>\n      <td>None</td>\n      <td>None</td>\n      <td>None</td>\n      <td>None</td>\n      <td>$/OZ</td>\n      <td>202208</td>\n      <td>1711.04</td>\n      <td>M</td>\n    </tr>\n    <tr>\n      <th>440</th>\n      <td>100</td>\n      <td>금</td>\n      <td>902Y003</td>\n      <td>9.1.6.3. 국제상품가격</td>\n      <td>4020401</td>\n      <td>금(현물)</td>\n      <td>None</td>\n      <td>None</td>\n      <td>None</td>\n      <td>None</td>\n      <td>None</td>\n      <td>None</td>\n      <td>$/OZ</td>\n      <td>202209</td>\n      <td>1660.62</td>\n      <td>M</td>\n    </tr>\n    <tr>\n      <th>441</th>\n      <td>100</td>\n      <td>금</td>\n      <td>902Y003</td>\n      <td>9.1.6.3. 국제상품가격</td>\n      <td>4020401</td>\n      <td>금(현물)</td>\n      <td>None</td>\n      <td>None</td>\n      <td>None</td>\n      <td>None</td>\n      <td>None</td>\n      <td>None</td>\n      <td>$/OZ</td>\n      <td>202210</td>\n      <td>1633.56</td>\n      <td>M</td>\n    </tr>\n  </tbody>\n</table>\n<p>121240 rows × 16 columns</p>\n</div>"
     },
     "execution_count": 334,
     "metadata": {},
     "output_type": "execute_result"
    }
   ],
   "source": [
    "df_all"
   ],
   "metadata": {
    "collapsed": false,
    "pycharm": {
     "name": "#%%\n"
    }
   }
  },
  {
   "cell_type": "code",
   "execution_count": 335,
   "outputs": [
    {
     "name": "stdout",
     "output_type": "stream",
     "text": [
      "100\n"
     ]
    }
   ],
   "source": [
    "# 검증\n",
    "s = set()\n",
    "for row in df_all.itertuples():\n",
    "    v = row.STAT_NAME + str(row.ITEM_CODE1) + str(row.ITEM_CODE2) + str(row.ITEM_CODE3) \\\n",
    "        + str(row.ITEM_CODE4)\n",
    "    s.add(v)\n",
    "\n",
    "print(len(s))"
   ],
   "metadata": {
    "collapsed": false,
    "pycharm": {
     "name": "#%%\n"
    }
   }
  },
  {
   "cell_type": "code",
   "execution_count": 337,
   "outputs": [],
   "source": [
    "df_all.to_csv(\"data/한국은행/한국은행_100대_통계지표_19800101_20221031.csv\", index=False, encoding=\"utf8\")"
   ],
   "metadata": {
    "collapsed": false,
    "pycharm": {
     "name": "#%%\n"
    }
   }
  },
  {
   "cell_type": "code",
   "execution_count": null,
   "outputs": [],
   "source": [],
   "metadata": {
    "collapsed": false,
    "pycharm": {
     "name": "#%%\n"
    }
   }
  },
  {
   "cell_type": "code",
   "execution_count": 280,
   "outputs": [],
   "source": [
    "# s = set()\n",
    "# for row in collect_idx100_df.itertuples():\n",
    "#     v = row.stat_code + str(row.item_code1) + str(row.item_code2) + str(row.item_code3) \\\n",
    "#         + str(row.item_code4)\n",
    "#     s.add(v)"
   ],
   "metadata": {
    "collapsed": false,
    "pycharm": {
     "name": "#%%\n"
    }
   }
  }
 ],
 "metadata": {
  "kernelspec": {
   "display_name": "Python 3",
   "language": "python",
   "name": "python3"
  },
  "language_info": {
   "codemirror_mode": {
    "name": "ipython",
    "version": 2
   },
   "file_extension": ".py",
   "mimetype": "text/x-python",
   "name": "python",
   "nbconvert_exporter": "python",
   "pygments_lexer": "ipython2",
   "version": "2.7.6"
  }
 },
 "nbformat": 4,
 "nbformat_minor": 0
}