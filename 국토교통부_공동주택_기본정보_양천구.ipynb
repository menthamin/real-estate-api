{
 "cells": [
  {
   "cell_type": "code",
   "execution_count": 19,
   "outputs": [],
   "source": [
    "\"\"\"국토교통부 공동주택 기본정보 추출\n",
    "- 링크: https://www.data.go.kr/tcs/dss/selectApiDataDetailView.do?publicDataPk=15058453\n",
    "\"\"\"\n",
    "from dotenv import load_dotenv\n",
    "import os\n",
    "import requests\n",
    "import pandas as pd\n",
    "import io\n",
    "import xmltodict\n",
    "import json\n",
    "\n",
    "# import xml.etree.ElementTree as et\n",
    "\n",
    "\n",
    "# load .env\n",
    "load_dotenv()\n",
    "getRTMSDataSvcAptTradeDev_en = os.environ.get(\"getRTMSDataSvcAptTradeDev_en\")\n",
    "getRTMSDataSvcAptTradeDev_de = os.environ.get(\"pubkey_de\")"
   ],
   "metadata": {
    "collapsed": false,
    "pycharm": {
     "name": "#%%\n"
    }
   }
  },
  {
   "cell_type": "code",
   "execution_count": 20,
   "outputs": [],
   "source": [
    "df_apt = pd.read_csv(\"data/국토교통부_아파트단지목록_20220913.csv\")"
   ],
   "metadata": {
    "collapsed": false,
    "pycharm": {
     "name": "#%%\n"
    }
   }
  },
  {
   "cell_type": "code",
   "execution_count": 21,
   "outputs": [],
   "source": [
    "idx = (df_apt[\"as1\"] == \"서울특별시\") & (df_apt[\"as2\"] == \"양천구\")\n",
    "YC_GU = df_apt[idx]"
   ],
   "metadata": {
    "collapsed": false,
    "pycharm": {
     "name": "#%%\n"
    }
   }
  },
  {
   "cell_type": "code",
   "execution_count": 22,
   "outputs": [
    {
     "data": {
      "text/plain": "         as1  as2  as3  as4     bjdCode   kaptCode           kaptName\n11     서울특별시  양천구  신정동  NaN  1147010100  A15886402       신정대성유니드아파트2차\n213    서울특별시  양천구  신월동  NaN  1147010300  A15809402            신월삼정그린뷰\n297    서울특별시  양천구  신정동  NaN  1147010100  A15807002             신트리1단지\n503    서울특별시  양천구  신정동  NaN  1147010100  A15807316             신트리4단지\n704    서울특별시  양천구   목동  NaN  1147010200  A15805301         목동부영그린타운3차\n...      ...  ...  ...  ...         ...        ...                ...\n17527  서울특별시  양천구  신월동  NaN  1147010300  A10024872  목동 센트럴 아이파크위브 아파트\n17585  서울특별시  양천구  신정동  NaN  1147010100  A10023886          호반써밋목동아파트\n18119  서울특별시  양천구   목동  NaN  1147010200  A10024355       목동세종그랑시아 아파트\n18616  서울특별시  양천구  신정동  NaN  1147010100  A10024398         래미안 목동아델리체\n18707  서울특별시  양천구  신월동  NaN  1147010300  A15878601              금하뜨라네\n\n[131 rows x 7 columns]",
      "text/html": "<div>\n<style scoped>\n    .dataframe tbody tr th:only-of-type {\n        vertical-align: middle;\n    }\n\n    .dataframe tbody tr th {\n        vertical-align: top;\n    }\n\n    .dataframe thead th {\n        text-align: right;\n    }\n</style>\n<table border=\"1\" class=\"dataframe\">\n  <thead>\n    <tr style=\"text-align: right;\">\n      <th></th>\n      <th>as1</th>\n      <th>as2</th>\n      <th>as3</th>\n      <th>as4</th>\n      <th>bjdCode</th>\n      <th>kaptCode</th>\n      <th>kaptName</th>\n    </tr>\n  </thead>\n  <tbody>\n    <tr>\n      <th>11</th>\n      <td>서울특별시</td>\n      <td>양천구</td>\n      <td>신정동</td>\n      <td>NaN</td>\n      <td>1147010100</td>\n      <td>A15886402</td>\n      <td>신정대성유니드아파트2차</td>\n    </tr>\n    <tr>\n      <th>213</th>\n      <td>서울특별시</td>\n      <td>양천구</td>\n      <td>신월동</td>\n      <td>NaN</td>\n      <td>1147010300</td>\n      <td>A15809402</td>\n      <td>신월삼정그린뷰</td>\n    </tr>\n    <tr>\n      <th>297</th>\n      <td>서울특별시</td>\n      <td>양천구</td>\n      <td>신정동</td>\n      <td>NaN</td>\n      <td>1147010100</td>\n      <td>A15807002</td>\n      <td>신트리1단지</td>\n    </tr>\n    <tr>\n      <th>503</th>\n      <td>서울특별시</td>\n      <td>양천구</td>\n      <td>신정동</td>\n      <td>NaN</td>\n      <td>1147010100</td>\n      <td>A15807316</td>\n      <td>신트리4단지</td>\n    </tr>\n    <tr>\n      <th>704</th>\n      <td>서울특별시</td>\n      <td>양천구</td>\n      <td>목동</td>\n      <td>NaN</td>\n      <td>1147010200</td>\n      <td>A15805301</td>\n      <td>목동부영그린타운3차</td>\n    </tr>\n    <tr>\n      <th>...</th>\n      <td>...</td>\n      <td>...</td>\n      <td>...</td>\n      <td>...</td>\n      <td>...</td>\n      <td>...</td>\n      <td>...</td>\n    </tr>\n    <tr>\n      <th>17527</th>\n      <td>서울특별시</td>\n      <td>양천구</td>\n      <td>신월동</td>\n      <td>NaN</td>\n      <td>1147010300</td>\n      <td>A10024872</td>\n      <td>목동 센트럴 아이파크위브 아파트</td>\n    </tr>\n    <tr>\n      <th>17585</th>\n      <td>서울특별시</td>\n      <td>양천구</td>\n      <td>신정동</td>\n      <td>NaN</td>\n      <td>1147010100</td>\n      <td>A10023886</td>\n      <td>호반써밋목동아파트</td>\n    </tr>\n    <tr>\n      <th>18119</th>\n      <td>서울특별시</td>\n      <td>양천구</td>\n      <td>목동</td>\n      <td>NaN</td>\n      <td>1147010200</td>\n      <td>A10024355</td>\n      <td>목동세종그랑시아 아파트</td>\n    </tr>\n    <tr>\n      <th>18616</th>\n      <td>서울특별시</td>\n      <td>양천구</td>\n      <td>신정동</td>\n      <td>NaN</td>\n      <td>1147010100</td>\n      <td>A10024398</td>\n      <td>래미안 목동아델리체</td>\n    </tr>\n    <tr>\n      <th>18707</th>\n      <td>서울특별시</td>\n      <td>양천구</td>\n      <td>신월동</td>\n      <td>NaN</td>\n      <td>1147010300</td>\n      <td>A15878601</td>\n      <td>금하뜨라네</td>\n    </tr>\n  </tbody>\n</table>\n<p>131 rows × 7 columns</p>\n</div>"
     },
     "execution_count": 22,
     "metadata": {},
     "output_type": "execute_result"
    }
   ],
   "source": [
    "YC_GU"
   ],
   "metadata": {
    "collapsed": false,
    "pycharm": {
     "name": "#%%\n"
    }
   }
  },
  {
   "cell_type": "code",
   "execution_count": 63,
   "outputs": [],
   "source": [
    "YC_APT_CODE = list(YC_GU[\"kaptCode\"])"
   ],
   "metadata": {
    "collapsed": false,
    "pycharm": {
     "name": "#%%\n"
    }
   }
  },
  {
   "cell_type": "code",
   "execution_count": 64,
   "outputs": [
    {
     "data": {
      "text/plain": "131"
     },
     "execution_count": 64,
     "metadata": {},
     "output_type": "execute_result"
    }
   ],
   "source": [
    "len(YC_APT_CODE)"
   ],
   "metadata": {
    "collapsed": false,
    "pycharm": {
     "name": "#%%\n"
    }
   }
  },
  {
   "cell_type": "code",
   "execution_count": 65,
   "outputs": [],
   "source": [
    "url = \"http://apis.data.go.kr/1613000/AptBasisInfoService1/getAphusBassInfo\""
   ],
   "metadata": {
    "collapsed": false,
    "pycharm": {
     "name": "#%%\n"
    }
   }
  },
  {
   "cell_type": "code",
   "execution_count": 67,
   "outputs": [],
   "source": [
    "dict_apt_list = []\n",
    "\n",
    "for idx, apt_code in enumerate(YC_APT_CODE):\n",
    "    params = {\n",
    "        \"serviceKey\": getRTMSDataSvcAptTradeDev_de,\n",
    "        \"kaptCode\": apt_code\n",
    "    }\n",
    "\n",
    "    response = requests.get(url, params=params)\n",
    "    try:\n",
    "        dict_content = xmltodict.parse(response.content)[\"response\"][\"body\"][\"item\"]\n",
    "        dict_apt_list.append(dict_content)\n",
    "    except Exception as e:\n",
    "        print(e)\n",
    "        print(idx, apt_code)\n",
    "    # df = pd.DataFrame(dict_content)\n",
    "\n",
    "    # df.to_csv(f\"data/서울특별시_양천구_아파트매매/서울특별시_양천구_아파트매매_{month}.csv\",\n",
    "    #           encoding=\"utf8\",\n",
    "    #           index=False\n",
    "    # )"
   ],
   "metadata": {
    "collapsed": false,
    "pycharm": {
     "name": "#%%\n"
    }
   }
  },
  {
   "cell_type": "code",
   "execution_count": 69,
   "outputs": [],
   "source": [
    "df = pd.DataFrame(dict_apt_list)\n",
    "df.to_csv(\"data/서울특별시_양천구_공동주택기본정보.csv\",\n",
    "          encoding=\"utf8\",\n",
    "          index=False\n",
    ")"
   ],
   "metadata": {
    "collapsed": false,
    "pycharm": {
     "name": "#%%\n"
    }
   }
  }
 ],
 "metadata": {
  "kernelspec": {
   "display_name": "Python 3",
   "language": "python",
   "name": "python3"
  },
  "language_info": {
   "codemirror_mode": {
    "name": "ipython",
    "version": 2
   },
   "file_extension": ".py",
   "mimetype": "text/x-python",
   "name": "python",
   "nbconvert_exporter": "python",
   "pygments_lexer": "ipython2",
   "version": "2.7.6"
  }
 },
 "nbformat": 4,
 "nbformat_minor": 0
}