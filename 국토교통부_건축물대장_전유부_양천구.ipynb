{
 "cells": [
  {
   "cell_type": "code",
   "execution_count": 6,
   "outputs": [],
   "source": [
    "\"\"\"국토교통부 건축물대장 전유부\n",
    "- 링크: https://www.data.go.kr/data/15044713/openapi.do\n",
    "\"\"\"\n",
    "from dotenv import load_dotenv\n",
    "import os\n",
    "import requests\n",
    "import pandas as pd\n",
    "import io\n",
    "import xmltodict\n",
    "import json\n",
    "from tqdm import tqdm_notebook\n",
    "\n",
    "# import xml.etree.ElementTree as et\n",
    "\n",
    "\n",
    "# load .env\n",
    "load_dotenv()\n",
    "getRTMSDataSvcAptTradeDev_en = os.environ.get(\"getRTMSDataSvcAptTradeDev_en\")\n",
    "getRTMSDataSvcAptTradeDev_de = os.environ.get(\"pubkey_de\")"
   ],
   "metadata": {
    "collapsed": false,
    "pycharm": {
     "name": "#%%\n"
    }
   }
  },
  {
   "cell_type": "markdown",
   "source": [],
   "metadata": {
    "collapsed": false,
    "pycharm": {
     "name": "#%% md\n"
    }
   }
  },
  {
   "cell_type": "code",
   "execution_count": 15,
   "outputs": [],
   "source": [
    "SIGUNGU_CODE = 11470\n",
    "B_CODE = 10200"
   ],
   "metadata": {
    "collapsed": false,
    "pycharm": {
     "name": "#%%\n"
    }
   }
  },
  {
   "cell_type": "code",
   "execution_count": 16,
   "outputs": [],
   "source": [
    "url = \"http://apis.data.go.kr/1613000/BldRgstService_v2/getBrExposInfo\""
   ],
   "metadata": {
    "collapsed": false,
    "pycharm": {
     "name": "#%%\n"
    }
   }
  },
  {
   "cell_type": "code",
   "execution_count": 17,
   "outputs": [],
   "source": [
    "dict_list = []\n",
    "\n",
    "params = {\n",
    "    \"serviceKey\": getRTMSDataSvcAptTradeDev_de,\n",
    "    \"sigunguCd\": SIGUNGU_CODE,\n",
    "    \"bjdongCd\": B_CODE,\n",
    "    \"numOfRows\": 100000\n",
    "}\n",
    "\n",
    "response = requests.get(url, params=params)\n",
    "dict_content = xmltodict.parse(response.content)[\"response\"][\"body\"][\"items\"][\"item\"]"
   ],
   "metadata": {
    "collapsed": false,
    "pycharm": {
     "name": "#%%\n"
    }
   }
  },
  {
   "cell_type": "code",
   "execution_count": 19,
   "outputs": [
    {
     "data": {
      "text/plain": "53436"
     },
     "execution_count": 19,
     "metadata": {},
     "output_type": "execute_result"
    }
   ],
   "source": [
    "len(dict_content)"
   ],
   "metadata": {
    "collapsed": false,
    "pycharm": {
     "name": "#%%\n"
    }
   }
  },
  {
   "cell_type": "code",
   "execution_count": 20,
   "outputs": [],
   "source": [
    "df = pd.DataFrame(dict_content)\n",
    "df.to_csv(\"data/서울특별시_양천구_건출물대장_전유부.csv\",\n",
    "          encoding=\"utf8\",\n",
    "          index=False\n",
    ")"
   ],
   "metadata": {
    "collapsed": false,
    "pycharm": {
     "name": "#%%\n"
    }
   }
  },
  {
   "cell_type": "code",
   "execution_count": null,
   "outputs": [],
   "source": [],
   "metadata": {
    "collapsed": false,
    "pycharm": {
     "name": "#%%\n"
    }
   }
  }
 ],
 "metadata": {
  "kernelspec": {
   "display_name": "Python 3",
   "language": "python",
   "name": "python3"
  },
  "language_info": {
   "codemirror_mode": {
    "name": "ipython",
    "version": 2
   },
   "file_extension": ".py",
   "mimetype": "text/x-python",
   "name": "python",
   "nbconvert_exporter": "python",
   "pygments_lexer": "ipython2",
   "version": "2.7.6"
  }
 },
 "nbformat": 4,
 "nbformat_minor": 0
}