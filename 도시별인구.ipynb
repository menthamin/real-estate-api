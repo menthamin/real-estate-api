{
 "cells": [
  {
   "cell_type": "code",
   "execution_count": 27,
   "outputs": [],
   "source": [
    "import pandas as pd"
   ],
   "metadata": {
    "collapsed": false,
    "pycharm": {
     "name": "#%%\n"
    }
   }
  },
  {
   "cell_type": "code",
   "execution_count": 28,
   "outputs": [],
   "source": [
    "df = pd.read_csv(\"data/도시별인구/101_DT_1DA7004S_20221019200907.csv\", encoding=\"cp949\")\n",
    "df_pivot = pd.read_csv(\"data/도시별인구/101_DT_1DA7004S_20221019200826.csv\", encoding=\"cp949\")"
   ],
   "metadata": {
    "collapsed": false,
    "pycharm": {
     "name": "#%%\n"
    }
   }
  },
  {
   "cell_type": "code",
   "execution_count": 29,
   "outputs": [],
   "source": [
    "ymd_list = [data.split(\" \")[0].replace(\".\", \"\") for data in df.시점]"
   ],
   "metadata": {
    "collapsed": false,
    "pycharm": {
     "name": "#%%\n"
    }
   }
  },
  {
   "cell_type": "code",
   "execution_count": 30,
   "outputs": [],
   "source": [
    "df[\"시점\"] = ymd_list"
   ],
   "metadata": {
    "collapsed": false,
    "pycharm": {
     "name": "#%%\n"
    }
   }
  },
  {
   "cell_type": "code",
   "execution_count": 31,
   "outputs": [],
   "source": [
    "df.drop(columns=\"Unnamed: 11\", inplace=True)"
   ],
   "metadata": {
    "collapsed": false,
    "pycharm": {
     "name": "#%%\n"
    }
   }
  },
  {
   "cell_type": "code",
   "execution_count": 32,
   "outputs": [
    {
     "data": {
      "text/plain": "  시도별      시점  15세이상인구[천명]  경제활동인구[천명]  취업자[천명]  실업자[천명]  비경제활동인구[천명]  \\\n0   계  199906      35737.0     22088.0  20599.0   1489.0      13649.0   \n1   계  199907      35779.0     22062.0  20586.0   1476.0      13717.0   \n2   계  199908      35815.0     21896.0  20532.0   1364.0      13918.0   \n3   계  199909      35849.0     22155.0  20999.0   1155.0      13694.0   \n4   계  199910      35885.0     22277.0  21170.0   1108.0      13608.0   \n\n   경제활동참가율[%]  실업률[%]  고용률[%]  15-64세 고용률[%]  \n0        61.8     6.7    57.6           60.3  \n1        61.7     6.7    57.5           60.2  \n2        61.1     6.2    57.3           60.0  \n3        61.8     5.2    58.6           61.2  \n4        62.1     5.0    59.0           61.6  ",
      "text/html": "<div>\n<style scoped>\n    .dataframe tbody tr th:only-of-type {\n        vertical-align: middle;\n    }\n\n    .dataframe tbody tr th {\n        vertical-align: top;\n    }\n\n    .dataframe thead th {\n        text-align: right;\n    }\n</style>\n<table border=\"1\" class=\"dataframe\">\n  <thead>\n    <tr style=\"text-align: right;\">\n      <th></th>\n      <th>시도별</th>\n      <th>시점</th>\n      <th>15세이상인구[천명]</th>\n      <th>경제활동인구[천명]</th>\n      <th>취업자[천명]</th>\n      <th>실업자[천명]</th>\n      <th>비경제활동인구[천명]</th>\n      <th>경제활동참가율[%]</th>\n      <th>실업률[%]</th>\n      <th>고용률[%]</th>\n      <th>15-64세 고용률[%]</th>\n    </tr>\n  </thead>\n  <tbody>\n    <tr>\n      <th>0</th>\n      <td>계</td>\n      <td>199906</td>\n      <td>35737.0</td>\n      <td>22088.0</td>\n      <td>20599.0</td>\n      <td>1489.0</td>\n      <td>13649.0</td>\n      <td>61.8</td>\n      <td>6.7</td>\n      <td>57.6</td>\n      <td>60.3</td>\n    </tr>\n    <tr>\n      <th>1</th>\n      <td>계</td>\n      <td>199907</td>\n      <td>35779.0</td>\n      <td>22062.0</td>\n      <td>20586.0</td>\n      <td>1476.0</td>\n      <td>13717.0</td>\n      <td>61.7</td>\n      <td>6.7</td>\n      <td>57.5</td>\n      <td>60.2</td>\n    </tr>\n    <tr>\n      <th>2</th>\n      <td>계</td>\n      <td>199908</td>\n      <td>35815.0</td>\n      <td>21896.0</td>\n      <td>20532.0</td>\n      <td>1364.0</td>\n      <td>13918.0</td>\n      <td>61.1</td>\n      <td>6.2</td>\n      <td>57.3</td>\n      <td>60.0</td>\n    </tr>\n    <tr>\n      <th>3</th>\n      <td>계</td>\n      <td>199909</td>\n      <td>35849.0</td>\n      <td>22155.0</td>\n      <td>20999.0</td>\n      <td>1155.0</td>\n      <td>13694.0</td>\n      <td>61.8</td>\n      <td>5.2</td>\n      <td>58.6</td>\n      <td>61.2</td>\n    </tr>\n    <tr>\n      <th>4</th>\n      <td>계</td>\n      <td>199910</td>\n      <td>35885.0</td>\n      <td>22277.0</td>\n      <td>21170.0</td>\n      <td>1108.0</td>\n      <td>13608.0</td>\n      <td>62.1</td>\n      <td>5.0</td>\n      <td>59.0</td>\n      <td>61.6</td>\n    </tr>\n  </tbody>\n</table>\n</div>"
     },
     "execution_count": 32,
     "metadata": {},
     "output_type": "execute_result"
    }
   ],
   "source": [
    "df.head(5)"
   ],
   "metadata": {
    "collapsed": false,
    "pycharm": {
     "name": "#%%\n"
    }
   }
  },
  {
   "cell_type": "code",
   "execution_count": 33,
   "outputs": [],
   "source": [
    "df.to_csv(\"data/도시별인구/101_DT_M_199906_202209.csv\", encoding=\"utf8\", index=False)"
   ],
   "metadata": {
    "collapsed": false,
    "pycharm": {
     "name": "#%%\n"
    }
   }
  },
  {
   "cell_type": "code",
   "execution_count": null,
   "outputs": [],
   "source": [],
   "metadata": {
    "collapsed": false,
    "pycharm": {
     "name": "#%%\n"
    }
   }
  }
 ],
 "metadata": {
  "kernelspec": {
   "display_name": "Python 3",
   "language": "python",
   "name": "python3"
  },
  "language_info": {
   "codemirror_mode": {
    "name": "ipython",
    "version": 2
   },
   "file_extension": ".py",
   "mimetype": "text/x-python",
   "name": "python",
   "nbconvert_exporter": "python",
   "pygments_lexer": "ipython2",
   "version": "2.7.6"
  }
 },
 "nbformat": 4,
 "nbformat_minor": 0
}