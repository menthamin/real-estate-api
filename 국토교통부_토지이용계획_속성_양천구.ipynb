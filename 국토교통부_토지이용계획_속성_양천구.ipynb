{
 "cells": [
  {
   "cell_type": "code",
   "execution_count": 47,
   "outputs": [],
   "source": [
    "\"\"\"국토교통부_토지이용계획정보서비스\n",
    "- 링크: https://www.data.go.kr/data/15056930/openapi.do?recommendDataYn=Y\n",
    "\"\"\"\n",
    "from dotenv import load_dotenv\n",
    "import os\n",
    "import math\n",
    "import requests\n",
    "import pandas as pd\n",
    "import io\n",
    "import xmltodict\n",
    "import json\n",
    "import tqdm\n",
    "\n",
    "# import xml.etree.ElementTree as et\n",
    "\n",
    "\n",
    "# load .env\n",
    "load_dotenv()\n",
    "getRTMSDataSvcAptTradeDev_en = os.environ.get(\"getRTMSDataSvcAptTradeDev_en\")\n",
    "getRTMSDataSvcAptTradeDev_de = os.environ.get(\"pubkey_de\")"
   ],
   "metadata": {
    "collapsed": false,
    "pycharm": {
     "name": "#%%\n"
    }
   }
  },
  {
   "cell_type": "markdown",
   "source": [],
   "metadata": {
    "collapsed": false,
    "pycharm": {
     "name": "#%% md\n"
    }
   }
  },
  {
   "cell_type": "markdown",
   "source": [
    "## Check total rows count"
   ],
   "metadata": {
    "collapsed": false,
    "pycharm": {
     "name": "#%% md\n"
    }
   }
  },
  {
   "cell_type": "code",
   "execution_count": 42,
   "outputs": [
    {
     "name": "stdout",
     "output_type": "stream",
     "text": [
      "54164\n"
     ]
    }
   ],
   "source": [
    "SIGUNGU_CODE = \"11470\"\n",
    "B_CODE = \"10200\"\n",
    "\n",
    "url = \"http://apis.data.go.kr/1611000/nsdi/LandUseService/attr/getLandUseAttr\"\n",
    "params = {\n",
    "    \"serviceKey\": getRTMSDataSvcAptTradeDev_de,\n",
    "    \"pnu\": SIGUNGU_CODE + B_CODE,  # 필지 고유번호\n",
    "    # \"cnflcAt\":  # 저촉여부코드(1:포함, 2:저촉, 3:접합)\n",
    "    # \"prposAreaDstrcCodeNm\":  # 용도지역지구명\n",
    "    \"format\": \"xml\",  # 응답결과 형식(xml 또는 json)\n",
    "    \"numOfRows\": 10,  # 검색 건수\n",
    "    \"pageNo\": 1,  # 페이지 번호\n",
    "}\n",
    "\n",
    "response = requests.get(url, params=params)\n",
    "rows_count = xmltodict.parse(response.content)[\"response\"][\"totalCount\"]\n",
    "print(rows_count)\n",
    "GET_ROWS_BY_ITER = 1000\n",
    "dict_content = xmltodict.parse(response.content)[\"response\"]\n",
    "iter_range = math.ceil(int(rows_count) / GET_ROWS_BY_ITER)"
   ],
   "metadata": {
    "collapsed": false,
    "pycharm": {
     "name": "#%%\n"
    }
   }
  },
  {
   "cell_type": "code",
   "execution_count": 56,
   "outputs": [
    {
     "name": "stderr",
     "output_type": "stream",
     "text": [
      "100%|██████████| 55/55 [03:29<00:00,  3.81s/it]\n"
     ]
    }
   ],
   "source": [
    "dict_list = []\n",
    "\n",
    "for i in tqdm.tqdm(range(1, iter_range + 1)):\n",
    "    params = {\n",
    "        \"serviceKey\": getRTMSDataSvcAptTradeDev_de,\n",
    "        \"pnu\": SIGUNGU_CODE + B_CODE,  # 필지 고유번호\n",
    "        \"format\": \"xml\",  # 응답결과 형식(xml 또는 json)\n",
    "        \"numOfRows\": GET_ROWS_BY_ITER,  # 검색 건수\n",
    "        \"pageNo\": i,  # 페이지 번호\n",
    "    }\n",
    "\n",
    "    response = requests.get(url, params=params)\n",
    "    try:\n",
    "        dict_content = xmltodict.parse(response.content)[\"response\"][\"fields\"][\"field\"]\n",
    "        dict_list.extend(dict_content)\n",
    "    except Exception as e:\n",
    "        print(f\"Error message {e}, Iter {i}\")"
   ],
   "metadata": {
    "collapsed": false,
    "pycharm": {
     "name": "#%%\n"
    }
   }
  },
  {
   "cell_type": "code",
   "execution_count": 59,
   "outputs": [],
   "source": [
    "df = pd.DataFrame(dict_list)\n",
    "df.to_csv(\"data/서울특별시_양천구_토지이용계획_속성.csv\",\n",
    "          encoding=\"utf8\",\n",
    "          index=False\n",
    ")"
   ],
   "metadata": {
    "collapsed": false,
    "pycharm": {
     "name": "#%%\n"
    }
   }
  },
  {
   "cell_type": "code",
   "execution_count": null,
   "outputs": [],
   "source": [],
   "metadata": {
    "collapsed": false,
    "pycharm": {
     "name": "#%%\n"
    }
   }
  }
 ],
 "metadata": {
  "kernelspec": {
   "display_name": "Python 3",
   "language": "python",
   "name": "python3"
  },
  "language_info": {
   "codemirror_mode": {
    "name": "ipython",
    "version": 2
   },
   "file_extension": ".py",
   "mimetype": "text/x-python",
   "name": "python",
   "nbconvert_exporter": "python",
   "pygments_lexer": "ipython2",
   "version": "2.7.6"
  }
 },
 "nbformat": 4,
 "nbformat_minor": 0
}