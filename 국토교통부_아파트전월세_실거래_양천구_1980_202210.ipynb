{
 "cells": [
  {
   "cell_type": "code",
   "execution_count": 6,
   "outputs": [],
   "source": [
    "\"\"\"국토교통부 아파트전월세 실거래 데이터 추출 예시\n",
    "- 링크: https://www.data.go.kr/tcs/dss/selectApiDataDetailView.do?publicDataPk=15058017\n",
    "\"\"\"\n",
    "from dotenv import load_dotenv\n",
    "import os\n",
    "import requests\n",
    "import pandas as pd\n",
    "from tqdm import tqdm\n",
    "import xmltodict\n",
    "\n",
    "\n",
    "# load .env\n",
    "load_dotenv()\n",
    "getRTMSDataSvcAptTradeDev_en = os.environ.get(\"getRTMSDataSvcAptTradeDev_en\")\n",
    "getRTMSDataSvcAptTradeDev_de = os.environ.get(\"getRTMSDataSvcAptTradeDev_de\")"
   ],
   "metadata": {
    "collapsed": false,
    "pycharm": {
     "name": "#%%\n"
    }
   }
  },
  {
   "cell_type": "code",
   "execution_count": 21,
   "outputs": [],
   "source": [
    "start_date = pd.to_datetime('1980-01-01')\n",
    "end_date = pd.to_datetime('2022-10-31')\n",
    "dates = pd.date_range(start_date, end_date, freq=\"M\")"
   ],
   "metadata": {
    "collapsed": false,
    "pycharm": {
     "name": "#%%\n"
    }
   }
  },
  {
   "cell_type": "code",
   "execution_count": 22,
   "outputs": [],
   "source": [
    "MONTH_LIST = [date.strftime(\"%Y%m\") for date in dates]\n",
    "SIGUNGU_CODE = 11470"
   ],
   "metadata": {
    "collapsed": false,
    "pycharm": {
     "name": "#%%\n"
    }
   }
  },
  {
   "cell_type": "code",
   "execution_count": 23,
   "outputs": [],
   "source": [
    "url = \"http://openapi.molit.go.kr:8081/OpenAPI_ToolInstallPackage/service/rest/RTMSOBJSvc/getRTMSDataSvcAptRent\""
   ],
   "metadata": {
    "collapsed": false,
    "pycharm": {
     "name": "#%%\n"
    }
   }
  },
  {
   "cell_type": "code",
   "execution_count": 24,
   "outputs": [
    {
     "name": "stderr",
     "output_type": "stream",
     "text": [
      "100%|██████████| 514/514 [02:41<00:00,  3.19it/s]\n"
     ]
    }
   ],
   "source": [
    "df_all = pd.DataFrame()\n",
    "\n",
    "for month in tqdm(MONTH_LIST):\n",
    "    params = {\n",
    "        \"serviceKey\": getRTMSDataSvcAptTradeDev_de,\n",
    "        \"LAWD_CD\": SIGUNGU_CODE,  # Input 1: 시군구코드 5자리, ex) 11680 = 서울특별시 강남구\n",
    "        \"DEAL_YMD\": month,  # Input 2: 년월(YYYYMM), ex) 202208 = 2022년 8월\n",
    "    }\n",
    "\n",
    "    response = requests.get(url, params=params)\n",
    "\n",
    "    if xmltodict.parse(response.content)[\"response\"][\"body\"][\"items\"]:\n",
    "        dict_content = xmltodict.parse(response.content)[\"response\"][\"body\"][\"items\"][\"item\"]\n",
    "        df = pd.DataFrame(dict_content)\n",
    "        df_all = pd.concat([df_all, df])\n",
    "\n",
    "    # df.to_csv(f\"data/서울특별시_양천구_아파트전월세/서울특별시_양천구_아파트전월세_{month}.csv\",\n",
    "    #           encoding=\"utf8\",\n",
    "    #           index=False\n",
    "    # )"
   ],
   "metadata": {
    "collapsed": false,
    "pycharm": {
     "name": "#%%\n"
    }
   }
  },
  {
   "cell_type": "code",
   "execution_count": 25,
   "outputs": [],
   "source": [
    "df_all.to_csv(\"data/서울특별시_양천구_아파트전월세_1980_202210.csv\", index=False)"
   ],
   "metadata": {
    "collapsed": false,
    "pycharm": {
     "name": "#%%\n"
    }
   }
  },
  {
   "cell_type": "code",
   "execution_count": 26,
   "outputs": [
    {
     "name": "stdout",
     "output_type": "stream",
     "text": [
      "<class 'pandas.core.frame.DataFrame'>\n",
      "Int64Index: 105285 entries, 0 to 767\n",
      "Data columns (total 17 columns):\n",
      " #   Column   Non-Null Count   Dtype \n",
      "---  ------   --------------   ----- \n",
      " 0   갱신요구권사용  3689 non-null    object\n",
      " 1   건축년도     105285 non-null  object\n",
      " 2   계약구분     11553 non-null   object\n",
      " 3   계약기간     12223 non-null   object\n",
      " 4   년        105285 non-null  object\n",
      " 5   법정동      105285 non-null  object\n",
      " 6   보증금액     105285 non-null  object\n",
      " 7   아파트      105285 non-null  object\n",
      " 8   월        105285 non-null  object\n",
      " 9   월세금액     105285 non-null  object\n",
      " 10  일        105285 non-null  object\n",
      " 11  전용면적     105285 non-null  object\n",
      " 12  종전계약보증금  9468 non-null    object\n",
      " 13  종전계약월세   9468 non-null    object\n",
      " 14  지번       105285 non-null  object\n",
      " 15  지역코드     105285 non-null  object\n",
      " 16  층        105285 non-null  object\n",
      "dtypes: object(17)\n",
      "memory usage: 14.5+ MB\n"
     ]
    }
   ],
   "source": [
    "df_all.info()"
   ],
   "metadata": {
    "collapsed": false,
    "pycharm": {
     "name": "#%%\n"
    }
   }
  },
  {
   "cell_type": "code",
   "execution_count": null,
   "outputs": [],
   "source": [],
   "metadata": {
    "collapsed": false,
    "pycharm": {
     "name": "#%%\n"
    }
   }
  }
 ],
 "metadata": {
  "kernelspec": {
   "display_name": "Python 3",
   "language": "python",
   "name": "python3"
  },
  "language_info": {
   "codemirror_mode": {
    "name": "ipython",
    "version": 2
   },
   "file_extension": ".py",
   "mimetype": "text/x-python",
   "name": "python",
   "nbconvert_exporter": "python",
   "pygments_lexer": "ipython2",
   "version": "2.7.6"
  }
 },
 "nbformat": 4,
 "nbformat_minor": 0
}