{
 "cells": [
  {
   "cell_type": "code",
   "execution_count": 7,
   "outputs": [],
   "source": [
    "\"\"\"국토교통부 아파트매매 실거래 데이터 추출 예시\n",
    "- 링크: https://www.data.go.kr/tcs/dss/selectApiDataDetailView.do?publicDataPk=15057511\n",
    "\"\"\"\n",
    "from dotenv import load_dotenv\n",
    "import os\n",
    "import requests\n",
    "import pandas as pd\n",
    "from tqdm import tqdm\n",
    "import xmltodict\n",
    "\n",
    "\n",
    "# load .env\n",
    "load_dotenv()\n",
    "getRTMSDataSvcAptTradeDev_en = os.environ.get(\"getRTMSDataSvcAptTradeDev_en\")\n",
    "getRTMSDataSvcAptTradeDev_de = os.environ.get(\"getRTMSDataSvcAptTradeDev_de\")"
   ],
   "metadata": {
    "collapsed": false,
    "pycharm": {
     "name": "#%%\n"
    }
   }
  },
  {
   "cell_type": "code",
   "execution_count": 27,
   "outputs": [],
   "source": [
    "start_date = pd.to_datetime('1980-01-01')\n",
    "end_date = pd.to_datetime('2022-10-31')\n",
    "dates = pd.date_range(start_date, end_date, freq=\"M\")"
   ],
   "metadata": {
    "collapsed": false,
    "pycharm": {
     "name": "#%%\n"
    }
   }
  },
  {
   "cell_type": "code",
   "execution_count": 28,
   "outputs": [],
   "source": [
    "MONTH_LIST = [date.strftime(\"%Y%m\") for date in dates]\n",
    "RES_ROWS = 10000\n",
    "SIGUNGU_CODE = 11470"
   ],
   "metadata": {
    "collapsed": false,
    "pycharm": {
     "name": "#%%\n"
    }
   }
  },
  {
   "cell_type": "code",
   "execution_count": 29,
   "outputs": [],
   "source": [
    "url = \"http://openapi.molit.go.kr/OpenAPI_ToolInstallPackage/service/rest/RTMSOBJSvc/getRTMSDataSvcAptTradeDev\""
   ],
   "metadata": {
    "collapsed": false,
    "pycharm": {
     "name": "#%%\n"
    }
   }
  },
  {
   "cell_type": "code",
   "execution_count": 30,
   "outputs": [
    {
     "name": "stderr",
     "output_type": "stream",
     "text": [
      " 95%|█████████▍| 487/514 [03:09<00:10,  2.57it/s]\n"
     ]
    },
    {
     "ename": "KeyError",
     "evalue": "'body'",
     "output_type": "error",
     "traceback": [
      "\u001B[0;31m---------------------------------------------------------------------------\u001B[0m",
      "\u001B[0;31mKeyError\u001B[0m                                  Traceback (most recent call last)",
      "Input \u001B[0;32mIn [30]\u001B[0m, in \u001B[0;36m<cell line: 3>\u001B[0;34m()\u001B[0m\n\u001B[1;32m      4\u001B[0m params \u001B[38;5;241m=\u001B[39m {\n\u001B[1;32m      5\u001B[0m     \u001B[38;5;124m\"\u001B[39m\u001B[38;5;124mserviceKey\u001B[39m\u001B[38;5;124m\"\u001B[39m: getRTMSDataSvcAptTradeDev_de,\n\u001B[1;32m      6\u001B[0m     \u001B[38;5;124m\"\u001B[39m\u001B[38;5;124mpageNo\u001B[39m\u001B[38;5;124m\"\u001B[39m: \u001B[38;5;124m\"\u001B[39m\u001B[38;5;124m1\u001B[39m\u001B[38;5;124m\"\u001B[39m,\n\u001B[0;32m   (...)\u001B[0m\n\u001B[1;32m      9\u001B[0m     \u001B[38;5;124m\"\u001B[39m\u001B[38;5;124mDEAL_YMD\u001B[39m\u001B[38;5;124m\"\u001B[39m: month,  \u001B[38;5;66;03m# Input 2: 년월(YYYYMM), ex) 202208 = 2022년 8월\u001B[39;00m\n\u001B[1;32m     10\u001B[0m }\n\u001B[1;32m     12\u001B[0m response \u001B[38;5;241m=\u001B[39m requests\u001B[38;5;241m.\u001B[39mget(url, params\u001B[38;5;241m=\u001B[39mparams)\n\u001B[0;32m---> 14\u001B[0m \u001B[38;5;28;01mif\u001B[39;00m \u001B[43mxmltodict\u001B[49m\u001B[38;5;241;43m.\u001B[39;49m\u001B[43mparse\u001B[49m\u001B[43m(\u001B[49m\u001B[43mresponse\u001B[49m\u001B[38;5;241;43m.\u001B[39;49m\u001B[43mcontent\u001B[49m\u001B[43m)\u001B[49m\u001B[43m[\u001B[49m\u001B[38;5;124;43m\"\u001B[39;49m\u001B[38;5;124;43mresponse\u001B[39;49m\u001B[38;5;124;43m\"\u001B[39;49m\u001B[43m]\u001B[49m\u001B[43m[\u001B[49m\u001B[38;5;124;43m\"\u001B[39;49m\u001B[38;5;124;43mbody\u001B[39;49m\u001B[38;5;124;43m\"\u001B[39;49m\u001B[43m]\u001B[49m[\u001B[38;5;124m\"\u001B[39m\u001B[38;5;124mitems\u001B[39m\u001B[38;5;124m\"\u001B[39m]:\n\u001B[1;32m     15\u001B[0m     dict_content \u001B[38;5;241m=\u001B[39m xmltodict\u001B[38;5;241m.\u001B[39mparse(response\u001B[38;5;241m.\u001B[39mcontent)[\u001B[38;5;124m\"\u001B[39m\u001B[38;5;124mresponse\u001B[39m\u001B[38;5;124m\"\u001B[39m][\u001B[38;5;124m\"\u001B[39m\u001B[38;5;124mbody\u001B[39m\u001B[38;5;124m\"\u001B[39m][\u001B[38;5;124m\"\u001B[39m\u001B[38;5;124mitems\u001B[39m\u001B[38;5;124m\"\u001B[39m][\u001B[38;5;124m\"\u001B[39m\u001B[38;5;124mitem\u001B[39m\u001B[38;5;124m\"\u001B[39m]\n\u001B[1;32m     16\u001B[0m     df \u001B[38;5;241m=\u001B[39m pd\u001B[38;5;241m.\u001B[39mDataFrame(dict_content)\n",
      "\u001B[0;31mKeyError\u001B[0m: 'body'"
     ]
    }
   ],
   "source": [
    "df_all = pd.DataFrame()\n",
    "\n",
    "for month in tqdm(MONTH_LIST):\n",
    "    params = {\n",
    "        \"serviceKey\": getRTMSDataSvcAptTradeDev_de,\n",
    "        \"pageNo\": \"1\",\n",
    "        \"numOfRows\": RES_ROWS,\n",
    "        \"LAWD_CD\": SIGUNGU_CODE,  # Input 1: 시군구코드 5자리, ex) 11680 = 서울특별시 강남구\n",
    "        \"DEAL_YMD\": month,  # Input 2: 년월(YYYYMM), ex) 202208 = 2022년 8월\n",
    "    }\n",
    "\n",
    "    response = requests.get(url, params=params)\n",
    "\n",
    "    if xmltodict.parse(response.content)[\"response\"][\"body\"][\"items\"]:\n",
    "        dict_content = xmltodict.parse(response.content)[\"response\"][\"body\"][\"items\"][\"item\"]\n",
    "        df = pd.DataFrame(dict_content)\n",
    "        df_all = pd.concat([df_all, df])\n",
    "\n",
    "    # df.to_csv(f\"data/서울특별시_양천구_아파트매매/서울특별시_양천구_아파트매매_{month}.csv\",\n",
    "    #           encoding=\"utf8\",\n",
    "    #           index=False\n",
    "    # )"
   ],
   "metadata": {
    "collapsed": false,
    "pycharm": {
     "name": "#%%\n"
    }
   }
  },
  {
   "cell_type": "code",
   "execution_count": 33,
   "outputs": [
    {
     "data": {
      "text/plain": "       거래금액  거래유형  건축년도     년     도로명 도로명건물본번호코드 도로명건물부번호코드 도로명시군구코드  \\\n0    33,300  None  1987  2006    목동서로      00340      00000    11470   \n1    43,000  None  1988  2006    목동동로      00050      00000    11470   \n2    25,500  None  1987  2006    목동서로      00400      00000    11470   \n3    13,500  None  1987  2006  신정로13길      00035      00000    11470   \n4    14,000  None  1996  2006     오목로      00232      00000    11470   \n..      ...   ...   ...   ...     ...        ...        ...      ...   \n500  34,000  None  2004  2020  곰달래로2길      00031      00000    11470   \n501  32,700  None  1996  2020  곰달래로2길      00016      00000    11470   \n502  57,400  None  2005  2020   오목로3길      00017      00000    11470   \n503  62,000  None  2007  2020  오목로17길      00007      00000    11470   \n504  76,600  None  2010  2020   오목로5길      00019      00000    11470   \n\n    도로명일련번호코드 도로명지상지하코드  ...  월   일        일련번호   전용면적 중개사소재지      지번   지역코드  \\\n0          01         0  ...  1   1   11470-125  53.82   None     312  11470   \n1          01         0  ...  1   2   11470-121  71.64   None     326  11470   \n2          01         0  ...  1   3   11470-119  53.82   None     311  11470   \n3          01         0  ...  1   3   11470-135   48.6   None  733-31  11470   \n4          01         0  ...  1   3   11470-130  59.73   None   992-1  11470   \n..        ...       ...  ... ..  ..         ...    ...    ...     ...    ...   \n500        01         0  ...  7  30   11470-335  83.55   None    1032  11470   \n501        01         0  ...  7  31    11470-89  77.31   None   222-7  11470   \n502        00         0  ...  7  31  11470-3945  84.14   None    1041  11470   \n503        01         0  ...  7  31  11470-4125  84.73   None    1052  11470   \n504        01         0  ...  7  31  11470-4500  70.91   None    1057  11470   \n\n      층 해제사유발생일  해제여부  \n0     7    None  None  \n1     5    None  None  \n2    15    None  None  \n3     3    None  None  \n4     9    None  None  \n..   ..     ...   ...  \n500   8    None  None  \n501   6    None  None  \n502   7    None  None  \n503   8    None  None  \n504   6    None  None  \n\n[57017 rows x 28 columns]",
      "text/html": "<div>\n<style scoped>\n    .dataframe tbody tr th:only-of-type {\n        vertical-align: middle;\n    }\n\n    .dataframe tbody tr th {\n        vertical-align: top;\n    }\n\n    .dataframe thead th {\n        text-align: right;\n    }\n</style>\n<table border=\"1\" class=\"dataframe\">\n  <thead>\n    <tr style=\"text-align: right;\">\n      <th></th>\n      <th>거래금액</th>\n      <th>거래유형</th>\n      <th>건축년도</th>\n      <th>년</th>\n      <th>도로명</th>\n      <th>도로명건물본번호코드</th>\n      <th>도로명건물부번호코드</th>\n      <th>도로명시군구코드</th>\n      <th>도로명일련번호코드</th>\n      <th>도로명지상지하코드</th>\n      <th>...</th>\n      <th>월</th>\n      <th>일</th>\n      <th>일련번호</th>\n      <th>전용면적</th>\n      <th>중개사소재지</th>\n      <th>지번</th>\n      <th>지역코드</th>\n      <th>층</th>\n      <th>해제사유발생일</th>\n      <th>해제여부</th>\n    </tr>\n  </thead>\n  <tbody>\n    <tr>\n      <th>0</th>\n      <td>33,300</td>\n      <td>None</td>\n      <td>1987</td>\n      <td>2006</td>\n      <td>목동서로</td>\n      <td>00340</td>\n      <td>00000</td>\n      <td>11470</td>\n      <td>01</td>\n      <td>0</td>\n      <td>...</td>\n      <td>1</td>\n      <td>1</td>\n      <td>11470-125</td>\n      <td>53.82</td>\n      <td>None</td>\n      <td>312</td>\n      <td>11470</td>\n      <td>7</td>\n      <td>None</td>\n      <td>None</td>\n    </tr>\n    <tr>\n      <th>1</th>\n      <td>43,000</td>\n      <td>None</td>\n      <td>1988</td>\n      <td>2006</td>\n      <td>목동동로</td>\n      <td>00050</td>\n      <td>00000</td>\n      <td>11470</td>\n      <td>01</td>\n      <td>0</td>\n      <td>...</td>\n      <td>1</td>\n      <td>2</td>\n      <td>11470-121</td>\n      <td>71.64</td>\n      <td>None</td>\n      <td>326</td>\n      <td>11470</td>\n      <td>5</td>\n      <td>None</td>\n      <td>None</td>\n    </tr>\n    <tr>\n      <th>2</th>\n      <td>25,500</td>\n      <td>None</td>\n      <td>1987</td>\n      <td>2006</td>\n      <td>목동서로</td>\n      <td>00400</td>\n      <td>00000</td>\n      <td>11470</td>\n      <td>01</td>\n      <td>0</td>\n      <td>...</td>\n      <td>1</td>\n      <td>3</td>\n      <td>11470-119</td>\n      <td>53.82</td>\n      <td>None</td>\n      <td>311</td>\n      <td>11470</td>\n      <td>15</td>\n      <td>None</td>\n      <td>None</td>\n    </tr>\n    <tr>\n      <th>3</th>\n      <td>13,500</td>\n      <td>None</td>\n      <td>1987</td>\n      <td>2006</td>\n      <td>신정로13길</td>\n      <td>00035</td>\n      <td>00000</td>\n      <td>11470</td>\n      <td>01</td>\n      <td>0</td>\n      <td>...</td>\n      <td>1</td>\n      <td>3</td>\n      <td>11470-135</td>\n      <td>48.6</td>\n      <td>None</td>\n      <td>733-31</td>\n      <td>11470</td>\n      <td>3</td>\n      <td>None</td>\n      <td>None</td>\n    </tr>\n    <tr>\n      <th>4</th>\n      <td>14,000</td>\n      <td>None</td>\n      <td>1996</td>\n      <td>2006</td>\n      <td>오목로</td>\n      <td>00232</td>\n      <td>00000</td>\n      <td>11470</td>\n      <td>01</td>\n      <td>0</td>\n      <td>...</td>\n      <td>1</td>\n      <td>3</td>\n      <td>11470-130</td>\n      <td>59.73</td>\n      <td>None</td>\n      <td>992-1</td>\n      <td>11470</td>\n      <td>9</td>\n      <td>None</td>\n      <td>None</td>\n    </tr>\n    <tr>\n      <th>...</th>\n      <td>...</td>\n      <td>...</td>\n      <td>...</td>\n      <td>...</td>\n      <td>...</td>\n      <td>...</td>\n      <td>...</td>\n      <td>...</td>\n      <td>...</td>\n      <td>...</td>\n      <td>...</td>\n      <td>...</td>\n      <td>...</td>\n      <td>...</td>\n      <td>...</td>\n      <td>...</td>\n      <td>...</td>\n      <td>...</td>\n      <td>...</td>\n      <td>...</td>\n      <td>...</td>\n    </tr>\n    <tr>\n      <th>500</th>\n      <td>34,000</td>\n      <td>None</td>\n      <td>2004</td>\n      <td>2020</td>\n      <td>곰달래로2길</td>\n      <td>00031</td>\n      <td>00000</td>\n      <td>11470</td>\n      <td>01</td>\n      <td>0</td>\n      <td>...</td>\n      <td>7</td>\n      <td>30</td>\n      <td>11470-335</td>\n      <td>83.55</td>\n      <td>None</td>\n      <td>1032</td>\n      <td>11470</td>\n      <td>8</td>\n      <td>None</td>\n      <td>None</td>\n    </tr>\n    <tr>\n      <th>501</th>\n      <td>32,700</td>\n      <td>None</td>\n      <td>1996</td>\n      <td>2020</td>\n      <td>곰달래로2길</td>\n      <td>00016</td>\n      <td>00000</td>\n      <td>11470</td>\n      <td>01</td>\n      <td>0</td>\n      <td>...</td>\n      <td>7</td>\n      <td>31</td>\n      <td>11470-89</td>\n      <td>77.31</td>\n      <td>None</td>\n      <td>222-7</td>\n      <td>11470</td>\n      <td>6</td>\n      <td>None</td>\n      <td>None</td>\n    </tr>\n    <tr>\n      <th>502</th>\n      <td>57,400</td>\n      <td>None</td>\n      <td>2005</td>\n      <td>2020</td>\n      <td>오목로3길</td>\n      <td>00017</td>\n      <td>00000</td>\n      <td>11470</td>\n      <td>00</td>\n      <td>0</td>\n      <td>...</td>\n      <td>7</td>\n      <td>31</td>\n      <td>11470-3945</td>\n      <td>84.14</td>\n      <td>None</td>\n      <td>1041</td>\n      <td>11470</td>\n      <td>7</td>\n      <td>None</td>\n      <td>None</td>\n    </tr>\n    <tr>\n      <th>503</th>\n      <td>62,000</td>\n      <td>None</td>\n      <td>2007</td>\n      <td>2020</td>\n      <td>오목로17길</td>\n      <td>00007</td>\n      <td>00000</td>\n      <td>11470</td>\n      <td>01</td>\n      <td>0</td>\n      <td>...</td>\n      <td>7</td>\n      <td>31</td>\n      <td>11470-4125</td>\n      <td>84.73</td>\n      <td>None</td>\n      <td>1052</td>\n      <td>11470</td>\n      <td>8</td>\n      <td>None</td>\n      <td>None</td>\n    </tr>\n    <tr>\n      <th>504</th>\n      <td>76,600</td>\n      <td>None</td>\n      <td>2010</td>\n      <td>2020</td>\n      <td>오목로5길</td>\n      <td>00019</td>\n      <td>00000</td>\n      <td>11470</td>\n      <td>01</td>\n      <td>0</td>\n      <td>...</td>\n      <td>7</td>\n      <td>31</td>\n      <td>11470-4500</td>\n      <td>70.91</td>\n      <td>None</td>\n      <td>1057</td>\n      <td>11470</td>\n      <td>6</td>\n      <td>None</td>\n      <td>None</td>\n    </tr>\n  </tbody>\n</table>\n<p>57017 rows × 28 columns</p>\n</div>"
     },
     "execution_count": 33,
     "metadata": {},
     "output_type": "execute_result"
    }
   ],
   "source": [
    "df_all"
   ],
   "metadata": {
    "collapsed": false,
    "pycharm": {
     "name": "#%%\n"
    }
   }
  },
  {
   "cell_type": "code",
   "execution_count": 34,
   "outputs": [],
   "source": [
    "df_all.to_csv(\"data/서울특별시_양천구_아파트매매_1980_202210.csv\", index=False)"
   ],
   "metadata": {
    "collapsed": false,
    "pycharm": {
     "name": "#%%\n"
    }
   }
  },
  {
   "cell_type": "code",
   "execution_count": null,
   "outputs": [],
   "source": [],
   "metadata": {
    "collapsed": false,
    "pycharm": {
     "name": "#%%\n"
    }
   }
  }
 ],
 "metadata": {
  "kernelspec": {
   "display_name": "Python 3",
   "language": "python",
   "name": "python3"
  },
  "language_info": {
   "codemirror_mode": {
    "name": "ipython",
    "version": 2
   },
   "file_extension": ".py",
   "mimetype": "text/x-python",
   "name": "python",
   "nbconvert_exporter": "python",
   "pygments_lexer": "ipython2",
   "version": "2.7.6"
  }
 },
 "nbformat": 4,
 "nbformat_minor": 0
}