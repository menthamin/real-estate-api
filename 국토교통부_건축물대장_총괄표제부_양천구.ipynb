{
 "cells": [
  {
   "cell_type": "code",
   "execution_count": 1,
   "outputs": [],
   "source": [
    "\"\"\"국토교통부 건축물대장 총괄표제부\n",
    "- 링크: https://www.data.go.kr/data/15044713/openapi.do\n",
    "\"\"\"\n",
    "from dotenv import load_dotenv\n",
    "import os\n",
    "import requests\n",
    "import pandas as pd\n",
    "import io\n",
    "import xmltodict\n",
    "import json\n",
    "from tqdm import tqdm_notebook\n",
    "\n",
    "# import xml.etree.ElementTree as et\n",
    "\n",
    "\n",
    "# load .env\n",
    "load_dotenv()\n",
    "getRTMSDataSvcAptTradeDev_en = os.environ.get(\"getRTMSDataSvcAptTradeDev_en\")\n",
    "getRTMSDataSvcAptTradeDev_de = os.environ.get(\"pubkey_de\")"
   ],
   "metadata": {
    "collapsed": false,
    "pycharm": {
     "name": "#%%\n"
    }
   }
  },
  {
   "cell_type": "markdown",
   "source": [],
   "metadata": {
    "collapsed": false,
    "pycharm": {
     "name": "#%% md\n"
    }
   }
  },
  {
   "cell_type": "code",
   "execution_count": 2,
   "outputs": [],
   "source": [
    "SIGUNGU_CODE = 11470\n",
    "B_CODE = 10200"
   ],
   "metadata": {
    "collapsed": false,
    "pycharm": {
     "name": "#%%\n"
    }
   }
  },
  {
   "cell_type": "code",
   "execution_count": 3,
   "outputs": [],
   "source": [
    "url = \"http://apis.data.go.kr/1613000/BldRgstService_v2/getBrRecapTitleInfo\""
   ],
   "metadata": {
    "collapsed": false,
    "pycharm": {
     "name": "#%%\n"
    }
   }
  },
  {
   "cell_type": "code",
   "execution_count": 4,
   "outputs": [
    {
     "name": "stdout",
     "output_type": "stream",
     "text": [
      "'NoneType' object is not subscriptable\n",
      "2\n"
     ]
    }
   ],
   "source": [
    "dict_list = []\n",
    "\n",
    "for i in range(3):\n",
    "    params = {\n",
    "        \"serviceKey\": getRTMSDataSvcAptTradeDev_de,\n",
    "        \"sigunguCd\": SIGUNGU_CODE,\n",
    "        \"bjdongCd\": B_CODE,\n",
    "        \"platGbCd\": i,\n",
    "        \"numOfRows\": 100000\n",
    "    }\n",
    "\n",
    "    response = requests.get(url, params=params)\n",
    "    try:\n",
    "        dict_content = xmltodict.parse(response.content)[\"response\"][\"body\"][\"items\"][\"item\"]\n",
    "        dict_list.append(dict_content)\n",
    "    except Exception as e:\n",
    "        print(e)\n",
    "        print(i)\n",
    "# df = pd.DataFrame(dict_content)\n",
    "\n",
    "# df.to_csv(f\"data/서울특별시_양천구_아파트매매/서울특별시_양천구_아파트매매_{month}.csv\",\n",
    "#           encoding=\"utf8\",\n",
    "#           index=False\n",
    "# )"
   ],
   "metadata": {
    "collapsed": false,
    "pycharm": {
     "name": "#%%\n"
    }
   }
  },
  {
   "cell_type": "code",
   "execution_count": 5,
   "outputs": [],
   "source": [
    "new_list = dict_list[0]\n",
    "new_list.append(dict_list[1])"
   ],
   "metadata": {
    "collapsed": false,
    "pycharm": {
     "name": "#%%\n"
    }
   }
  },
  {
   "cell_type": "code",
   "execution_count": 6,
   "outputs": [
    {
     "data": {
      "text/plain": "189"
     },
     "execution_count": 6,
     "metadata": {},
     "output_type": "execute_result"
    }
   ],
   "source": [
    "len(new_list)"
   ],
   "metadata": {
    "collapsed": false,
    "pycharm": {
     "name": "#%%\n"
    }
   }
  },
  {
   "cell_type": "code",
   "execution_count": 14,
   "outputs": [
    {
     "data": {
      "text/plain": "      archArea atchBldArea atchBldCnt  bcRat bjdongCd         bldNm block  \\\n0       132.24           0          0      0    10200          None  None   \n1       304.14           0          0  53.17    10200         동양부로빌  None   \n2       145.45           0          0      0    10200          None  None   \n3        82.65           0          0      0    10200          None  None   \n4        411.3           0          0  48.74    10200          None  None   \n..         ...         ...        ...    ...      ...           ...   ...   \n184    8417.01    46718.54          9  19.57    10200    목동 롯데캐슬 위너  None   \n185    7503.11           0          0  31.41    10200  목동 현대 하이페리온2  None   \n186      472.6      726.87          1  51.66    10200         성재세인트  None   \n187  5010.8798  23769.1694          8  27.84    10200   목동롯데캐슬마에스트로  None   \n188     102.47           0          0      0    10200          None  None   \n\n      bun bylotCnt   crtnDay  ... regstrKindCdNm rnum sigunguCd splotNm  \\\n0    0039        0  20210112  ...          총괄표제부    1     11470    None   \n1    0042        0  20180914  ...          총괄표제부    2     11470    None   \n2    0092        0  20210112  ...          총괄표제부    3     11470    None   \n3    0114        0  20120821  ...          총괄표제부    4     11470    None   \n4    0128        2  20211104  ...          총괄표제부    5     11470    None   \n..    ...      ...       ...  ...            ...  ...       ...     ...   \n184  0956        0  20181213  ...          총괄표제부  185     11470    None   \n185  0961        1  20220506  ...          총괄표제부  186     11470    None   \n186  0964        0  20171205  ...          총괄표제부  187     11470    None   \n187  0965        0  20190523  ...          총괄표제부  188     11470    None   \n188  0007        0  20120821  ...          총괄표제부    1     11470    None   \n\n     stcnsDay     totArea totPkngCnt useAprDay   vlRat vlRatEstmTotArea  \n0        None      132.24          0      None       0           132.24  \n1    20170112     1601.15         15  20171121  193.27          1105.53  \n2        None      145.45          0      None       0           145.45  \n3        None       82.65          0      None       0            82.65  \n4    20150415     1265.24         26  20150925  149.94          1265.24  \n..        ...         ...        ...       ...     ...              ...  \n184  20020511   173805.72       1440  20050623  290.68        125015.71  \n185  20030225   230344.18       1897  20061130  631.71        150913.27  \n186  20121107     2553.02         30  20130510   199.6          1826.15  \n187  20160523  63003.9209        486  20190423  217.11       39071.6744  \n188      None      102.47          0      None       0           102.47  \n\n[189 rows x 65 columns]",
      "text/html": "<div>\n<style scoped>\n    .dataframe tbody tr th:only-of-type {\n        vertical-align: middle;\n    }\n\n    .dataframe tbody tr th {\n        vertical-align: top;\n    }\n\n    .dataframe thead th {\n        text-align: right;\n    }\n</style>\n<table border=\"1\" class=\"dataframe\">\n  <thead>\n    <tr style=\"text-align: right;\">\n      <th></th>\n      <th>archArea</th>\n      <th>atchBldArea</th>\n      <th>atchBldCnt</th>\n      <th>bcRat</th>\n      <th>bjdongCd</th>\n      <th>bldNm</th>\n      <th>block</th>\n      <th>bun</th>\n      <th>bylotCnt</th>\n      <th>crtnDay</th>\n      <th>...</th>\n      <th>regstrKindCdNm</th>\n      <th>rnum</th>\n      <th>sigunguCd</th>\n      <th>splotNm</th>\n      <th>stcnsDay</th>\n      <th>totArea</th>\n      <th>totPkngCnt</th>\n      <th>useAprDay</th>\n      <th>vlRat</th>\n      <th>vlRatEstmTotArea</th>\n    </tr>\n  </thead>\n  <tbody>\n    <tr>\n      <th>0</th>\n      <td>132.24</td>\n      <td>0</td>\n      <td>0</td>\n      <td>0</td>\n      <td>10200</td>\n      <td>None</td>\n      <td>None</td>\n      <td>0039</td>\n      <td>0</td>\n      <td>20210112</td>\n      <td>...</td>\n      <td>총괄표제부</td>\n      <td>1</td>\n      <td>11470</td>\n      <td>None</td>\n      <td>None</td>\n      <td>132.24</td>\n      <td>0</td>\n      <td>None</td>\n      <td>0</td>\n      <td>132.24</td>\n    </tr>\n    <tr>\n      <th>1</th>\n      <td>304.14</td>\n      <td>0</td>\n      <td>0</td>\n      <td>53.17</td>\n      <td>10200</td>\n      <td>동양부로빌</td>\n      <td>None</td>\n      <td>0042</td>\n      <td>0</td>\n      <td>20180914</td>\n      <td>...</td>\n      <td>총괄표제부</td>\n      <td>2</td>\n      <td>11470</td>\n      <td>None</td>\n      <td>20170112</td>\n      <td>1601.15</td>\n      <td>15</td>\n      <td>20171121</td>\n      <td>193.27</td>\n      <td>1105.53</td>\n    </tr>\n    <tr>\n      <th>2</th>\n      <td>145.45</td>\n      <td>0</td>\n      <td>0</td>\n      <td>0</td>\n      <td>10200</td>\n      <td>None</td>\n      <td>None</td>\n      <td>0092</td>\n      <td>0</td>\n      <td>20210112</td>\n      <td>...</td>\n      <td>총괄표제부</td>\n      <td>3</td>\n      <td>11470</td>\n      <td>None</td>\n      <td>None</td>\n      <td>145.45</td>\n      <td>0</td>\n      <td>None</td>\n      <td>0</td>\n      <td>145.45</td>\n    </tr>\n    <tr>\n      <th>3</th>\n      <td>82.65</td>\n      <td>0</td>\n      <td>0</td>\n      <td>0</td>\n      <td>10200</td>\n      <td>None</td>\n      <td>None</td>\n      <td>0114</td>\n      <td>0</td>\n      <td>20120821</td>\n      <td>...</td>\n      <td>총괄표제부</td>\n      <td>4</td>\n      <td>11470</td>\n      <td>None</td>\n      <td>None</td>\n      <td>82.65</td>\n      <td>0</td>\n      <td>None</td>\n      <td>0</td>\n      <td>82.65</td>\n    </tr>\n    <tr>\n      <th>4</th>\n      <td>411.3</td>\n      <td>0</td>\n      <td>0</td>\n      <td>48.74</td>\n      <td>10200</td>\n      <td>None</td>\n      <td>None</td>\n      <td>0128</td>\n      <td>2</td>\n      <td>20211104</td>\n      <td>...</td>\n      <td>총괄표제부</td>\n      <td>5</td>\n      <td>11470</td>\n      <td>None</td>\n      <td>20150415</td>\n      <td>1265.24</td>\n      <td>26</td>\n      <td>20150925</td>\n      <td>149.94</td>\n      <td>1265.24</td>\n    </tr>\n    <tr>\n      <th>...</th>\n      <td>...</td>\n      <td>...</td>\n      <td>...</td>\n      <td>...</td>\n      <td>...</td>\n      <td>...</td>\n      <td>...</td>\n      <td>...</td>\n      <td>...</td>\n      <td>...</td>\n      <td>...</td>\n      <td>...</td>\n      <td>...</td>\n      <td>...</td>\n      <td>...</td>\n      <td>...</td>\n      <td>...</td>\n      <td>...</td>\n      <td>...</td>\n      <td>...</td>\n      <td>...</td>\n    </tr>\n    <tr>\n      <th>184</th>\n      <td>8417.01</td>\n      <td>46718.54</td>\n      <td>9</td>\n      <td>19.57</td>\n      <td>10200</td>\n      <td>목동 롯데캐슬 위너</td>\n      <td>None</td>\n      <td>0956</td>\n      <td>0</td>\n      <td>20181213</td>\n      <td>...</td>\n      <td>총괄표제부</td>\n      <td>185</td>\n      <td>11470</td>\n      <td>None</td>\n      <td>20020511</td>\n      <td>173805.72</td>\n      <td>1440</td>\n      <td>20050623</td>\n      <td>290.68</td>\n      <td>125015.71</td>\n    </tr>\n    <tr>\n      <th>185</th>\n      <td>7503.11</td>\n      <td>0</td>\n      <td>0</td>\n      <td>31.41</td>\n      <td>10200</td>\n      <td>목동 현대 하이페리온2</td>\n      <td>None</td>\n      <td>0961</td>\n      <td>1</td>\n      <td>20220506</td>\n      <td>...</td>\n      <td>총괄표제부</td>\n      <td>186</td>\n      <td>11470</td>\n      <td>None</td>\n      <td>20030225</td>\n      <td>230344.18</td>\n      <td>1897</td>\n      <td>20061130</td>\n      <td>631.71</td>\n      <td>150913.27</td>\n    </tr>\n    <tr>\n      <th>186</th>\n      <td>472.6</td>\n      <td>726.87</td>\n      <td>1</td>\n      <td>51.66</td>\n      <td>10200</td>\n      <td>성재세인트</td>\n      <td>None</td>\n      <td>0964</td>\n      <td>0</td>\n      <td>20171205</td>\n      <td>...</td>\n      <td>총괄표제부</td>\n      <td>187</td>\n      <td>11470</td>\n      <td>None</td>\n      <td>20121107</td>\n      <td>2553.02</td>\n      <td>30</td>\n      <td>20130510</td>\n      <td>199.6</td>\n      <td>1826.15</td>\n    </tr>\n    <tr>\n      <th>187</th>\n      <td>5010.8798</td>\n      <td>23769.1694</td>\n      <td>8</td>\n      <td>27.84</td>\n      <td>10200</td>\n      <td>목동롯데캐슬마에스트로</td>\n      <td>None</td>\n      <td>0965</td>\n      <td>0</td>\n      <td>20190523</td>\n      <td>...</td>\n      <td>총괄표제부</td>\n      <td>188</td>\n      <td>11470</td>\n      <td>None</td>\n      <td>20160523</td>\n      <td>63003.9209</td>\n      <td>486</td>\n      <td>20190423</td>\n      <td>217.11</td>\n      <td>39071.6744</td>\n    </tr>\n    <tr>\n      <th>188</th>\n      <td>102.47</td>\n      <td>0</td>\n      <td>0</td>\n      <td>0</td>\n      <td>10200</td>\n      <td>None</td>\n      <td>None</td>\n      <td>0007</td>\n      <td>0</td>\n      <td>20120821</td>\n      <td>...</td>\n      <td>총괄표제부</td>\n      <td>1</td>\n      <td>11470</td>\n      <td>None</td>\n      <td>None</td>\n      <td>102.47</td>\n      <td>0</td>\n      <td>None</td>\n      <td>0</td>\n      <td>102.47</td>\n    </tr>\n  </tbody>\n</table>\n<p>189 rows × 65 columns</p>\n</div>"
     },
     "execution_count": 14,
     "metadata": {},
     "output_type": "execute_result"
    }
   ],
   "source": [
    "pd.DataFrame(dict_list[0])"
   ],
   "metadata": {
    "collapsed": false,
    "pycharm": {
     "name": "#%%\n"
    }
   }
  },
  {
   "cell_type": "code",
   "execution_count": 35,
   "outputs": [],
   "source": [
    "df = pd.DataFrame(new_list)\n",
    "df.to_csv(\"data/서울특별시_양천구_건출물대장_총괄표제부.csv\",\n",
    "          encoding=\"utf8\",\n",
    "          index=False\n",
    ")"
   ],
   "metadata": {
    "collapsed": false,
    "pycharm": {
     "name": "#%%\n"
    }
   }
  },
  {
   "cell_type": "code",
   "execution_count": null,
   "outputs": [],
   "source": [],
   "metadata": {
    "collapsed": false,
    "pycharm": {
     "name": "#%%\n"
    }
   }
  }
 ],
 "metadata": {
  "kernelspec": {
   "display_name": "Python 3",
   "language": "python",
   "name": "python3"
  },
  "language_info": {
   "codemirror_mode": {
    "name": "ipython",
    "version": 2
   },
   "file_extension": ".py",
   "mimetype": "text/x-python",
   "name": "python",
   "nbconvert_exporter": "python",
   "pygments_lexer": "ipython2",
   "version": "2.7.6"
  }
 },
 "nbformat": 4,
 "nbformat_minor": 0
}