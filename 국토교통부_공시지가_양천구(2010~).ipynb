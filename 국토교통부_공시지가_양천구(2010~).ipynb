{
 "cells": [
  {
   "cell_type": "code",
   "execution_count": 31,
   "outputs": [],
   "source": [
    "\"\"\"국토교통부 공시지가 데이터\n",
    "- 링크: https://www.data.go.kr/tcs/dss/selectApiDataDetailView.do?publicDataPk=15059127\n",
    "\"\"\"\n",
    "from dotenv import load_dotenv\n",
    "import os\n",
    "import math\n",
    "import requests\n",
    "import pandas as pd\n",
    "import io\n",
    "import xmltodict\n",
    "import json\n",
    "import tqdm\n",
    "\n",
    "# import xml.etree.ElementTree as et\n",
    "\n",
    "\n",
    "# load .env\n",
    "load_dotenv()\n",
    "getRTMSDataSvcAptTradeDev_en = os.environ.get(\"getRTMSDataSvcAptTradeDev_en\")\n",
    "getRTMSDataSvcAptTradeDev_de = os.environ.get(\"getRTMSDataSvcAptTradeDev_de\")"
   ],
   "metadata": {
    "collapsed": false,
    "pycharm": {
     "name": "#%%\n"
    }
   }
  },
  {
   "cell_type": "code",
   "execution_count": 32,
   "outputs": [],
   "source": [
    "start_date = pd.to_datetime('2010-01-01')\n",
    "end_date = pd.to_datetime('2023-09-30')\n",
    "dates = pd.date_range(start_date, end_date, freq=\"Y\")"
   ],
   "metadata": {
    "collapsed": false,
    "pycharm": {
     "name": "#%%\n"
    }
   }
  },
  {
   "cell_type": "code",
   "execution_count": 33,
   "outputs": [],
   "source": [
    "YEAR_LIST = [date.strftime(\"%Y\") for date in dates]"
   ],
   "metadata": {
    "collapsed": false,
    "pycharm": {
     "name": "#%%\n"
    }
   }
  },
  {
   "cell_type": "code",
   "execution_count": 45,
   "outputs": [
    {
     "name": "stderr",
     "output_type": "stream",
     "text": [
      "  0%|          | 0/13 [00:00<?, ?it/s]\n",
      "  0%|          | 0/1 [00:00<?, ?it/s]\u001B[A\n",
      "100%|██████████| 1/1 [00:02<00:00,  2.21s/it]\u001B[A\n",
      "  8%|▊         | 1/13 [00:02<00:29,  2.50s/it]\n",
      "  0%|          | 0/1 [00:00<?, ?it/s]\u001B[A\n",
      "100%|██████████| 1/1 [00:02<00:00,  2.71s/it]\u001B[A\n",
      " 15%|█▌        | 2/13 [00:05<00:30,  2.79s/it]\n",
      "  0%|          | 0/1 [00:00<?, ?it/s]\u001B[A\n",
      "100%|██████████| 1/1 [00:02<00:00,  2.44s/it]\u001B[A\n",
      " 23%|██▎       | 3/13 [00:09<00:33,  3.30s/it]\n",
      "  0%|          | 0/1 [00:00<?, ?it/s]\u001B[A\n",
      "100%|██████████| 1/1 [00:02<00:00,  2.19s/it]\u001B[A\n",
      " 31%|███       | 4/13 [00:12<00:27,  3.11s/it]\n",
      "  0%|          | 0/1 [00:00<?, ?it/s]\u001B[A\n",
      "100%|██████████| 1/1 [00:01<00:00,  1.87s/it]\u001B[A\n",
      " 38%|███▊      | 5/13 [00:14<00:23,  2.89s/it]\n",
      "  0%|          | 0/1 [00:00<?, ?it/s]\u001B[A\n",
      "100%|██████████| 1/1 [00:02<00:00,  2.38s/it]\u001B[A\n",
      " 46%|████▌     | 6/13 [00:17<00:19,  2.85s/it]\n",
      "  0%|          | 0/1 [00:00<?, ?it/s]\u001B[A\n",
      "100%|██████████| 1/1 [00:01<00:00,  1.83s/it]\u001B[A\n",
      " 54%|█████▍    | 7/13 [00:19<00:15,  2.56s/it]\n",
      "  0%|          | 0/1 [00:00<?, ?it/s]\u001B[A\n",
      "100%|██████████| 1/1 [00:02<00:00,  2.24s/it]\u001B[A\n",
      " 62%|██████▏   | 8/13 [00:21<00:12,  2.49s/it]\n",
      "  0%|          | 0/1 [00:00<?, ?it/s]\u001B[A\n",
      "100%|██████████| 1/1 [00:02<00:00,  2.40s/it]\u001B[A\n",
      " 69%|██████▉   | 9/13 [00:24<00:10,  2.57s/it]\n",
      "  0%|          | 0/1 [00:00<?, ?it/s]\u001B[A\n",
      "100%|██████████| 1/1 [00:03<00:00,  3.80s/it]\u001B[A\n",
      " 77%|███████▋  | 10/13 [00:29<00:09,  3.15s/it]\n",
      "  0%|          | 0/1 [00:00<?, ?it/s]\u001B[A\n",
      "100%|██████████| 1/1 [00:02<00:00,  2.25s/it]\u001B[A\n",
      " 85%|████████▍ | 11/13 [00:32<00:06,  3.13s/it]\n",
      "  0%|          | 0/1 [00:00<?, ?it/s]\u001B[A\n",
      "100%|██████████| 1/1 [00:02<00:00,  2.07s/it]\u001B[A\n",
      " 92%|█████████▏| 12/13 [00:34<00:02,  2.84s/it]\n",
      "  0%|          | 0/1 [00:00<?, ?it/s]\u001B[A\n",
      "100%|██████████| 1/1 [00:01<00:00,  1.49s/it]\u001B[A\n",
      "100%|██████████| 13/13 [00:35<00:00,  2.76s/it]\n"
     ]
    }
   ],
   "source": [
    "dict_list = []\n",
    "\n",
    "for year in tqdm.tqdm(YEAR_LIST):\n",
    "\n",
    "    SIGUNGU_CODE = \"11470\"\n",
    "    B_CODE = \"10200\"\n",
    "    url = \"http://apis.data.go.kr/1611000/nsdi/IndvdLandPriceService/attr/getIndvdLandPriceAttr\"\n",
    "    params = {\n",
    "        \"serviceKey\": getRTMSDataSvcAptTradeDev_de,\n",
    "        \"pnu\": SIGUNGU_CODE + B_CODE,  # 필지 고유번호\n",
    "        \"stdrYear\": year,\n",
    "        \"format\": \"xml\",  # 응답결과 형식(xml 또는 json)\n",
    "        \"numOfRows\": 10,  # 검색 건수\n",
    "        \"pageNo\": 1,  # 페이지 번호\n",
    "    }\n",
    "\n",
    "    response = requests.get(url, params=params)\n",
    "    rows_count = xmltodict.parse(response.content)[\"response\"][\"totalCount\"]\n",
    "    # print(rows_count)\n",
    "    GET_ROWS_BY_ITER = 10000\n",
    "    dict_content = xmltodict.parse(response.content)[\"response\"]\n",
    "    iter_range = math.ceil(int(rows_count) / GET_ROWS_BY_ITER)\n",
    "\n",
    "    for i in tqdm.tqdm(range(1, iter_range + 1)):\n",
    "        params = {\n",
    "            \"serviceKey\": getRTMSDataSvcAptTradeDev_de,\n",
    "            \"pnu\": SIGUNGU_CODE + B_CODE,  # 필지 고유번호\n",
    "            \"stdrYear\": year,\n",
    "            \"format\": \"xml\",  # 응답결과 형식(xml 또는 json)\n",
    "            \"numOfRows\": GET_ROWS_BY_ITER,  # 검색 건수\n",
    "            \"pageNo\": i,  # 페이지 번호\n",
    "        }\n",
    "\n",
    "        response = requests.get(url, params=params)\n",
    "        try:\n",
    "            dict_content = xmltodict.parse(response.content)[\"response\"][\"fields\"][\"field\"]\n",
    "            dict_list.extend(dict_content)\n",
    "        except Exception as e:\n",
    "            print(f\"Error message {e}, Iter {i}\")"
   ],
   "metadata": {
    "collapsed": false,
    "pycharm": {
     "name": "#%%\n"
    }
   }
  },
  {
   "cell_type": "code",
   "execution_count": 46,
   "outputs": [
    {
     "data": {
      "text/plain": "84660"
     },
     "execution_count": 46,
     "metadata": {},
     "output_type": "execute_result"
    }
   ],
   "source": [
    "len(dict_list)"
   ],
   "metadata": {
    "collapsed": false,
    "pycharm": {
     "name": "#%%\n"
    }
   }
  },
  {
   "cell_type": "code",
   "execution_count": 47,
   "outputs": [],
   "source": [
    "df = pd.DataFrame(dict_list)\n",
    "df.to_csv(\"data/서울특별시_양천구_공시지가_속성.csv\",\n",
    "          encoding=\"utf8\",\n",
    "          index=False\n",
    ")"
   ],
   "metadata": {
    "collapsed": false,
    "pycharm": {
     "name": "#%%\n"
    }
   }
  },
  {
   "cell_type": "code",
   "execution_count": null,
   "outputs": [],
   "source": [],
   "metadata": {
    "collapsed": false,
    "pycharm": {
     "name": "#%%\n"
    }
   }
  }
 ],
 "metadata": {
  "kernelspec": {
   "display_name": "Python 3",
   "language": "python",
   "name": "python3"
  },
  "language_info": {
   "codemirror_mode": {
    "name": "ipython",
    "version": 2
   },
   "file_extension": ".py",
   "mimetype": "text/x-python",
   "name": "python",
   "nbconvert_exporter": "python",
   "pygments_lexer": "ipython2",
   "version": "2.7.6"
  }
 },
 "nbformat": 4,
 "nbformat_minor": 0
}