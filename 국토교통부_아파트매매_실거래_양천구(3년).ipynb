{
 "cells": [
  {
   "cell_type": "code",
   "execution_count": 23,
   "outputs": [],
   "source": [
    "\"\"\"국토교통부 아파트매매 실거래 데이터 추출 예시\n",
    "- 링크: https://www.data.go.kr/tcs/dss/selectApiDataDetailView.do?publicDataPk=15057511\n",
    "\"\"\"\n",
    "from dotenv import load_dotenv\n",
    "import os\n",
    "import requests\n",
    "import pandas as pd\n",
    "import io\n",
    "import xmltodict\n",
    "import json\n",
    "\n",
    "# import xml.etree.ElementTree as et\n",
    "\n",
    "\n",
    "# load .env\n",
    "load_dotenv()\n",
    "getRTMSDataSvcAptTradeDev_en = os.environ.get(\"getRTMSDataSvcAptTradeDev_en\")\n",
    "getRTMSDataSvcAptTradeDev_de = os.environ.get(\"getRTMSDataSvcAptTradeDev_de\")"
   ],
   "metadata": {
    "collapsed": false,
    "pycharm": {
     "name": "#%%\n"
    }
   }
  },
  {
   "cell_type": "code",
   "execution_count": 24,
   "outputs": [],
   "source": [
    "start_date = pd.to_datetime('2019-01-01')\n",
    "end_date = pd.to_datetime('2022-09-30')\n",
    "dates = pd.date_range(start_date, end_date, freq=\"M\")"
   ],
   "metadata": {
    "collapsed": false,
    "pycharm": {
     "name": "#%%\n"
    }
   }
  },
  {
   "cell_type": "code",
   "execution_count": 25,
   "outputs": [],
   "source": [
    "MONTH_LIST = [date.strftime(\"%Y%m\") for date in dates]\n",
    "RES_ROWS = 10000\n",
    "SIGUNGU_CODE = 11470"
   ],
   "metadata": {
    "collapsed": false,
    "pycharm": {
     "name": "#%%\n"
    }
   }
  },
  {
   "cell_type": "code",
   "execution_count": 26,
   "outputs": [],
   "source": [
    "url = \"http://openapi.molit.go.kr/OpenAPI_ToolInstallPackage/service/rest/RTMSOBJSvc/getRTMSDataSvcAptTradeDev\""
   ],
   "metadata": {
    "collapsed": false,
    "pycharm": {
     "name": "#%%\n"
    }
   }
  },
  {
   "cell_type": "code",
   "execution_count": 27,
   "outputs": [
    {
     "ename": "ValueError",
     "evalue": "If using all scalar values, you must pass an index",
     "output_type": "error",
     "traceback": [
      "\u001B[0;31m---------------------------------------------------------------------------\u001B[0m",
      "\u001B[0;31mValueError\u001B[0m                                Traceback (most recent call last)",
      "Input \u001B[0;32mIn [27]\u001B[0m, in \u001B[0;36m<cell line: 1>\u001B[0;34m()\u001B[0m\n\u001B[1;32m     10\u001B[0m response \u001B[38;5;241m=\u001B[39m requests\u001B[38;5;241m.\u001B[39mget(url, params\u001B[38;5;241m=\u001B[39mparams)\n\u001B[1;32m     11\u001B[0m dict_content \u001B[38;5;241m=\u001B[39m xmltodict\u001B[38;5;241m.\u001B[39mparse(response\u001B[38;5;241m.\u001B[39mcontent)[\u001B[38;5;124m\"\u001B[39m\u001B[38;5;124mresponse\u001B[39m\u001B[38;5;124m\"\u001B[39m][\u001B[38;5;124m\"\u001B[39m\u001B[38;5;124mbody\u001B[39m\u001B[38;5;124m\"\u001B[39m][\u001B[38;5;124m\"\u001B[39m\u001B[38;5;124mitems\u001B[39m\u001B[38;5;124m\"\u001B[39m][\u001B[38;5;124m\"\u001B[39m\u001B[38;5;124mitem\u001B[39m\u001B[38;5;124m\"\u001B[39m]\n\u001B[0;32m---> 12\u001B[0m df \u001B[38;5;241m=\u001B[39m \u001B[43mpd\u001B[49m\u001B[38;5;241;43m.\u001B[39;49m\u001B[43mDataFrame\u001B[49m\u001B[43m(\u001B[49m\u001B[43mdict_content\u001B[49m\u001B[43m)\u001B[49m\n\u001B[1;32m     14\u001B[0m df\u001B[38;5;241m.\u001B[39mto_csv(\u001B[38;5;124mf\u001B[39m\u001B[38;5;124m\"\u001B[39m\u001B[38;5;124mdata/서울특별시_양천구_아파트매매/서울특별시_양천구_아파트매매_\u001B[39m\u001B[38;5;132;01m{\u001B[39;00mmonth\u001B[38;5;132;01m}\u001B[39;00m\u001B[38;5;124m.csv\u001B[39m\u001B[38;5;124m\"\u001B[39m,\n\u001B[1;32m     15\u001B[0m           encoding\u001B[38;5;241m=\u001B[39m\u001B[38;5;124m\"\u001B[39m\u001B[38;5;124mutf8\u001B[39m\u001B[38;5;124m\"\u001B[39m,\n\u001B[1;32m     16\u001B[0m           index\u001B[38;5;241m=\u001B[39m\u001B[38;5;28;01mFalse\u001B[39;00m\n\u001B[1;32m     17\u001B[0m )\n",
      "File \u001B[0;32m~/opt/anaconda3/envs/real-estate-api/lib/python3.10/site-packages/pandas/core/frame.py:636\u001B[0m, in \u001B[0;36mDataFrame.__init__\u001B[0;34m(self, data, index, columns, dtype, copy)\u001B[0m\n\u001B[1;32m    630\u001B[0m     mgr \u001B[38;5;241m=\u001B[39m \u001B[38;5;28mself\u001B[39m\u001B[38;5;241m.\u001B[39m_init_mgr(\n\u001B[1;32m    631\u001B[0m         data, axes\u001B[38;5;241m=\u001B[39m{\u001B[38;5;124m\"\u001B[39m\u001B[38;5;124mindex\u001B[39m\u001B[38;5;124m\"\u001B[39m: index, \u001B[38;5;124m\"\u001B[39m\u001B[38;5;124mcolumns\u001B[39m\u001B[38;5;124m\"\u001B[39m: columns}, dtype\u001B[38;5;241m=\u001B[39mdtype, copy\u001B[38;5;241m=\u001B[39mcopy\n\u001B[1;32m    632\u001B[0m     )\n\u001B[1;32m    634\u001B[0m \u001B[38;5;28;01melif\u001B[39;00m \u001B[38;5;28misinstance\u001B[39m(data, \u001B[38;5;28mdict\u001B[39m):\n\u001B[1;32m    635\u001B[0m     \u001B[38;5;66;03m# GH#38939 de facto copy defaults to False only in non-dict cases\u001B[39;00m\n\u001B[0;32m--> 636\u001B[0m     mgr \u001B[38;5;241m=\u001B[39m \u001B[43mdict_to_mgr\u001B[49m\u001B[43m(\u001B[49m\u001B[43mdata\u001B[49m\u001B[43m,\u001B[49m\u001B[43m \u001B[49m\u001B[43mindex\u001B[49m\u001B[43m,\u001B[49m\u001B[43m \u001B[49m\u001B[43mcolumns\u001B[49m\u001B[43m,\u001B[49m\u001B[43m \u001B[49m\u001B[43mdtype\u001B[49m\u001B[38;5;241;43m=\u001B[39;49m\u001B[43mdtype\u001B[49m\u001B[43m,\u001B[49m\u001B[43m \u001B[49m\u001B[43mcopy\u001B[49m\u001B[38;5;241;43m=\u001B[39;49m\u001B[43mcopy\u001B[49m\u001B[43m,\u001B[49m\u001B[43m \u001B[49m\u001B[43mtyp\u001B[49m\u001B[38;5;241;43m=\u001B[39;49m\u001B[43mmanager\u001B[49m\u001B[43m)\u001B[49m\n\u001B[1;32m    637\u001B[0m \u001B[38;5;28;01melif\u001B[39;00m \u001B[38;5;28misinstance\u001B[39m(data, ma\u001B[38;5;241m.\u001B[39mMaskedArray):\n\u001B[1;32m    638\u001B[0m     \u001B[38;5;28;01mimport\u001B[39;00m \u001B[38;5;21;01mnumpy\u001B[39;00m\u001B[38;5;21;01m.\u001B[39;00m\u001B[38;5;21;01mma\u001B[39;00m\u001B[38;5;21;01m.\u001B[39;00m\u001B[38;5;21;01mmrecords\u001B[39;00m \u001B[38;5;28;01mas\u001B[39;00m \u001B[38;5;21;01mmrecords\u001B[39;00m\n",
      "File \u001B[0;32m~/opt/anaconda3/envs/real-estate-api/lib/python3.10/site-packages/pandas/core/internals/construction.py:502\u001B[0m, in \u001B[0;36mdict_to_mgr\u001B[0;34m(data, index, columns, dtype, typ, copy)\u001B[0m\n\u001B[1;32m    494\u001B[0m     arrays \u001B[38;5;241m=\u001B[39m [\n\u001B[1;32m    495\u001B[0m         x\n\u001B[1;32m    496\u001B[0m         \u001B[38;5;28;01mif\u001B[39;00m \u001B[38;5;129;01mnot\u001B[39;00m \u001B[38;5;28mhasattr\u001B[39m(x, \u001B[38;5;124m\"\u001B[39m\u001B[38;5;124mdtype\u001B[39m\u001B[38;5;124m\"\u001B[39m) \u001B[38;5;129;01mor\u001B[39;00m \u001B[38;5;129;01mnot\u001B[39;00m \u001B[38;5;28misinstance\u001B[39m(x\u001B[38;5;241m.\u001B[39mdtype, ExtensionDtype)\n\u001B[1;32m    497\u001B[0m         \u001B[38;5;28;01melse\u001B[39;00m x\u001B[38;5;241m.\u001B[39mcopy()\n\u001B[1;32m    498\u001B[0m         \u001B[38;5;28;01mfor\u001B[39;00m x \u001B[38;5;129;01min\u001B[39;00m arrays\n\u001B[1;32m    499\u001B[0m     ]\n\u001B[1;32m    500\u001B[0m     \u001B[38;5;66;03m# TODO: can we get rid of the dt64tz special case above?\u001B[39;00m\n\u001B[0;32m--> 502\u001B[0m \u001B[38;5;28;01mreturn\u001B[39;00m \u001B[43marrays_to_mgr\u001B[49m\u001B[43m(\u001B[49m\u001B[43marrays\u001B[49m\u001B[43m,\u001B[49m\u001B[43m \u001B[49m\u001B[43mcolumns\u001B[49m\u001B[43m,\u001B[49m\u001B[43m \u001B[49m\u001B[43mindex\u001B[49m\u001B[43m,\u001B[49m\u001B[43m \u001B[49m\u001B[43mdtype\u001B[49m\u001B[38;5;241;43m=\u001B[39;49m\u001B[43mdtype\u001B[49m\u001B[43m,\u001B[49m\u001B[43m \u001B[49m\u001B[43mtyp\u001B[49m\u001B[38;5;241;43m=\u001B[39;49m\u001B[43mtyp\u001B[49m\u001B[43m,\u001B[49m\u001B[43m \u001B[49m\u001B[43mconsolidate\u001B[49m\u001B[38;5;241;43m=\u001B[39;49m\u001B[43mcopy\u001B[49m\u001B[43m)\u001B[49m\n",
      "File \u001B[0;32m~/opt/anaconda3/envs/real-estate-api/lib/python3.10/site-packages/pandas/core/internals/construction.py:120\u001B[0m, in \u001B[0;36marrays_to_mgr\u001B[0;34m(arrays, columns, index, dtype, verify_integrity, typ, consolidate)\u001B[0m\n\u001B[1;32m    117\u001B[0m \u001B[38;5;28;01mif\u001B[39;00m verify_integrity:\n\u001B[1;32m    118\u001B[0m     \u001B[38;5;66;03m# figure out the index, if necessary\u001B[39;00m\n\u001B[1;32m    119\u001B[0m     \u001B[38;5;28;01mif\u001B[39;00m index \u001B[38;5;129;01mis\u001B[39;00m \u001B[38;5;28;01mNone\u001B[39;00m:\n\u001B[0;32m--> 120\u001B[0m         index \u001B[38;5;241m=\u001B[39m \u001B[43m_extract_index\u001B[49m\u001B[43m(\u001B[49m\u001B[43marrays\u001B[49m\u001B[43m)\u001B[49m\n\u001B[1;32m    121\u001B[0m     \u001B[38;5;28;01melse\u001B[39;00m:\n\u001B[1;32m    122\u001B[0m         index \u001B[38;5;241m=\u001B[39m ensure_index(index)\n",
      "File \u001B[0;32m~/opt/anaconda3/envs/real-estate-api/lib/python3.10/site-packages/pandas/core/internals/construction.py:664\u001B[0m, in \u001B[0;36m_extract_index\u001B[0;34m(data)\u001B[0m\n\u001B[1;32m    661\u001B[0m         \u001B[38;5;28;01mraise\u001B[39;00m \u001B[38;5;167;01mValueError\u001B[39;00m(\u001B[38;5;124m\"\u001B[39m\u001B[38;5;124mPer-column arrays must each be 1-dimensional\u001B[39m\u001B[38;5;124m\"\u001B[39m)\n\u001B[1;32m    663\u001B[0m \u001B[38;5;28;01mif\u001B[39;00m \u001B[38;5;129;01mnot\u001B[39;00m indexes \u001B[38;5;129;01mand\u001B[39;00m \u001B[38;5;129;01mnot\u001B[39;00m raw_lengths:\n\u001B[0;32m--> 664\u001B[0m     \u001B[38;5;28;01mraise\u001B[39;00m \u001B[38;5;167;01mValueError\u001B[39;00m(\u001B[38;5;124m\"\u001B[39m\u001B[38;5;124mIf using all scalar values, you must pass an index\u001B[39m\u001B[38;5;124m\"\u001B[39m)\n\u001B[1;32m    666\u001B[0m \u001B[38;5;28;01melif\u001B[39;00m have_series:\n\u001B[1;32m    667\u001B[0m     index \u001B[38;5;241m=\u001B[39m union_indexes(indexes)\n",
      "\u001B[0;31mValueError\u001B[0m: If using all scalar values, you must pass an index"
     ]
    }
   ],
   "source": [
    "for month in MONTH_LIST:\n",
    "    params = {\n",
    "        \"serviceKey\": getRTMSDataSvcAptTradeDev_de,\n",
    "        \"pageNo\": \"1\",\n",
    "        \"numOfRows\": RES_ROWS,\n",
    "        \"LAWD_CD\": SIGUNGU_CODE,  # Input 1: 시군구코드 5자리, ex) 11680 = 서울특별시 강남구\n",
    "        \"DEAL_YMD\": month,  # Input 2: 년월(YYYYMM), ex) 202208 = 2022년 8월\n",
    "    }\n",
    "\n",
    "    response = requests.get(url, params=params)\n",
    "    dict_content = xmltodict.parse(response.content)[\"response\"][\"body\"][\"items\"][\"item\"]\n",
    "    df = pd.DataFrame(dict_content)\n",
    "\n",
    "    df.to_csv(f\"data/서울특별시_양천구_아파트매매/서울특별시_양천구_아파트매매_{month}.csv\",\n",
    "              encoding=\"utf8\",\n",
    "              index=False\n",
    "    )"
   ],
   "metadata": {
    "collapsed": false,
    "pycharm": {
     "name": "#%%\n"
    }
   }
  },
  {
   "cell_type": "code",
   "execution_count": null,
   "outputs": [],
   "source": [],
   "metadata": {
    "collapsed": false,
    "pycharm": {
     "name": "#%%\n"
    }
   }
  },
  {
   "cell_type": "code",
   "execution_count": 28,
   "outputs": [],
   "source": [
    "file_list = os.listdir(\"data/서울특별시_양천구_아파트매매\")\n",
    "file_list.sort()"
   ],
   "metadata": {
    "collapsed": false,
    "pycharm": {
     "name": "#%%\n"
    }
   }
  },
  {
   "cell_type": "code",
   "execution_count": 31,
   "outputs": [
    {
     "data": {
      "text/plain": "['서울특별시_양천구_아파트매매_201901.csv',\n '서울특별시_양천구_아파트매매_201902.csv',\n '서울특별시_양천구_아파트매매_201903.csv',\n '서울특별시_양천구_아파트매매_201904.csv',\n '서울특별시_양천구_아파트매매_201905.csv',\n '서울특별시_양천구_아파트매매_201906.csv',\n '서울특별시_양천구_아파트매매_201907.csv',\n '서울특별시_양천구_아파트매매_201908.csv',\n '서울특별시_양천구_아파트매매_201909.csv',\n '서울특별시_양천구_아파트매매_201910.csv',\n '서울특별시_양천구_아파트매매_201911.csv',\n '서울특별시_양천구_아파트매매_201912.csv',\n '서울특별시_양천구_아파트매매_202001.csv',\n '서울특별시_양천구_아파트매매_202002.csv',\n '서울특별시_양천구_아파트매매_202003.csv',\n '서울특별시_양천구_아파트매매_202004.csv',\n '서울특별시_양천구_아파트매매_202005.csv',\n '서울특별시_양천구_아파트매매_202006.csv',\n '서울특별시_양천구_아파트매매_202007.csv',\n '서울특별시_양천구_아파트매매_202008.csv',\n '서울특별시_양천구_아파트매매_202009.csv',\n '서울특별시_양천구_아파트매매_202010.csv',\n '서울특별시_양천구_아파트매매_202011.csv',\n '서울특별시_양천구_아파트매매_202012.csv',\n '서울특별시_양천구_아파트매매_202101.csv',\n '서울특별시_양천구_아파트매매_202102.csv',\n '서울특별시_양천구_아파트매매_202103.csv',\n '서울특별시_양천구_아파트매매_202104.csv',\n '서울특별시_양천구_아파트매매_202105.csv',\n '서울특별시_양천구_아파트매매_202106.csv',\n '서울특별시_양천구_아파트매매_202107.csv',\n '서울특별시_양천구_아파트매매_202108.csv',\n '서울특별시_양천구_아파트매매_202109.csv',\n '서울특별시_양천구_아파트매매_202110.csv',\n '서울특별시_양천구_아파트매매_202111.csv',\n '서울특별시_양천구_아파트매매_202112.csv',\n '서울특별시_양천구_아파트매매_202201.csv',\n '서울특별시_양천구_아파트매매_202202.csv',\n '서울특별시_양천구_아파트매매_202203.csv',\n '서울특별시_양천구_아파트매매_202204.csv',\n '서울특별시_양천구_아파트매매_202205.csv',\n '서울특별시_양천구_아파트매매_202206.csv',\n '서울특별시_양천구_아파트매매_202207.csv',\n '서울특별시_양천구_아파트매매_202208.csv']"
     },
     "execution_count": 31,
     "metadata": {},
     "output_type": "execute_result"
    }
   ],
   "source": [
    "file_list"
   ],
   "metadata": {
    "collapsed": false,
    "pycharm": {
     "name": "#%%\n"
    }
   }
  },
  {
   "cell_type": "code",
   "execution_count": 34,
   "outputs": [],
   "source": [
    "df_all = pd.DataFrame()\n",
    "for file in file_list:\n",
    "    df= pd.read_csv(\"data/서울특별시_양천구_아파트매매/\" + file, encoding='utf-8')\n",
    "    df_all = pd.concat([df_all, df])"
   ],
   "metadata": {
    "collapsed": false,
    "pycharm": {
     "name": "#%%\n"
    }
   }
  },
  {
   "cell_type": "code",
   "execution_count": 38,
   "outputs": [],
   "source": [
    "df_all.to_csv(\"data/서울특별시_양천구_아파트매매(2019_202208).csv\", index=False)"
   ],
   "metadata": {
    "collapsed": false,
    "pycharm": {
     "name": "#%%\n"
    }
   }
  },
  {
   "cell_type": "code",
   "execution_count": 39,
   "outputs": [
    {
     "name": "stdout",
     "output_type": "stream",
     "text": [
      "<class 'pandas.core.frame.DataFrame'>\n",
      "Int64Index: 9575 entries, 0 to 17\n",
      "Data columns (total 28 columns):\n",
      " #   Column      Non-Null Count  Dtype  \n",
      "---  ------      --------------  -----  \n",
      " 0   거래금액        9575 non-null   object \n",
      " 1   거래유형        433 non-null    object \n",
      " 2   건축년도        9575 non-null   int64  \n",
      " 3   년           9575 non-null   int64  \n",
      " 4   도로명         9568 non-null   object \n",
      " 5   도로명건물본번호코드  9568 non-null   float64\n",
      " 6   도로명건물부번호코드  9568 non-null   float64\n",
      " 7   도로명시군구코드    9568 non-null   float64\n",
      " 8   도로명일련번호코드   9575 non-null   int64  \n",
      " 9   도로명지상지하코드   9110 non-null   float64\n",
      " 10  도로명코드       9568 non-null   float64\n",
      " 11  법정동         9575 non-null   object \n",
      " 12  법정동본번코드     9575 non-null   int64  \n",
      " 13  법정동부번코드     9575 non-null   int64  \n",
      " 14  법정동시군구코드    9575 non-null   int64  \n",
      " 15  법정동읍면동코드    9575 non-null   int64  \n",
      " 16  법정동지번코드     9575 non-null   int64  \n",
      " 17  아파트         9575 non-null   object \n",
      " 18  월           9575 non-null   int64  \n",
      " 19  일           9575 non-null   int64  \n",
      " 20  일련번호        9575 non-null   object \n",
      " 21  전용면적        9575 non-null   float64\n",
      " 22  중개사소재지      409 non-null    object \n",
      " 23  지번          9575 non-null   object \n",
      " 24  지역코드        9575 non-null   int64  \n",
      " 25  층           9575 non-null   int64  \n",
      " 26  해제사유발생일     200 non-null    object \n",
      " 27  해제여부        200 non-null    object \n",
      "dtypes: float64(6), int64(12), object(10)\n",
      "memory usage: 2.1+ MB\n"
     ]
    }
   ],
   "source": [
    "df_all.info()"
   ],
   "metadata": {
    "collapsed": false,
    "pycharm": {
     "name": "#%%\n"
    }
   }
  },
  {
   "cell_type": "code",
   "execution_count": null,
   "outputs": [],
   "source": [],
   "metadata": {
    "collapsed": false,
    "pycharm": {
     "name": "#%%\n"
    }
   }
  }
 ],
 "metadata": {
  "kernelspec": {
   "display_name": "Python 3",
   "language": "python",
   "name": "python3"
  },
  "language_info": {
   "codemirror_mode": {
    "name": "ipython",
    "version": 2
   },
   "file_extension": ".py",
   "mimetype": "text/x-python",
   "name": "python",
   "nbconvert_exporter": "python",
   "pygments_lexer": "ipython2",
   "version": "2.7.6"
  }
 },
 "nbformat": 4,
 "nbformat_minor": 0
}